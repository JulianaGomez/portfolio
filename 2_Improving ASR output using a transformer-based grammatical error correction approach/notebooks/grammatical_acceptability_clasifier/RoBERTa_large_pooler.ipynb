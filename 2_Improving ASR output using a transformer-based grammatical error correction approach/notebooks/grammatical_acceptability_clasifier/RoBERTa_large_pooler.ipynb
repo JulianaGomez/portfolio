{
  "nbformat": 4,
  "nbformat_minor": 0,
  "metadata": {
    "colab": {
      "provenance": [],
      "gpuType": "T4"
    },
    "kernelspec": {
      "name": "python3",
      "display_name": "Python 3"
    },
    "language_info": {
      "name": "python"
    },
    "accelerator": "GPU",
    "widgets": {
      "application/vnd.jupyter.widget-state+json": {
        "8b2cf8e7f16140ef9d0c972931cfc0ae": {
          "model_module": "@jupyter-widgets/controls",
          "model_name": "HBoxModel",
          "model_module_version": "1.5.0",
          "state": {
            "_dom_classes": [],
            "_model_module": "@jupyter-widgets/controls",
            "_model_module_version": "1.5.0",
            "_model_name": "HBoxModel",
            "_view_count": null,
            "_view_module": "@jupyter-widgets/controls",
            "_view_module_version": "1.5.0",
            "_view_name": "HBoxView",
            "box_style": "",
            "children": [
              "IPY_MODEL_ceef8f5244784f45b7698798a254c307",
              "IPY_MODEL_5814027b92e84d089317943a7e5b9e83",
              "IPY_MODEL_e5d27b8b745b4dfb9c4ef39c9952b6f9"
            ],
            "layout": "IPY_MODEL_9d50b487b56c42be8e20b809ff4132ec"
          }
        },
        "ceef8f5244784f45b7698798a254c307": {
          "model_module": "@jupyter-widgets/controls",
          "model_name": "HTMLModel",
          "model_module_version": "1.5.0",
          "state": {
            "_dom_classes": [],
            "_model_module": "@jupyter-widgets/controls",
            "_model_module_version": "1.5.0",
            "_model_name": "HTMLModel",
            "_view_count": null,
            "_view_module": "@jupyter-widgets/controls",
            "_view_module_version": "1.5.0",
            "_view_name": "HTMLView",
            "description": "",
            "description_tooltip": null,
            "layout": "IPY_MODEL_6f180beb10d9465886f4ba19ded6391d",
            "placeholder": "​",
            "style": "IPY_MODEL_38730e71152b460b9d6772fc9a2ae085",
            "value": "Downloading (…)olve/main/vocab.json: 100%"
          }
        },
        "5814027b92e84d089317943a7e5b9e83": {
          "model_module": "@jupyter-widgets/controls",
          "model_name": "FloatProgressModel",
          "model_module_version": "1.5.0",
          "state": {
            "_dom_classes": [],
            "_model_module": "@jupyter-widgets/controls",
            "_model_module_version": "1.5.0",
            "_model_name": "FloatProgressModel",
            "_view_count": null,
            "_view_module": "@jupyter-widgets/controls",
            "_view_module_version": "1.5.0",
            "_view_name": "ProgressView",
            "bar_style": "success",
            "description": "",
            "description_tooltip": null,
            "layout": "IPY_MODEL_e46140765f194495b68c6b94dff41859",
            "max": 898823,
            "min": 0,
            "orientation": "horizontal",
            "style": "IPY_MODEL_5ff60c8b2d984debb9e3effe7216d684",
            "value": 898823
          }
        },
        "e5d27b8b745b4dfb9c4ef39c9952b6f9": {
          "model_module": "@jupyter-widgets/controls",
          "model_name": "HTMLModel",
          "model_module_version": "1.5.0",
          "state": {
            "_dom_classes": [],
            "_model_module": "@jupyter-widgets/controls",
            "_model_module_version": "1.5.0",
            "_model_name": "HTMLModel",
            "_view_count": null,
            "_view_module": "@jupyter-widgets/controls",
            "_view_module_version": "1.5.0",
            "_view_name": "HTMLView",
            "description": "",
            "description_tooltip": null,
            "layout": "IPY_MODEL_6ea277c300fd4044b1f6659621c0a2df",
            "placeholder": "​",
            "style": "IPY_MODEL_ae019497a1454358b6c56b20367f9f45",
            "value": " 899k/899k [00:00&lt;00:00, 3.75MB/s]"
          }
        },
        "9d50b487b56c42be8e20b809ff4132ec": {
          "model_module": "@jupyter-widgets/base",
          "model_name": "LayoutModel",
          "model_module_version": "1.2.0",
          "state": {
            "_model_module": "@jupyter-widgets/base",
            "_model_module_version": "1.2.0",
            "_model_name": "LayoutModel",
            "_view_count": null,
            "_view_module": "@jupyter-widgets/base",
            "_view_module_version": "1.2.0",
            "_view_name": "LayoutView",
            "align_content": null,
            "align_items": null,
            "align_self": null,
            "border": null,
            "bottom": null,
            "display": null,
            "flex": null,
            "flex_flow": null,
            "grid_area": null,
            "grid_auto_columns": null,
            "grid_auto_flow": null,
            "grid_auto_rows": null,
            "grid_column": null,
            "grid_gap": null,
            "grid_row": null,
            "grid_template_areas": null,
            "grid_template_columns": null,
            "grid_template_rows": null,
            "height": null,
            "justify_content": null,
            "justify_items": null,
            "left": null,
            "margin": null,
            "max_height": null,
            "max_width": null,
            "min_height": null,
            "min_width": null,
            "object_fit": null,
            "object_position": null,
            "order": null,
            "overflow": null,
            "overflow_x": null,
            "overflow_y": null,
            "padding": null,
            "right": null,
            "top": null,
            "visibility": null,
            "width": null
          }
        },
        "6f180beb10d9465886f4ba19ded6391d": {
          "model_module": "@jupyter-widgets/base",
          "model_name": "LayoutModel",
          "model_module_version": "1.2.0",
          "state": {
            "_model_module": "@jupyter-widgets/base",
            "_model_module_version": "1.2.0",
            "_model_name": "LayoutModel",
            "_view_count": null,
            "_view_module": "@jupyter-widgets/base",
            "_view_module_version": "1.2.0",
            "_view_name": "LayoutView",
            "align_content": null,
            "align_items": null,
            "align_self": null,
            "border": null,
            "bottom": null,
            "display": null,
            "flex": null,
            "flex_flow": null,
            "grid_area": null,
            "grid_auto_columns": null,
            "grid_auto_flow": null,
            "grid_auto_rows": null,
            "grid_column": null,
            "grid_gap": null,
            "grid_row": null,
            "grid_template_areas": null,
            "grid_template_columns": null,
            "grid_template_rows": null,
            "height": null,
            "justify_content": null,
            "justify_items": null,
            "left": null,
            "margin": null,
            "max_height": null,
            "max_width": null,
            "min_height": null,
            "min_width": null,
            "object_fit": null,
            "object_position": null,
            "order": null,
            "overflow": null,
            "overflow_x": null,
            "overflow_y": null,
            "padding": null,
            "right": null,
            "top": null,
            "visibility": null,
            "width": null
          }
        },
        "38730e71152b460b9d6772fc9a2ae085": {
          "model_module": "@jupyter-widgets/controls",
          "model_name": "DescriptionStyleModel",
          "model_module_version": "1.5.0",
          "state": {
            "_model_module": "@jupyter-widgets/controls",
            "_model_module_version": "1.5.0",
            "_model_name": "DescriptionStyleModel",
            "_view_count": null,
            "_view_module": "@jupyter-widgets/base",
            "_view_module_version": "1.2.0",
            "_view_name": "StyleView",
            "description_width": ""
          }
        },
        "e46140765f194495b68c6b94dff41859": {
          "model_module": "@jupyter-widgets/base",
          "model_name": "LayoutModel",
          "model_module_version": "1.2.0",
          "state": {
            "_model_module": "@jupyter-widgets/base",
            "_model_module_version": "1.2.0",
            "_model_name": "LayoutModel",
            "_view_count": null,
            "_view_module": "@jupyter-widgets/base",
            "_view_module_version": "1.2.0",
            "_view_name": "LayoutView",
            "align_content": null,
            "align_items": null,
            "align_self": null,
            "border": null,
            "bottom": null,
            "display": null,
            "flex": null,
            "flex_flow": null,
            "grid_area": null,
            "grid_auto_columns": null,
            "grid_auto_flow": null,
            "grid_auto_rows": null,
            "grid_column": null,
            "grid_gap": null,
            "grid_row": null,
            "grid_template_areas": null,
            "grid_template_columns": null,
            "grid_template_rows": null,
            "height": null,
            "justify_content": null,
            "justify_items": null,
            "left": null,
            "margin": null,
            "max_height": null,
            "max_width": null,
            "min_height": null,
            "min_width": null,
            "object_fit": null,
            "object_position": null,
            "order": null,
            "overflow": null,
            "overflow_x": null,
            "overflow_y": null,
            "padding": null,
            "right": null,
            "top": null,
            "visibility": null,
            "width": null
          }
        },
        "5ff60c8b2d984debb9e3effe7216d684": {
          "model_module": "@jupyter-widgets/controls",
          "model_name": "ProgressStyleModel",
          "model_module_version": "1.5.0",
          "state": {
            "_model_module": "@jupyter-widgets/controls",
            "_model_module_version": "1.5.0",
            "_model_name": "ProgressStyleModel",
            "_view_count": null,
            "_view_module": "@jupyter-widgets/base",
            "_view_module_version": "1.2.0",
            "_view_name": "StyleView",
            "bar_color": null,
            "description_width": ""
          }
        },
        "6ea277c300fd4044b1f6659621c0a2df": {
          "model_module": "@jupyter-widgets/base",
          "model_name": "LayoutModel",
          "model_module_version": "1.2.0",
          "state": {
            "_model_module": "@jupyter-widgets/base",
            "_model_module_version": "1.2.0",
            "_model_name": "LayoutModel",
            "_view_count": null,
            "_view_module": "@jupyter-widgets/base",
            "_view_module_version": "1.2.0",
            "_view_name": "LayoutView",
            "align_content": null,
            "align_items": null,
            "align_self": null,
            "border": null,
            "bottom": null,
            "display": null,
            "flex": null,
            "flex_flow": null,
            "grid_area": null,
            "grid_auto_columns": null,
            "grid_auto_flow": null,
            "grid_auto_rows": null,
            "grid_column": null,
            "grid_gap": null,
            "grid_row": null,
            "grid_template_areas": null,
            "grid_template_columns": null,
            "grid_template_rows": null,
            "height": null,
            "justify_content": null,
            "justify_items": null,
            "left": null,
            "margin": null,
            "max_height": null,
            "max_width": null,
            "min_height": null,
            "min_width": null,
            "object_fit": null,
            "object_position": null,
            "order": null,
            "overflow": null,
            "overflow_x": null,
            "overflow_y": null,
            "padding": null,
            "right": null,
            "top": null,
            "visibility": null,
            "width": null
          }
        },
        "ae019497a1454358b6c56b20367f9f45": {
          "model_module": "@jupyter-widgets/controls",
          "model_name": "DescriptionStyleModel",
          "model_module_version": "1.5.0",
          "state": {
            "_model_module": "@jupyter-widgets/controls",
            "_model_module_version": "1.5.0",
            "_model_name": "DescriptionStyleModel",
            "_view_count": null,
            "_view_module": "@jupyter-widgets/base",
            "_view_module_version": "1.2.0",
            "_view_name": "StyleView",
            "description_width": ""
          }
        },
        "79dea6e381f74bcb83e61b7567542c58": {
          "model_module": "@jupyter-widgets/controls",
          "model_name": "HBoxModel",
          "model_module_version": "1.5.0",
          "state": {
            "_dom_classes": [],
            "_model_module": "@jupyter-widgets/controls",
            "_model_module_version": "1.5.0",
            "_model_name": "HBoxModel",
            "_view_count": null,
            "_view_module": "@jupyter-widgets/controls",
            "_view_module_version": "1.5.0",
            "_view_name": "HBoxView",
            "box_style": "",
            "children": [
              "IPY_MODEL_e7feaea2f34845b292fa635c9e4c02c9",
              "IPY_MODEL_b7a225cab9a84d23bd1f18f8ce6efed7",
              "IPY_MODEL_14979a06fa8a49bcb8e2132ca19b7c99"
            ],
            "layout": "IPY_MODEL_c8c1390fd64646b1b6f39e89cc3d5347"
          }
        },
        "e7feaea2f34845b292fa635c9e4c02c9": {
          "model_module": "@jupyter-widgets/controls",
          "model_name": "HTMLModel",
          "model_module_version": "1.5.0",
          "state": {
            "_dom_classes": [],
            "_model_module": "@jupyter-widgets/controls",
            "_model_module_version": "1.5.0",
            "_model_name": "HTMLModel",
            "_view_count": null,
            "_view_module": "@jupyter-widgets/controls",
            "_view_module_version": "1.5.0",
            "_view_name": "HTMLView",
            "description": "",
            "description_tooltip": null,
            "layout": "IPY_MODEL_a1aafdb1b09e41068d8e191b40c632a8",
            "placeholder": "​",
            "style": "IPY_MODEL_68e66b0848624f84af4d1693cd5842aa",
            "value": "Downloading (…)olve/main/merges.txt: 100%"
          }
        },
        "b7a225cab9a84d23bd1f18f8ce6efed7": {
          "model_module": "@jupyter-widgets/controls",
          "model_name": "FloatProgressModel",
          "model_module_version": "1.5.0",
          "state": {
            "_dom_classes": [],
            "_model_module": "@jupyter-widgets/controls",
            "_model_module_version": "1.5.0",
            "_model_name": "FloatProgressModel",
            "_view_count": null,
            "_view_module": "@jupyter-widgets/controls",
            "_view_module_version": "1.5.0",
            "_view_name": "ProgressView",
            "bar_style": "success",
            "description": "",
            "description_tooltip": null,
            "layout": "IPY_MODEL_b67e288fce554c8ebcc54db0fd16394b",
            "max": 456318,
            "min": 0,
            "orientation": "horizontal",
            "style": "IPY_MODEL_0582818483ce42788b7db0704d6c5e4b",
            "value": 456318
          }
        },
        "14979a06fa8a49bcb8e2132ca19b7c99": {
          "model_module": "@jupyter-widgets/controls",
          "model_name": "HTMLModel",
          "model_module_version": "1.5.0",
          "state": {
            "_dom_classes": [],
            "_model_module": "@jupyter-widgets/controls",
            "_model_module_version": "1.5.0",
            "_model_name": "HTMLModel",
            "_view_count": null,
            "_view_module": "@jupyter-widgets/controls",
            "_view_module_version": "1.5.0",
            "_view_name": "HTMLView",
            "description": "",
            "description_tooltip": null,
            "layout": "IPY_MODEL_5ee34ba2f3f246278ccfadff5b278368",
            "placeholder": "​",
            "style": "IPY_MODEL_278ba46d802f472bb54e4587bf93fce0",
            "value": " 456k/456k [00:00&lt;00:00, 5.47MB/s]"
          }
        },
        "c8c1390fd64646b1b6f39e89cc3d5347": {
          "model_module": "@jupyter-widgets/base",
          "model_name": "LayoutModel",
          "model_module_version": "1.2.0",
          "state": {
            "_model_module": "@jupyter-widgets/base",
            "_model_module_version": "1.2.0",
            "_model_name": "LayoutModel",
            "_view_count": null,
            "_view_module": "@jupyter-widgets/base",
            "_view_module_version": "1.2.0",
            "_view_name": "LayoutView",
            "align_content": null,
            "align_items": null,
            "align_self": null,
            "border": null,
            "bottom": null,
            "display": null,
            "flex": null,
            "flex_flow": null,
            "grid_area": null,
            "grid_auto_columns": null,
            "grid_auto_flow": null,
            "grid_auto_rows": null,
            "grid_column": null,
            "grid_gap": null,
            "grid_row": null,
            "grid_template_areas": null,
            "grid_template_columns": null,
            "grid_template_rows": null,
            "height": null,
            "justify_content": null,
            "justify_items": null,
            "left": null,
            "margin": null,
            "max_height": null,
            "max_width": null,
            "min_height": null,
            "min_width": null,
            "object_fit": null,
            "object_position": null,
            "order": null,
            "overflow": null,
            "overflow_x": null,
            "overflow_y": null,
            "padding": null,
            "right": null,
            "top": null,
            "visibility": null,
            "width": null
          }
        },
        "a1aafdb1b09e41068d8e191b40c632a8": {
          "model_module": "@jupyter-widgets/base",
          "model_name": "LayoutModel",
          "model_module_version": "1.2.0",
          "state": {
            "_model_module": "@jupyter-widgets/base",
            "_model_module_version": "1.2.0",
            "_model_name": "LayoutModel",
            "_view_count": null,
            "_view_module": "@jupyter-widgets/base",
            "_view_module_version": "1.2.0",
            "_view_name": "LayoutView",
            "align_content": null,
            "align_items": null,
            "align_self": null,
            "border": null,
            "bottom": null,
            "display": null,
            "flex": null,
            "flex_flow": null,
            "grid_area": null,
            "grid_auto_columns": null,
            "grid_auto_flow": null,
            "grid_auto_rows": null,
            "grid_column": null,
            "grid_gap": null,
            "grid_row": null,
            "grid_template_areas": null,
            "grid_template_columns": null,
            "grid_template_rows": null,
            "height": null,
            "justify_content": null,
            "justify_items": null,
            "left": null,
            "margin": null,
            "max_height": null,
            "max_width": null,
            "min_height": null,
            "min_width": null,
            "object_fit": null,
            "object_position": null,
            "order": null,
            "overflow": null,
            "overflow_x": null,
            "overflow_y": null,
            "padding": null,
            "right": null,
            "top": null,
            "visibility": null,
            "width": null
          }
        },
        "68e66b0848624f84af4d1693cd5842aa": {
          "model_module": "@jupyter-widgets/controls",
          "model_name": "DescriptionStyleModel",
          "model_module_version": "1.5.0",
          "state": {
            "_model_module": "@jupyter-widgets/controls",
            "_model_module_version": "1.5.0",
            "_model_name": "DescriptionStyleModel",
            "_view_count": null,
            "_view_module": "@jupyter-widgets/base",
            "_view_module_version": "1.2.0",
            "_view_name": "StyleView",
            "description_width": ""
          }
        },
        "b67e288fce554c8ebcc54db0fd16394b": {
          "model_module": "@jupyter-widgets/base",
          "model_name": "LayoutModel",
          "model_module_version": "1.2.0",
          "state": {
            "_model_module": "@jupyter-widgets/base",
            "_model_module_version": "1.2.0",
            "_model_name": "LayoutModel",
            "_view_count": null,
            "_view_module": "@jupyter-widgets/base",
            "_view_module_version": "1.2.0",
            "_view_name": "LayoutView",
            "align_content": null,
            "align_items": null,
            "align_self": null,
            "border": null,
            "bottom": null,
            "display": null,
            "flex": null,
            "flex_flow": null,
            "grid_area": null,
            "grid_auto_columns": null,
            "grid_auto_flow": null,
            "grid_auto_rows": null,
            "grid_column": null,
            "grid_gap": null,
            "grid_row": null,
            "grid_template_areas": null,
            "grid_template_columns": null,
            "grid_template_rows": null,
            "height": null,
            "justify_content": null,
            "justify_items": null,
            "left": null,
            "margin": null,
            "max_height": null,
            "max_width": null,
            "min_height": null,
            "min_width": null,
            "object_fit": null,
            "object_position": null,
            "order": null,
            "overflow": null,
            "overflow_x": null,
            "overflow_y": null,
            "padding": null,
            "right": null,
            "top": null,
            "visibility": null,
            "width": null
          }
        },
        "0582818483ce42788b7db0704d6c5e4b": {
          "model_module": "@jupyter-widgets/controls",
          "model_name": "ProgressStyleModel",
          "model_module_version": "1.5.0",
          "state": {
            "_model_module": "@jupyter-widgets/controls",
            "_model_module_version": "1.5.0",
            "_model_name": "ProgressStyleModel",
            "_view_count": null,
            "_view_module": "@jupyter-widgets/base",
            "_view_module_version": "1.2.0",
            "_view_name": "StyleView",
            "bar_color": null,
            "description_width": ""
          }
        },
        "5ee34ba2f3f246278ccfadff5b278368": {
          "model_module": "@jupyter-widgets/base",
          "model_name": "LayoutModel",
          "model_module_version": "1.2.0",
          "state": {
            "_model_module": "@jupyter-widgets/base",
            "_model_module_version": "1.2.0",
            "_model_name": "LayoutModel",
            "_view_count": null,
            "_view_module": "@jupyter-widgets/base",
            "_view_module_version": "1.2.0",
            "_view_name": "LayoutView",
            "align_content": null,
            "align_items": null,
            "align_self": null,
            "border": null,
            "bottom": null,
            "display": null,
            "flex": null,
            "flex_flow": null,
            "grid_area": null,
            "grid_auto_columns": null,
            "grid_auto_flow": null,
            "grid_auto_rows": null,
            "grid_column": null,
            "grid_gap": null,
            "grid_row": null,
            "grid_template_areas": null,
            "grid_template_columns": null,
            "grid_template_rows": null,
            "height": null,
            "justify_content": null,
            "justify_items": null,
            "left": null,
            "margin": null,
            "max_height": null,
            "max_width": null,
            "min_height": null,
            "min_width": null,
            "object_fit": null,
            "object_position": null,
            "order": null,
            "overflow": null,
            "overflow_x": null,
            "overflow_y": null,
            "padding": null,
            "right": null,
            "top": null,
            "visibility": null,
            "width": null
          }
        },
        "278ba46d802f472bb54e4587bf93fce0": {
          "model_module": "@jupyter-widgets/controls",
          "model_name": "DescriptionStyleModel",
          "model_module_version": "1.5.0",
          "state": {
            "_model_module": "@jupyter-widgets/controls",
            "_model_module_version": "1.5.0",
            "_model_name": "DescriptionStyleModel",
            "_view_count": null,
            "_view_module": "@jupyter-widgets/base",
            "_view_module_version": "1.2.0",
            "_view_name": "StyleView",
            "description_width": ""
          }
        },
        "a0f12d32ee1947d4baa90e7a6d8d978e": {
          "model_module": "@jupyter-widgets/controls",
          "model_name": "HBoxModel",
          "model_module_version": "1.5.0",
          "state": {
            "_dom_classes": [],
            "_model_module": "@jupyter-widgets/controls",
            "_model_module_version": "1.5.0",
            "_model_name": "HBoxModel",
            "_view_count": null,
            "_view_module": "@jupyter-widgets/controls",
            "_view_module_version": "1.5.0",
            "_view_name": "HBoxView",
            "box_style": "",
            "children": [
              "IPY_MODEL_fc1fdb497b9e45009502e5b7e7b23edb",
              "IPY_MODEL_3a35eb2cce084e90b61da94a707ee26f",
              "IPY_MODEL_8836a73a61f84ac0a314b29f2b6025eb"
            ],
            "layout": "IPY_MODEL_9fa92fb6d2de419ba6f733d1454272cd"
          }
        },
        "fc1fdb497b9e45009502e5b7e7b23edb": {
          "model_module": "@jupyter-widgets/controls",
          "model_name": "HTMLModel",
          "model_module_version": "1.5.0",
          "state": {
            "_dom_classes": [],
            "_model_module": "@jupyter-widgets/controls",
            "_model_module_version": "1.5.0",
            "_model_name": "HTMLModel",
            "_view_count": null,
            "_view_module": "@jupyter-widgets/controls",
            "_view_module_version": "1.5.0",
            "_view_name": "HTMLView",
            "description": "",
            "description_tooltip": null,
            "layout": "IPY_MODEL_b359e03bccb34ed49346d288a8604bd9",
            "placeholder": "​",
            "style": "IPY_MODEL_22c492ebe983468b8e32003bdbd41d5b",
            "value": "Downloading (…)/main/tokenizer.json: 100%"
          }
        },
        "3a35eb2cce084e90b61da94a707ee26f": {
          "model_module": "@jupyter-widgets/controls",
          "model_name": "FloatProgressModel",
          "model_module_version": "1.5.0",
          "state": {
            "_dom_classes": [],
            "_model_module": "@jupyter-widgets/controls",
            "_model_module_version": "1.5.0",
            "_model_name": "FloatProgressModel",
            "_view_count": null,
            "_view_module": "@jupyter-widgets/controls",
            "_view_module_version": "1.5.0",
            "_view_name": "ProgressView",
            "bar_style": "success",
            "description": "",
            "description_tooltip": null,
            "layout": "IPY_MODEL_74e990b269b4466ba451d7c568710430",
            "max": 1355863,
            "min": 0,
            "orientation": "horizontal",
            "style": "IPY_MODEL_8e20b9cb9a804b76ae6ed2b11f74e333",
            "value": 1355863
          }
        },
        "8836a73a61f84ac0a314b29f2b6025eb": {
          "model_module": "@jupyter-widgets/controls",
          "model_name": "HTMLModel",
          "model_module_version": "1.5.0",
          "state": {
            "_dom_classes": [],
            "_model_module": "@jupyter-widgets/controls",
            "_model_module_version": "1.5.0",
            "_model_name": "HTMLModel",
            "_view_count": null,
            "_view_module": "@jupyter-widgets/controls",
            "_view_module_version": "1.5.0",
            "_view_name": "HTMLView",
            "description": "",
            "description_tooltip": null,
            "layout": "IPY_MODEL_14f59d5d85fc41b9aa978fe865919813",
            "placeholder": "​",
            "style": "IPY_MODEL_7445cc011cdf49e391ef5139df46f93e",
            "value": " 1.36M/1.36M [00:00&lt;00:00, 13.8MB/s]"
          }
        },
        "9fa92fb6d2de419ba6f733d1454272cd": {
          "model_module": "@jupyter-widgets/base",
          "model_name": "LayoutModel",
          "model_module_version": "1.2.0",
          "state": {
            "_model_module": "@jupyter-widgets/base",
            "_model_module_version": "1.2.0",
            "_model_name": "LayoutModel",
            "_view_count": null,
            "_view_module": "@jupyter-widgets/base",
            "_view_module_version": "1.2.0",
            "_view_name": "LayoutView",
            "align_content": null,
            "align_items": null,
            "align_self": null,
            "border": null,
            "bottom": null,
            "display": null,
            "flex": null,
            "flex_flow": null,
            "grid_area": null,
            "grid_auto_columns": null,
            "grid_auto_flow": null,
            "grid_auto_rows": null,
            "grid_column": null,
            "grid_gap": null,
            "grid_row": null,
            "grid_template_areas": null,
            "grid_template_columns": null,
            "grid_template_rows": null,
            "height": null,
            "justify_content": null,
            "justify_items": null,
            "left": null,
            "margin": null,
            "max_height": null,
            "max_width": null,
            "min_height": null,
            "min_width": null,
            "object_fit": null,
            "object_position": null,
            "order": null,
            "overflow": null,
            "overflow_x": null,
            "overflow_y": null,
            "padding": null,
            "right": null,
            "top": null,
            "visibility": null,
            "width": null
          }
        },
        "b359e03bccb34ed49346d288a8604bd9": {
          "model_module": "@jupyter-widgets/base",
          "model_name": "LayoutModel",
          "model_module_version": "1.2.0",
          "state": {
            "_model_module": "@jupyter-widgets/base",
            "_model_module_version": "1.2.0",
            "_model_name": "LayoutModel",
            "_view_count": null,
            "_view_module": "@jupyter-widgets/base",
            "_view_module_version": "1.2.0",
            "_view_name": "LayoutView",
            "align_content": null,
            "align_items": null,
            "align_self": null,
            "border": null,
            "bottom": null,
            "display": null,
            "flex": null,
            "flex_flow": null,
            "grid_area": null,
            "grid_auto_columns": null,
            "grid_auto_flow": null,
            "grid_auto_rows": null,
            "grid_column": null,
            "grid_gap": null,
            "grid_row": null,
            "grid_template_areas": null,
            "grid_template_columns": null,
            "grid_template_rows": null,
            "height": null,
            "justify_content": null,
            "justify_items": null,
            "left": null,
            "margin": null,
            "max_height": null,
            "max_width": null,
            "min_height": null,
            "min_width": null,
            "object_fit": null,
            "object_position": null,
            "order": null,
            "overflow": null,
            "overflow_x": null,
            "overflow_y": null,
            "padding": null,
            "right": null,
            "top": null,
            "visibility": null,
            "width": null
          }
        },
        "22c492ebe983468b8e32003bdbd41d5b": {
          "model_module": "@jupyter-widgets/controls",
          "model_name": "DescriptionStyleModel",
          "model_module_version": "1.5.0",
          "state": {
            "_model_module": "@jupyter-widgets/controls",
            "_model_module_version": "1.5.0",
            "_model_name": "DescriptionStyleModel",
            "_view_count": null,
            "_view_module": "@jupyter-widgets/base",
            "_view_module_version": "1.2.0",
            "_view_name": "StyleView",
            "description_width": ""
          }
        },
        "74e990b269b4466ba451d7c568710430": {
          "model_module": "@jupyter-widgets/base",
          "model_name": "LayoutModel",
          "model_module_version": "1.2.0",
          "state": {
            "_model_module": "@jupyter-widgets/base",
            "_model_module_version": "1.2.0",
            "_model_name": "LayoutModel",
            "_view_count": null,
            "_view_module": "@jupyter-widgets/base",
            "_view_module_version": "1.2.0",
            "_view_name": "LayoutView",
            "align_content": null,
            "align_items": null,
            "align_self": null,
            "border": null,
            "bottom": null,
            "display": null,
            "flex": null,
            "flex_flow": null,
            "grid_area": null,
            "grid_auto_columns": null,
            "grid_auto_flow": null,
            "grid_auto_rows": null,
            "grid_column": null,
            "grid_gap": null,
            "grid_row": null,
            "grid_template_areas": null,
            "grid_template_columns": null,
            "grid_template_rows": null,
            "height": null,
            "justify_content": null,
            "justify_items": null,
            "left": null,
            "margin": null,
            "max_height": null,
            "max_width": null,
            "min_height": null,
            "min_width": null,
            "object_fit": null,
            "object_position": null,
            "order": null,
            "overflow": null,
            "overflow_x": null,
            "overflow_y": null,
            "padding": null,
            "right": null,
            "top": null,
            "visibility": null,
            "width": null
          }
        },
        "8e20b9cb9a804b76ae6ed2b11f74e333": {
          "model_module": "@jupyter-widgets/controls",
          "model_name": "ProgressStyleModel",
          "model_module_version": "1.5.0",
          "state": {
            "_model_module": "@jupyter-widgets/controls",
            "_model_module_version": "1.5.0",
            "_model_name": "ProgressStyleModel",
            "_view_count": null,
            "_view_module": "@jupyter-widgets/base",
            "_view_module_version": "1.2.0",
            "_view_name": "StyleView",
            "bar_color": null,
            "description_width": ""
          }
        },
        "14f59d5d85fc41b9aa978fe865919813": {
          "model_module": "@jupyter-widgets/base",
          "model_name": "LayoutModel",
          "model_module_version": "1.2.0",
          "state": {
            "_model_module": "@jupyter-widgets/base",
            "_model_module_version": "1.2.0",
            "_model_name": "LayoutModel",
            "_view_count": null,
            "_view_module": "@jupyter-widgets/base",
            "_view_module_version": "1.2.0",
            "_view_name": "LayoutView",
            "align_content": null,
            "align_items": null,
            "align_self": null,
            "border": null,
            "bottom": null,
            "display": null,
            "flex": null,
            "flex_flow": null,
            "grid_area": null,
            "grid_auto_columns": null,
            "grid_auto_flow": null,
            "grid_auto_rows": null,
            "grid_column": null,
            "grid_gap": null,
            "grid_row": null,
            "grid_template_areas": null,
            "grid_template_columns": null,
            "grid_template_rows": null,
            "height": null,
            "justify_content": null,
            "justify_items": null,
            "left": null,
            "margin": null,
            "max_height": null,
            "max_width": null,
            "min_height": null,
            "min_width": null,
            "object_fit": null,
            "object_position": null,
            "order": null,
            "overflow": null,
            "overflow_x": null,
            "overflow_y": null,
            "padding": null,
            "right": null,
            "top": null,
            "visibility": null,
            "width": null
          }
        },
        "7445cc011cdf49e391ef5139df46f93e": {
          "model_module": "@jupyter-widgets/controls",
          "model_name": "DescriptionStyleModel",
          "model_module_version": "1.5.0",
          "state": {
            "_model_module": "@jupyter-widgets/controls",
            "_model_module_version": "1.5.0",
            "_model_name": "DescriptionStyleModel",
            "_view_count": null,
            "_view_module": "@jupyter-widgets/base",
            "_view_module_version": "1.2.0",
            "_view_name": "StyleView",
            "description_width": ""
          }
        },
        "4d7bd2d1b7a64402af6db4e7a07804e3": {
          "model_module": "@jupyter-widgets/controls",
          "model_name": "HBoxModel",
          "model_module_version": "1.5.0",
          "state": {
            "_dom_classes": [],
            "_model_module": "@jupyter-widgets/controls",
            "_model_module_version": "1.5.0",
            "_model_name": "HBoxModel",
            "_view_count": null,
            "_view_module": "@jupyter-widgets/controls",
            "_view_module_version": "1.5.0",
            "_view_name": "HBoxView",
            "box_style": "",
            "children": [
              "IPY_MODEL_8cb906e5472546509602c057a37fa1d7",
              "IPY_MODEL_2a42e397b1944b868f16b949c894525c",
              "IPY_MODEL_84c37b950e984401a1e6c60b1f8b4472"
            ],
            "layout": "IPY_MODEL_748faa8349454fc092c57c670faf1134"
          }
        },
        "8cb906e5472546509602c057a37fa1d7": {
          "model_module": "@jupyter-widgets/controls",
          "model_name": "HTMLModel",
          "model_module_version": "1.5.0",
          "state": {
            "_dom_classes": [],
            "_model_module": "@jupyter-widgets/controls",
            "_model_module_version": "1.5.0",
            "_model_name": "HTMLModel",
            "_view_count": null,
            "_view_module": "@jupyter-widgets/controls",
            "_view_module_version": "1.5.0",
            "_view_name": "HTMLView",
            "description": "",
            "description_tooltip": null,
            "layout": "IPY_MODEL_36ef29857767444699997983e4b200fe",
            "placeholder": "​",
            "style": "IPY_MODEL_7a195731ac864203ac7293a63b9e316d",
            "value": "Downloading (…)lve/main/config.json: 100%"
          }
        },
        "2a42e397b1944b868f16b949c894525c": {
          "model_module": "@jupyter-widgets/controls",
          "model_name": "FloatProgressModel",
          "model_module_version": "1.5.0",
          "state": {
            "_dom_classes": [],
            "_model_module": "@jupyter-widgets/controls",
            "_model_module_version": "1.5.0",
            "_model_name": "FloatProgressModel",
            "_view_count": null,
            "_view_module": "@jupyter-widgets/controls",
            "_view_module_version": "1.5.0",
            "_view_name": "ProgressView",
            "bar_style": "success",
            "description": "",
            "description_tooltip": null,
            "layout": "IPY_MODEL_95e62cf2c0ef44b4a52a612f425f29ba",
            "max": 482,
            "min": 0,
            "orientation": "horizontal",
            "style": "IPY_MODEL_31abef8440374a4fbc804e5c2bf823ec",
            "value": 482
          }
        },
        "84c37b950e984401a1e6c60b1f8b4472": {
          "model_module": "@jupyter-widgets/controls",
          "model_name": "HTMLModel",
          "model_module_version": "1.5.0",
          "state": {
            "_dom_classes": [],
            "_model_module": "@jupyter-widgets/controls",
            "_model_module_version": "1.5.0",
            "_model_name": "HTMLModel",
            "_view_count": null,
            "_view_module": "@jupyter-widgets/controls",
            "_view_module_version": "1.5.0",
            "_view_name": "HTMLView",
            "description": "",
            "description_tooltip": null,
            "layout": "IPY_MODEL_1d9ef9fc5d72483aa4478e5567bc46aa",
            "placeholder": "​",
            "style": "IPY_MODEL_6aa79bd0273b4678b6111e8aa27ba5e1",
            "value": " 482/482 [00:00&lt;00:00, 12.3kB/s]"
          }
        },
        "748faa8349454fc092c57c670faf1134": {
          "model_module": "@jupyter-widgets/base",
          "model_name": "LayoutModel",
          "model_module_version": "1.2.0",
          "state": {
            "_model_module": "@jupyter-widgets/base",
            "_model_module_version": "1.2.0",
            "_model_name": "LayoutModel",
            "_view_count": null,
            "_view_module": "@jupyter-widgets/base",
            "_view_module_version": "1.2.0",
            "_view_name": "LayoutView",
            "align_content": null,
            "align_items": null,
            "align_self": null,
            "border": null,
            "bottom": null,
            "display": null,
            "flex": null,
            "flex_flow": null,
            "grid_area": null,
            "grid_auto_columns": null,
            "grid_auto_flow": null,
            "grid_auto_rows": null,
            "grid_column": null,
            "grid_gap": null,
            "grid_row": null,
            "grid_template_areas": null,
            "grid_template_columns": null,
            "grid_template_rows": null,
            "height": null,
            "justify_content": null,
            "justify_items": null,
            "left": null,
            "margin": null,
            "max_height": null,
            "max_width": null,
            "min_height": null,
            "min_width": null,
            "object_fit": null,
            "object_position": null,
            "order": null,
            "overflow": null,
            "overflow_x": null,
            "overflow_y": null,
            "padding": null,
            "right": null,
            "top": null,
            "visibility": null,
            "width": null
          }
        },
        "36ef29857767444699997983e4b200fe": {
          "model_module": "@jupyter-widgets/base",
          "model_name": "LayoutModel",
          "model_module_version": "1.2.0",
          "state": {
            "_model_module": "@jupyter-widgets/base",
            "_model_module_version": "1.2.0",
            "_model_name": "LayoutModel",
            "_view_count": null,
            "_view_module": "@jupyter-widgets/base",
            "_view_module_version": "1.2.0",
            "_view_name": "LayoutView",
            "align_content": null,
            "align_items": null,
            "align_self": null,
            "border": null,
            "bottom": null,
            "display": null,
            "flex": null,
            "flex_flow": null,
            "grid_area": null,
            "grid_auto_columns": null,
            "grid_auto_flow": null,
            "grid_auto_rows": null,
            "grid_column": null,
            "grid_gap": null,
            "grid_row": null,
            "grid_template_areas": null,
            "grid_template_columns": null,
            "grid_template_rows": null,
            "height": null,
            "justify_content": null,
            "justify_items": null,
            "left": null,
            "margin": null,
            "max_height": null,
            "max_width": null,
            "min_height": null,
            "min_width": null,
            "object_fit": null,
            "object_position": null,
            "order": null,
            "overflow": null,
            "overflow_x": null,
            "overflow_y": null,
            "padding": null,
            "right": null,
            "top": null,
            "visibility": null,
            "width": null
          }
        },
        "7a195731ac864203ac7293a63b9e316d": {
          "model_module": "@jupyter-widgets/controls",
          "model_name": "DescriptionStyleModel",
          "model_module_version": "1.5.0",
          "state": {
            "_model_module": "@jupyter-widgets/controls",
            "_model_module_version": "1.5.0",
            "_model_name": "DescriptionStyleModel",
            "_view_count": null,
            "_view_module": "@jupyter-widgets/base",
            "_view_module_version": "1.2.0",
            "_view_name": "StyleView",
            "description_width": ""
          }
        },
        "95e62cf2c0ef44b4a52a612f425f29ba": {
          "model_module": "@jupyter-widgets/base",
          "model_name": "LayoutModel",
          "model_module_version": "1.2.0",
          "state": {
            "_model_module": "@jupyter-widgets/base",
            "_model_module_version": "1.2.0",
            "_model_name": "LayoutModel",
            "_view_count": null,
            "_view_module": "@jupyter-widgets/base",
            "_view_module_version": "1.2.0",
            "_view_name": "LayoutView",
            "align_content": null,
            "align_items": null,
            "align_self": null,
            "border": null,
            "bottom": null,
            "display": null,
            "flex": null,
            "flex_flow": null,
            "grid_area": null,
            "grid_auto_columns": null,
            "grid_auto_flow": null,
            "grid_auto_rows": null,
            "grid_column": null,
            "grid_gap": null,
            "grid_row": null,
            "grid_template_areas": null,
            "grid_template_columns": null,
            "grid_template_rows": null,
            "height": null,
            "justify_content": null,
            "justify_items": null,
            "left": null,
            "margin": null,
            "max_height": null,
            "max_width": null,
            "min_height": null,
            "min_width": null,
            "object_fit": null,
            "object_position": null,
            "order": null,
            "overflow": null,
            "overflow_x": null,
            "overflow_y": null,
            "padding": null,
            "right": null,
            "top": null,
            "visibility": null,
            "width": null
          }
        },
        "31abef8440374a4fbc804e5c2bf823ec": {
          "model_module": "@jupyter-widgets/controls",
          "model_name": "ProgressStyleModel",
          "model_module_version": "1.5.0",
          "state": {
            "_model_module": "@jupyter-widgets/controls",
            "_model_module_version": "1.5.0",
            "_model_name": "ProgressStyleModel",
            "_view_count": null,
            "_view_module": "@jupyter-widgets/base",
            "_view_module_version": "1.2.0",
            "_view_name": "StyleView",
            "bar_color": null,
            "description_width": ""
          }
        },
        "1d9ef9fc5d72483aa4478e5567bc46aa": {
          "model_module": "@jupyter-widgets/base",
          "model_name": "LayoutModel",
          "model_module_version": "1.2.0",
          "state": {
            "_model_module": "@jupyter-widgets/base",
            "_model_module_version": "1.2.0",
            "_model_name": "LayoutModel",
            "_view_count": null,
            "_view_module": "@jupyter-widgets/base",
            "_view_module_version": "1.2.0",
            "_view_name": "LayoutView",
            "align_content": null,
            "align_items": null,
            "align_self": null,
            "border": null,
            "bottom": null,
            "display": null,
            "flex": null,
            "flex_flow": null,
            "grid_area": null,
            "grid_auto_columns": null,
            "grid_auto_flow": null,
            "grid_auto_rows": null,
            "grid_column": null,
            "grid_gap": null,
            "grid_row": null,
            "grid_template_areas": null,
            "grid_template_columns": null,
            "grid_template_rows": null,
            "height": null,
            "justify_content": null,
            "justify_items": null,
            "left": null,
            "margin": null,
            "max_height": null,
            "max_width": null,
            "min_height": null,
            "min_width": null,
            "object_fit": null,
            "object_position": null,
            "order": null,
            "overflow": null,
            "overflow_x": null,
            "overflow_y": null,
            "padding": null,
            "right": null,
            "top": null,
            "visibility": null,
            "width": null
          }
        },
        "6aa79bd0273b4678b6111e8aa27ba5e1": {
          "model_module": "@jupyter-widgets/controls",
          "model_name": "DescriptionStyleModel",
          "model_module_version": "1.5.0",
          "state": {
            "_model_module": "@jupyter-widgets/controls",
            "_model_module_version": "1.5.0",
            "_model_name": "DescriptionStyleModel",
            "_view_count": null,
            "_view_module": "@jupyter-widgets/base",
            "_view_module_version": "1.2.0",
            "_view_name": "StyleView",
            "description_width": ""
          }
        },
        "83c4daf005244b9ba5721c322748e8a5": {
          "model_module": "@jupyter-widgets/controls",
          "model_name": "HBoxModel",
          "model_module_version": "1.5.0",
          "state": {
            "_dom_classes": [],
            "_model_module": "@jupyter-widgets/controls",
            "_model_module_version": "1.5.0",
            "_model_name": "HBoxModel",
            "_view_count": null,
            "_view_module": "@jupyter-widgets/controls",
            "_view_module_version": "1.5.0",
            "_view_name": "HBoxView",
            "box_style": "",
            "children": [
              "IPY_MODEL_4c59ea83641c4ad4abebc8ad94279924",
              "IPY_MODEL_72eacd6c8a6c4ebba223b04a53d7f6d0",
              "IPY_MODEL_e02c609760f248dea10bceb326f2813f"
            ],
            "layout": "IPY_MODEL_0bd0e7afad3d4c87bf1497efce2f7bcc"
          }
        },
        "4c59ea83641c4ad4abebc8ad94279924": {
          "model_module": "@jupyter-widgets/controls",
          "model_name": "HTMLModel",
          "model_module_version": "1.5.0",
          "state": {
            "_dom_classes": [],
            "_model_module": "@jupyter-widgets/controls",
            "_model_module_version": "1.5.0",
            "_model_name": "HTMLModel",
            "_view_count": null,
            "_view_module": "@jupyter-widgets/controls",
            "_view_module_version": "1.5.0",
            "_view_name": "HTMLView",
            "description": "",
            "description_tooltip": null,
            "layout": "IPY_MODEL_91b056bdb6a3477990b1fd72e935d789",
            "placeholder": "​",
            "style": "IPY_MODEL_a71a31ad4a01429290332d780f6b1fc7",
            "value": "Downloading model.safetensors: 100%"
          }
        },
        "72eacd6c8a6c4ebba223b04a53d7f6d0": {
          "model_module": "@jupyter-widgets/controls",
          "model_name": "FloatProgressModel",
          "model_module_version": "1.5.0",
          "state": {
            "_dom_classes": [],
            "_model_module": "@jupyter-widgets/controls",
            "_model_module_version": "1.5.0",
            "_model_name": "FloatProgressModel",
            "_view_count": null,
            "_view_module": "@jupyter-widgets/controls",
            "_view_module_version": "1.5.0",
            "_view_name": "ProgressView",
            "bar_style": "success",
            "description": "",
            "description_tooltip": null,
            "layout": "IPY_MODEL_e37ac9b2b2874eb8bdb0c06bafec7ae9",
            "max": 1421700479,
            "min": 0,
            "orientation": "horizontal",
            "style": "IPY_MODEL_3c7ce768e1584ab59bb6fd24bac7d349",
            "value": 1421700479
          }
        },
        "e02c609760f248dea10bceb326f2813f": {
          "model_module": "@jupyter-widgets/controls",
          "model_name": "HTMLModel",
          "model_module_version": "1.5.0",
          "state": {
            "_dom_classes": [],
            "_model_module": "@jupyter-widgets/controls",
            "_model_module_version": "1.5.0",
            "_model_name": "HTMLModel",
            "_view_count": null,
            "_view_module": "@jupyter-widgets/controls",
            "_view_module_version": "1.5.0",
            "_view_name": "HTMLView",
            "description": "",
            "description_tooltip": null,
            "layout": "IPY_MODEL_e395062766cb401bbdefaf4c48f1a301",
            "placeholder": "​",
            "style": "IPY_MODEL_1e9835110a0f4ee491f6a98dba00d4b6",
            "value": " 1.42G/1.42G [00:07&lt;00:00, 244MB/s]"
          }
        },
        "0bd0e7afad3d4c87bf1497efce2f7bcc": {
          "model_module": "@jupyter-widgets/base",
          "model_name": "LayoutModel",
          "model_module_version": "1.2.0",
          "state": {
            "_model_module": "@jupyter-widgets/base",
            "_model_module_version": "1.2.0",
            "_model_name": "LayoutModel",
            "_view_count": null,
            "_view_module": "@jupyter-widgets/base",
            "_view_module_version": "1.2.0",
            "_view_name": "LayoutView",
            "align_content": null,
            "align_items": null,
            "align_self": null,
            "border": null,
            "bottom": null,
            "display": null,
            "flex": null,
            "flex_flow": null,
            "grid_area": null,
            "grid_auto_columns": null,
            "grid_auto_flow": null,
            "grid_auto_rows": null,
            "grid_column": null,
            "grid_gap": null,
            "grid_row": null,
            "grid_template_areas": null,
            "grid_template_columns": null,
            "grid_template_rows": null,
            "height": null,
            "justify_content": null,
            "justify_items": null,
            "left": null,
            "margin": null,
            "max_height": null,
            "max_width": null,
            "min_height": null,
            "min_width": null,
            "object_fit": null,
            "object_position": null,
            "order": null,
            "overflow": null,
            "overflow_x": null,
            "overflow_y": null,
            "padding": null,
            "right": null,
            "top": null,
            "visibility": null,
            "width": null
          }
        },
        "91b056bdb6a3477990b1fd72e935d789": {
          "model_module": "@jupyter-widgets/base",
          "model_name": "LayoutModel",
          "model_module_version": "1.2.0",
          "state": {
            "_model_module": "@jupyter-widgets/base",
            "_model_module_version": "1.2.0",
            "_model_name": "LayoutModel",
            "_view_count": null,
            "_view_module": "@jupyter-widgets/base",
            "_view_module_version": "1.2.0",
            "_view_name": "LayoutView",
            "align_content": null,
            "align_items": null,
            "align_self": null,
            "border": null,
            "bottom": null,
            "display": null,
            "flex": null,
            "flex_flow": null,
            "grid_area": null,
            "grid_auto_columns": null,
            "grid_auto_flow": null,
            "grid_auto_rows": null,
            "grid_column": null,
            "grid_gap": null,
            "grid_row": null,
            "grid_template_areas": null,
            "grid_template_columns": null,
            "grid_template_rows": null,
            "height": null,
            "justify_content": null,
            "justify_items": null,
            "left": null,
            "margin": null,
            "max_height": null,
            "max_width": null,
            "min_height": null,
            "min_width": null,
            "object_fit": null,
            "object_position": null,
            "order": null,
            "overflow": null,
            "overflow_x": null,
            "overflow_y": null,
            "padding": null,
            "right": null,
            "top": null,
            "visibility": null,
            "width": null
          }
        },
        "a71a31ad4a01429290332d780f6b1fc7": {
          "model_module": "@jupyter-widgets/controls",
          "model_name": "DescriptionStyleModel",
          "model_module_version": "1.5.0",
          "state": {
            "_model_module": "@jupyter-widgets/controls",
            "_model_module_version": "1.5.0",
            "_model_name": "DescriptionStyleModel",
            "_view_count": null,
            "_view_module": "@jupyter-widgets/base",
            "_view_module_version": "1.2.0",
            "_view_name": "StyleView",
            "description_width": ""
          }
        },
        "e37ac9b2b2874eb8bdb0c06bafec7ae9": {
          "model_module": "@jupyter-widgets/base",
          "model_name": "LayoutModel",
          "model_module_version": "1.2.0",
          "state": {
            "_model_module": "@jupyter-widgets/base",
            "_model_module_version": "1.2.0",
            "_model_name": "LayoutModel",
            "_view_count": null,
            "_view_module": "@jupyter-widgets/base",
            "_view_module_version": "1.2.0",
            "_view_name": "LayoutView",
            "align_content": null,
            "align_items": null,
            "align_self": null,
            "border": null,
            "bottom": null,
            "display": null,
            "flex": null,
            "flex_flow": null,
            "grid_area": null,
            "grid_auto_columns": null,
            "grid_auto_flow": null,
            "grid_auto_rows": null,
            "grid_column": null,
            "grid_gap": null,
            "grid_row": null,
            "grid_template_areas": null,
            "grid_template_columns": null,
            "grid_template_rows": null,
            "height": null,
            "justify_content": null,
            "justify_items": null,
            "left": null,
            "margin": null,
            "max_height": null,
            "max_width": null,
            "min_height": null,
            "min_width": null,
            "object_fit": null,
            "object_position": null,
            "order": null,
            "overflow": null,
            "overflow_x": null,
            "overflow_y": null,
            "padding": null,
            "right": null,
            "top": null,
            "visibility": null,
            "width": null
          }
        },
        "3c7ce768e1584ab59bb6fd24bac7d349": {
          "model_module": "@jupyter-widgets/controls",
          "model_name": "ProgressStyleModel",
          "model_module_version": "1.5.0",
          "state": {
            "_model_module": "@jupyter-widgets/controls",
            "_model_module_version": "1.5.0",
            "_model_name": "ProgressStyleModel",
            "_view_count": null,
            "_view_module": "@jupyter-widgets/base",
            "_view_module_version": "1.2.0",
            "_view_name": "StyleView",
            "bar_color": null,
            "description_width": ""
          }
        },
        "e395062766cb401bbdefaf4c48f1a301": {
          "model_module": "@jupyter-widgets/base",
          "model_name": "LayoutModel",
          "model_module_version": "1.2.0",
          "state": {
            "_model_module": "@jupyter-widgets/base",
            "_model_module_version": "1.2.0",
            "_model_name": "LayoutModel",
            "_view_count": null,
            "_view_module": "@jupyter-widgets/base",
            "_view_module_version": "1.2.0",
            "_view_name": "LayoutView",
            "align_content": null,
            "align_items": null,
            "align_self": null,
            "border": null,
            "bottom": null,
            "display": null,
            "flex": null,
            "flex_flow": null,
            "grid_area": null,
            "grid_auto_columns": null,
            "grid_auto_flow": null,
            "grid_auto_rows": null,
            "grid_column": null,
            "grid_gap": null,
            "grid_row": null,
            "grid_template_areas": null,
            "grid_template_columns": null,
            "grid_template_rows": null,
            "height": null,
            "justify_content": null,
            "justify_items": null,
            "left": null,
            "margin": null,
            "max_height": null,
            "max_width": null,
            "min_height": null,
            "min_width": null,
            "object_fit": null,
            "object_position": null,
            "order": null,
            "overflow": null,
            "overflow_x": null,
            "overflow_y": null,
            "padding": null,
            "right": null,
            "top": null,
            "visibility": null,
            "width": null
          }
        },
        "1e9835110a0f4ee491f6a98dba00d4b6": {
          "model_module": "@jupyter-widgets/controls",
          "model_name": "DescriptionStyleModel",
          "model_module_version": "1.5.0",
          "state": {
            "_model_module": "@jupyter-widgets/controls",
            "_model_module_version": "1.5.0",
            "_model_name": "DescriptionStyleModel",
            "_view_count": null,
            "_view_module": "@jupyter-widgets/base",
            "_view_module_version": "1.2.0",
            "_view_name": "StyleView",
            "description_width": ""
          }
        }
      }
    }
  },
  "cells": [
    {
      "cell_type": "markdown",
      "source": [
        "# Import libraries"
      ],
      "metadata": {
        "id": "K5nr4SzS8l1t"
      }
    },
    {
      "cell_type": "code",
      "execution_count": 1,
      "metadata": {
        "colab": {
          "base_uri": "https://localhost:8080/"
        },
        "id": "G1SKAqqE7aeV",
        "outputId": "bc5f59b1-c624-4b5d-a672-f62ed58625b5"
      },
      "outputs": [
        {
          "output_type": "stream",
          "name": "stdout",
          "text": [
            "Mounted at /content/drive\n",
            "\u001b[2K     \u001b[90m━━━━━━━━━━━━━━━━━━━━━━━━━━━━━━━━━━━━━━━━\u001b[0m \u001b[32m7.7/7.7 MB\u001b[0m \u001b[31m27.6 MB/s\u001b[0m eta \u001b[36m0:00:00\u001b[0m\n",
            "\u001b[2K     \u001b[90m━━━━━━━━━━━━━━━━━━━━━━━━━━━━━━━━━━━━━━━━\u001b[0m \u001b[32m302.0/302.0 kB\u001b[0m \u001b[31m33.7 MB/s\u001b[0m eta \u001b[36m0:00:00\u001b[0m\n",
            "\u001b[2K     \u001b[90m━━━━━━━━━━━━━━━━━━━━━━━━━━━━━━━━━━━━━━━━\u001b[0m \u001b[32m3.8/3.8 MB\u001b[0m \u001b[31m62.2 MB/s\u001b[0m eta \u001b[36m0:00:00\u001b[0m\n",
            "\u001b[2K     \u001b[90m━━━━━━━━━━━━━━━━━━━━━━━━━━━━━━━━━━━━━━━━\u001b[0m \u001b[32m1.3/1.3 MB\u001b[0m \u001b[31m65.8 MB/s\u001b[0m eta \u001b[36m0:00:00\u001b[0m\n",
            "\u001b[2K     \u001b[90m━━━━━━━━━━━━━━━━━━━━━━━━━━━━━━━━━━━━━━━━\u001b[0m \u001b[32m295.0/295.0 kB\u001b[0m \u001b[31m37.3 MB/s\u001b[0m eta \u001b[36m0:00:00\u001b[0m\n",
            "\u001b[?25h"
          ]
        }
      ],
      "source": [
        "from google.colab import drive\n",
        "drive.mount('/content/drive')\n",
        "\n",
        "# standard libraries\n",
        "import pandas as pd\n",
        "import numpy as np\n",
        "\n",
        "# for model\n",
        "import tensorflow as tf\n",
        "!pip install transformers -q\n",
        "import transformers\n",
        "from transformers import TFRobertaModel, RobertaTokenizer\n",
        "from sklearn.metrics import classification_report\n",
        "\n",
        "\n",
        "# for visualization\n",
        "import matplotlib.pyplot as plt\n",
        "import seaborn as sns"
      ]
    },
    {
      "cell_type": "markdown",
      "source": [
        "# Get the data\n",
        "\n",
        "cola_balanced_train.to_csv('/content/drive/MyDrive/266/Data/Clean_Data/CoLA/cola_balanced_train.csv', index=False)\n",
        "cola_validation.to_csv('/content/drive/MyDrive/266/Data/Clean_Data/CoLA/cola_validation.csv', index=False)\n",
        "cola_test.to_csv('/content/drive/MyDrive/266/Data/Clean_Data/CoLA/cola_test.csv', index=False)"
      ],
      "metadata": {
        "id": "UuyZEzT495RQ"
      }
    },
    {
      "cell_type": "code",
      "source": [
        "#train_df = pd.read_csv('/content/drive/MyDrive/266/Data/Clean_Data/CoLA/cola_balanced_train.csv')\n",
        "#val_df = pd.read_csv('/content/drive/MyDrive/266/Data/Clean_Data/CoLA/cola_validation.csv')\n",
        "#test_df = pd.read_csv('/content/drive/MyDrive/266/Data/Clean_Data/CoLA/cola_test.csv')\n",
        "\n",
        "train_df = pd.read_csv('/content/drive/MyDrive/cola_balanced_train.csv')\n",
        "val_df = pd.read_csv('/content/drive/MyDrive/cola_validation.csv')\n",
        "test_df = pd.read_csv('/content/drive/MyDrive/cola_test.csv')"
      ],
      "metadata": {
        "id": "VjmS9ZxWAhof"
      },
      "execution_count": 2,
      "outputs": []
    },
    {
      "cell_type": "code",
      "source": [
        "train_df.head()"
      ],
      "metadata": {
        "colab": {
          "base_uri": "https://localhost:8080/",
          "height": 206
        },
        "id": "NLSDiUumBxLS",
        "outputId": "0b7b0a1c-a6dd-4354-879c-0f271be27b1b"
      },
      "execution_count": null,
      "outputs": [
        {
          "output_type": "execute_result",
          "data": {
            "text/plain": [
              "                                        sentence  acceptability\n",
              "0                       To please John is tough.              1\n",
              "1                        John did not like Mary.              1\n",
              "2  John is not more reliable a fellow than Bill.              0\n",
              "3                          Joan knew the answer.              1\n",
              "4                              The baby dressed.              1"
            ],
            "text/html": [
              "\n",
              "  <div id=\"df-2f98c478-2ed6-4615-a3a4-4792b02177ef\" class=\"colab-df-container\">\n",
              "    <div>\n",
              "<style scoped>\n",
              "    .dataframe tbody tr th:only-of-type {\n",
              "        vertical-align: middle;\n",
              "    }\n",
              "\n",
              "    .dataframe tbody tr th {\n",
              "        vertical-align: top;\n",
              "    }\n",
              "\n",
              "    .dataframe thead th {\n",
              "        text-align: right;\n",
              "    }\n",
              "</style>\n",
              "<table border=\"1\" class=\"dataframe\">\n",
              "  <thead>\n",
              "    <tr style=\"text-align: right;\">\n",
              "      <th></th>\n",
              "      <th>sentence</th>\n",
              "      <th>acceptability</th>\n",
              "    </tr>\n",
              "  </thead>\n",
              "  <tbody>\n",
              "    <tr>\n",
              "      <th>0</th>\n",
              "      <td>To please John is tough.</td>\n",
              "      <td>1</td>\n",
              "    </tr>\n",
              "    <tr>\n",
              "      <th>1</th>\n",
              "      <td>John did not like Mary.</td>\n",
              "      <td>1</td>\n",
              "    </tr>\n",
              "    <tr>\n",
              "      <th>2</th>\n",
              "      <td>John is not more reliable a fellow than Bill.</td>\n",
              "      <td>0</td>\n",
              "    </tr>\n",
              "    <tr>\n",
              "      <th>3</th>\n",
              "      <td>Joan knew the answer.</td>\n",
              "      <td>1</td>\n",
              "    </tr>\n",
              "    <tr>\n",
              "      <th>4</th>\n",
              "      <td>The baby dressed.</td>\n",
              "      <td>1</td>\n",
              "    </tr>\n",
              "  </tbody>\n",
              "</table>\n",
              "</div>\n",
              "    <div class=\"colab-df-buttons\">\n",
              "\n",
              "  <div class=\"colab-df-container\">\n",
              "    <button class=\"colab-df-convert\" onclick=\"convertToInteractive('df-2f98c478-2ed6-4615-a3a4-4792b02177ef')\"\n",
              "            title=\"Convert this dataframe to an interactive table.\"\n",
              "            style=\"display:none;\">\n",
              "\n",
              "  <svg xmlns=\"http://www.w3.org/2000/svg\" height=\"24px\" viewBox=\"0 -960 960 960\">\n",
              "    <path d=\"M120-120v-720h720v720H120Zm60-500h600v-160H180v160Zm220 220h160v-160H400v160Zm0 220h160v-160H400v160ZM180-400h160v-160H180v160Zm440 0h160v-160H620v160ZM180-180h160v-160H180v160Zm440 0h160v-160H620v160Z\"/>\n",
              "  </svg>\n",
              "    </button>\n",
              "\n",
              "  <style>\n",
              "    .colab-df-container {\n",
              "      display:flex;\n",
              "      gap: 12px;\n",
              "    }\n",
              "\n",
              "    .colab-df-convert {\n",
              "      background-color: #E8F0FE;\n",
              "      border: none;\n",
              "      border-radius: 50%;\n",
              "      cursor: pointer;\n",
              "      display: none;\n",
              "      fill: #1967D2;\n",
              "      height: 32px;\n",
              "      padding: 0 0 0 0;\n",
              "      width: 32px;\n",
              "    }\n",
              "\n",
              "    .colab-df-convert:hover {\n",
              "      background-color: #E2EBFA;\n",
              "      box-shadow: 0px 1px 2px rgba(60, 64, 67, 0.3), 0px 1px 3px 1px rgba(60, 64, 67, 0.15);\n",
              "      fill: #174EA6;\n",
              "    }\n",
              "\n",
              "    .colab-df-buttons div {\n",
              "      margin-bottom: 4px;\n",
              "    }\n",
              "\n",
              "    [theme=dark] .colab-df-convert {\n",
              "      background-color: #3B4455;\n",
              "      fill: #D2E3FC;\n",
              "    }\n",
              "\n",
              "    [theme=dark] .colab-df-convert:hover {\n",
              "      background-color: #434B5C;\n",
              "      box-shadow: 0px 1px 3px 1px rgba(0, 0, 0, 0.15);\n",
              "      filter: drop-shadow(0px 1px 2px rgba(0, 0, 0, 0.3));\n",
              "      fill: #FFFFFF;\n",
              "    }\n",
              "  </style>\n",
              "\n",
              "    <script>\n",
              "      const buttonEl =\n",
              "        document.querySelector('#df-2f98c478-2ed6-4615-a3a4-4792b02177ef button.colab-df-convert');\n",
              "      buttonEl.style.display =\n",
              "        google.colab.kernel.accessAllowed ? 'block' : 'none';\n",
              "\n",
              "      async function convertToInteractive(key) {\n",
              "        const element = document.querySelector('#df-2f98c478-2ed6-4615-a3a4-4792b02177ef');\n",
              "        const dataTable =\n",
              "          await google.colab.kernel.invokeFunction('convertToInteractive',\n",
              "                                                    [key], {});\n",
              "        if (!dataTable) return;\n",
              "\n",
              "        const docLinkHtml = 'Like what you see? Visit the ' +\n",
              "          '<a target=\"_blank\" href=https://colab.research.google.com/notebooks/data_table.ipynb>data table notebook</a>'\n",
              "          + ' to learn more about interactive tables.';\n",
              "        element.innerHTML = '';\n",
              "        dataTable['output_type'] = 'display_data';\n",
              "        await google.colab.output.renderOutput(dataTable, element);\n",
              "        const docLink = document.createElement('div');\n",
              "        docLink.innerHTML = docLinkHtml;\n",
              "        element.appendChild(docLink);\n",
              "      }\n",
              "    </script>\n",
              "  </div>\n",
              "\n",
              "\n",
              "<div id=\"df-ad78bae2-796c-47cd-b5ef-ff2f439b4ed2\">\n",
              "  <button class=\"colab-df-quickchart\" onclick=\"quickchart('df-ad78bae2-796c-47cd-b5ef-ff2f439b4ed2')\"\n",
              "            title=\"Suggest charts.\"\n",
              "            style=\"display:none;\">\n",
              "\n",
              "<svg xmlns=\"http://www.w3.org/2000/svg\" height=\"24px\"viewBox=\"0 0 24 24\"\n",
              "     width=\"24px\">\n",
              "    <g>\n",
              "        <path d=\"M19 3H5c-1.1 0-2 .9-2 2v14c0 1.1.9 2 2 2h14c1.1 0 2-.9 2-2V5c0-1.1-.9-2-2-2zM9 17H7v-7h2v7zm4 0h-2V7h2v10zm4 0h-2v-4h2v4z\"/>\n",
              "    </g>\n",
              "</svg>\n",
              "  </button>\n",
              "\n",
              "<style>\n",
              "  .colab-df-quickchart {\n",
              "      --bg-color: #E8F0FE;\n",
              "      --fill-color: #1967D2;\n",
              "      --hover-bg-color: #E2EBFA;\n",
              "      --hover-fill-color: #174EA6;\n",
              "      --disabled-fill-color: #AAA;\n",
              "      --disabled-bg-color: #DDD;\n",
              "  }\n",
              "\n",
              "  [theme=dark] .colab-df-quickchart {\n",
              "      --bg-color: #3B4455;\n",
              "      --fill-color: #D2E3FC;\n",
              "      --hover-bg-color: #434B5C;\n",
              "      --hover-fill-color: #FFFFFF;\n",
              "      --disabled-bg-color: #3B4455;\n",
              "      --disabled-fill-color: #666;\n",
              "  }\n",
              "\n",
              "  .colab-df-quickchart {\n",
              "    background-color: var(--bg-color);\n",
              "    border: none;\n",
              "    border-radius: 50%;\n",
              "    cursor: pointer;\n",
              "    display: none;\n",
              "    fill: var(--fill-color);\n",
              "    height: 32px;\n",
              "    padding: 0;\n",
              "    width: 32px;\n",
              "  }\n",
              "\n",
              "  .colab-df-quickchart:hover {\n",
              "    background-color: var(--hover-bg-color);\n",
              "    box-shadow: 0 1px 2px rgba(60, 64, 67, 0.3), 0 1px 3px 1px rgba(60, 64, 67, 0.15);\n",
              "    fill: var(--button-hover-fill-color);\n",
              "  }\n",
              "\n",
              "  .colab-df-quickchart-complete:disabled,\n",
              "  .colab-df-quickchart-complete:disabled:hover {\n",
              "    background-color: var(--disabled-bg-color);\n",
              "    fill: var(--disabled-fill-color);\n",
              "    box-shadow: none;\n",
              "  }\n",
              "\n",
              "  .colab-df-spinner {\n",
              "    border: 2px solid var(--fill-color);\n",
              "    border-color: transparent;\n",
              "    border-bottom-color: var(--fill-color);\n",
              "    animation:\n",
              "      spin 1s steps(1) infinite;\n",
              "  }\n",
              "\n",
              "  @keyframes spin {\n",
              "    0% {\n",
              "      border-color: transparent;\n",
              "      border-bottom-color: var(--fill-color);\n",
              "      border-left-color: var(--fill-color);\n",
              "    }\n",
              "    20% {\n",
              "      border-color: transparent;\n",
              "      border-left-color: var(--fill-color);\n",
              "      border-top-color: var(--fill-color);\n",
              "    }\n",
              "    30% {\n",
              "      border-color: transparent;\n",
              "      border-left-color: var(--fill-color);\n",
              "      border-top-color: var(--fill-color);\n",
              "      border-right-color: var(--fill-color);\n",
              "    }\n",
              "    40% {\n",
              "      border-color: transparent;\n",
              "      border-right-color: var(--fill-color);\n",
              "      border-top-color: var(--fill-color);\n",
              "    }\n",
              "    60% {\n",
              "      border-color: transparent;\n",
              "      border-right-color: var(--fill-color);\n",
              "    }\n",
              "    80% {\n",
              "      border-color: transparent;\n",
              "      border-right-color: var(--fill-color);\n",
              "      border-bottom-color: var(--fill-color);\n",
              "    }\n",
              "    90% {\n",
              "      border-color: transparent;\n",
              "      border-bottom-color: var(--fill-color);\n",
              "    }\n",
              "  }\n",
              "</style>\n",
              "\n",
              "  <script>\n",
              "    async function quickchart(key) {\n",
              "      const quickchartButtonEl =\n",
              "        document.querySelector('#' + key + ' button');\n",
              "      quickchartButtonEl.disabled = true;  // To prevent multiple clicks.\n",
              "      quickchartButtonEl.classList.add('colab-df-spinner');\n",
              "      try {\n",
              "        const charts = await google.colab.kernel.invokeFunction(\n",
              "            'suggestCharts', [key], {});\n",
              "      } catch (error) {\n",
              "        console.error('Error during call to suggestCharts:', error);\n",
              "      }\n",
              "      quickchartButtonEl.classList.remove('colab-df-spinner');\n",
              "      quickchartButtonEl.classList.add('colab-df-quickchart-complete');\n",
              "    }\n",
              "    (() => {\n",
              "      let quickchartButtonEl =\n",
              "        document.querySelector('#df-ad78bae2-796c-47cd-b5ef-ff2f439b4ed2 button');\n",
              "      quickchartButtonEl.style.display =\n",
              "        google.colab.kernel.accessAllowed ? 'block' : 'none';\n",
              "    })();\n",
              "  </script>\n",
              "</div>\n",
              "    </div>\n",
              "  </div>\n"
            ]
          },
          "metadata": {},
          "execution_count": 38
        }
      ]
    },
    {
      "cell_type": "code",
      "source": [
        "val_df.head()"
      ],
      "metadata": {
        "id": "nWKhL9Pl2JMI",
        "colab": {
          "base_uri": "https://localhost:8080/",
          "height": 206
        },
        "outputId": "f58d4824-8d1d-4ddb-b586-dc67602c1317"
      },
      "execution_count": null,
      "outputs": [
        {
          "output_type": "execute_result",
          "data": {
            "text/plain": [
              "                                            sentence  acceptability\n",
              "0                         Which man did you talk to?              1\n",
              "1  What she thought was that the poison was neutr...              1\n",
              "2                   The teacher made students happy.              1\n",
              "3       I have sent 0 letter to Environmental Heath.              0\n",
              "4                      We believed to be omnipotent.              0"
            ],
            "text/html": [
              "\n",
              "  <div id=\"df-54289134-78d2-48f1-9c2c-99fd19f0f677\" class=\"colab-df-container\">\n",
              "    <div>\n",
              "<style scoped>\n",
              "    .dataframe tbody tr th:only-of-type {\n",
              "        vertical-align: middle;\n",
              "    }\n",
              "\n",
              "    .dataframe tbody tr th {\n",
              "        vertical-align: top;\n",
              "    }\n",
              "\n",
              "    .dataframe thead th {\n",
              "        text-align: right;\n",
              "    }\n",
              "</style>\n",
              "<table border=\"1\" class=\"dataframe\">\n",
              "  <thead>\n",
              "    <tr style=\"text-align: right;\">\n",
              "      <th></th>\n",
              "      <th>sentence</th>\n",
              "      <th>acceptability</th>\n",
              "    </tr>\n",
              "  </thead>\n",
              "  <tbody>\n",
              "    <tr>\n",
              "      <th>0</th>\n",
              "      <td>Which man did you talk to?</td>\n",
              "      <td>1</td>\n",
              "    </tr>\n",
              "    <tr>\n",
              "      <th>1</th>\n",
              "      <td>What she thought was that the poison was neutr...</td>\n",
              "      <td>1</td>\n",
              "    </tr>\n",
              "    <tr>\n",
              "      <th>2</th>\n",
              "      <td>The teacher made students happy.</td>\n",
              "      <td>1</td>\n",
              "    </tr>\n",
              "    <tr>\n",
              "      <th>3</th>\n",
              "      <td>I have sent 0 letter to Environmental Heath.</td>\n",
              "      <td>0</td>\n",
              "    </tr>\n",
              "    <tr>\n",
              "      <th>4</th>\n",
              "      <td>We believed to be omnipotent.</td>\n",
              "      <td>0</td>\n",
              "    </tr>\n",
              "  </tbody>\n",
              "</table>\n",
              "</div>\n",
              "    <div class=\"colab-df-buttons\">\n",
              "\n",
              "  <div class=\"colab-df-container\">\n",
              "    <button class=\"colab-df-convert\" onclick=\"convertToInteractive('df-54289134-78d2-48f1-9c2c-99fd19f0f677')\"\n",
              "            title=\"Convert this dataframe to an interactive table.\"\n",
              "            style=\"display:none;\">\n",
              "\n",
              "  <svg xmlns=\"http://www.w3.org/2000/svg\" height=\"24px\" viewBox=\"0 -960 960 960\">\n",
              "    <path d=\"M120-120v-720h720v720H120Zm60-500h600v-160H180v160Zm220 220h160v-160H400v160Zm0 220h160v-160H400v160ZM180-400h160v-160H180v160Zm440 0h160v-160H620v160ZM180-180h160v-160H180v160Zm440 0h160v-160H620v160Z\"/>\n",
              "  </svg>\n",
              "    </button>\n",
              "\n",
              "  <style>\n",
              "    .colab-df-container {\n",
              "      display:flex;\n",
              "      gap: 12px;\n",
              "    }\n",
              "\n",
              "    .colab-df-convert {\n",
              "      background-color: #E8F0FE;\n",
              "      border: none;\n",
              "      border-radius: 50%;\n",
              "      cursor: pointer;\n",
              "      display: none;\n",
              "      fill: #1967D2;\n",
              "      height: 32px;\n",
              "      padding: 0 0 0 0;\n",
              "      width: 32px;\n",
              "    }\n",
              "\n",
              "    .colab-df-convert:hover {\n",
              "      background-color: #E2EBFA;\n",
              "      box-shadow: 0px 1px 2px rgba(60, 64, 67, 0.3), 0px 1px 3px 1px rgba(60, 64, 67, 0.15);\n",
              "      fill: #174EA6;\n",
              "    }\n",
              "\n",
              "    .colab-df-buttons div {\n",
              "      margin-bottom: 4px;\n",
              "    }\n",
              "\n",
              "    [theme=dark] .colab-df-convert {\n",
              "      background-color: #3B4455;\n",
              "      fill: #D2E3FC;\n",
              "    }\n",
              "\n",
              "    [theme=dark] .colab-df-convert:hover {\n",
              "      background-color: #434B5C;\n",
              "      box-shadow: 0px 1px 3px 1px rgba(0, 0, 0, 0.15);\n",
              "      filter: drop-shadow(0px 1px 2px rgba(0, 0, 0, 0.3));\n",
              "      fill: #FFFFFF;\n",
              "    }\n",
              "  </style>\n",
              "\n",
              "    <script>\n",
              "      const buttonEl =\n",
              "        document.querySelector('#df-54289134-78d2-48f1-9c2c-99fd19f0f677 button.colab-df-convert');\n",
              "      buttonEl.style.display =\n",
              "        google.colab.kernel.accessAllowed ? 'block' : 'none';\n",
              "\n",
              "      async function convertToInteractive(key) {\n",
              "        const element = document.querySelector('#df-54289134-78d2-48f1-9c2c-99fd19f0f677');\n",
              "        const dataTable =\n",
              "          await google.colab.kernel.invokeFunction('convertToInteractive',\n",
              "                                                    [key], {});\n",
              "        if (!dataTable) return;\n",
              "\n",
              "        const docLinkHtml = 'Like what you see? Visit the ' +\n",
              "          '<a target=\"_blank\" href=https://colab.research.google.com/notebooks/data_table.ipynb>data table notebook</a>'\n",
              "          + ' to learn more about interactive tables.';\n",
              "        element.innerHTML = '';\n",
              "        dataTable['output_type'] = 'display_data';\n",
              "        await google.colab.output.renderOutput(dataTable, element);\n",
              "        const docLink = document.createElement('div');\n",
              "        docLink.innerHTML = docLinkHtml;\n",
              "        element.appendChild(docLink);\n",
              "      }\n",
              "    </script>\n",
              "  </div>\n",
              "\n",
              "\n",
              "<div id=\"df-b60f5170-e7ca-4ae8-8673-4680467770a3\">\n",
              "  <button class=\"colab-df-quickchart\" onclick=\"quickchart('df-b60f5170-e7ca-4ae8-8673-4680467770a3')\"\n",
              "            title=\"Suggest charts.\"\n",
              "            style=\"display:none;\">\n",
              "\n",
              "<svg xmlns=\"http://www.w3.org/2000/svg\" height=\"24px\"viewBox=\"0 0 24 24\"\n",
              "     width=\"24px\">\n",
              "    <g>\n",
              "        <path d=\"M19 3H5c-1.1 0-2 .9-2 2v14c0 1.1.9 2 2 2h14c1.1 0 2-.9 2-2V5c0-1.1-.9-2-2-2zM9 17H7v-7h2v7zm4 0h-2V7h2v10zm4 0h-2v-4h2v4z\"/>\n",
              "    </g>\n",
              "</svg>\n",
              "  </button>\n",
              "\n",
              "<style>\n",
              "  .colab-df-quickchart {\n",
              "      --bg-color: #E8F0FE;\n",
              "      --fill-color: #1967D2;\n",
              "      --hover-bg-color: #E2EBFA;\n",
              "      --hover-fill-color: #174EA6;\n",
              "      --disabled-fill-color: #AAA;\n",
              "      --disabled-bg-color: #DDD;\n",
              "  }\n",
              "\n",
              "  [theme=dark] .colab-df-quickchart {\n",
              "      --bg-color: #3B4455;\n",
              "      --fill-color: #D2E3FC;\n",
              "      --hover-bg-color: #434B5C;\n",
              "      --hover-fill-color: #FFFFFF;\n",
              "      --disabled-bg-color: #3B4455;\n",
              "      --disabled-fill-color: #666;\n",
              "  }\n",
              "\n",
              "  .colab-df-quickchart {\n",
              "    background-color: var(--bg-color);\n",
              "    border: none;\n",
              "    border-radius: 50%;\n",
              "    cursor: pointer;\n",
              "    display: none;\n",
              "    fill: var(--fill-color);\n",
              "    height: 32px;\n",
              "    padding: 0;\n",
              "    width: 32px;\n",
              "  }\n",
              "\n",
              "  .colab-df-quickchart:hover {\n",
              "    background-color: var(--hover-bg-color);\n",
              "    box-shadow: 0 1px 2px rgba(60, 64, 67, 0.3), 0 1px 3px 1px rgba(60, 64, 67, 0.15);\n",
              "    fill: var(--button-hover-fill-color);\n",
              "  }\n",
              "\n",
              "  .colab-df-quickchart-complete:disabled,\n",
              "  .colab-df-quickchart-complete:disabled:hover {\n",
              "    background-color: var(--disabled-bg-color);\n",
              "    fill: var(--disabled-fill-color);\n",
              "    box-shadow: none;\n",
              "  }\n",
              "\n",
              "  .colab-df-spinner {\n",
              "    border: 2px solid var(--fill-color);\n",
              "    border-color: transparent;\n",
              "    border-bottom-color: var(--fill-color);\n",
              "    animation:\n",
              "      spin 1s steps(1) infinite;\n",
              "  }\n",
              "\n",
              "  @keyframes spin {\n",
              "    0% {\n",
              "      border-color: transparent;\n",
              "      border-bottom-color: var(--fill-color);\n",
              "      border-left-color: var(--fill-color);\n",
              "    }\n",
              "    20% {\n",
              "      border-color: transparent;\n",
              "      border-left-color: var(--fill-color);\n",
              "      border-top-color: var(--fill-color);\n",
              "    }\n",
              "    30% {\n",
              "      border-color: transparent;\n",
              "      border-left-color: var(--fill-color);\n",
              "      border-top-color: var(--fill-color);\n",
              "      border-right-color: var(--fill-color);\n",
              "    }\n",
              "    40% {\n",
              "      border-color: transparent;\n",
              "      border-right-color: var(--fill-color);\n",
              "      border-top-color: var(--fill-color);\n",
              "    }\n",
              "    60% {\n",
              "      border-color: transparent;\n",
              "      border-right-color: var(--fill-color);\n",
              "    }\n",
              "    80% {\n",
              "      border-color: transparent;\n",
              "      border-right-color: var(--fill-color);\n",
              "      border-bottom-color: var(--fill-color);\n",
              "    }\n",
              "    90% {\n",
              "      border-color: transparent;\n",
              "      border-bottom-color: var(--fill-color);\n",
              "    }\n",
              "  }\n",
              "</style>\n",
              "\n",
              "  <script>\n",
              "    async function quickchart(key) {\n",
              "      const quickchartButtonEl =\n",
              "        document.querySelector('#' + key + ' button');\n",
              "      quickchartButtonEl.disabled = true;  // To prevent multiple clicks.\n",
              "      quickchartButtonEl.classList.add('colab-df-spinner');\n",
              "      try {\n",
              "        const charts = await google.colab.kernel.invokeFunction(\n",
              "            'suggestCharts', [key], {});\n",
              "      } catch (error) {\n",
              "        console.error('Error during call to suggestCharts:', error);\n",
              "      }\n",
              "      quickchartButtonEl.classList.remove('colab-df-spinner');\n",
              "      quickchartButtonEl.classList.add('colab-df-quickchart-complete');\n",
              "    }\n",
              "    (() => {\n",
              "      let quickchartButtonEl =\n",
              "        document.querySelector('#df-b60f5170-e7ca-4ae8-8673-4680467770a3 button');\n",
              "      quickchartButtonEl.style.display =\n",
              "        google.colab.kernel.accessAllowed ? 'block' : 'none';\n",
              "    })();\n",
              "  </script>\n",
              "</div>\n",
              "    </div>\n",
              "  </div>\n"
            ]
          },
          "metadata": {},
          "execution_count": 39
        }
      ]
    },
    {
      "cell_type": "code",
      "source": [
        "test_df.head()"
      ],
      "metadata": {
        "id": "CjMnf-Pa2JYq",
        "colab": {
          "base_uri": "https://localhost:8080/",
          "height": 206
        },
        "outputId": "d0f1f1c3-b06a-4af1-fcae-7d7b4d44247a"
      },
      "execution_count": null,
      "outputs": [
        {
          "output_type": "execute_result",
          "data": {
            "text/plain": [
              "                                            sentence  acceptability\n",
              "0    The sailors rode the breeze clear of the rocks.              1\n",
              "1  The weights made the rope stretch over the pul...              1\n",
              "2         The mechanical doll wriggled itself loose.              1\n",
              "3        If you had eaten more, you would want less.              1\n",
              "4           As you eat the most, you want the least.              0"
            ],
            "text/html": [
              "\n",
              "  <div id=\"df-13a0d5f5-769b-49a1-b8a2-22620052cee7\" class=\"colab-df-container\">\n",
              "    <div>\n",
              "<style scoped>\n",
              "    .dataframe tbody tr th:only-of-type {\n",
              "        vertical-align: middle;\n",
              "    }\n",
              "\n",
              "    .dataframe tbody tr th {\n",
              "        vertical-align: top;\n",
              "    }\n",
              "\n",
              "    .dataframe thead th {\n",
              "        text-align: right;\n",
              "    }\n",
              "</style>\n",
              "<table border=\"1\" class=\"dataframe\">\n",
              "  <thead>\n",
              "    <tr style=\"text-align: right;\">\n",
              "      <th></th>\n",
              "      <th>sentence</th>\n",
              "      <th>acceptability</th>\n",
              "    </tr>\n",
              "  </thead>\n",
              "  <tbody>\n",
              "    <tr>\n",
              "      <th>0</th>\n",
              "      <td>The sailors rode the breeze clear of the rocks.</td>\n",
              "      <td>1</td>\n",
              "    </tr>\n",
              "    <tr>\n",
              "      <th>1</th>\n",
              "      <td>The weights made the rope stretch over the pul...</td>\n",
              "      <td>1</td>\n",
              "    </tr>\n",
              "    <tr>\n",
              "      <th>2</th>\n",
              "      <td>The mechanical doll wriggled itself loose.</td>\n",
              "      <td>1</td>\n",
              "    </tr>\n",
              "    <tr>\n",
              "      <th>3</th>\n",
              "      <td>If you had eaten more, you would want less.</td>\n",
              "      <td>1</td>\n",
              "    </tr>\n",
              "    <tr>\n",
              "      <th>4</th>\n",
              "      <td>As you eat the most, you want the least.</td>\n",
              "      <td>0</td>\n",
              "    </tr>\n",
              "  </tbody>\n",
              "</table>\n",
              "</div>\n",
              "    <div class=\"colab-df-buttons\">\n",
              "\n",
              "  <div class=\"colab-df-container\">\n",
              "    <button class=\"colab-df-convert\" onclick=\"convertToInteractive('df-13a0d5f5-769b-49a1-b8a2-22620052cee7')\"\n",
              "            title=\"Convert this dataframe to an interactive table.\"\n",
              "            style=\"display:none;\">\n",
              "\n",
              "  <svg xmlns=\"http://www.w3.org/2000/svg\" height=\"24px\" viewBox=\"0 -960 960 960\">\n",
              "    <path d=\"M120-120v-720h720v720H120Zm60-500h600v-160H180v160Zm220 220h160v-160H400v160Zm0 220h160v-160H400v160ZM180-400h160v-160H180v160Zm440 0h160v-160H620v160ZM180-180h160v-160H180v160Zm440 0h160v-160H620v160Z\"/>\n",
              "  </svg>\n",
              "    </button>\n",
              "\n",
              "  <style>\n",
              "    .colab-df-container {\n",
              "      display:flex;\n",
              "      gap: 12px;\n",
              "    }\n",
              "\n",
              "    .colab-df-convert {\n",
              "      background-color: #E8F0FE;\n",
              "      border: none;\n",
              "      border-radius: 50%;\n",
              "      cursor: pointer;\n",
              "      display: none;\n",
              "      fill: #1967D2;\n",
              "      height: 32px;\n",
              "      padding: 0 0 0 0;\n",
              "      width: 32px;\n",
              "    }\n",
              "\n",
              "    .colab-df-convert:hover {\n",
              "      background-color: #E2EBFA;\n",
              "      box-shadow: 0px 1px 2px rgba(60, 64, 67, 0.3), 0px 1px 3px 1px rgba(60, 64, 67, 0.15);\n",
              "      fill: #174EA6;\n",
              "    }\n",
              "\n",
              "    .colab-df-buttons div {\n",
              "      margin-bottom: 4px;\n",
              "    }\n",
              "\n",
              "    [theme=dark] .colab-df-convert {\n",
              "      background-color: #3B4455;\n",
              "      fill: #D2E3FC;\n",
              "    }\n",
              "\n",
              "    [theme=dark] .colab-df-convert:hover {\n",
              "      background-color: #434B5C;\n",
              "      box-shadow: 0px 1px 3px 1px rgba(0, 0, 0, 0.15);\n",
              "      filter: drop-shadow(0px 1px 2px rgba(0, 0, 0, 0.3));\n",
              "      fill: #FFFFFF;\n",
              "    }\n",
              "  </style>\n",
              "\n",
              "    <script>\n",
              "      const buttonEl =\n",
              "        document.querySelector('#df-13a0d5f5-769b-49a1-b8a2-22620052cee7 button.colab-df-convert');\n",
              "      buttonEl.style.display =\n",
              "        google.colab.kernel.accessAllowed ? 'block' : 'none';\n",
              "\n",
              "      async function convertToInteractive(key) {\n",
              "        const element = document.querySelector('#df-13a0d5f5-769b-49a1-b8a2-22620052cee7');\n",
              "        const dataTable =\n",
              "          await google.colab.kernel.invokeFunction('convertToInteractive',\n",
              "                                                    [key], {});\n",
              "        if (!dataTable) return;\n",
              "\n",
              "        const docLinkHtml = 'Like what you see? Visit the ' +\n",
              "          '<a target=\"_blank\" href=https://colab.research.google.com/notebooks/data_table.ipynb>data table notebook</a>'\n",
              "          + ' to learn more about interactive tables.';\n",
              "        element.innerHTML = '';\n",
              "        dataTable['output_type'] = 'display_data';\n",
              "        await google.colab.output.renderOutput(dataTable, element);\n",
              "        const docLink = document.createElement('div');\n",
              "        docLink.innerHTML = docLinkHtml;\n",
              "        element.appendChild(docLink);\n",
              "      }\n",
              "    </script>\n",
              "  </div>\n",
              "\n",
              "\n",
              "<div id=\"df-c16a363b-a0e2-42df-aff7-e2c612ffabe2\">\n",
              "  <button class=\"colab-df-quickchart\" onclick=\"quickchart('df-c16a363b-a0e2-42df-aff7-e2c612ffabe2')\"\n",
              "            title=\"Suggest charts.\"\n",
              "            style=\"display:none;\">\n",
              "\n",
              "<svg xmlns=\"http://www.w3.org/2000/svg\" height=\"24px\"viewBox=\"0 0 24 24\"\n",
              "     width=\"24px\">\n",
              "    <g>\n",
              "        <path d=\"M19 3H5c-1.1 0-2 .9-2 2v14c0 1.1.9 2 2 2h14c1.1 0 2-.9 2-2V5c0-1.1-.9-2-2-2zM9 17H7v-7h2v7zm4 0h-2V7h2v10zm4 0h-2v-4h2v4z\"/>\n",
              "    </g>\n",
              "</svg>\n",
              "  </button>\n",
              "\n",
              "<style>\n",
              "  .colab-df-quickchart {\n",
              "      --bg-color: #E8F0FE;\n",
              "      --fill-color: #1967D2;\n",
              "      --hover-bg-color: #E2EBFA;\n",
              "      --hover-fill-color: #174EA6;\n",
              "      --disabled-fill-color: #AAA;\n",
              "      --disabled-bg-color: #DDD;\n",
              "  }\n",
              "\n",
              "  [theme=dark] .colab-df-quickchart {\n",
              "      --bg-color: #3B4455;\n",
              "      --fill-color: #D2E3FC;\n",
              "      --hover-bg-color: #434B5C;\n",
              "      --hover-fill-color: #FFFFFF;\n",
              "      --disabled-bg-color: #3B4455;\n",
              "      --disabled-fill-color: #666;\n",
              "  }\n",
              "\n",
              "  .colab-df-quickchart {\n",
              "    background-color: var(--bg-color);\n",
              "    border: none;\n",
              "    border-radius: 50%;\n",
              "    cursor: pointer;\n",
              "    display: none;\n",
              "    fill: var(--fill-color);\n",
              "    height: 32px;\n",
              "    padding: 0;\n",
              "    width: 32px;\n",
              "  }\n",
              "\n",
              "  .colab-df-quickchart:hover {\n",
              "    background-color: var(--hover-bg-color);\n",
              "    box-shadow: 0 1px 2px rgba(60, 64, 67, 0.3), 0 1px 3px 1px rgba(60, 64, 67, 0.15);\n",
              "    fill: var(--button-hover-fill-color);\n",
              "  }\n",
              "\n",
              "  .colab-df-quickchart-complete:disabled,\n",
              "  .colab-df-quickchart-complete:disabled:hover {\n",
              "    background-color: var(--disabled-bg-color);\n",
              "    fill: var(--disabled-fill-color);\n",
              "    box-shadow: none;\n",
              "  }\n",
              "\n",
              "  .colab-df-spinner {\n",
              "    border: 2px solid var(--fill-color);\n",
              "    border-color: transparent;\n",
              "    border-bottom-color: var(--fill-color);\n",
              "    animation:\n",
              "      spin 1s steps(1) infinite;\n",
              "  }\n",
              "\n",
              "  @keyframes spin {\n",
              "    0% {\n",
              "      border-color: transparent;\n",
              "      border-bottom-color: var(--fill-color);\n",
              "      border-left-color: var(--fill-color);\n",
              "    }\n",
              "    20% {\n",
              "      border-color: transparent;\n",
              "      border-left-color: var(--fill-color);\n",
              "      border-top-color: var(--fill-color);\n",
              "    }\n",
              "    30% {\n",
              "      border-color: transparent;\n",
              "      border-left-color: var(--fill-color);\n",
              "      border-top-color: var(--fill-color);\n",
              "      border-right-color: var(--fill-color);\n",
              "    }\n",
              "    40% {\n",
              "      border-color: transparent;\n",
              "      border-right-color: var(--fill-color);\n",
              "      border-top-color: var(--fill-color);\n",
              "    }\n",
              "    60% {\n",
              "      border-color: transparent;\n",
              "      border-right-color: var(--fill-color);\n",
              "    }\n",
              "    80% {\n",
              "      border-color: transparent;\n",
              "      border-right-color: var(--fill-color);\n",
              "      border-bottom-color: var(--fill-color);\n",
              "    }\n",
              "    90% {\n",
              "      border-color: transparent;\n",
              "      border-bottom-color: var(--fill-color);\n",
              "    }\n",
              "  }\n",
              "</style>\n",
              "\n",
              "  <script>\n",
              "    async function quickchart(key) {\n",
              "      const quickchartButtonEl =\n",
              "        document.querySelector('#' + key + ' button');\n",
              "      quickchartButtonEl.disabled = true;  // To prevent multiple clicks.\n",
              "      quickchartButtonEl.classList.add('colab-df-spinner');\n",
              "      try {\n",
              "        const charts = await google.colab.kernel.invokeFunction(\n",
              "            'suggestCharts', [key], {});\n",
              "      } catch (error) {\n",
              "        console.error('Error during call to suggestCharts:', error);\n",
              "      }\n",
              "      quickchartButtonEl.classList.remove('colab-df-spinner');\n",
              "      quickchartButtonEl.classList.add('colab-df-quickchart-complete');\n",
              "    }\n",
              "    (() => {\n",
              "      let quickchartButtonEl =\n",
              "        document.querySelector('#df-c16a363b-a0e2-42df-aff7-e2c612ffabe2 button');\n",
              "      quickchartButtonEl.style.display =\n",
              "        google.colab.kernel.accessAllowed ? 'block' : 'none';\n",
              "    })();\n",
              "  </script>\n",
              "</div>\n",
              "    </div>\n",
              "  </div>\n"
            ]
          },
          "metadata": {},
          "execution_count": 40
        }
      ]
    },
    {
      "cell_type": "code",
      "source": [
        "print(\"Number of acceptable/unacceptable sentences in training set\")\n",
        "print(\"-\"*60)\n",
        "train_df['acceptability'].value_counts()"
      ],
      "metadata": {
        "id": "HvSdhQuhBpr6",
        "colab": {
          "base_uri": "https://localhost:8080/"
        },
        "outputId": "30f3561c-0795-449a-ac67-c1a312116472"
      },
      "execution_count": null,
      "outputs": [
        {
          "output_type": "stream",
          "name": "stdout",
          "text": [
            "Number of acceptable/unacceptable sentences in training set\n",
            "------------------------------------------------------------\n"
          ]
        },
        {
          "output_type": "execute_result",
          "data": {
            "text/plain": [
              "1    4802\n",
              "0    4802\n",
              "Name: acceptability, dtype: int64"
            ]
          },
          "metadata": {},
          "execution_count": 41
        }
      ]
    },
    {
      "cell_type": "code",
      "source": [
        "print(\"Number of acceptable/unacceptable sentences in validation set\")\n",
        "print(\"-\"*61)\n",
        "val_df['acceptability'].value_counts()"
      ],
      "metadata": {
        "id": "jnV3nOWDFFNm",
        "colab": {
          "base_uri": "https://localhost:8080/"
        },
        "outputId": "007131b8-8f1c-48cf-d7ee-9377a631b47a"
      },
      "execution_count": null,
      "outputs": [
        {
          "output_type": "stream",
          "name": "stdout",
          "text": [
            "Number of acceptable/unacceptable sentences in validation set\n",
            "-------------------------------------------------------------\n"
          ]
        },
        {
          "output_type": "execute_result",
          "data": {
            "text/plain": [
              "1    1221\n",
              "0     490\n",
              "Name: acceptability, dtype: int64"
            ]
          },
          "metadata": {},
          "execution_count": 42
        }
      ]
    },
    {
      "cell_type": "code",
      "source": [
        "print(\"Number of acceptable/unacceptable sentences in test set\")\n",
        "print(\"-\"*55)\n",
        "test_df['acceptability'].value_counts()"
      ],
      "metadata": {
        "id": "ohWnW7NuFJS_",
        "colab": {
          "base_uri": "https://localhost:8080/"
        },
        "outputId": "0ca3ae48-8f89-4278-afc8-bb0e1e2ecd20"
      },
      "execution_count": null,
      "outputs": [
        {
          "output_type": "stream",
          "name": "stdout",
          "text": [
            "Number of acceptable/unacceptable sentences in test set\n",
            "-------------------------------------------------------\n"
          ]
        },
        {
          "output_type": "execute_result",
          "data": {
            "text/plain": [
              "1    719\n",
              "0    324\n",
              "Name: acceptability, dtype: int64"
            ]
          },
          "metadata": {},
          "execution_count": 43
        }
      ]
    },
    {
      "cell_type": "code",
      "source": [
        "acc = round(len(train_df[train_df['acceptability'] == 1]) / len(train_df)*100)\n",
        "print(f'Percentage of training instances which are acceptable: {acc}%')"
      ],
      "metadata": {
        "id": "B6As-T9PFOGd",
        "colab": {
          "base_uri": "https://localhost:8080/"
        },
        "outputId": "a6ffbc0e-1b78-4760-d53f-dffd7f6597d7"
      },
      "execution_count": null,
      "outputs": [
        {
          "output_type": "stream",
          "name": "stdout",
          "text": [
            "Percentage of training instances which are acceptable: 50%\n"
          ]
        }
      ]
    },
    {
      "cell_type": "code",
      "source": [
        "acc = round(len(val_df[val_df['acceptability'] == 1]) / len(val_df)*100)\n",
        "print(f'Percentage of validation instances which are acceptable: {acc}%')"
      ],
      "metadata": {
        "id": "SZ1SW8N52S0-",
        "colab": {
          "base_uri": "https://localhost:8080/"
        },
        "outputId": "48d4de29-13a3-4499-c163-31c18c818620"
      },
      "execution_count": null,
      "outputs": [
        {
          "output_type": "stream",
          "name": "stdout",
          "text": [
            "Percentage of validation instances which are acceptable: 71%\n"
          ]
        }
      ]
    },
    {
      "cell_type": "code",
      "source": [
        "acc = round(len(test_df[test_df['acceptability'] == 1]) / len(test_df)*100)\n",
        "print(f'Percentage of test instances which are acceptable: {acc}%')"
      ],
      "metadata": {
        "id": "LU7k7DBz2S6J",
        "colab": {
          "base_uri": "https://localhost:8080/"
        },
        "outputId": "9f27e085-150e-43b6-8f81-6285593b94eb"
      },
      "execution_count": null,
      "outputs": [
        {
          "output_type": "stream",
          "name": "stdout",
          "text": [
            "Percentage of test instances which are acceptable: 69%\n"
          ]
        }
      ]
    },
    {
      "cell_type": "markdown",
      "source": [
        "# Train RoBERTa as a grammatical acceptability classifier on CoLA dataset"
      ],
      "metadata": {
        "id": "jwroJd39Qerm"
      }
    },
    {
      "cell_type": "code",
      "source": [
        "results = {}"
      ],
      "metadata": {
        "id": "LUEbr-Dtgr4T"
      },
      "execution_count": 3,
      "outputs": []
    },
    {
      "cell_type": "code",
      "source": [
        "results['all_acceptable'] = len(test_df[test_df['acceptability'] == 0]) / len(test_df)"
      ],
      "metadata": {
        "id": "lyvE8Cv-gs6A"
      },
      "execution_count": 4,
      "outputs": []
    },
    {
      "cell_type": "markdown",
      "source": [
        "## Load RoBERTa large\n",
        "\n",
        "\n"
      ],
      "metadata": {
        "id": "Y_rl90JY0yWN"
      }
    },
    {
      "cell_type": "code",
      "source": [
        "# Load tokenizer and model\n",
        "roberta_tokenizer = RobertaTokenizer.from_pretrained('roberta-large')\n",
        "roberta_large_model = TFRobertaModel.from_pretrained('roberta-large')"
      ],
      "metadata": {
        "colab": {
          "base_uri": "https://localhost:8080/",
          "height": 286,
          "referenced_widgets": [
            "8b2cf8e7f16140ef9d0c972931cfc0ae",
            "ceef8f5244784f45b7698798a254c307",
            "5814027b92e84d089317943a7e5b9e83",
            "e5d27b8b745b4dfb9c4ef39c9952b6f9",
            "9d50b487b56c42be8e20b809ff4132ec",
            "6f180beb10d9465886f4ba19ded6391d",
            "38730e71152b460b9d6772fc9a2ae085",
            "e46140765f194495b68c6b94dff41859",
            "5ff60c8b2d984debb9e3effe7216d684",
            "6ea277c300fd4044b1f6659621c0a2df",
            "ae019497a1454358b6c56b20367f9f45",
            "79dea6e381f74bcb83e61b7567542c58",
            "e7feaea2f34845b292fa635c9e4c02c9",
            "b7a225cab9a84d23bd1f18f8ce6efed7",
            "14979a06fa8a49bcb8e2132ca19b7c99",
            "c8c1390fd64646b1b6f39e89cc3d5347",
            "a1aafdb1b09e41068d8e191b40c632a8",
            "68e66b0848624f84af4d1693cd5842aa",
            "b67e288fce554c8ebcc54db0fd16394b",
            "0582818483ce42788b7db0704d6c5e4b",
            "5ee34ba2f3f246278ccfadff5b278368",
            "278ba46d802f472bb54e4587bf93fce0",
            "a0f12d32ee1947d4baa90e7a6d8d978e",
            "fc1fdb497b9e45009502e5b7e7b23edb",
            "3a35eb2cce084e90b61da94a707ee26f",
            "8836a73a61f84ac0a314b29f2b6025eb",
            "9fa92fb6d2de419ba6f733d1454272cd",
            "b359e03bccb34ed49346d288a8604bd9",
            "22c492ebe983468b8e32003bdbd41d5b",
            "74e990b269b4466ba451d7c568710430",
            "8e20b9cb9a804b76ae6ed2b11f74e333",
            "14f59d5d85fc41b9aa978fe865919813",
            "7445cc011cdf49e391ef5139df46f93e",
            "4d7bd2d1b7a64402af6db4e7a07804e3",
            "8cb906e5472546509602c057a37fa1d7",
            "2a42e397b1944b868f16b949c894525c",
            "84c37b950e984401a1e6c60b1f8b4472",
            "748faa8349454fc092c57c670faf1134",
            "36ef29857767444699997983e4b200fe",
            "7a195731ac864203ac7293a63b9e316d",
            "95e62cf2c0ef44b4a52a612f425f29ba",
            "31abef8440374a4fbc804e5c2bf823ec",
            "1d9ef9fc5d72483aa4478e5567bc46aa",
            "6aa79bd0273b4678b6111e8aa27ba5e1",
            "83c4daf005244b9ba5721c322748e8a5",
            "4c59ea83641c4ad4abebc8ad94279924",
            "72eacd6c8a6c4ebba223b04a53d7f6d0",
            "e02c609760f248dea10bceb326f2813f",
            "0bd0e7afad3d4c87bf1497efce2f7bcc",
            "91b056bdb6a3477990b1fd72e935d789",
            "a71a31ad4a01429290332d780f6b1fc7",
            "e37ac9b2b2874eb8bdb0c06bafec7ae9",
            "3c7ce768e1584ab59bb6fd24bac7d349",
            "e395062766cb401bbdefaf4c48f1a301",
            "1e9835110a0f4ee491f6a98dba00d4b6"
          ]
        },
        "id": "-3fKCfOd3aKB",
        "outputId": "9df2c2b6-554c-46b9-d6c2-65f0c97af9d5"
      },
      "execution_count": 5,
      "outputs": [
        {
          "output_type": "display_data",
          "data": {
            "text/plain": [
              "Downloading (…)olve/main/vocab.json:   0%|          | 0.00/899k [00:00<?, ?B/s]"
            ],
            "application/vnd.jupyter.widget-view+json": {
              "version_major": 2,
              "version_minor": 0,
              "model_id": "8b2cf8e7f16140ef9d0c972931cfc0ae"
            }
          },
          "metadata": {}
        },
        {
          "output_type": "display_data",
          "data": {
            "text/plain": [
              "Downloading (…)olve/main/merges.txt:   0%|          | 0.00/456k [00:00<?, ?B/s]"
            ],
            "application/vnd.jupyter.widget-view+json": {
              "version_major": 2,
              "version_minor": 0,
              "model_id": "79dea6e381f74bcb83e61b7567542c58"
            }
          },
          "metadata": {}
        },
        {
          "output_type": "display_data",
          "data": {
            "text/plain": [
              "Downloading (…)/main/tokenizer.json:   0%|          | 0.00/1.36M [00:00<?, ?B/s]"
            ],
            "application/vnd.jupyter.widget-view+json": {
              "version_major": 2,
              "version_minor": 0,
              "model_id": "a0f12d32ee1947d4baa90e7a6d8d978e"
            }
          },
          "metadata": {}
        },
        {
          "output_type": "display_data",
          "data": {
            "text/plain": [
              "Downloading (…)lve/main/config.json:   0%|          | 0.00/482 [00:00<?, ?B/s]"
            ],
            "application/vnd.jupyter.widget-view+json": {
              "version_major": 2,
              "version_minor": 0,
              "model_id": "4d7bd2d1b7a64402af6db4e7a07804e3"
            }
          },
          "metadata": {}
        },
        {
          "output_type": "display_data",
          "data": {
            "text/plain": [
              "Downloading model.safetensors:   0%|          | 0.00/1.42G [00:00<?, ?B/s]"
            ],
            "application/vnd.jupyter.widget-view+json": {
              "version_major": 2,
              "version_minor": 0,
              "model_id": "83c4daf005244b9ba5721c322748e8a5"
            }
          },
          "metadata": {}
        },
        {
          "output_type": "stream",
          "name": "stderr",
          "text": [
            "Some weights of the PyTorch model were not used when initializing the TF 2.0 model TFRobertaModel: ['lm_head.layer_norm.weight', 'lm_head.bias', 'lm_head.dense.weight', 'lm_head.dense.bias', 'roberta.embeddings.position_ids', 'lm_head.layer_norm.bias']\n",
            "- This IS expected if you are initializing TFRobertaModel from a PyTorch model trained on another task or with another architecture (e.g. initializing a TFBertForSequenceClassification model from a BertForPreTraining model).\n",
            "- This IS NOT expected if you are initializing TFRobertaModel from a PyTorch model that you expect to be exactly identical (e.g. initializing a TFBertForSequenceClassification model from a BertForSequenceClassification model).\n",
            "Some weights or buffers of the TF 2.0 model TFRobertaModel were not initialized from the PyTorch model and are newly initialized: ['roberta.pooler.dense.weight', 'roberta.pooler.dense.bias']\n",
            "You should probably TRAIN this model on a down-stream task to be able to use it for predictions and inference.\n"
          ]
        }
      ]
    },
    {
      "cell_type": "code",
      "source": [
        "roberta_tokenizer"
      ],
      "metadata": {
        "colab": {
          "base_uri": "https://localhost:8080/"
        },
        "id": "kkYicib_namt",
        "outputId": "4c504be4-9b24-457b-a451-162efb1e7313"
      },
      "execution_count": null,
      "outputs": [
        {
          "output_type": "execute_result",
          "data": {
            "text/plain": [
              "RobertaTokenizer(name_or_path='roberta-base', vocab_size=50265, model_max_length=512, is_fast=False, padding_side='right', truncation_side='right', special_tokens={'bos_token': '<s>', 'eos_token': '</s>', 'unk_token': '<unk>', 'sep_token': '</s>', 'pad_token': '<pad>', 'cls_token': '<s>', 'mask_token': '<mask>'}, clean_up_tokenization_spaces=True),  added_tokens_decoder={\n",
              "\t0: AddedToken(\"<s>\", rstrip=False, lstrip=False, single_word=False, normalized=True, special=True),\n",
              "\t1: AddedToken(\"<pad>\", rstrip=False, lstrip=False, single_word=False, normalized=True, special=True),\n",
              "\t2: AddedToken(\"</s>\", rstrip=False, lstrip=False, single_word=False, normalized=True, special=True),\n",
              "\t3: AddedToken(\"<unk>\", rstrip=False, lstrip=False, single_word=False, normalized=True, special=True),\n",
              "\t50264: AddedToken(\"<mask>\", rstrip=False, lstrip=True, single_word=False, normalized=False, special=True),\n",
              "}"
            ]
          },
          "metadata": {},
          "execution_count": 50
        }
      ]
    },
    {
      "cell_type": "code",
      "source": [
        "# Set global variables\n",
        "MAX_LEN = 256"
      ],
      "metadata": {
        "id": "7QD379G_QplW"
      },
      "execution_count": 6,
      "outputs": []
    },
    {
      "cell_type": "markdown",
      "source": [
        "## Inspect the model"
      ],
      "metadata": {
        "id": "9lNCldil6Yys"
      }
    },
    {
      "cell_type": "code",
      "source": [
        "# output a sentence\n",
        "trial_sentence = train_df['sentence'][7]\n",
        "print(\"Trial sentence:\",trial_sentence)\n",
        "print(\"-\"*100)\n",
        "\n",
        "# tokenize it using the RoBERTa tokenizer # 10 token ids vs 8 tokens\n",
        "tokenized_input = roberta_tokenizer(trial_sentence,return_tensors='tf')\n",
        "\n",
        "print(\"Tokens:\",tokenized_input)\n",
        "print(\"-\"*100)\n",
        "print(\"BPE tokenization:\",roberta_tokenizer.tokenize(trial_sentence))"
      ],
      "metadata": {
        "colab": {
          "base_uri": "https://localhost:8080/"
        },
        "id": "kTHL4EB_8b-j",
        "outputId": "270a1518-1a7c-43c4-a024-f19702218369"
      },
      "execution_count": null,
      "outputs": [
        {
          "output_type": "stream",
          "name": "stdout",
          "text": [
            "Trial sentence: The car honked down the road.\n",
            "----------------------------------------------------------------------------------------------------\n",
            "Tokens: {'input_ids': <tf.Tensor: shape=(1, 10), dtype=int32, numpy=\n",
            "array([[    0,   133,   512, 11006, 10916,   159,     5,   921,     4,\n",
            "            2]], dtype=int32)>, 'attention_mask': <tf.Tensor: shape=(1, 10), dtype=int32, numpy=array([[1, 1, 1, 1, 1, 1, 1, 1, 1, 1]], dtype=int32)>}\n",
            "----------------------------------------------------------------------------------------------------\n",
            "BPE tokenization: ['The', 'Ġcar', 'Ġhon', 'ked', 'Ġdown', 'Ġthe', 'Ġroad', '.']\n"
          ]
        }
      ]
    },
    {
      "cell_type": "code",
      "source": [
        "roberta_output = roberta_base_model(tokenized_input)\n",
        "roberta_output"
      ],
      "metadata": {
        "colab": {
          "base_uri": "https://localhost:8080/"
        },
        "id": "r8Wq2a15-yjd",
        "outputId": "e60d9ad7-b529-409b-9b3c-b575d42607e0"
      },
      "execution_count": null,
      "outputs": [
        {
          "output_type": "execute_result",
          "data": {
            "text/plain": [
              "TFBaseModelOutputWithPoolingAndCrossAttentions(last_hidden_state=<tf.Tensor: shape=(1, 10, 768), dtype=float32, numpy=\n",
              "array([[[-0.10391971,  0.09979197, -0.01685934, ..., -0.07474034,\n",
              "         -0.02287602, -0.03322849],\n",
              "        [-0.07406615,  0.08485349, -0.01377264, ...,  0.08656158,\n",
              "          0.00580528, -0.09585881],\n",
              "        [ 0.14500533,  0.219632  , -0.05300761, ...,  0.63992584,\n",
              "          0.11180913,  0.09703369],\n",
              "        ...,\n",
              "        [-0.14231463,  0.26290646, -0.10450698, ...,  0.00290941,\n",
              "          0.16913581,  0.06988557],\n",
              "        [-0.0917401 ,  0.09356798, -0.04420766, ..., -0.09922531,\n",
              "         -0.02238247, -0.06139484],\n",
              "        [-0.06992991,  0.09149651, -0.00983183, ...,  0.06129345,\n",
              "          0.00718148,  0.05413652]]], dtype=float32)>, pooler_output=<tf.Tensor: shape=(1, 768), dtype=float32, numpy=\n",
              "array([[ 2.02411771e-01, -2.17887312e-01, -2.40790278e-01,\n",
              "         2.01939464e-01, -2.11907387e-01,  2.14460239e-01,\n",
              "         2.20514476e-01, -2.46695597e-02, -1.69030875e-02,\n",
              "        -3.17310914e-02,  4.57944125e-02,  2.72199899e-01,\n",
              "        -1.96891829e-01,  2.94322092e-02, -2.07148626e-01,\n",
              "        -1.07842244e-01, -1.79825261e-01,  4.20500219e-01,\n",
              "        -2.83159345e-01,  1.42334759e-01, -3.92447144e-01,\n",
              "         4.62617688e-02, -7.63106951e-03, -1.55252099e-01,\n",
              "         3.72921042e-02, -8.01721811e-02,  2.89763451e-01,\n",
              "        -2.04848349e-01,  1.02427036e-01,  2.27989197e-01,\n",
              "        -1.64960593e-01, -3.51871818e-01, -1.32335708e-01,\n",
              "         1.27977192e-01, -4.82813604e-02, -2.38186896e-01,\n",
              "        -2.99662203e-02,  3.40008318e-01, -1.65912941e-01,\n",
              "         5.05255722e-02,  4.75015827e-02,  7.66462162e-02,\n",
              "        -1.01032101e-01,  5.00626154e-02, -2.71600187e-01,\n",
              "        -2.03740373e-01,  2.50544429e-01, -2.23803893e-02,\n",
              "        -1.52834162e-01, -1.38203293e-01, -1.54528752e-01,\n",
              "         4.13781218e-03, -1.96172833e-01, -3.76725085e-02,\n",
              "        -2.55015045e-01, -3.14033955e-01, -4.40487266e-02,\n",
              "         5.14941737e-02,  4.92811240e-02, -2.66706675e-01,\n",
              "         2.65560776e-01, -1.00237705e-01, -4.08255965e-01,\n",
              "         6.27328306e-02,  3.85646284e-01, -4.05404866e-01,\n",
              "         1.88117564e-01, -1.10100187e-01, -7.47602656e-02,\n",
              "        -2.36423999e-01,  2.09359020e-01,  4.45037663e-01,\n",
              "         2.63579458e-01, -1.83247641e-01, -1.98223159e-01,\n",
              "        -2.38252982e-01,  1.09405844e-02, -3.74558538e-01,\n",
              "         2.43579507e-01,  2.83954322e-01,  3.64315838e-01,\n",
              "         1.67762041e-01, -3.71602267e-01,  2.36954778e-01,\n",
              "         2.95140147e-01, -5.78722134e-02,  4.06808764e-01,\n",
              "         1.11612715e-01, -9.46939886e-02, -9.83462185e-02,\n",
              "        -3.91277313e-01, -2.23456129e-01, -2.66251147e-01,\n",
              "         2.28096962e-01,  2.34397486e-01,  1.85509071e-01,\n",
              "         1.04069211e-01,  1.01359092e-01,  1.17591083e-01,\n",
              "        -1.28332525e-01,  3.76697513e-03, -2.27847174e-01,\n",
              "        -1.01024225e-01, -1.86793268e-01,  3.66262436e-01,\n",
              "        -1.68591440e-01,  2.68632799e-01,  2.35790968e-01,\n",
              "         2.07246348e-01, -7.95200616e-02,  5.84305488e-02,\n",
              "         2.90729880e-01,  1.56089202e-01,  4.87916678e-01,\n",
              "         8.49104021e-03,  1.55670524e-01,  3.47922370e-02,\n",
              "         5.57656921e-02, -1.07328318e-01, -3.04684229e-02,\n",
              "        -7.54247010e-02,  3.52645591e-02, -2.47427896e-01,\n",
              "        -2.50383876e-02,  2.84237742e-01,  1.29340217e-01,\n",
              "         9.72869545e-02, -1.97476640e-01, -2.88011372e-01,\n",
              "        -1.34962695e-02, -1.24796867e-01, -4.03520942e-01,\n",
              "         3.36556658e-02, -4.18919213e-02, -1.53151378e-02,\n",
              "         1.36160776e-01,  2.65394837e-01, -1.06648639e-01,\n",
              "        -3.26603353e-02, -1.84810355e-01,  1.71034023e-01,\n",
              "         6.12554438e-02,  7.38784438e-04, -4.22123522e-02,\n",
              "        -2.37598106e-01,  2.42785394e-01,  3.70617598e-01,\n",
              "        -3.82998556e-01, -1.62866950e-01,  3.91500592e-01,\n",
              "         1.45924717e-01, -1.24829948e-01,  1.49901643e-01,\n",
              "         1.33241445e-01, -1.14759475e-01, -6.04209164e-03,\n",
              "         1.95732087e-01,  2.22351402e-03,  5.55044673e-02,\n",
              "        -1.35255694e-01, -2.67279565e-01,  3.85075092e-01,\n",
              "         6.18845038e-02, -1.30764782e-01,  9.40143093e-02,\n",
              "        -2.23724902e-01, -2.49361858e-01,  3.37911457e-01,\n",
              "        -7.83811808e-02, -4.48044419e-01,  1.75811797e-01,\n",
              "        -1.05294965e-01, -2.32703090e-01, -4.47857156e-02,\n",
              "        -1.36639223e-01,  2.32228592e-01, -1.09043449e-01,\n",
              "        -1.43267989e-01, -3.28268766e-01, -3.39369416e-01,\n",
              "        -3.71046290e-02, -3.48503627e-02, -2.93939382e-01,\n",
              "         2.83960942e-02,  1.67692512e-01,  2.17602998e-01,\n",
              "         1.36738829e-02,  1.15132101e-01,  5.95512912e-02,\n",
              "         1.78932205e-01,  2.07952067e-01, -9.51474458e-02,\n",
              "        -2.89943874e-01, -2.18768969e-01, -1.17260195e-01,\n",
              "        -7.34876608e-03, -4.52752132e-03,  3.54716390e-01,\n",
              "         5.70640601e-02, -1.10326856e-01, -3.83884762e-03,\n",
              "         1.04795426e-01, -3.19221377e-01,  2.23979980e-01,\n",
              "         3.33806239e-02, -2.80442983e-01, -3.70934039e-01,\n",
              "         1.11674920e-01,  1.99547052e-01, -3.23622525e-01,\n",
              "        -5.18253930e-02,  2.43577421e-01,  3.15757483e-01,\n",
              "         3.19225669e-01, -8.43808949e-02, -4.61056828e-03,\n",
              "         3.30457866e-01, -2.65746832e-01, -1.80102512e-01,\n",
              "         6.93408027e-02, -1.49166808e-01,  2.33047605e-01,\n",
              "         9.31069776e-02, -2.64105320e-01, -2.84142107e-01,\n",
              "         7.90032223e-02, -3.98232304e-02, -1.02438666e-01,\n",
              "         1.69490710e-01, -6.16001859e-02, -3.07788700e-01,\n",
              "        -1.87643379e-01, -5.06594069e-02,  1.74567416e-01,\n",
              "        -2.66979605e-01,  1.52432486e-01, -2.27877408e-01,\n",
              "         2.57003188e-01, -2.09796026e-01, -1.02978319e-01,\n",
              "         2.66634762e-01, -2.06074327e-01,  4.52614486e-01,\n",
              "         3.03233087e-01,  2.66610980e-01,  1.52275756e-01,\n",
              "        -3.26448202e-01, -5.12220003e-02,  2.25619778e-01,\n",
              "         3.30889851e-01,  2.70981640e-01,  1.92274839e-01,\n",
              "         4.31848690e-02, -7.42490143e-02,  2.10940018e-01,\n",
              "         9.61290449e-02,  6.48011118e-02, -1.47027269e-01,\n",
              "        -2.01507002e-01, -2.24712063e-02, -1.29270718e-01,\n",
              "         7.64282271e-02, -1.05960838e-01, -1.65545374e-01,\n",
              "        -2.47666761e-01,  1.75245687e-01,  4.05022591e-01,\n",
              "         1.70056283e-01,  3.70988697e-01, -2.90377825e-01,\n",
              "         8.57079476e-02,  2.46717304e-01,  2.09488228e-01,\n",
              "        -3.96882415e-01, -1.26744568e-01, -2.58007124e-02,\n",
              "        -3.47931199e-02,  2.82605946e-01,  2.24139139e-01,\n",
              "         1.40040740e-01,  2.14558959e-01,  1.52094021e-01,\n",
              "        -1.18308112e-01,  2.39429064e-02, -3.25179696e-02,\n",
              "        -1.65547669e-01, -3.79509866e-01, -1.34010613e-01,\n",
              "         9.13972631e-02, -4.19720858e-02, -8.81110132e-02,\n",
              "        -5.77236675e-02,  3.79572570e-01,  1.66050553e-01,\n",
              "         4.11223294e-03,  3.24714243e-01, -1.85381770e-01,\n",
              "        -5.56066297e-02, -2.14373142e-01,  2.54746620e-02,\n",
              "        -1.27965376e-01, -6.37718737e-02,  1.62014306e-01,\n",
              "         3.11420579e-02,  8.28176886e-02, -1.26290545e-01,\n",
              "        -2.98032295e-02, -1.04871564e-01,  1.34385496e-01,\n",
              "        -2.73451954e-01, -2.08964959e-01,  2.65582889e-01,\n",
              "         3.78581047e-01, -2.69821018e-01, -1.88368291e-01,\n",
              "         2.99969643e-01,  1.73423663e-01,  3.51344734e-01,\n",
              "        -2.29723006e-01,  1.78384006e-01,  1.42907038e-01,\n",
              "        -3.23865563e-01,  1.78682670e-01, -2.79279649e-01,\n",
              "         3.03213984e-01, -2.36757711e-01, -2.49230620e-02,\n",
              "        -2.94042230e-01,  1.37433320e-01, -4.26033586e-01,\n",
              "         2.08921522e-01, -9.82235894e-02,  4.38315898e-01,\n",
              "        -1.18085153e-01, -1.82375655e-01, -6.98890314e-02,\n",
              "         3.36260378e-01, -4.10380550e-02, -1.20266348e-01,\n",
              "         1.14394352e-01,  4.27895308e-01, -4.95497473e-02,\n",
              "        -2.69917756e-01, -2.05346331e-01, -6.73126131e-02,\n",
              "        -5.08929901e-02, -3.82659435e-01, -1.62949845e-01,\n",
              "        -1.56652093e-01, -5.57963587e-02, -7.66132548e-02,\n",
              "        -1.76259145e-01,  2.30852421e-02, -7.96397105e-02,\n",
              "         7.98589811e-02,  2.49931931e-01, -7.24283531e-02,\n",
              "        -9.08102915e-02,  2.20166519e-01,  7.17163682e-02,\n",
              "         2.18870834e-01, -6.23030514e-02, -1.87476799e-01,\n",
              "        -7.46301636e-02, -2.32149124e-01, -4.10916358e-01,\n",
              "        -5.01501858e-02,  2.11528748e-01, -2.26684317e-01,\n",
              "         1.32602543e-01, -1.52492151e-01, -3.85420829e-01,\n",
              "         2.48887479e-01,  1.70697302e-01,  2.15564027e-01,\n",
              "        -5.29889278e-02, -3.20601374e-01,  8.74432698e-02,\n",
              "        -2.77120262e-01,  6.47376329e-02,  2.02858403e-01,\n",
              "        -3.88656944e-01,  6.61178902e-02, -3.80074292e-01,\n",
              "         5.69246151e-03, -3.46432179e-01, -1.24235272e-01,\n",
              "        -1.10269763e-01,  4.95325923e-02,  1.39728729e-02,\n",
              "         1.02478877e-01,  2.29253490e-02,  2.18399107e-01,\n",
              "        -1.16771981e-01, -1.76265657e-01, -1.57092437e-01,\n",
              "        -3.86551470e-02,  2.88122088e-01, -2.03624547e-01,\n",
              "         1.46171704e-01,  3.65083605e-01,  3.20341289e-01,\n",
              "        -7.52704218e-02,  2.43052185e-01,  2.58806884e-01,\n",
              "        -1.30951732e-01, -1.40413642e-01,  1.00824386e-01,\n",
              "         4.32185531e-02, -2.40323931e-01,  1.70803279e-01,\n",
              "        -7.33207017e-02,  2.81117469e-01, -4.30303477e-02,\n",
              "        -1.71748161e-01, -6.28411621e-02, -1.98986270e-02,\n",
              "         1.17758214e-01, -6.12884313e-02, -1.72740426e-02,\n",
              "         3.53526101e-02, -1.55418247e-01,  3.76281259e-03,\n",
              "        -9.69508756e-03, -1.91447109e-01, -6.96220547e-02,\n",
              "         2.74017360e-02, -1.29197553e-01,  3.28741401e-01,\n",
              "        -7.18774423e-02, -6.95927739e-02,  1.04762621e-01,\n",
              "         6.43981323e-02,  1.72193065e-01,  4.00534213e-01,\n",
              "         1.18993014e-01,  3.01929675e-02,  1.78262606e-01,\n",
              "        -3.30067426e-01, -3.44737135e-02, -2.62864351e-01,\n",
              "        -3.97240400e-01, -6.28407821e-02,  6.05079196e-02,\n",
              "        -5.58875650e-02,  1.34453088e-01,  6.93906620e-02,\n",
              "         2.13449150e-01,  4.49621767e-01, -1.41477332e-01,\n",
              "         3.65727037e-01,  2.94813633e-01,  6.30212128e-02,\n",
              "         1.56024769e-01, -1.86196398e-02, -1.96626201e-01,\n",
              "        -3.07201892e-01,  1.45830944e-01,  1.10292159e-01,\n",
              "        -2.58459300e-01, -2.85308901e-02, -2.30164617e-01,\n",
              "         2.36778110e-01,  9.02463794e-02,  1.39108561e-02,\n",
              "         5.12541533e-02, -4.18531969e-02, -5.29241525e-02,\n",
              "         1.60221204e-01,  4.69891019e-02, -8.34715087e-03,\n",
              "         6.68617487e-02, -2.22078443e-01,  1.70786157e-01,\n",
              "        -1.35786027e-01,  8.34473893e-02,  2.73935497e-04,\n",
              "        -4.93829176e-02, -2.43714839e-01, -1.60291240e-01,\n",
              "        -5.54998741e-02,  4.21481542e-02,  2.04272240e-01,\n",
              "        -4.57740389e-02, -2.58623302e-01,  3.32077369e-02,\n",
              "         2.03535393e-01, -6.48397058e-02, -2.22611144e-01,\n",
              "         3.13782066e-01, -3.17224503e-01, -1.69775844e-01,\n",
              "        -2.56645549e-02, -2.39789382e-01, -4.23857212e-01,\n",
              "        -3.03156137e-01, -2.31345251e-01, -2.47487649e-01,\n",
              "        -8.75693932e-02,  5.70516586e-02,  2.73305364e-02,\n",
              "        -1.68944627e-01,  1.38789058e-01, -7.46358559e-02,\n",
              "        -1.54679552e-01,  6.06193095e-02,  2.41222367e-01,\n",
              "        -3.37776780e-01, -3.77155334e-01, -1.61677957e-01,\n",
              "         1.02715537e-01,  3.31072122e-01,  1.24529049e-01,\n",
              "        -3.70296866e-01, -2.48823781e-02, -3.19886506e-02,\n",
              "        -1.01913989e-01, -3.76636326e-01, -3.42876822e-01,\n",
              "         1.58712029e-01, -1.84784144e-01,  1.80464953e-01,\n",
              "        -3.97375524e-02,  2.20688194e-01,  1.73486486e-01,\n",
              "         3.05132866e-01,  5.21319546e-02, -3.76732767e-01,\n",
              "        -2.33682707e-01,  2.85127550e-01, -3.00876558e-01,\n",
              "        -2.60412574e-01, -1.81366399e-01, -3.54250595e-02,\n",
              "         4.74955678e-01, -1.62058309e-01,  3.91596466e-01,\n",
              "        -1.95036784e-01, -2.18082429e-03,  3.37136775e-01,\n",
              "         2.30221882e-01,  4.44141701e-02, -3.84736091e-01,\n",
              "         1.30085170e-01, -6.70274347e-02,  7.64468461e-02,\n",
              "        -1.20625198e-01, -2.84898847e-01, -1.19488440e-01,\n",
              "         1.07556976e-01,  3.17272022e-02, -5.42251654e-02,\n",
              "         1.47490993e-01, -3.42680544e-01,  2.70758122e-01,\n",
              "         2.09964320e-01, -2.28723913e-01, -3.11290830e-01,\n",
              "         3.99415106e-01, -7.96026811e-02,  2.77456701e-01,\n",
              "        -5.79074211e-03,  3.56150884e-03,  1.08180847e-02,\n",
              "         1.08311877e-01,  1.98823929e-01, -1.75802886e-01,\n",
              "         2.32329428e-01, -3.63719463e-01, -1.36017397e-01,\n",
              "        -2.09602848e-01, -2.07396984e-01, -9.47360229e-03,\n",
              "         2.16865256e-01,  1.32977188e-01, -4.71629091e-02,\n",
              "         1.85180858e-01,  8.24557524e-03,  1.54858992e-01,\n",
              "        -2.00806633e-01, -8.36907476e-02,  1.18691042e-01,\n",
              "        -2.34678403e-01,  1.24826118e-01,  2.25134224e-01,\n",
              "         5.74153028e-02,  7.87804499e-02, -8.37872997e-02,\n",
              "         1.95558041e-01,  2.20180184e-01, -1.77417681e-01,\n",
              "         1.30906954e-01, -2.86503166e-01,  3.05731326e-01,\n",
              "        -3.22141588e-01,  1.85743630e-01, -3.15731131e-02,\n",
              "        -1.03652760e-01,  3.80275398e-01,  1.42695248e-01,\n",
              "        -7.78470263e-02, -1.58266842e-01, -3.12722564e-01,\n",
              "        -6.32363632e-02,  3.13095510e-01,  6.12951699e-04,\n",
              "         4.02395636e-01,  1.09181941e-01, -5.03960699e-02,\n",
              "         2.89801206e-03,  2.05641370e-02, -8.20904747e-02,\n",
              "        -1.58112645e-01,  3.55458856e-01,  1.22407310e-01,\n",
              "        -3.19656432e-01,  3.93692821e-01,  3.88396680e-01,\n",
              "        -3.01357862e-02,  1.26171708e-01,  3.99586618e-01,\n",
              "         1.33593902e-01,  1.09413695e-02, -1.96038112e-01,\n",
              "        -3.41334015e-01,  2.14208569e-02, -8.47278610e-02,\n",
              "         2.11928025e-01,  2.36774236e-01, -2.78301269e-01,\n",
              "        -3.46229933e-02, -2.03674119e-02,  1.74579293e-01,\n",
              "         2.37862512e-01, -5.94400279e-02,  1.59603059e-01,\n",
              "        -1.14440940e-01, -2.24657118e-01,  1.38421759e-01,\n",
              "         2.07712233e-01, -3.35352272e-01,  1.78532034e-01,\n",
              "        -2.21540444e-02, -3.59447122e-01, -5.89611568e-02,\n",
              "        -1.18970536e-02,  1.08834073e-01,  1.65416911e-01,\n",
              "         1.41873106e-01, -2.87900537e-01,  3.89381230e-01,\n",
              "         1.60748959e-02, -2.82048937e-02, -3.06316048e-01,\n",
              "        -4.81723174e-02,  4.35806483e-01,  3.75030309e-01,\n",
              "        -1.87035307e-01, -1.51331620e-02,  1.01146646e-01,\n",
              "        -2.98136264e-01, -4.50535044e-02,  1.97735921e-01,\n",
              "        -2.49065422e-02, -1.37706101e-01,  8.17121286e-03,\n",
              "        -2.04954758e-01, -2.75002271e-01,  1.20592020e-01,\n",
              "         2.20837258e-03, -1.69966877e-01,  4.85122912e-02,\n",
              "         3.18084747e-01, -2.43445992e-01, -1.79743260e-01,\n",
              "         3.09519265e-02,  8.63373876e-02,  2.59485304e-01,\n",
              "         2.25535154e-01, -4.84004011e-03,  3.99116054e-02,\n",
              "         1.47878334e-01,  4.05122727e-01, -1.95555061e-01,\n",
              "        -2.30442330e-01, -7.34288171e-02, -1.35000020e-01,\n",
              "         2.56087720e-01,  2.59697378e-01,  1.51521251e-01,\n",
              "        -1.55140862e-01, -3.09884042e-01, -3.25772434e-01,\n",
              "         9.55817923e-02,  1.65789381e-01,  1.36192635e-01,\n",
              "         4.58484814e-02,  1.43419296e-01, -2.03725964e-01,\n",
              "         1.83253989e-01,  2.46287480e-01,  1.82640404e-01,\n",
              "        -2.36947224e-01,  1.51250362e-01, -3.41882594e-02,\n",
              "        -3.81615341e-01,  4.69268039e-02, -1.43915936e-01,\n",
              "        -1.95394501e-01,  2.52473921e-01,  2.89644122e-01,\n",
              "         3.69878083e-01,  6.99436739e-02,  1.47285378e-02,\n",
              "         2.66688257e-01, -1.88487858e-01,  1.09522484e-01,\n",
              "        -3.00381750e-01,  4.46418136e-01,  1.99038744e-01,\n",
              "         1.00762956e-01, -3.70400965e-01,  7.40033314e-02,\n",
              "        -8.38892907e-02,  1.53953210e-01,  2.25687295e-01,\n",
              "        -1.43513635e-01,  1.96741283e-01,  2.18906999e-01,\n",
              "         1.45468444e-01, -1.73265308e-01,  1.55319780e-01,\n",
              "        -4.51958567e-01, -3.72896753e-02, -1.47036865e-01,\n",
              "        -2.81106442e-01,  8.69319066e-02,  4.84687053e-02,\n",
              "        -2.30500266e-01,  1.13967368e-02,  2.71323919e-01,\n",
              "        -6.04946464e-02,  2.35090107e-02, -1.81493685e-01,\n",
              "         1.20737575e-01, -3.75947624e-01,  1.19528450e-01,\n",
              "        -2.32069552e-01, -2.45149478e-01,  3.26152027e-01,\n",
              "        -4.26483721e-01, -1.35529444e-01,  1.48338109e-01,\n",
              "        -2.05947772e-01,  5.87318093e-02,  2.64555305e-01,\n",
              "        -6.94998950e-02, -3.66772205e-01, -2.48911425e-01,\n",
              "        -2.52400607e-01, -4.08688746e-03, -3.41306269e-01,\n",
              "         2.25131497e-01,  9.65239629e-02,  3.93087417e-01,\n",
              "         2.79508173e-01,  2.48225018e-01,  3.27514783e-02]], dtype=float32)>, past_key_values=None, hidden_states=None, attentions=None, cross_attentions=None)"
            ]
          },
          "metadata": {},
          "execution_count": 53
        }
      ]
    },
    {
      "cell_type": "code",
      "source": [
        "print(len(roberta_output))"
      ],
      "metadata": {
        "id": "ePoE2emOAwIf",
        "colab": {
          "base_uri": "https://localhost:8080/"
        },
        "outputId": "f382090b-e022-4677-a7e9-9f7530cf11e3"
      },
      "execution_count": null,
      "outputs": [
        {
          "output_type": "stream",
          "name": "stdout",
          "text": [
            "2\n"
          ]
        }
      ]
    },
    {
      "cell_type": "code",
      "source": [
        "# last_hidden_state\n",
        "roberta_output[0] # shape=(1, 10, 1024)"
      ],
      "metadata": {
        "id": "G6Sn8hRO_gBq",
        "colab": {
          "base_uri": "https://localhost:8080/"
        },
        "outputId": "f7ed15ee-26ad-404e-96cc-837073b4b63e"
      },
      "execution_count": null,
      "outputs": [
        {
          "output_type": "execute_result",
          "data": {
            "text/plain": [
              "<tf.Tensor: shape=(1, 10, 768), dtype=float32, numpy=\n",
              "array([[[-0.10391971,  0.09979197, -0.01685934, ..., -0.07474034,\n",
              "         -0.02287602, -0.03322849],\n",
              "        [-0.07406615,  0.08485349, -0.01377264, ...,  0.08656158,\n",
              "          0.00580528, -0.09585881],\n",
              "        [ 0.14500533,  0.219632  , -0.05300761, ...,  0.63992584,\n",
              "          0.11180913,  0.09703369],\n",
              "        ...,\n",
              "        [-0.14231463,  0.26290646, -0.10450698, ...,  0.00290941,\n",
              "          0.16913581,  0.06988557],\n",
              "        [-0.0917401 ,  0.09356798, -0.04420766, ..., -0.09922531,\n",
              "         -0.02238247, -0.06139484],\n",
              "        [-0.06992991,  0.09149651, -0.00983183, ...,  0.06129345,\n",
              "          0.00718148,  0.05413652]]], dtype=float32)>"
            ]
          },
          "metadata": {},
          "execution_count": 55
        }
      ]
    },
    {
      "cell_type": "code",
      "source": [
        "# cls token (as per BERT) Which one should we use?????\n",
        "cls_token = roberta_output[0][:, 0, :]\n",
        "print(\"using BERT's cls sample token from notebook\",cls_token)"
      ],
      "metadata": {
        "id": "UpTQRfPiBkV_",
        "colab": {
          "base_uri": "https://localhost:8080/"
        },
        "outputId": "b1047382-68e8-4822-d175-5c640ed0ac53"
      },
      "execution_count": null,
      "outputs": [
        {
          "output_type": "stream",
          "name": "stdout",
          "text": [
            "using BERT's cls sample token from notebook tf.Tensor(\n",
            "[[-1.03919707e-01  9.97919738e-02 -1.68593377e-02 -1.03446573e-01\n",
            "   1.19844623e-01 -5.72932698e-02 -2.86284275e-02  2.96653733e-02\n",
            "   2.13041119e-02 -1.06242865e-01 -2.95727048e-02  5.32326847e-02\n",
            "   4.29881550e-02 -4.95398715e-02  6.59124106e-02 -1.44171314e-02\n",
            "  -2.30257362e-02  2.69076396e-02  4.75241318e-02 -9.22894552e-02\n",
            "  -7.67960921e-02 -2.85731442e-03  4.32272255e-02  1.64666474e-01\n",
            "  -3.24827433e-02  3.69483195e-02  9.37738717e-02  5.18364906e-02\n",
            "  -4.47262526e-02 -5.77703165e-03 -5.71795963e-02 -7.90716857e-02\n",
            "   4.27620113e-02 -1.12450905e-02 -7.00816792e-03  9.84497219e-02\n",
            "   2.71093305e-02 -8.94375890e-03 -5.56801036e-02  3.59586328e-02\n",
            "  -2.08201278e-02  2.19278783e-01  4.09971625e-02 -1.46622863e-02\n",
            "   6.14759363e-02 -2.78080069e-02 -1.34382732e-02 -2.85870731e-02\n",
            "  -5.55358129e-03 -6.14473782e-03 -2.53375247e-03  5.30698448e-02\n",
            "  -6.80749342e-02  5.66336773e-02 -1.69578835e-01  6.33738488e-02\n",
            "   6.81076050e-02  3.99965346e-02  3.06321792e-02 -1.23457067e-01\n",
            "  -1.40100103e-02 -2.85559595e-01 -6.93861172e-02 -9.21034217e-02\n",
            "   5.57923242e-02 -3.91794220e-02 -1.55122392e-02  1.68652087e-02\n",
            "   9.31997970e-03  4.03828323e-02  9.78899449e-02 -3.27423438e-02\n",
            "   4.08582315e-02  1.58265978e-02  1.81998312e-02 -9.20391642e-03\n",
            "  -5.11033833e-03  5.91353834e-01 -1.11377724e-01 -1.24808755e-02\n",
            "   5.56500256e-02 -9.43247676e-02  6.76271200e-01  5.45572415e-02\n",
            "  -1.18201720e-02 -6.12047613e-02  1.52142137e-01 -1.89376026e-02\n",
            "   5.30003533e-02  8.41041058e-02 -5.27071506e-02  8.83994699e-02\n",
            "  -3.16151343e-02  4.90356013e-02  3.69442143e-02  1.78573281e-02\n",
            "  -6.81553781e-02  1.24478340e-01 -7.94566423e-02 -5.55656552e-02\n",
            "  -8.92543420e-03 -3.55161130e-02  7.53261819e-02  8.87737870e-02\n",
            "  -2.28594020e-02 -2.68753283e-02  8.61627907e-02 -1.75501853e-02\n",
            "   5.65602593e-02 -5.84325418e-02 -7.32888281e-03 -2.38883458e-02\n",
            "   5.82483076e-02  8.68093222e-03  1.76094100e-02 -8.97837430e-02\n",
            "  -1.45015363e-02  7.55468756e-02  2.63652503e-02 -5.14857937e-03\n",
            "  -5.57720810e-02  9.16292518e-02  1.21224083e-01 -9.19215828e-02\n",
            "  -7.47911036e-02 -4.97027896e-02 -7.69952387e-02 -4.04370092e-02\n",
            "  -5.65927848e-03 -3.68469507e-02 -4.56072912e-02 -1.15967736e-01\n",
            "   1.52006475e-02  1.00656033e-01  3.61914635e-02  2.76825577e-02\n",
            "   2.39889696e-02 -6.29746914e-02 -2.48190947e-02 -7.86497071e-02\n",
            "   1.42943356e-02  1.91786364e-02  4.41691279e-02  3.79938111e-02\n",
            "   1.52705342e-01  9.33906212e-02 -2.32554041e-02 -5.10433242e-02\n",
            "   4.94565926e-02  6.34940341e-02  9.63653326e-02 -4.56889793e-02\n",
            "   6.92244619e-03 -6.52643107e-03 -3.71606275e-02  4.85464156e-01\n",
            "   1.56709269e-01  1.46798462e-01 -2.46376395e-02 -3.96087207e-03\n",
            "   2.22041041e-01  1.89267844e-02  1.14441551e-02 -5.32494038e-02\n",
            "  -5.44556119e-02 -3.71988863e-04 -6.70162886e-02 -6.56523779e-02\n",
            "   8.51615667e-02  1.46145616e-02  7.24762827e-02  5.83133176e-02\n",
            "   6.54145777e-02 -2.04319879e-02 -1.20355941e-01 -5.95375933e-02\n",
            "   1.00436628e-01 -2.75434759e-02 -8.91199559e-02 -7.65046338e-03\n",
            "   4.24577966e-02  1.18555784e-01 -1.42459646e-01  2.74486057e-02\n",
            "  -6.51828349e-02  3.67158987e-02  1.48861147e-02  1.10360123e-02\n",
            "   2.62982212e-05  3.07665318e-02  7.56643042e-02  1.24478117e-02\n",
            "   9.87840816e-03 -2.62599327e-02 -3.57437134e-02  7.47362673e-02\n",
            "  -1.31445937e-03 -5.94548583e-02  3.64013482e-03 -6.31519631e-02\n",
            "   2.33185180e-02 -3.81168649e-02  1.08725056e-01 -1.17794484e-01\n",
            "   3.06920707e-02 -2.92602368e-02  3.29387039e-02  1.73479542e-02\n",
            "  -2.51151901e-03 -9.09908861e-02 -1.67283416e-02  2.73337886e-02\n",
            "  -1.18194325e-02  8.48884508e-02  1.31551296e-01 -2.16082521e-02\n",
            "   2.41176002e-02  1.52528882e-01  1.39959045e-02  2.90738419e-02\n",
            "   6.66775107e-02  4.67287451e-02  2.36164853e-02  7.03471452e-02\n",
            "   4.10611443e-02 -4.00073715e-02  5.19797690e-02 -2.08929311e-02\n",
            "  -1.63922459e-03 -3.08680683e-02 -5.91414012e-02  3.65477093e-02\n",
            "   2.95954607e-02  5.75690679e-02  1.09441154e-01 -1.84697062e-01\n",
            "  -1.00606501e-01 -1.22604482e-02 -7.66282976e-02  1.80761069e-02\n",
            "  -2.14052796e-02  1.14673242e-01  8.87868255e-02  7.09346458e-02\n",
            "   3.39413770e-02  8.60838443e-02  4.37665433e-02  6.42627254e-02\n",
            "  -1.76631901e-02  3.40276994e-02 -4.27592322e-02 -1.06903836e-01\n",
            "   2.85285376e-02  3.81072015e-02  6.95559978e-02  3.16277966e-02\n",
            "  -5.43475263e-02 -3.99668515e-02 -3.65141705e-02 -2.06550173e-02\n",
            "  -5.83630055e-02 -4.35451269e-02  1.16856117e-02 -8.45102780e-03\n",
            "  -7.81800523e-02 -4.20679040e-02 -1.14844799e-01 -3.66354883e-02\n",
            "   5.06201871e-02 -1.87010579e-02  5.54265454e-03 -8.12675506e-02\n",
            "  -6.96529299e-02 -5.22408038e-02  5.50616421e-02 -5.69021516e-02\n",
            "   5.69179654e-04  1.17057413e-02 -7.99694583e-02  2.46343240e-02\n",
            "   1.72436908e-02 -3.22648101e-02 -9.39543694e-02 -6.00697622e-02\n",
            "   1.17119029e-03  1.91398561e-02 -2.93949470e-02  1.96630284e-02\n",
            "   4.66871411e-02  2.80181989e-02  7.36230016e-02  4.77775931e-03\n",
            "  -1.13650963e-01  4.22313623e-02  2.98854783e-02 -9.72967967e-03\n",
            "   7.71929324e-02 -1.19159985e-02  4.37071547e-02  2.61080079e-02\n",
            "  -5.96674085e-02 -8.12302977e-02 -7.25637674e-02 -2.20703743e-02\n",
            "  -2.84117647e-02 -5.64416498e-02  9.30197537e-03 -5.32754278e-03\n",
            "   2.34540552e-02  4.91872728e-02 -3.40844803e-02 -4.04260904e-02\n",
            "  -1.20164603e-01  9.83685628e-02  4.38292436e-02 -1.42097026e-02\n",
            "   1.22622974e-01 -4.36990783e-02  3.29915397e-02 -4.75679748e-02\n",
            "  -1.78481936e-02  1.23666283e-02  3.53680365e-02 -3.86080854e-02\n",
            "   3.74708697e-03  4.22006398e-02 -6.38030283e-03  3.04982290e-02\n",
            "   3.37960832e-02  3.58276129e-01 -4.61393178e-01  7.93604106e-02\n",
            "   8.27677026e-02  3.69056948e-02  7.35366717e-02  1.07507678e-02\n",
            "   1.09639756e-01  5.15650064e-02  6.33102953e-02  1.47821799e-01\n",
            "  -1.89221539e-02  1.54480711e-02 -6.47195578e-02  1.10496908e-01\n",
            "   3.59331034e-02  1.04927439e-02  8.50750729e-02 -8.93786401e-02\n",
            "   9.93281975e-03  3.04741450e-02 -1.02650978e-01 -4.58572768e-02\n",
            "  -2.61961240e-02 -1.10983945e-01  2.26955228e-02  1.74553357e-02\n",
            "   2.71161012e-02 -4.13802527e-02 -3.48697789e-02 -3.44697908e-02\n",
            "   5.47993854e-02 -6.88320845e-02  1.44951642e-02 -9.75813195e-02\n",
            "   7.21802711e-02 -7.57868513e-02 -1.02246732e-01  1.07510172e-01\n",
            "  -2.10990570e-02  2.44386122e-02  7.16272146e-02 -8.18389282e-02\n",
            "   2.49580387e-02  2.39707902e-02  6.53146952e-03  4.72227372e-02\n",
            "   5.09419963e-02  3.27454694e-03  6.58430010e-02  1.60419479e-01\n",
            "  -2.01793388e-02  2.73283087e-02 -9.53513235e-02  5.99224642e-02\n",
            "   1.06928021e-01 -1.07978880e-01  7.83753470e-02 -1.22414026e-02\n",
            "   4.40817550e-02  4.06560004e-02 -8.14136490e-02 -4.21374217e-02\n",
            "  -3.20677795e-02 -1.00524873e-01  4.25817706e-02 -2.30083168e-02\n",
            "  -1.59096066e-02 -6.55291602e-02  3.73296142e-02 -3.44902724e-02\n",
            "   2.61291787e-02 -6.90337177e-03 -6.60995096e-02  4.56250533e-02\n",
            "  -9.88821685e-03 -3.51534374e-02 -9.78261977e-03 -7.91574121e-02\n",
            "   2.60120444e-02 -5.98401651e-02 -8.43655877e-03  4.33592834e-02\n",
            "   8.61579031e-02 -5.59536554e-02  5.86600304e-02 -8.34466964e-02\n",
            "   7.02582002e-02  1.15894340e-02 -5.61716035e-03 -2.86114030e-02\n",
            "  -1.04316615e-01  6.66593313e-02  3.24074030e-02 -4.98237982e-02\n",
            "  -2.19326764e-02  3.21795233e-02  1.84147842e-02 -7.50001222e-02\n",
            "  -8.60446319e-02 -4.90807332e-02 -6.29092604e-02  7.76571333e-02\n",
            "  -8.01404342e-02 -4.25970815e-02 -7.65316039e-02 -8.37512314e-04\n",
            "   2.15992443e-02  5.63138947e-02 -9.90856439e-03 -1.49248287e-01\n",
            "   6.48690946e-03 -4.70812581e-02  1.16741553e-01  5.38478978e-02\n",
            "  -3.46383005e-02 -5.14150262e-02  1.14846222e-01  3.99418920e-02\n",
            "   1.46940500e-02  5.23558222e-02 -4.01707888e-02 -6.46434724e-02\n",
            "  -8.50364119e-02 -3.77815157e-01  6.75346702e-02 -3.19898203e-02\n",
            "   1.37073416e-02  1.20577905e-02 -4.24568877e-02  1.66044943e-02\n",
            "   9.61192884e-03 -3.73837128e-02  5.94337136e-02 -4.75157276e-02\n",
            "   1.44112650e-02  3.69931348e-02 -8.53302330e-02 -1.68234035e-02\n",
            "  -3.52282673e-02 -5.57876527e-02  9.72939730e-02 -6.08452670e-02\n",
            "  -5.94022013e-02 -1.50714129e-01  1.89825892e-03 -4.26983237e-02\n",
            "   5.73159084e-02  2.85170712e-02 -1.03945993e-02 -7.71724507e-02\n",
            "  -3.97909805e-02  3.47577818e-02  6.54368401e-02  3.68428715e-02\n",
            "  -6.31211549e-02 -2.49561388e-02  1.60575695e-02  2.41565183e-02\n",
            "   1.39362857e-01 -6.03399985e-03 -1.12227462e-02 -7.87758380e-02\n",
            "   1.14023104e-01  8.79141837e-02  2.04186440e-01 -2.28941962e-02\n",
            "   2.08625823e-01 -1.10707097e-02  1.51806995e-01  5.15443385e-02\n",
            "  -3.33350897e-02 -5.92722408e-02 -2.44787205e-02 -2.71755531e-02\n",
            "  -3.27915214e-02  1.92832053e-02 -6.97558820e-02 -2.53805742e-02\n",
            "   4.73630503e-02  3.89736742e-02 -1.30841173e-02  5.40497713e-02\n",
            "   1.70521766e-01  7.14913942e-03  4.89194654e-02 -3.56013812e-02\n",
            "  -1.83127299e-02 -5.34452796e-02 -3.69817466e-02 -9.13846772e-03\n",
            "  -4.70667854e-02  1.04881749e-02 -2.90376265e-02 -3.85703668e-02\n",
            "  -9.87294763e-02 -4.31794301e-03 -3.00164754e-03 -8.76763836e-04\n",
            "   1.47444665e-01  2.51355059e-02  3.15526687e-02 -1.75561104e-02\n",
            "   8.13396573e-02  5.14065437e-02  4.59375605e-03  6.97165877e-02\n",
            "   1.37037486e-01 -8.93509388e-03  6.71412796e-03 -2.93776020e-02\n",
            "  -1.11455247e-02  2.28358060e-02  1.06140852e-01 -6.90868199e-02\n",
            "   9.33505669e-02  5.95369674e-02 -2.98978798e-02 -8.07215944e-02\n",
            "   4.21841703e-02  2.34834887e-02  9.17617753e-02 -6.17733359e-01\n",
            "  -4.31849472e-02  1.25204384e-01 -2.36209668e-03  1.33310128e-02\n",
            "   6.98679537e-02  1.20701745e-01 -4.19633240e-02 -4.78933640e-02\n",
            "  -1.14658140e-02  7.59928077e-02  7.58349150e-03  6.49995282e-02\n",
            "  -6.71441257e-02  3.34109329e-02  6.76807314e-02 -1.96589679e-02\n",
            "  -2.36953534e-02  8.02762061e-02 -2.26839334e-01 -1.89668871e-02\n",
            "  -5.47444522e-02  1.19853742e-01 -1.89876165e-02  7.54936635e-02\n",
            "   4.71662544e-02 -2.88962945e-02  4.05730978e-02  4.37549204e-02\n",
            "  -3.37604061e-03  4.68435809e-02  7.76910335e-02 -3.53175923e-02\n",
            "   9.61285084e-02  9.26637575e-02  3.60613130e-02 -2.05398351e-02\n",
            "   1.20499849e+01  1.54083222e-03  5.62877953e-02 -6.32309318e-02\n",
            "   6.76161200e-02 -7.22762495e-02  1.58303007e-02 -1.56705022e-01\n",
            "  -5.81693985e-02  1.31392479e-01 -1.07065737e-02 -7.53163546e-02\n",
            "  -4.86065447e-02 -9.18555707e-02  1.88670903e-02 -3.62699619e-04\n",
            "  -1.01174332e-01 -2.96930186e-02  4.82541882e-02 -7.03698248e-02\n",
            "  -3.86445783e-04  2.22355407e-02  4.62089218e-02  1.28337294e-02\n",
            "  -7.08374828e-02  4.54288423e-02  1.14656672e-01 -9.03996304e-02\n",
            "  -2.57379375e-02  1.92127191e-02 -8.47146567e-03  1.01434123e-02\n",
            "   1.21309236e-02  1.43575333e-02  7.29859844e-02  3.07944417e-02\n",
            "  -8.03057849e-03  7.46286958e-02 -8.45855474e-03  1.23478189e-01\n",
            "   2.58587115e-02  2.84935981e-02  8.54543373e-02  8.05312209e-03\n",
            "   3.40546016e-03  3.35163064e-02  1.51255932e-02  7.09156469e-02\n",
            "   5.24062179e-02  4.46624793e-02  1.55626744e-01 -1.06334835e-01\n",
            "   1.40180409e-01  2.48173177e-02 -3.13245095e-02  5.68974838e-02\n",
            "   5.31075560e-02  2.29244959e-02  1.00714462e-02  6.34885728e-02\n",
            "  -6.73685521e-02  7.24700838e-03 -3.15755382e-02  3.94100845e-02\n",
            "  -2.05750316e-02  1.32398829e-01  9.21869278e-02  3.56893092e-02\n",
            "  -1.21058270e-01 -5.77948354e-02  6.81799650e-03 -7.97358900e-02\n",
            "  -4.09762636e-02  2.05668136e-02  1.10598177e-01 -4.16778103e-02\n",
            "  -9.11735930e-04 -1.58459805e-02  6.44167000e-03 -7.09169656e-02\n",
            "  -2.15820055e-02  3.11862640e-02  6.26549125e-02 -1.71601567e-02\n",
            "   9.78934690e-02  3.32293473e-02  1.21614635e-02  5.65808043e-02\n",
            "  -3.69809158e-02 -8.04507360e-02 -4.89155054e-02  1.26806051e-02\n",
            "  -3.26703638e-02 -5.12743518e-02  2.35118233e-02 -4.82634977e-02\n",
            "   7.29091763e-02 -1.38568774e-01  1.76239610e-02  7.80705288e-02\n",
            "  -1.42748639e-01  1.93445124e-02  3.29882093e-03  4.39184569e-02\n",
            "   2.35312097e-02  2.50676945e-02 -2.28288900e-02 -6.86204955e-02\n",
            "   4.20479253e-02 -1.91968977e-02 -1.39141195e-02  1.26272924e-02\n",
            "   9.96814221e-02 -4.45229337e-02  1.67356580e-02  4.83445562e-02\n",
            "  -1.30100884e-02 -2.35978439e-02  5.23110516e-02  1.09492794e-01\n",
            "  -1.11043766e-01 -2.46314406e-02 -4.85405140e-02 -2.27537937e-02\n",
            "  -2.04371102e-02 -5.10830432e-02 -2.27068514e-02  5.62490933e-02\n",
            "  -3.73692214e-02  4.04354930e-03 -2.25376468e-02 -8.53999797e-03\n",
            "   4.25228551e-02 -5.68951033e-02  7.02949837e-02 -8.43562111e-02\n",
            "  -3.44860889e-02  6.98447451e-02  6.98270127e-02  7.06010908e-02\n",
            "  -1.04240086e-02 -1.24006290e-02 -4.67092618e-02 -5.46907857e-02\n",
            "   1.30394325e-02  1.02985099e-01  7.83976316e-02  5.68520054e-02\n",
            "   1.13382034e-01 -1.32201225e-01 -5.83338179e-02  7.69014508e-02\n",
            "   9.33462083e-02 -1.12074064e-02  2.96107344e-02 -6.63126856e-02\n",
            "  -6.61153570e-02  1.16417080e-01  7.55025633e-03  1.23122074e-02\n",
            "   1.01208672e-01  4.75080982e-02  7.25662559e-02  3.19572166e-02\n",
            "   9.41826627e-02  5.63907288e-02 -3.68777849e-02  1.59259252e-02\n",
            "   2.02716962e-02 -7.88033158e-02  2.32960396e-02  1.20183825e-02\n",
            "  -1.61379501e-01 -7.88750798e-02 -3.38800624e-03  1.06609330e-01\n",
            "  -7.15479814e-03 -7.47403428e-02 -2.28760205e-02 -3.32284905e-02]], shape=(1, 768), dtype=float32)\n"
          ]
        }
      ]
    },
    {
      "cell_type": "code",
      "source": [
        "# pooler_output\n",
        "roberta_output[1] # shape=(1,1024)"
      ],
      "metadata": {
        "id": "YOok0qVt_lDS",
        "colab": {
          "base_uri": "https://localhost:8080/"
        },
        "outputId": "e7047a49-fe12-45ad-ae64-b91f68e616b6"
      },
      "execution_count": null,
      "outputs": [
        {
          "output_type": "execute_result",
          "data": {
            "text/plain": [
              "<tf.Tensor: shape=(1, 768), dtype=float32, numpy=\n",
              "array([[ 2.02411771e-01, -2.17887312e-01, -2.40790278e-01,\n",
              "         2.01939464e-01, -2.11907387e-01,  2.14460239e-01,\n",
              "         2.20514476e-01, -2.46695597e-02, -1.69030875e-02,\n",
              "        -3.17310914e-02,  4.57944125e-02,  2.72199899e-01,\n",
              "        -1.96891829e-01,  2.94322092e-02, -2.07148626e-01,\n",
              "        -1.07842244e-01, -1.79825261e-01,  4.20500219e-01,\n",
              "        -2.83159345e-01,  1.42334759e-01, -3.92447144e-01,\n",
              "         4.62617688e-02, -7.63106951e-03, -1.55252099e-01,\n",
              "         3.72921042e-02, -8.01721811e-02,  2.89763451e-01,\n",
              "        -2.04848349e-01,  1.02427036e-01,  2.27989197e-01,\n",
              "        -1.64960593e-01, -3.51871818e-01, -1.32335708e-01,\n",
              "         1.27977192e-01, -4.82813604e-02, -2.38186896e-01,\n",
              "        -2.99662203e-02,  3.40008318e-01, -1.65912941e-01,\n",
              "         5.05255722e-02,  4.75015827e-02,  7.66462162e-02,\n",
              "        -1.01032101e-01,  5.00626154e-02, -2.71600187e-01,\n",
              "        -2.03740373e-01,  2.50544429e-01, -2.23803893e-02,\n",
              "        -1.52834162e-01, -1.38203293e-01, -1.54528752e-01,\n",
              "         4.13781218e-03, -1.96172833e-01, -3.76725085e-02,\n",
              "        -2.55015045e-01, -3.14033955e-01, -4.40487266e-02,\n",
              "         5.14941737e-02,  4.92811240e-02, -2.66706675e-01,\n",
              "         2.65560776e-01, -1.00237705e-01, -4.08255965e-01,\n",
              "         6.27328306e-02,  3.85646284e-01, -4.05404866e-01,\n",
              "         1.88117564e-01, -1.10100187e-01, -7.47602656e-02,\n",
              "        -2.36423999e-01,  2.09359020e-01,  4.45037663e-01,\n",
              "         2.63579458e-01, -1.83247641e-01, -1.98223159e-01,\n",
              "        -2.38252982e-01,  1.09405844e-02, -3.74558538e-01,\n",
              "         2.43579507e-01,  2.83954322e-01,  3.64315838e-01,\n",
              "         1.67762041e-01, -3.71602267e-01,  2.36954778e-01,\n",
              "         2.95140147e-01, -5.78722134e-02,  4.06808764e-01,\n",
              "         1.11612715e-01, -9.46939886e-02, -9.83462185e-02,\n",
              "        -3.91277313e-01, -2.23456129e-01, -2.66251147e-01,\n",
              "         2.28096962e-01,  2.34397486e-01,  1.85509071e-01,\n",
              "         1.04069211e-01,  1.01359092e-01,  1.17591083e-01,\n",
              "        -1.28332525e-01,  3.76697513e-03, -2.27847174e-01,\n",
              "        -1.01024225e-01, -1.86793268e-01,  3.66262436e-01,\n",
              "        -1.68591440e-01,  2.68632799e-01,  2.35790968e-01,\n",
              "         2.07246348e-01, -7.95200616e-02,  5.84305488e-02,\n",
              "         2.90729880e-01,  1.56089202e-01,  4.87916678e-01,\n",
              "         8.49104021e-03,  1.55670524e-01,  3.47922370e-02,\n",
              "         5.57656921e-02, -1.07328318e-01, -3.04684229e-02,\n",
              "        -7.54247010e-02,  3.52645591e-02, -2.47427896e-01,\n",
              "        -2.50383876e-02,  2.84237742e-01,  1.29340217e-01,\n",
              "         9.72869545e-02, -1.97476640e-01, -2.88011372e-01,\n",
              "        -1.34962695e-02, -1.24796867e-01, -4.03520942e-01,\n",
              "         3.36556658e-02, -4.18919213e-02, -1.53151378e-02,\n",
              "         1.36160776e-01,  2.65394837e-01, -1.06648639e-01,\n",
              "        -3.26603353e-02, -1.84810355e-01,  1.71034023e-01,\n",
              "         6.12554438e-02,  7.38784438e-04, -4.22123522e-02,\n",
              "        -2.37598106e-01,  2.42785394e-01,  3.70617598e-01,\n",
              "        -3.82998556e-01, -1.62866950e-01,  3.91500592e-01,\n",
              "         1.45924717e-01, -1.24829948e-01,  1.49901643e-01,\n",
              "         1.33241445e-01, -1.14759475e-01, -6.04209164e-03,\n",
              "         1.95732087e-01,  2.22351402e-03,  5.55044673e-02,\n",
              "        -1.35255694e-01, -2.67279565e-01,  3.85075092e-01,\n",
              "         6.18845038e-02, -1.30764782e-01,  9.40143093e-02,\n",
              "        -2.23724902e-01, -2.49361858e-01,  3.37911457e-01,\n",
              "        -7.83811808e-02, -4.48044419e-01,  1.75811797e-01,\n",
              "        -1.05294965e-01, -2.32703090e-01, -4.47857156e-02,\n",
              "        -1.36639223e-01,  2.32228592e-01, -1.09043449e-01,\n",
              "        -1.43267989e-01, -3.28268766e-01, -3.39369416e-01,\n",
              "        -3.71046290e-02, -3.48503627e-02, -2.93939382e-01,\n",
              "         2.83960942e-02,  1.67692512e-01,  2.17602998e-01,\n",
              "         1.36738829e-02,  1.15132101e-01,  5.95512912e-02,\n",
              "         1.78932205e-01,  2.07952067e-01, -9.51474458e-02,\n",
              "        -2.89943874e-01, -2.18768969e-01, -1.17260195e-01,\n",
              "        -7.34876608e-03, -4.52752132e-03,  3.54716390e-01,\n",
              "         5.70640601e-02, -1.10326856e-01, -3.83884762e-03,\n",
              "         1.04795426e-01, -3.19221377e-01,  2.23979980e-01,\n",
              "         3.33806239e-02, -2.80442983e-01, -3.70934039e-01,\n",
              "         1.11674920e-01,  1.99547052e-01, -3.23622525e-01,\n",
              "        -5.18253930e-02,  2.43577421e-01,  3.15757483e-01,\n",
              "         3.19225669e-01, -8.43808949e-02, -4.61056828e-03,\n",
              "         3.30457866e-01, -2.65746832e-01, -1.80102512e-01,\n",
              "         6.93408027e-02, -1.49166808e-01,  2.33047605e-01,\n",
              "         9.31069776e-02, -2.64105320e-01, -2.84142107e-01,\n",
              "         7.90032223e-02, -3.98232304e-02, -1.02438666e-01,\n",
              "         1.69490710e-01, -6.16001859e-02, -3.07788700e-01,\n",
              "        -1.87643379e-01, -5.06594069e-02,  1.74567416e-01,\n",
              "        -2.66979605e-01,  1.52432486e-01, -2.27877408e-01,\n",
              "         2.57003188e-01, -2.09796026e-01, -1.02978319e-01,\n",
              "         2.66634762e-01, -2.06074327e-01,  4.52614486e-01,\n",
              "         3.03233087e-01,  2.66610980e-01,  1.52275756e-01,\n",
              "        -3.26448202e-01, -5.12220003e-02,  2.25619778e-01,\n",
              "         3.30889851e-01,  2.70981640e-01,  1.92274839e-01,\n",
              "         4.31848690e-02, -7.42490143e-02,  2.10940018e-01,\n",
              "         9.61290449e-02,  6.48011118e-02, -1.47027269e-01,\n",
              "        -2.01507002e-01, -2.24712063e-02, -1.29270718e-01,\n",
              "         7.64282271e-02, -1.05960838e-01, -1.65545374e-01,\n",
              "        -2.47666761e-01,  1.75245687e-01,  4.05022591e-01,\n",
              "         1.70056283e-01,  3.70988697e-01, -2.90377825e-01,\n",
              "         8.57079476e-02,  2.46717304e-01,  2.09488228e-01,\n",
              "        -3.96882415e-01, -1.26744568e-01, -2.58007124e-02,\n",
              "        -3.47931199e-02,  2.82605946e-01,  2.24139139e-01,\n",
              "         1.40040740e-01,  2.14558959e-01,  1.52094021e-01,\n",
              "        -1.18308112e-01,  2.39429064e-02, -3.25179696e-02,\n",
              "        -1.65547669e-01, -3.79509866e-01, -1.34010613e-01,\n",
              "         9.13972631e-02, -4.19720858e-02, -8.81110132e-02,\n",
              "        -5.77236675e-02,  3.79572570e-01,  1.66050553e-01,\n",
              "         4.11223294e-03,  3.24714243e-01, -1.85381770e-01,\n",
              "        -5.56066297e-02, -2.14373142e-01,  2.54746620e-02,\n",
              "        -1.27965376e-01, -6.37718737e-02,  1.62014306e-01,\n",
              "         3.11420579e-02,  8.28176886e-02, -1.26290545e-01,\n",
              "        -2.98032295e-02, -1.04871564e-01,  1.34385496e-01,\n",
              "        -2.73451954e-01, -2.08964959e-01,  2.65582889e-01,\n",
              "         3.78581047e-01, -2.69821018e-01, -1.88368291e-01,\n",
              "         2.99969643e-01,  1.73423663e-01,  3.51344734e-01,\n",
              "        -2.29723006e-01,  1.78384006e-01,  1.42907038e-01,\n",
              "        -3.23865563e-01,  1.78682670e-01, -2.79279649e-01,\n",
              "         3.03213984e-01, -2.36757711e-01, -2.49230620e-02,\n",
              "        -2.94042230e-01,  1.37433320e-01, -4.26033586e-01,\n",
              "         2.08921522e-01, -9.82235894e-02,  4.38315898e-01,\n",
              "        -1.18085153e-01, -1.82375655e-01, -6.98890314e-02,\n",
              "         3.36260378e-01, -4.10380550e-02, -1.20266348e-01,\n",
              "         1.14394352e-01,  4.27895308e-01, -4.95497473e-02,\n",
              "        -2.69917756e-01, -2.05346331e-01, -6.73126131e-02,\n",
              "        -5.08929901e-02, -3.82659435e-01, -1.62949845e-01,\n",
              "        -1.56652093e-01, -5.57963587e-02, -7.66132548e-02,\n",
              "        -1.76259145e-01,  2.30852421e-02, -7.96397105e-02,\n",
              "         7.98589811e-02,  2.49931931e-01, -7.24283531e-02,\n",
              "        -9.08102915e-02,  2.20166519e-01,  7.17163682e-02,\n",
              "         2.18870834e-01, -6.23030514e-02, -1.87476799e-01,\n",
              "        -7.46301636e-02, -2.32149124e-01, -4.10916358e-01,\n",
              "        -5.01501858e-02,  2.11528748e-01, -2.26684317e-01,\n",
              "         1.32602543e-01, -1.52492151e-01, -3.85420829e-01,\n",
              "         2.48887479e-01,  1.70697302e-01,  2.15564027e-01,\n",
              "        -5.29889278e-02, -3.20601374e-01,  8.74432698e-02,\n",
              "        -2.77120262e-01,  6.47376329e-02,  2.02858403e-01,\n",
              "        -3.88656944e-01,  6.61178902e-02, -3.80074292e-01,\n",
              "         5.69246151e-03, -3.46432179e-01, -1.24235272e-01,\n",
              "        -1.10269763e-01,  4.95325923e-02,  1.39728729e-02,\n",
              "         1.02478877e-01,  2.29253490e-02,  2.18399107e-01,\n",
              "        -1.16771981e-01, -1.76265657e-01, -1.57092437e-01,\n",
              "        -3.86551470e-02,  2.88122088e-01, -2.03624547e-01,\n",
              "         1.46171704e-01,  3.65083605e-01,  3.20341289e-01,\n",
              "        -7.52704218e-02,  2.43052185e-01,  2.58806884e-01,\n",
              "        -1.30951732e-01, -1.40413642e-01,  1.00824386e-01,\n",
              "         4.32185531e-02, -2.40323931e-01,  1.70803279e-01,\n",
              "        -7.33207017e-02,  2.81117469e-01, -4.30303477e-02,\n",
              "        -1.71748161e-01, -6.28411621e-02, -1.98986270e-02,\n",
              "         1.17758214e-01, -6.12884313e-02, -1.72740426e-02,\n",
              "         3.53526101e-02, -1.55418247e-01,  3.76281259e-03,\n",
              "        -9.69508756e-03, -1.91447109e-01, -6.96220547e-02,\n",
              "         2.74017360e-02, -1.29197553e-01,  3.28741401e-01,\n",
              "        -7.18774423e-02, -6.95927739e-02,  1.04762621e-01,\n",
              "         6.43981323e-02,  1.72193065e-01,  4.00534213e-01,\n",
              "         1.18993014e-01,  3.01929675e-02,  1.78262606e-01,\n",
              "        -3.30067426e-01, -3.44737135e-02, -2.62864351e-01,\n",
              "        -3.97240400e-01, -6.28407821e-02,  6.05079196e-02,\n",
              "        -5.58875650e-02,  1.34453088e-01,  6.93906620e-02,\n",
              "         2.13449150e-01,  4.49621767e-01, -1.41477332e-01,\n",
              "         3.65727037e-01,  2.94813633e-01,  6.30212128e-02,\n",
              "         1.56024769e-01, -1.86196398e-02, -1.96626201e-01,\n",
              "        -3.07201892e-01,  1.45830944e-01,  1.10292159e-01,\n",
              "        -2.58459300e-01, -2.85308901e-02, -2.30164617e-01,\n",
              "         2.36778110e-01,  9.02463794e-02,  1.39108561e-02,\n",
              "         5.12541533e-02, -4.18531969e-02, -5.29241525e-02,\n",
              "         1.60221204e-01,  4.69891019e-02, -8.34715087e-03,\n",
              "         6.68617487e-02, -2.22078443e-01,  1.70786157e-01,\n",
              "        -1.35786027e-01,  8.34473893e-02,  2.73935497e-04,\n",
              "        -4.93829176e-02, -2.43714839e-01, -1.60291240e-01,\n",
              "        -5.54998741e-02,  4.21481542e-02,  2.04272240e-01,\n",
              "        -4.57740389e-02, -2.58623302e-01,  3.32077369e-02,\n",
              "         2.03535393e-01, -6.48397058e-02, -2.22611144e-01,\n",
              "         3.13782066e-01, -3.17224503e-01, -1.69775844e-01,\n",
              "        -2.56645549e-02, -2.39789382e-01, -4.23857212e-01,\n",
              "        -3.03156137e-01, -2.31345251e-01, -2.47487649e-01,\n",
              "        -8.75693932e-02,  5.70516586e-02,  2.73305364e-02,\n",
              "        -1.68944627e-01,  1.38789058e-01, -7.46358559e-02,\n",
              "        -1.54679552e-01,  6.06193095e-02,  2.41222367e-01,\n",
              "        -3.37776780e-01, -3.77155334e-01, -1.61677957e-01,\n",
              "         1.02715537e-01,  3.31072122e-01,  1.24529049e-01,\n",
              "        -3.70296866e-01, -2.48823781e-02, -3.19886506e-02,\n",
              "        -1.01913989e-01, -3.76636326e-01, -3.42876822e-01,\n",
              "         1.58712029e-01, -1.84784144e-01,  1.80464953e-01,\n",
              "        -3.97375524e-02,  2.20688194e-01,  1.73486486e-01,\n",
              "         3.05132866e-01,  5.21319546e-02, -3.76732767e-01,\n",
              "        -2.33682707e-01,  2.85127550e-01, -3.00876558e-01,\n",
              "        -2.60412574e-01, -1.81366399e-01, -3.54250595e-02,\n",
              "         4.74955678e-01, -1.62058309e-01,  3.91596466e-01,\n",
              "        -1.95036784e-01, -2.18082429e-03,  3.37136775e-01,\n",
              "         2.30221882e-01,  4.44141701e-02, -3.84736091e-01,\n",
              "         1.30085170e-01, -6.70274347e-02,  7.64468461e-02,\n",
              "        -1.20625198e-01, -2.84898847e-01, -1.19488440e-01,\n",
              "         1.07556976e-01,  3.17272022e-02, -5.42251654e-02,\n",
              "         1.47490993e-01, -3.42680544e-01,  2.70758122e-01,\n",
              "         2.09964320e-01, -2.28723913e-01, -3.11290830e-01,\n",
              "         3.99415106e-01, -7.96026811e-02,  2.77456701e-01,\n",
              "        -5.79074211e-03,  3.56150884e-03,  1.08180847e-02,\n",
              "         1.08311877e-01,  1.98823929e-01, -1.75802886e-01,\n",
              "         2.32329428e-01, -3.63719463e-01, -1.36017397e-01,\n",
              "        -2.09602848e-01, -2.07396984e-01, -9.47360229e-03,\n",
              "         2.16865256e-01,  1.32977188e-01, -4.71629091e-02,\n",
              "         1.85180858e-01,  8.24557524e-03,  1.54858992e-01,\n",
              "        -2.00806633e-01, -8.36907476e-02,  1.18691042e-01,\n",
              "        -2.34678403e-01,  1.24826118e-01,  2.25134224e-01,\n",
              "         5.74153028e-02,  7.87804499e-02, -8.37872997e-02,\n",
              "         1.95558041e-01,  2.20180184e-01, -1.77417681e-01,\n",
              "         1.30906954e-01, -2.86503166e-01,  3.05731326e-01,\n",
              "        -3.22141588e-01,  1.85743630e-01, -3.15731131e-02,\n",
              "        -1.03652760e-01,  3.80275398e-01,  1.42695248e-01,\n",
              "        -7.78470263e-02, -1.58266842e-01, -3.12722564e-01,\n",
              "        -6.32363632e-02,  3.13095510e-01,  6.12951699e-04,\n",
              "         4.02395636e-01,  1.09181941e-01, -5.03960699e-02,\n",
              "         2.89801206e-03,  2.05641370e-02, -8.20904747e-02,\n",
              "        -1.58112645e-01,  3.55458856e-01,  1.22407310e-01,\n",
              "        -3.19656432e-01,  3.93692821e-01,  3.88396680e-01,\n",
              "        -3.01357862e-02,  1.26171708e-01,  3.99586618e-01,\n",
              "         1.33593902e-01,  1.09413695e-02, -1.96038112e-01,\n",
              "        -3.41334015e-01,  2.14208569e-02, -8.47278610e-02,\n",
              "         2.11928025e-01,  2.36774236e-01, -2.78301269e-01,\n",
              "        -3.46229933e-02, -2.03674119e-02,  1.74579293e-01,\n",
              "         2.37862512e-01, -5.94400279e-02,  1.59603059e-01,\n",
              "        -1.14440940e-01, -2.24657118e-01,  1.38421759e-01,\n",
              "         2.07712233e-01, -3.35352272e-01,  1.78532034e-01,\n",
              "        -2.21540444e-02, -3.59447122e-01, -5.89611568e-02,\n",
              "        -1.18970536e-02,  1.08834073e-01,  1.65416911e-01,\n",
              "         1.41873106e-01, -2.87900537e-01,  3.89381230e-01,\n",
              "         1.60748959e-02, -2.82048937e-02, -3.06316048e-01,\n",
              "        -4.81723174e-02,  4.35806483e-01,  3.75030309e-01,\n",
              "        -1.87035307e-01, -1.51331620e-02,  1.01146646e-01,\n",
              "        -2.98136264e-01, -4.50535044e-02,  1.97735921e-01,\n",
              "        -2.49065422e-02, -1.37706101e-01,  8.17121286e-03,\n",
              "        -2.04954758e-01, -2.75002271e-01,  1.20592020e-01,\n",
              "         2.20837258e-03, -1.69966877e-01,  4.85122912e-02,\n",
              "         3.18084747e-01, -2.43445992e-01, -1.79743260e-01,\n",
              "         3.09519265e-02,  8.63373876e-02,  2.59485304e-01,\n",
              "         2.25535154e-01, -4.84004011e-03,  3.99116054e-02,\n",
              "         1.47878334e-01,  4.05122727e-01, -1.95555061e-01,\n",
              "        -2.30442330e-01, -7.34288171e-02, -1.35000020e-01,\n",
              "         2.56087720e-01,  2.59697378e-01,  1.51521251e-01,\n",
              "        -1.55140862e-01, -3.09884042e-01, -3.25772434e-01,\n",
              "         9.55817923e-02,  1.65789381e-01,  1.36192635e-01,\n",
              "         4.58484814e-02,  1.43419296e-01, -2.03725964e-01,\n",
              "         1.83253989e-01,  2.46287480e-01,  1.82640404e-01,\n",
              "        -2.36947224e-01,  1.51250362e-01, -3.41882594e-02,\n",
              "        -3.81615341e-01,  4.69268039e-02, -1.43915936e-01,\n",
              "        -1.95394501e-01,  2.52473921e-01,  2.89644122e-01,\n",
              "         3.69878083e-01,  6.99436739e-02,  1.47285378e-02,\n",
              "         2.66688257e-01, -1.88487858e-01,  1.09522484e-01,\n",
              "        -3.00381750e-01,  4.46418136e-01,  1.99038744e-01,\n",
              "         1.00762956e-01, -3.70400965e-01,  7.40033314e-02,\n",
              "        -8.38892907e-02,  1.53953210e-01,  2.25687295e-01,\n",
              "        -1.43513635e-01,  1.96741283e-01,  2.18906999e-01,\n",
              "         1.45468444e-01, -1.73265308e-01,  1.55319780e-01,\n",
              "        -4.51958567e-01, -3.72896753e-02, -1.47036865e-01,\n",
              "        -2.81106442e-01,  8.69319066e-02,  4.84687053e-02,\n",
              "        -2.30500266e-01,  1.13967368e-02,  2.71323919e-01,\n",
              "        -6.04946464e-02,  2.35090107e-02, -1.81493685e-01,\n",
              "         1.20737575e-01, -3.75947624e-01,  1.19528450e-01,\n",
              "        -2.32069552e-01, -2.45149478e-01,  3.26152027e-01,\n",
              "        -4.26483721e-01, -1.35529444e-01,  1.48338109e-01,\n",
              "        -2.05947772e-01,  5.87318093e-02,  2.64555305e-01,\n",
              "        -6.94998950e-02, -3.66772205e-01, -2.48911425e-01,\n",
              "        -2.52400607e-01, -4.08688746e-03, -3.41306269e-01,\n",
              "         2.25131497e-01,  9.65239629e-02,  3.93087417e-01,\n",
              "         2.79508173e-01,  2.48225018e-01,  3.27514783e-02]], dtype=float32)>"
            ]
          },
          "metadata": {},
          "execution_count": 57
        }
      ]
    },
    {
      "cell_type": "markdown",
      "source": [
        "## Tokenize the inputs"
      ],
      "metadata": {
        "id": "DVXv7G9HBCvB"
      }
    },
    {
      "cell_type": "code",
      "source": [
        "# train\n",
        "x_train = roberta_tokenizer(train_df['sentence'].tolist(),\n",
        "                            max_length=MAX_LEN,\n",
        "                            truncation=True,\n",
        "                            padding='max_length',\n",
        "                            return_token_type_ids=True,\n",
        "                            return_tensors='tf')\n",
        "\n",
        "roberta_train_inputs = [x_train.input_ids,\n",
        "                        x_train.token_type_ids,\n",
        "                        x_train.attention_mask]\n",
        "\n",
        "y_train = np.array(train_df['acceptability'].tolist())\n",
        "\n",
        "\n",
        "\n",
        "\n",
        "\n",
        "# validation\n",
        "x_val = roberta_tokenizer(val_df['sentence'].tolist(),\n",
        "                           max_length=MAX_LEN,\n",
        "                           truncation=True,\n",
        "                           padding='max_length',\n",
        "                           return_token_type_ids=True,\n",
        "                           return_tensors='tf')\n",
        "\n",
        "roberta_val_inputs = [x_val.input_ids,\n",
        "                      x_val.token_type_ids,\n",
        "                       x_val.attention_mask]\n",
        "\n",
        "y_val = np.array(val_df['acceptability'].tolist())\n",
        "\n",
        "\n",
        "\n",
        "\n",
        "\n",
        "# test\n",
        "x_test = roberta_tokenizer(test_df['sentence'].tolist(),\n",
        "                           max_length=MAX_LEN,\n",
        "                           truncation=True,\n",
        "                           padding='max_length',\n",
        "                           return_token_type_ids=True,\n",
        "                           return_tensors='tf')\n",
        "\n",
        "roberta_test_inputs = [x_test.input_ids,\n",
        "                       x_test.token_type_ids,\n",
        "                       x_test.attention_mask]\n",
        "\n",
        "y_test = np.array(test_df['acceptability'].tolist())\n"
      ],
      "metadata": {
        "id": "SGBPanECalZe"
      },
      "execution_count": 7,
      "outputs": []
    },
    {
      "cell_type": "code",
      "source": [
        "x_train.input_ids[0]"
      ],
      "metadata": {
        "id": "nWHmlPvlg3D9",
        "colab": {
          "base_uri": "https://localhost:8080/"
        },
        "outputId": "bb5a8f70-3275-4ba7-93b9-f9790c9bfa16"
      },
      "execution_count": null,
      "outputs": [
        {
          "output_type": "execute_result",
          "data": {
            "text/plain": [
              "<tf.Tensor: shape=(256,), dtype=int32, numpy=\n",
              "array([   0, 3972, 2540,  610,   16, 1828,    4,    2,    1,    1,    1,\n",
              "          1,    1,    1,    1,    1,    1,    1,    1,    1,    1,    1,\n",
              "          1,    1,    1,    1,    1,    1,    1,    1,    1,    1,    1,\n",
              "          1,    1,    1,    1,    1,    1,    1,    1,    1,    1,    1,\n",
              "          1,    1,    1,    1,    1,    1,    1,    1,    1,    1,    1,\n",
              "          1,    1,    1,    1,    1,    1,    1,    1,    1,    1,    1,\n",
              "          1,    1,    1,    1,    1,    1,    1,    1,    1,    1,    1,\n",
              "          1,    1,    1,    1,    1,    1,    1,    1,    1,    1,    1,\n",
              "          1,    1,    1,    1,    1,    1,    1,    1,    1,    1,    1,\n",
              "          1,    1,    1,    1,    1,    1,    1,    1,    1,    1,    1,\n",
              "          1,    1,    1,    1,    1,    1,    1,    1,    1,    1,    1,\n",
              "          1,    1,    1,    1,    1,    1,    1,    1,    1,    1,    1,\n",
              "          1,    1,    1,    1,    1,    1,    1,    1,    1,    1,    1,\n",
              "          1,    1,    1,    1,    1,    1,    1,    1,    1,    1,    1,\n",
              "          1,    1,    1,    1,    1,    1,    1,    1,    1,    1,    1,\n",
              "          1,    1,    1,    1,    1,    1,    1,    1,    1,    1,    1,\n",
              "          1,    1,    1,    1,    1,    1,    1,    1,    1,    1,    1,\n",
              "          1,    1,    1,    1,    1,    1,    1,    1,    1,    1,    1,\n",
              "          1,    1,    1,    1,    1,    1,    1,    1,    1,    1,    1,\n",
              "          1,    1,    1,    1,    1,    1,    1,    1,    1,    1,    1,\n",
              "          1,    1,    1,    1,    1,    1,    1,    1,    1,    1,    1,\n",
              "          1,    1,    1,    1,    1,    1,    1,    1,    1,    1,    1,\n",
              "          1,    1,    1,    1,    1,    1,    1,    1,    1,    1,    1,\n",
              "          1,    1,    1], dtype=int32)>"
            ]
          },
          "metadata": {},
          "execution_count": 59
        }
      ]
    },
    {
      "cell_type": "markdown",
      "source": [
        "## Define the model"
      ],
      "metadata": {
        "id": "0zEIe4lqDHNN"
      }
    },
    {
      "cell_type": "code",
      "source": [
        "# mine\n",
        "def create_roberta_classification_model(roberta_large_model,\n",
        "                                        num_unfreeze=0,\n",
        "                                        hidden_size=[200],\n",
        "                                        dropout=0.3,\n",
        "                                        learning_rate=0.00005):\n",
        "    \"\"\"\n",
        "    Build a simple classification model with RoBERTa.\n",
        "    Use the pooler Output for classification purposes.\n",
        "    Inputs = input_ids, attention_mask\n",
        "    Layers = cls token, 2 hidden layers, 2 dropout layers\n",
        "    Outputs = binary classification\n",
        "    \"\"\"\n",
        "    #roberta_base_model.trainable = True\n",
        "\n",
        "    if num_unfreeze == 0:\n",
        "      roberta_large_model.trainable = False\n",
        "    elif num_unfreeze == 24:\n",
        "      roberta_large_model.trainable = True\n",
        "    else:\n",
        "      retrain_layers = []\n",
        "\n",
        "      for retrain_layer_number in range(num_unfreeze):\n",
        "        layer_code = '_' + str(23 - retrain_layer_number)\n",
        "        retrain_layers.append(layer_code)\n",
        "\n",
        "      print('retrain layers: ', retrain_layers)\n",
        "\n",
        "      for w in roberta_large_model.weights:\n",
        "        if not any([x in w.name for x in retrain_layers]):\n",
        "          w._trainable = False\n",
        "\n",
        "    input_ids = tf.keras.layers.Input(shape=(MAX_LEN,), dtype=tf.int64, name='input_ids_layer')\n",
        "    token_type_ids = tf.keras.layers.Input(shape=(MAX_LEN,), dtype=tf.int64, name='token_type_ids_layer')\n",
        "    attention_mask = tf.keras.layers.Input(shape=(MAX_LEN,), dtype=tf.int64, name='attention_mask_layer')\n",
        "\n",
        "    roberta_inputs = {'input_ids': input_ids,\n",
        "                      'token_type_ids': token_type_ids,\n",
        "                      'attention_mask': attention_mask}\n",
        "\n",
        "    roberta_out = roberta_large_model(roberta_inputs)\n",
        "    output_token = roberta_out.last_hidden_state\n",
        "    hidden = tf.math.reduce_mean(output_token, axis=1)\n",
        "\n",
        "    for i, each in enumerate(hidden_size):\n",
        "      hidden = tf.keras.layers.Dense(each, activation='relu', name=f'hidden_layer_{i}')(hidden)\n",
        "      hidden = tf.keras.layers.Dropout(dropout)(hidden)\n",
        "\n",
        "    # classification layer\n",
        "    classification = tf.keras.layers.Dense(1, activation='sigmoid',name='classification_layer')(hidden)\n",
        "\n",
        "    # classification model\n",
        "    classification_model = tf.keras.Model(inputs=[input_ids, token_type_ids, attention_mask], outputs=[classification])\n",
        "\n",
        "    classification_model.compile(optimizer=tf.keras.optimizers.Adam(learning_rate=learning_rate),\n",
        "                                 loss=tf.keras.losses.BinaryCrossentropy(from_logits=False),\n",
        "                                 metrics='accuracy')\n",
        "\n",
        "\n",
        "    return classification_model"
      ],
      "metadata": {
        "id": "5LSlgSVG7a9x"
      },
      "execution_count": 8,
      "outputs": []
    },
    {
      "cell_type": "markdown",
      "source": [
        "## roberta_large_4\n",
        "\n",
        "- roberta-large\n",
        "- reduce_mean on last_hidden_state\n",
        "- num_unfreeze = 0\n",
        "- hidden_size= 200\n",
        "- dropout=0.3\n",
        "- learning_rate=0.00005\n",
        "- batch_size=32\n",
        "- epochs=3\n"
      ],
      "metadata": {
        "id": "gdncje_ghmYB"
      }
    },
    {
      "cell_type": "markdown",
      "source": [
        "### Build"
      ],
      "metadata": {
        "id": "D1LokXftKTb6"
      }
    },
    {
      "cell_type": "code",
      "source": [
        "checkpoint = 'roberta-large'\n",
        "roberta_base_model = TFRobertaModel.from_pretrained(checkpoint)\n"
      ],
      "metadata": {
        "colab": {
          "base_uri": "https://localhost:8080/"
        },
        "id": "NB1Plfxqeexv",
        "outputId": "511aba44-8c7b-4fcb-bc26-178c45029313"
      },
      "execution_count": 9,
      "outputs": [
        {
          "output_type": "stream",
          "name": "stderr",
          "text": [
            "Some weights of the PyTorch model were not used when initializing the TF 2.0 model TFRobertaModel: ['lm_head.layer_norm.weight', 'lm_head.bias', 'lm_head.dense.weight', 'lm_head.dense.bias', 'roberta.embeddings.position_ids', 'lm_head.layer_norm.bias']\n",
            "- This IS expected if you are initializing TFRobertaModel from a PyTorch model trained on another task or with another architecture (e.g. initializing a TFBertForSequenceClassification model from a BertForPreTraining model).\n",
            "- This IS NOT expected if you are initializing TFRobertaModel from a PyTorch model that you expect to be exactly identical (e.g. initializing a TFBertForSequenceClassification model from a BertForSequenceClassification model).\n",
            "Some weights or buffers of the TF 2.0 model TFRobertaModel were not initialized from the PyTorch model and are newly initialized: ['roberta.pooler.dense.weight', 'roberta.pooler.dense.bias']\n",
            "You should probably TRAIN this model on a down-stream task to be able to use it for predictions and inference.\n"
          ]
        }
      ]
    },
    {
      "cell_type": "code",
      "source": [
        "model_1_base = create_roberta_classification_model(roberta_large_model, num_unfreeze=0)"
      ],
      "metadata": {
        "id": "bZgEtkY1FqQ0"
      },
      "execution_count": 10,
      "outputs": []
    },
    {
      "cell_type": "code",
      "source": [
        "model_1_base.summary()"
      ],
      "metadata": {
        "colab": {
          "base_uri": "https://localhost:8080/"
        },
        "id": "_s0LIoLCGL07",
        "outputId": "0a7d7169-8d90-43a7-c266-ff1602b66d1f"
      },
      "execution_count": 11,
      "outputs": [
        {
          "output_type": "stream",
          "name": "stdout",
          "text": [
            "Model: \"model\"\n",
            "__________________________________________________________________________________________________\n",
            " Layer (type)                Output Shape                 Param #   Connected to                  \n",
            "==================================================================================================\n",
            " attention_mask_layer (Inpu  [(None, 256)]                0         []                            \n",
            " tLayer)                                                                                          \n",
            "                                                                                                  \n",
            " input_ids_layer (InputLaye  [(None, 256)]                0         []                            \n",
            " r)                                                                                               \n",
            "                                                                                                  \n",
            " token_type_ids_layer (Inpu  [(None, 256)]                0         []                            \n",
            " tLayer)                                                                                          \n",
            "                                                                                                  \n",
            " tf_roberta_model (TFRobert  TFBaseModelOutputWithPooli   3553597   ['attention_mask_layer[0][0]',\n",
            " aModel)                     ngAndCrossAttentions(last_   44         'input_ids_layer[0][0]',     \n",
            "                             hidden_state=(None, 256, 1              'token_type_ids_layer[0][0]']\n",
            "                             024),                                                                \n",
            "                              pooler_output=(None, 1024                                           \n",
            "                             ),                                                                   \n",
            "                              past_key_values=None, hid                                           \n",
            "                             den_states=None, attention                                           \n",
            "                             s=None, cross_attentions=N                                           \n",
            "                             one)                                                                 \n",
            "                                                                                                  \n",
            " tf.math.reduce_mean (TFOpL  (None, 1024)                 0         ['tf_roberta_model[0][0]']    \n",
            " ambda)                                                                                           \n",
            "                                                                                                  \n",
            " hidden_layer_0 (Dense)      (None, 200)                  205000    ['tf.math.reduce_mean[0][0]'] \n",
            "                                                                                                  \n",
            " dropout_146 (Dropout)       (None, 200)                  0         ['hidden_layer_0[0][0]']      \n",
            "                                                                                                  \n",
            " classification_layer (Dens  (None, 1)                    201       ['dropout_146[0][0]']         \n",
            " e)                                                                                               \n",
            "                                                                                                  \n",
            "==================================================================================================\n",
            "Total params: 355564945 (1.32 GB)\n",
            "Trainable params: 205201 (801.57 KB)\n",
            "Non-trainable params: 355359744 (1.32 GB)\n",
            "__________________________________________________________________________________________________\n"
          ]
        }
      ]
    },
    {
      "cell_type": "code",
      "source": [
        "tf.keras.utils.plot_model(model_1_base, show_shapes=True, dpi=90)"
      ],
      "metadata": {
        "colab": {
          "base_uri": "https://localhost:8080/",
          "height": 297
        },
        "id": "Ptm_9sl8IxJe",
        "outputId": "c0005eb8-5578-4960-82b7-7779ee7b2d52"
      },
      "execution_count": 12,
      "outputs": [
        {
          "output_type": "execute_result",
          "data": {
            "image/png": "[encoded data removed]",
            "text/plain": [
              "<IPython.core.display.Image object>"
            ]
          },
          "metadata": {},
          "execution_count": 12
        }
      ]
    },
    {
      "cell_type": "markdown",
      "source": [
        "### Fit\n"
      ],
      "metadata": {
        "id": "t4_wdsZDKWcU"
      }
    },
    {
      "cell_type": "code",
      "source": [
        "model_base1_history = model_1_base.fit(roberta_train_inputs,\n",
        "                          y_train,\n",
        "                          validation_data=(roberta_val_inputs, y_val),\n",
        "                          batch_size=32,\n",
        "                          epochs=3\n",
        "                          )"
      ],
      "metadata": {
        "colab": {
          "base_uri": "https://localhost:8080/"
        },
        "id": "xtujC3ZiI8BZ",
        "outputId": "1eacc168-9a61-43c8-b0e9-60a6a1202a79"
      },
      "execution_count": 13,
      "outputs": [
        {
          "output_type": "stream",
          "name": "stdout",
          "text": [
            "Epoch 1/3\n",
            "301/301 [==============================] - 750s 2s/step - loss: 0.6732 - accuracy: 0.6016 - val_loss: 0.5743 - val_accuracy: 0.7294\n",
            "Epoch 2/3\n",
            "301/301 [==============================] - 666s 2s/step - loss: 0.5501 - accuracy: 0.7203 - val_loss: 0.5408 - val_accuracy: 0.7352\n",
            "Epoch 3/3\n",
            "301/301 [==============================] - 718s 2s/step - loss: 0.4993 - accuracy: 0.7605 - val_loss: 0.5318 - val_accuracy: 0.7452\n"
          ]
        }
      ]
    },
    {
      "cell_type": "markdown",
      "source": [
        "### Visualize"
      ],
      "metadata": {
        "id": "riL1LwLNbXXd"
      }
    },
    {
      "cell_type": "code",
      "source": [
        "def visualize(model_history):\n",
        "  fig, axes = plt.subplots(nrows=1, ncols=2, figsize=(15,5))\n",
        "\n",
        "  # loss\n",
        "  axes[0].plot(model_history.history['loss'], color='darkturquoise', label='train_losses')\n",
        "  axes[0].plot(model_history.history['val_loss'], color='orange', label='val_losses')\n",
        "  axes[0].set_xlabel('Epoch')\n",
        "  axes[0].set_ylabel('Loss')\n",
        "  axes[0].set_title('Loss')\n",
        "  axes[0].legend()\n",
        "\n",
        "  # accuracy\n",
        "  axes[1].plot(model_history.history['accuracy'], color='darkturquoise', label='train_accuracy')\n",
        "  axes[1].plot(model_history.history['val_accuracy'], color='orange', label='val_accuracy')\n",
        "  axes[1].set_xlabel('Epoch')\n",
        "  axes[1].set_ylabel('Accuracy')\n",
        "  axes[1].set_title('Accuracy')\n",
        "  axes[1].legend()\n",
        "\n",
        "  plt.show()"
      ],
      "metadata": {
        "id": "Smg3oi-KbZBC"
      },
      "execution_count": 14,
      "outputs": []
    },
    {
      "cell_type": "code",
      "source": [
        "visualize(model_base1_history)"
      ],
      "metadata": {
        "id": "cKC9JGqibaCc",
        "colab": {
          "base_uri": "https://localhost:8080/",
          "height": 317
        },
        "outputId": "6c6867a4-4660-4ddd-c524-30d59628fa00"
      },
      "execution_count": 15,
      "outputs": [
        {
          "output_type": "display_data",
          "data": {
            "text/plain": [
              "<Figure size 1500x500 with 2 Axes>"
            ],
            "image/png": "[encoded data removed]"
          },
          "metadata": {}
        }
      ]
    },
    {
      "cell_type": "markdown",
      "source": [
        "## roberta_large_5\n",
        "- roberta-large\n",
        "- reduce_mean on last_hidden_state\n",
        "- **num_unfreeze = 4**\n",
        "- hidden_size=200\n",
        "- dropout=0.3\n",
        "- learning_rate=0.0000005\n",
        "- batch_size=4\n",
        "- epoches=6"
      ],
      "metadata": {
        "id": "jqdVWIYuhxid"
      }
    },
    {
      "cell_type": "markdown",
      "source": [
        "### Build"
      ],
      "metadata": {
        "id": "h16kp76Rhxie"
      }
    },
    {
      "cell_type": "code",
      "source": [
        "roberta_large_model = TFRobertaModel.from_pretrained(checkpoint)\n",
        "model_2_base = create_roberta_classification_model(roberta_large_model, num_unfreeze=4, learning_rate=0.0000005)"
      ],
      "metadata": {
        "id": "n0GoKFWqhxie",
        "colab": {
          "base_uri": "https://localhost:8080/"
        },
        "outputId": "cadfd0fe-c78f-4485-b658-43dd4fa03aeb"
      },
      "execution_count": 16,
      "outputs": [
        {
          "output_type": "stream",
          "name": "stderr",
          "text": [
            "Some weights of the PyTorch model were not used when initializing the TF 2.0 model TFRobertaModel: ['lm_head.layer_norm.weight', 'lm_head.bias', 'lm_head.dense.weight', 'lm_head.dense.bias', 'roberta.embeddings.position_ids', 'lm_head.layer_norm.bias']\n",
            "- This IS expected if you are initializing TFRobertaModel from a PyTorch model trained on another task or with another architecture (e.g. initializing a TFBertForSequenceClassification model from a BertForPreTraining model).\n",
            "- This IS NOT expected if you are initializing TFRobertaModel from a PyTorch model that you expect to be exactly identical (e.g. initializing a TFBertForSequenceClassification model from a BertForSequenceClassification model).\n",
            "Some weights or buffers of the TF 2.0 model TFRobertaModel were not initialized from the PyTorch model and are newly initialized: ['roberta.pooler.dense.weight', 'roberta.pooler.dense.bias']\n",
            "You should probably TRAIN this model on a down-stream task to be able to use it for predictions and inference.\n"
          ]
        },
        {
          "output_type": "stream",
          "name": "stdout",
          "text": [
            "retrain layers:  ['_23', '_22', '_21', '_20']\n"
          ]
        }
      ]
    },
    {
      "cell_type": "code",
      "source": [
        "model_2_base.summary()"
      ],
      "metadata": {
        "id": "758T1zXVhxie",
        "colab": {
          "base_uri": "https://localhost:8080/"
        },
        "outputId": "11c334b9-91df-4df0-b382-1f0c23ec29d4"
      },
      "execution_count": 17,
      "outputs": [
        {
          "output_type": "stream",
          "name": "stdout",
          "text": [
            "Model: \"model_1\"\n",
            "__________________________________________________________________________________________________\n",
            " Layer (type)                Output Shape                 Param #   Connected to                  \n",
            "==================================================================================================\n",
            " attention_mask_layer (Inpu  [(None, 256)]                0         []                            \n",
            " tLayer)                                                                                          \n",
            "                                                                                                  \n",
            " input_ids_layer (InputLaye  [(None, 256)]                0         []                            \n",
            " r)                                                                                               \n",
            "                                                                                                  \n",
            " token_type_ids_layer (Inpu  [(None, 256)]                0         []                            \n",
            " tLayer)                                                                                          \n",
            "                                                                                                  \n",
            " tf_roberta_model_2 (TFRobe  TFBaseModelOutputWithPooli   3553597   ['attention_mask_layer[0][0]',\n",
            " rtaModel)                   ngAndCrossAttentions(last_   44         'input_ids_layer[0][0]',     \n",
            "                             hidden_state=(None, 256, 1              'token_type_ids_layer[0][0]']\n",
            "                             024),                                                                \n",
            "                              pooler_output=(None, 1024                                           \n",
            "                             ),                                                                   \n",
            "                              past_key_values=None, hid                                           \n",
            "                             den_states=None, attention                                           \n",
            "                             s=None, cross_attentions=N                                           \n",
            "                             one)                                                                 \n",
            "                                                                                                  \n",
            " tf.math.reduce_mean_1 (TFO  (None, 1024)                 0         ['tf_roberta_model_2[0][0]']  \n",
            " pLambda)                                                                                         \n",
            "                                                                                                  \n",
            " hidden_layer_0 (Dense)      (None, 200)                  205000    ['tf.math.reduce_mean_1[0][0]'\n",
            "                                                                    ]                             \n",
            "                                                                                                  \n",
            " dropout_220 (Dropout)       (None, 200)                  0         ['hidden_layer_0[0][0]']      \n",
            "                                                                                                  \n",
            " classification_layer (Dens  (None, 1)                    201       ['dropout_220[0][0]']         \n",
            " e)                                                                                               \n",
            "                                                                                                  \n",
            "==================================================================================================\n",
            "Total params: 355564945 (1.32 GB)\n",
            "Trainable params: 355564945 (1.32 GB)\n",
            "Non-trainable params: 0 (0.00 Byte)\n",
            "__________________________________________________________________________________________________\n"
          ]
        }
      ]
    },
    {
      "cell_type": "code",
      "source": [
        "tf.keras.utils.plot_model(model_2_base, show_shapes=True, dpi=90)"
      ],
      "metadata": {
        "id": "Hd5eVt9Mhxie",
        "colab": {
          "base_uri": "https://localhost:8080/",
          "height": 625
        },
        "outputId": "3dd35c5c-72d0-4fc3-c297-ceb450935266"
      },
      "execution_count": 18,
      "outputs": [
        {
          "output_type": "execute_result",
          "data": {
            "image/png": "[encoded data removed]",
            "text/plain": [
              "<IPython.core.display.Image object>"
            ]
          },
          "metadata": {},
          "execution_count": 18
        }
      ]
    },
    {
      "cell_type": "markdown",
      "source": [
        "### Fit\n"
      ],
      "metadata": {
        "id": "UHsJZKCehxif"
      }
    },
    {
      "cell_type": "code",
      "source": [
        "model_base2_history = model_2_base.fit(roberta_train_inputs,\n",
        "                          y_train,\n",
        "                          validation_data=(roberta_val_inputs, y_val),\n",
        "                          batch_size=4,\n",
        "                          epochs=6\n",
        "                          )"
      ],
      "metadata": {
        "id": "w1P42x59hxif",
        "colab": {
          "base_uri": "https://localhost:8080/"
        },
        "outputId": "2b50ff8e-2af2-4d22-fc82-9c5b0c71810d"
      },
      "execution_count": 20,
      "outputs": [
        {
          "output_type": "stream",
          "name": "stdout",
          "text": [
            "Epoch 1/6\n",
            "2401/2401 [==============================] - 887s 369ms/step - loss: 0.3416 - accuracy: 0.8553 - val_loss: 0.4381 - val_accuracy: 0.8229\n",
            "Epoch 2/6\n",
            "2401/2401 [==============================] - 925s 385ms/step - loss: 0.3315 - accuracy: 0.8582 - val_loss: 0.4289 - val_accuracy: 0.8212\n",
            "Epoch 3/6\n",
            "2401/2401 [==============================] - 926s 386ms/step - loss: 0.3322 - accuracy: 0.8567 - val_loss: 0.4215 - val_accuracy: 0.8311\n",
            "Epoch 4/6\n",
            "2401/2401 [==============================] - 926s 386ms/step - loss: 0.3172 - accuracy: 0.8618 - val_loss: 0.4510 - val_accuracy: 0.8241\n",
            "Epoch 5/6\n",
            "2401/2401 [==============================] - 926s 386ms/step - loss: 0.3128 - accuracy: 0.8662 - val_loss: 0.4236 - val_accuracy: 0.8293\n",
            "Epoch 6/6\n",
            "2401/2401 [==============================] - 889s 370ms/step - loss: 0.3077 - accuracy: 0.8706 - val_loss: 0.4092 - val_accuracy: 0.8352\n"
          ]
        }
      ]
    },
    {
      "cell_type": "markdown",
      "source": [
        "### Visualize"
      ],
      "metadata": {
        "id": "rMb4qDYlhxif"
      }
    },
    {
      "cell_type": "code",
      "source": [
        "visualize(model_base2_history)"
      ],
      "metadata": {
        "id": "NwoV2PUfhxif",
        "colab": {
          "base_uri": "https://localhost:8080/",
          "height": 319
        },
        "outputId": "189f4f42-d641-4760-f641-99a299d95d20"
      },
      "execution_count": 21,
      "outputs": [
        {
          "output_type": "display_data",
          "data": {
            "text/plain": [
              "<Figure size 1500x500 with 2 Axes>"
            ],
            "image/png": "[encoded data removed]"
          },
          "metadata": {}
        }
      ]
    },
    {
      "cell_type": "markdown",
      "source": [
        "## roberta_large_6\n",
        "\n",
        "\n",
        "*   roberta-large\n",
        "*   reduce_mean on last_hidden_state\n",
        "*   num_unfreeze = 0\n",
        "*   hidden_size= [1024,512]\n",
        "*   dropout=0.1\n",
        "*   learning_rate=0.00005\n",
        "*   batch_size=32\n",
        "*   epochs=3\n",
        "\n"
      ],
      "metadata": {
        "id": "AmR2x01I0tJW"
      }
    },
    {
      "cell_type": "markdown",
      "source": [
        "### Build"
      ],
      "metadata": {
        "id": "xDd61iOD0xIb"
      }
    },
    {
      "cell_type": "code",
      "source": [
        "roberta_large_model = TFRobertaModel.from_pretrained(checkpoint)\n",
        "roberta_base_3 = create_roberta_classification_model(roberta_large_model, num_unfreeze=0, hidden_size= [1024,512],dropout=0.1,learning_rate=0.00005)"
      ],
      "metadata": {
        "colab": {
          "base_uri": "https://localhost:8080/"
        },
        "id": "c8hwpz1W1j6Q",
        "outputId": "4907b734-015d-4e70-dea7-2f94de8cc376"
      },
      "execution_count": 22,
      "outputs": [
        {
          "output_type": "stream",
          "name": "stderr",
          "text": [
            "Some weights of the PyTorch model were not used when initializing the TF 2.0 model TFRobertaModel: ['lm_head.layer_norm.weight', 'lm_head.bias', 'lm_head.dense.weight', 'lm_head.dense.bias', 'roberta.embeddings.position_ids', 'lm_head.layer_norm.bias']\n",
            "- This IS expected if you are initializing TFRobertaModel from a PyTorch model trained on another task or with another architecture (e.g. initializing a TFBertForSequenceClassification model from a BertForPreTraining model).\n",
            "- This IS NOT expected if you are initializing TFRobertaModel from a PyTorch model that you expect to be exactly identical (e.g. initializing a TFBertForSequenceClassification model from a BertForSequenceClassification model).\n",
            "Some weights or buffers of the TF 2.0 model TFRobertaModel were not initialized from the PyTorch model and are newly initialized: ['roberta.pooler.dense.weight', 'roberta.pooler.dense.bias']\n",
            "You should probably TRAIN this model on a down-stream task to be able to use it for predictions and inference.\n"
          ]
        }
      ]
    },
    {
      "cell_type": "code",
      "source": [
        "roberta_base_3.summary()"
      ],
      "metadata": {
        "colab": {
          "base_uri": "https://localhost:8080/"
        },
        "id": "4duf0UMX2Dcw",
        "outputId": "c09c953f-9406-4521-bd00-221447489cf2"
      },
      "execution_count": 23,
      "outputs": [
        {
          "output_type": "stream",
          "name": "stdout",
          "text": [
            "Model: \"model_2\"\n",
            "__________________________________________________________________________________________________\n",
            " Layer (type)                Output Shape                 Param #   Connected to                  \n",
            "==================================================================================================\n",
            " attention_mask_layer (Inpu  [(None, 256)]                0         []                            \n",
            " tLayer)                                                                                          \n",
            "                                                                                                  \n",
            " input_ids_layer (InputLaye  [(None, 256)]                0         []                            \n",
            " r)                                                                                               \n",
            "                                                                                                  \n",
            " token_type_ids_layer (Inpu  [(None, 256)]                0         []                            \n",
            " tLayer)                                                                                          \n",
            "                                                                                                  \n",
            " tf_roberta_model_3 (TFRobe  TFBaseModelOutputWithPooli   3553597   ['attention_mask_layer[0][0]',\n",
            " rtaModel)                   ngAndCrossAttentions(last_   44         'input_ids_layer[0][0]',     \n",
            "                             hidden_state=(None, 256, 1              'token_type_ids_layer[0][0]']\n",
            "                             024),                                                                \n",
            "                              pooler_output=(None, 1024                                           \n",
            "                             ),                                                                   \n",
            "                              past_key_values=None, hid                                           \n",
            "                             den_states=None, attention                                           \n",
            "                             s=None, cross_attentions=N                                           \n",
            "                             one)                                                                 \n",
            "                                                                                                  \n",
            " tf.math.reduce_mean_2 (TFO  (None, 1024)                 0         ['tf_roberta_model_3[0][0]']  \n",
            " pLambda)                                                                                         \n",
            "                                                                                                  \n",
            " hidden_layer_0 (Dense)      (None, 1024)                 1049600   ['tf.math.reduce_mean_2[0][0]'\n",
            "                                                                    ]                             \n",
            "                                                                                                  \n",
            " dropout_294 (Dropout)       (None, 1024)                 0         ['hidden_layer_0[0][0]']      \n",
            "                                                                                                  \n",
            " hidden_layer_1 (Dense)      (None, 512)                  524800    ['dropout_294[0][0]']         \n",
            "                                                                                                  \n",
            " dropout_295 (Dropout)       (None, 512)                  0         ['hidden_layer_1[0][0]']      \n",
            "                                                                                                  \n",
            " classification_layer (Dens  (None, 1)                    513       ['dropout_295[0][0]']         \n",
            " e)                                                                                               \n",
            "                                                                                                  \n",
            "==================================================================================================\n",
            "Total params: 356934657 (1.33 GB)\n",
            "Trainable params: 1574913 (6.01 MB)\n",
            "Non-trainable params: 355359744 (1.32 GB)\n",
            "__________________________________________________________________________________________________\n"
          ]
        }
      ]
    },
    {
      "cell_type": "code",
      "source": [
        "tf.keras.utils.plot_model(roberta_base_3, show_shapes=True, dpi=90)"
      ],
      "metadata": {
        "colab": {
          "base_uri": "https://localhost:8080/",
          "height": 392
        },
        "id": "NVFBTtT_2D3C",
        "outputId": "8f080e3c-aa8f-41ac-a647-00684fba0829"
      },
      "execution_count": 24,
      "outputs": [
        {
          "output_type": "execute_result",
          "data": {
            "image/png": "[encoded data removed]",
            "text/plain": [
              "<IPython.core.display.Image object>"
            ]
          },
          "metadata": {},
          "execution_count": 24
        }
      ]
    },
    {
      "cell_type": "markdown",
      "source": [
        "### Fit"
      ],
      "metadata": {
        "id": "28hj1Pzp0xU8"
      }
    },
    {
      "cell_type": "code",
      "source": [
        "roberta_base_3_history = roberta_base_3.fit(roberta_train_inputs,\n",
        "                          y_train,\n",
        "                          validation_data=(roberta_val_inputs, y_val),\n",
        "                          batch_size=32,\n",
        "                          epochs=3\n",
        "                          )"
      ],
      "metadata": {
        "colab": {
          "base_uri": "https://localhost:8080/"
        },
        "id": "xjsmrJBf2KZE",
        "outputId": "779f9371-bd3b-4d65-b588-9645d5eb6f9f"
      },
      "execution_count": 25,
      "outputs": [
        {
          "output_type": "stream",
          "name": "stdout",
          "text": [
            "Epoch 1/3\n",
            "301/301 [==============================] - 752s 2s/step - loss: 0.5748 - accuracy: 0.6962 - val_loss: 0.5612 - val_accuracy: 0.7312\n",
            "Epoch 2/3\n",
            "301/301 [==============================] - 718s 2s/step - loss: 0.4647 - accuracy: 0.7847 - val_loss: 0.5230 - val_accuracy: 0.7650\n",
            "Epoch 3/3\n",
            "301/301 [==============================] - 718s 2s/step - loss: 0.4427 - accuracy: 0.7963 - val_loss: 0.5432 - val_accuracy: 0.7469\n"
          ]
        }
      ]
    },
    {
      "cell_type": "markdown",
      "source": [
        "### Visualize"
      ],
      "metadata": {
        "id": "Kz2Mlx-30xht"
      }
    },
    {
      "cell_type": "code",
      "source": [
        "visualize(roberta_base_3_history)"
      ],
      "metadata": {
        "colab": {
          "base_uri": "https://localhost:8080/",
          "height": 319
        },
        "id": "ulAPWTMA2Pub",
        "outputId": "cb72d33c-ad01-4e2f-f73a-aaea991a9e8a"
      },
      "execution_count": 26,
      "outputs": [
        {
          "output_type": "display_data",
          "data": {
            "text/plain": [
              "<Figure size 1500x500 with 2 Axes>"
            ],
            "image/png": "[encoded data removed]"
          },
          "metadata": {}
        }
      ]
    },
    {
      "cell_type": "markdown",
      "source": [
        "## roberta_large_7\n",
        "- roberta-large\n",
        "- reduce_mean on last_hidden_state\n",
        "- num_unfreeze = 4\n",
        "- hidden_size= [1024,512]\n",
        "- dropout=0.1\n",
        "- learning_rate=0.0000005\n",
        "- batch_size=4\n",
        "- epochs=6"
      ],
      "metadata": {
        "id": "H64q56s80vZc"
      }
    },
    {
      "cell_type": "markdown",
      "source": [
        "### Build"
      ],
      "metadata": {
        "id": "qG2hPd901aWC"
      }
    },
    {
      "cell_type": "code",
      "source": [
        "roberta_large_model = TFRobertaModel.from_pretrained(checkpoint)\n",
        "model_4_base = create_roberta_classification_model(roberta_large_model, num_unfreeze=4, hidden_size= [1024,512],dropout=0.1,learning_rate=0.0000005)"
      ],
      "metadata": {
        "colab": {
          "base_uri": "https://localhost:8080/"
        },
        "id": "0EmWxwtg2YF_",
        "outputId": "fe9f3457-4742-40c1-caaf-3941aeb66903"
      },
      "execution_count": 27,
      "outputs": [
        {
          "output_type": "stream",
          "name": "stderr",
          "text": [
            "Some weights of the PyTorch model were not used when initializing the TF 2.0 model TFRobertaModel: ['lm_head.layer_norm.weight', 'lm_head.bias', 'lm_head.dense.weight', 'lm_head.dense.bias', 'roberta.embeddings.position_ids', 'lm_head.layer_norm.bias']\n",
            "- This IS expected if you are initializing TFRobertaModel from a PyTorch model trained on another task or with another architecture (e.g. initializing a TFBertForSequenceClassification model from a BertForPreTraining model).\n",
            "- This IS NOT expected if you are initializing TFRobertaModel from a PyTorch model that you expect to be exactly identical (e.g. initializing a TFBertForSequenceClassification model from a BertForSequenceClassification model).\n",
            "Some weights or buffers of the TF 2.0 model TFRobertaModel were not initialized from the PyTorch model and are newly initialized: ['roberta.pooler.dense.weight', 'roberta.pooler.dense.bias']\n",
            "You should probably TRAIN this model on a down-stream task to be able to use it for predictions and inference.\n"
          ]
        },
        {
          "output_type": "stream",
          "name": "stdout",
          "text": [
            "retrain layers:  ['_23', '_22', '_21', '_20']\n"
          ]
        }
      ]
    },
    {
      "cell_type": "markdown",
      "source": [
        "### Fit"
      ],
      "metadata": {
        "id": "6HE4wF8-1aff"
      }
    },
    {
      "cell_type": "code",
      "source": [
        "model_4_base_history = model_4_base.fit(roberta_train_inputs,\n",
        "                          y_train,\n",
        "                          validation_data=(roberta_val_inputs, y_val),\n",
        "                          batch_size=4,\n",
        "                          epochs=6\n",
        "                          )"
      ],
      "metadata": {
        "colab": {
          "base_uri": "https://localhost:8080/"
        },
        "id": "-RoreHm62URS",
        "outputId": "a4a35ffa-b7ba-45bd-8190-44ccd5350492"
      },
      "execution_count": 28,
      "outputs": [
        {
          "output_type": "stream",
          "name": "stdout",
          "text": [
            "Epoch 1/6\n"
          ]
        },
        {
          "output_type": "stream",
          "name": "stderr",
          "text": [
            "WARNING:tensorflow:Gradients do not exist for variables ['tf_roberta_model_4/roberta/encoder/layer_._0/attention/self/query/kernel:0', 'tf_roberta_model_4/roberta/encoder/layer_._0/attention/self/query/bias:0', 'tf_roberta_model_4/roberta/encoder/layer_._0/attention/self/key/kernel:0', 'tf_roberta_model_4/roberta/encoder/layer_._0/attention/self/key/bias:0', 'tf_roberta_model_4/roberta/encoder/layer_._0/attention/self/value/kernel:0', 'tf_roberta_model_4/roberta/encoder/layer_._0/attention/self/value/bias:0', 'tf_roberta_model_4/roberta/encoder/layer_._0/attention/output/dense/kernel:0', 'tf_roberta_model_4/roberta/encoder/layer_._0/attention/output/dense/bias:0', 'tf_roberta_model_4/roberta/encoder/layer_._0/attention/output/LayerNorm/gamma:0', 'tf_roberta_model_4/roberta/encoder/layer_._0/attention/output/LayerNorm/beta:0', 'tf_roberta_model_4/roberta/encoder/layer_._0/intermediate/dense/kernel:0', 'tf_roberta_model_4/roberta/encoder/layer_._0/intermediate/dense/bias:0', 'tf_roberta_model_4/roberta/encoder/layer_._0/output/dense/kernel:0', 'tf_roberta_model_4/roberta/encoder/layer_._0/output/dense/bias:0', 'tf_roberta_model_4/roberta/encoder/layer_._0/output/LayerNorm/gamma:0', 'tf_roberta_model_4/roberta/encoder/layer_._0/output/LayerNorm/beta:0', 'tf_roberta_model_4/roberta/encoder/layer_._1/attention/self/query/kernel:0', 'tf_roberta_model_4/roberta/encoder/layer_._1/attention/self/query/bias:0', 'tf_roberta_model_4/roberta/encoder/layer_._1/attention/self/key/kernel:0', 'tf_roberta_model_4/roberta/encoder/layer_._1/attention/self/key/bias:0', 'tf_roberta_model_4/roberta/encoder/layer_._1/attention/self/value/kernel:0', 'tf_roberta_model_4/roberta/encoder/layer_._1/attention/self/value/bias:0', 'tf_roberta_model_4/roberta/encoder/layer_._1/attention/output/dense/kernel:0', 'tf_roberta_model_4/roberta/encoder/layer_._1/attention/output/dense/bias:0', 'tf_roberta_model_4/roberta/encoder/layer_._1/attention/output/LayerNorm/gamma:0', 'tf_roberta_model_4/roberta/encoder/layer_._1/attention/output/LayerNorm/beta:0', 'tf_roberta_model_4/roberta/encoder/layer_._1/intermediate/dense/kernel:0', 'tf_roberta_model_4/roberta/encoder/layer_._1/intermediate/dense/bias:0', 'tf_roberta_model_4/roberta/encoder/layer_._1/output/dense/kernel:0', 'tf_roberta_model_4/roberta/encoder/layer_._1/output/dense/bias:0', 'tf_roberta_model_4/roberta/encoder/layer_._1/output/LayerNorm/gamma:0', 'tf_roberta_model_4/roberta/encoder/layer_._1/output/LayerNorm/beta:0', 'tf_roberta_model_4/roberta/encoder/layer_._2/attention/self/query/kernel:0', 'tf_roberta_model_4/roberta/encoder/layer_._2/attention/self/query/bias:0', 'tf_roberta_model_4/roberta/encoder/layer_._2/attention/self/key/kernel:0', 'tf_roberta_model_4/roberta/encoder/layer_._2/attention/self/key/bias:0', 'tf_roberta_model_4/roberta/encoder/layer_._2/attention/self/value/kernel:0', 'tf_roberta_model_4/roberta/encoder/layer_._2/attention/self/value/bias:0', 'tf_roberta_model_4/roberta/encoder/layer_._2/attention/output/dense/kernel:0', 'tf_roberta_model_4/roberta/encoder/layer_._2/attention/output/dense/bias:0', 'tf_roberta_model_4/roberta/encoder/layer_._2/attention/output/LayerNorm/gamma:0', 'tf_roberta_model_4/roberta/encoder/layer_._2/attention/output/LayerNorm/beta:0', 'tf_roberta_model_4/roberta/encoder/layer_._2/intermediate/dense/kernel:0', 'tf_roberta_model_4/roberta/encoder/layer_._2/intermediate/dense/bias:0', 'tf_roberta_model_4/roberta/encoder/layer_._2/output/dense/kernel:0', 'tf_roberta_model_4/roberta/encoder/layer_._2/output/dense/bias:0', 'tf_roberta_model_4/roberta/encoder/layer_._2/output/LayerNorm/gamma:0', 'tf_roberta_model_4/roberta/encoder/layer_._2/output/LayerNorm/beta:0', 'tf_roberta_model_4/roberta/encoder/layer_._3/attention/self/query/kernel:0', 'tf_roberta_model_4/roberta/encoder/layer_._3/attention/self/query/bias:0', 'tf_roberta_model_4/roberta/encoder/layer_._3/attention/self/key/kernel:0', 'tf_roberta_model_4/roberta/encoder/layer_._3/attention/self/key/bias:0', 'tf_roberta_model_4/roberta/encoder/layer_._3/attention/self/value/kernel:0', 'tf_roberta_model_4/roberta/encoder/layer_._3/attention/self/value/bias:0', 'tf_roberta_model_4/roberta/encoder/layer_._3/attention/output/dense/kernel:0', 'tf_roberta_model_4/roberta/encoder/layer_._3/attention/output/dense/bias:0', 'tf_roberta_model_4/roberta/encoder/layer_._3/attention/output/LayerNorm/gamma:0', 'tf_roberta_model_4/roberta/encoder/layer_._3/attention/output/LayerNorm/beta:0', 'tf_roberta_model_4/roberta/encoder/layer_._3/intermediate/dense/kernel:0', 'tf_roberta_model_4/roberta/encoder/layer_._3/intermediate/dense/bias:0', 'tf_roberta_model_4/roberta/encoder/layer_._3/output/dense/kernel:0', 'tf_roberta_model_4/roberta/encoder/layer_._3/output/dense/bias:0', 'tf_roberta_model_4/roberta/encoder/layer_._3/output/LayerNorm/gamma:0', 'tf_roberta_model_4/roberta/encoder/layer_._3/output/LayerNorm/beta:0', 'tf_roberta_model_4/roberta/encoder/layer_._4/attention/self/query/kernel:0', 'tf_roberta_model_4/roberta/encoder/layer_._4/attention/self/query/bias:0', 'tf_roberta_model_4/roberta/encoder/layer_._4/attention/self/key/kernel:0', 'tf_roberta_model_4/roberta/encoder/layer_._4/attention/self/key/bias:0', 'tf_roberta_model_4/roberta/encoder/layer_._4/attention/self/value/kernel:0', 'tf_roberta_model_4/roberta/encoder/layer_._4/attention/self/value/bias:0', 'tf_roberta_model_4/roberta/encoder/layer_._4/attention/output/dense/kernel:0', 'tf_roberta_model_4/roberta/encoder/layer_._4/attention/output/dense/bias:0', 'tf_roberta_model_4/roberta/encoder/layer_._4/attention/output/LayerNorm/gamma:0', 'tf_roberta_model_4/roberta/encoder/layer_._4/attention/output/LayerNorm/beta:0', 'tf_roberta_model_4/roberta/encoder/layer_._4/intermediate/dense/kernel:0', 'tf_roberta_model_4/roberta/encoder/layer_._4/intermediate/dense/bias:0', 'tf_roberta_model_4/roberta/encoder/layer_._4/output/dense/kernel:0', 'tf_roberta_model_4/roberta/encoder/layer_._4/output/dense/bias:0', 'tf_roberta_model_4/roberta/encoder/layer_._4/output/LayerNorm/gamma:0', 'tf_roberta_model_4/roberta/encoder/layer_._4/output/LayerNorm/beta:0', 'tf_roberta_model_4/roberta/encoder/layer_._5/attention/self/query/kernel:0', 'tf_roberta_model_4/roberta/encoder/layer_._5/attention/self/query/bias:0', 'tf_roberta_model_4/roberta/encoder/layer_._5/attention/self/key/kernel:0', 'tf_roberta_model_4/roberta/encoder/layer_._5/attention/self/key/bias:0', 'tf_roberta_model_4/roberta/encoder/layer_._5/attention/self/value/kernel:0', 'tf_roberta_model_4/roberta/encoder/layer_._5/attention/self/value/bias:0', 'tf_roberta_model_4/roberta/encoder/layer_._5/attention/output/dense/kernel:0', 'tf_roberta_model_4/roberta/encoder/layer_._5/attention/output/dense/bias:0', 'tf_roberta_model_4/roberta/encoder/layer_._5/attention/output/LayerNorm/gamma:0', 'tf_roberta_model_4/roberta/encoder/layer_._5/attention/output/LayerNorm/beta:0', 'tf_roberta_model_4/roberta/encoder/layer_._5/intermediate/dense/kernel:0', 'tf_roberta_model_4/roberta/encoder/layer_._5/intermediate/dense/bias:0', 'tf_roberta_model_4/roberta/encoder/layer_._5/output/dense/kernel:0', 'tf_roberta_model_4/roberta/encoder/layer_._5/output/dense/bias:0', 'tf_roberta_model_4/roberta/encoder/layer_._5/output/LayerNorm/gamma:0', 'tf_roberta_model_4/roberta/encoder/layer_._5/output/LayerNorm/beta:0', 'tf_roberta_model_4/roberta/encoder/layer_._6/attention/self/query/kernel:0', 'tf_roberta_model_4/roberta/encoder/layer_._6/attention/self/query/bias:0', 'tf_roberta_model_4/roberta/encoder/layer_._6/attention/self/key/kernel:0', 'tf_roberta_model_4/roberta/encoder/layer_._6/attention/self/key/bias:0', 'tf_roberta_model_4/roberta/encoder/layer_._6/attention/self/value/kernel:0', 'tf_roberta_model_4/roberta/encoder/layer_._6/attention/self/value/bias:0', 'tf_roberta_model_4/roberta/encoder/layer_._6/attention/output/dense/kernel:0', 'tf_roberta_model_4/roberta/encoder/layer_._6/attention/output/dense/bias:0', 'tf_roberta_model_4/roberta/encoder/layer_._6/attention/output/LayerNorm/gamma:0', 'tf_roberta_model_4/roberta/encoder/layer_._6/attention/output/LayerNorm/beta:0', 'tf_roberta_model_4/roberta/encoder/layer_._6/intermediate/dense/kernel:0', 'tf_roberta_model_4/roberta/encoder/layer_._6/intermediate/dense/bias:0', 'tf_roberta_model_4/roberta/encoder/layer_._6/output/dense/kernel:0', 'tf_roberta_model_4/roberta/encoder/layer_._6/output/dense/bias:0', 'tf_roberta_model_4/roberta/encoder/layer_._6/output/LayerNorm/gamma:0', 'tf_roberta_model_4/roberta/encoder/layer_._6/output/LayerNorm/beta:0', 'tf_roberta_model_4/roberta/encoder/layer_._7/attention/self/query/kernel:0', 'tf_roberta_model_4/roberta/encoder/layer_._7/attention/self/query/bias:0', 'tf_roberta_model_4/roberta/encoder/layer_._7/attention/self/key/kernel:0', 'tf_roberta_model_4/roberta/encoder/layer_._7/attention/self/key/bias:0', 'tf_roberta_model_4/roberta/encoder/layer_._7/attention/self/value/kernel:0', 'tf_roberta_model_4/roberta/encoder/layer_._7/attention/self/value/bias:0', 'tf_roberta_model_4/roberta/encoder/layer_._7/attention/output/dense/kernel:0', 'tf_roberta_model_4/roberta/encoder/layer_._7/attention/output/dense/bias:0', 'tf_roberta_model_4/roberta/encoder/layer_._7/attention/output/LayerNorm/gamma:0', 'tf_roberta_model_4/roberta/encoder/layer_._7/attention/output/LayerNorm/beta:0', 'tf_roberta_model_4/roberta/encoder/layer_._7/intermediate/dense/kernel:0', 'tf_roberta_model_4/roberta/encoder/layer_._7/intermediate/dense/bias:0', 'tf_roberta_model_4/roberta/encoder/layer_._7/output/dense/kernel:0', 'tf_roberta_model_4/roberta/encoder/layer_._7/output/dense/bias:0', 'tf_roberta_model_4/roberta/encoder/layer_._7/output/LayerNorm/gamma:0', 'tf_roberta_model_4/roberta/encoder/layer_._7/output/LayerNorm/beta:0', 'tf_roberta_model_4/roberta/encoder/layer_._8/attention/self/query/kernel:0', 'tf_roberta_model_4/roberta/encoder/layer_._8/attention/self/query/bias:0', 'tf_roberta_model_4/roberta/encoder/layer_._8/attention/self/key/kernel:0', 'tf_roberta_model_4/roberta/encoder/layer_._8/attention/self/key/bias:0', 'tf_roberta_model_4/roberta/encoder/layer_._8/attention/self/value/kernel:0', 'tf_roberta_model_4/roberta/encoder/layer_._8/attention/self/value/bias:0', 'tf_roberta_model_4/roberta/encoder/layer_._8/attention/output/dense/kernel:0', 'tf_roberta_model_4/roberta/encoder/layer_._8/attention/output/dense/bias:0', 'tf_roberta_model_4/roberta/encoder/layer_._8/attention/output/LayerNorm/gamma:0', 'tf_roberta_model_4/roberta/encoder/layer_._8/attention/output/LayerNorm/beta:0', 'tf_roberta_model_4/roberta/encoder/layer_._8/intermediate/dense/kernel:0', 'tf_roberta_model_4/roberta/encoder/layer_._8/intermediate/dense/bias:0', 'tf_roberta_model_4/roberta/encoder/layer_._8/output/dense/kernel:0', 'tf_roberta_model_4/roberta/encoder/layer_._8/output/dense/bias:0', 'tf_roberta_model_4/roberta/encoder/layer_._8/output/LayerNorm/gamma:0', 'tf_roberta_model_4/roberta/encoder/layer_._8/output/LayerNorm/beta:0', 'tf_roberta_model_4/roberta/encoder/layer_._9/attention/self/query/kernel:0', 'tf_roberta_model_4/roberta/encoder/layer_._9/attention/self/query/bias:0', 'tf_roberta_model_4/roberta/encoder/layer_._9/attention/self/key/kernel:0', 'tf_roberta_model_4/roberta/encoder/layer_._9/attention/self/key/bias:0', 'tf_roberta_model_4/roberta/encoder/layer_._9/attention/self/value/kernel:0', 'tf_roberta_model_4/roberta/encoder/layer_._9/attention/self/value/bias:0', 'tf_roberta_model_4/roberta/encoder/layer_._9/attention/output/dense/kernel:0', 'tf_roberta_model_4/roberta/encoder/layer_._9/attention/output/dense/bias:0', 'tf_roberta_model_4/roberta/encoder/layer_._9/attention/output/LayerNorm/gamma:0', 'tf_roberta_model_4/roberta/encoder/layer_._9/attention/output/LayerNorm/beta:0', 'tf_roberta_model_4/roberta/encoder/layer_._9/intermediate/dense/kernel:0', 'tf_roberta_model_4/roberta/encoder/layer_._9/intermediate/dense/bias:0', 'tf_roberta_model_4/roberta/encoder/layer_._9/output/dense/kernel:0', 'tf_roberta_model_4/roberta/encoder/layer_._9/output/dense/bias:0', 'tf_roberta_model_4/roberta/encoder/layer_._9/output/LayerNorm/gamma:0', 'tf_roberta_model_4/roberta/encoder/layer_._9/output/LayerNorm/beta:0', 'tf_roberta_model_4/roberta/encoder/layer_._10/attention/self/query/kernel:0', 'tf_roberta_model_4/roberta/encoder/layer_._10/attention/self/query/bias:0', 'tf_roberta_model_4/roberta/encoder/layer_._10/attention/self/key/kernel:0', 'tf_roberta_model_4/roberta/encoder/layer_._10/attention/self/key/bias:0', 'tf_roberta_model_4/roberta/encoder/layer_._10/attention/self/value/kernel:0', 'tf_roberta_model_4/roberta/encoder/layer_._10/attention/self/value/bias:0', 'tf_roberta_model_4/roberta/encoder/layer_._10/attention/output/dense/kernel:0', 'tf_roberta_model_4/roberta/encoder/layer_._10/attention/output/dense/bias:0', 'tf_roberta_model_4/roberta/encoder/layer_._10/attention/output/LayerNorm/gamma:0', 'tf_roberta_model_4/roberta/encoder/layer_._10/attention/output/LayerNorm/beta:0', 'tf_roberta_model_4/roberta/encoder/layer_._10/intermediate/dense/kernel:0', 'tf_roberta_model_4/roberta/encoder/layer_._10/intermediate/dense/bias:0', 'tf_roberta_model_4/roberta/encoder/layer_._10/output/dense/kernel:0', 'tf_roberta_model_4/roberta/encoder/layer_._10/output/dense/bias:0', 'tf_roberta_model_4/roberta/encoder/layer_._10/output/LayerNorm/gamma:0', 'tf_roberta_model_4/roberta/encoder/layer_._10/output/LayerNorm/beta:0', 'tf_roberta_model_4/roberta/encoder/layer_._11/attention/self/query/kernel:0', 'tf_roberta_model_4/roberta/encoder/layer_._11/attention/self/query/bias:0', 'tf_roberta_model_4/roberta/encoder/layer_._11/attention/self/key/kernel:0', 'tf_roberta_model_4/roberta/encoder/layer_._11/attention/self/key/bias:0', 'tf_roberta_model_4/roberta/encoder/layer_._11/attention/self/value/kernel:0', 'tf_roberta_model_4/roberta/encoder/layer_._11/attention/self/value/bias:0', 'tf_roberta_model_4/roberta/encoder/layer_._11/attention/output/dense/kernel:0', 'tf_roberta_model_4/roberta/encoder/layer_._11/attention/output/dense/bias:0', 'tf_roberta_model_4/roberta/encoder/layer_._11/attention/output/LayerNorm/gamma:0', 'tf_roberta_model_4/roberta/encoder/layer_._11/attention/output/LayerNorm/beta:0', 'tf_roberta_model_4/roberta/encoder/layer_._11/intermediate/dense/kernel:0', 'tf_roberta_model_4/roberta/encoder/layer_._11/intermediate/dense/bias:0', 'tf_roberta_model_4/roberta/encoder/layer_._11/output/dense/kernel:0', 'tf_roberta_model_4/roberta/encoder/layer_._11/output/dense/bias:0', 'tf_roberta_model_4/roberta/encoder/layer_._11/output/LayerNorm/gamma:0', 'tf_roberta_model_4/roberta/encoder/layer_._11/output/LayerNorm/beta:0', 'tf_roberta_model_4/roberta/encoder/layer_._12/attention/self/query/kernel:0', 'tf_roberta_model_4/roberta/encoder/layer_._12/attention/self/query/bias:0', 'tf_roberta_model_4/roberta/encoder/layer_._12/attention/self/key/kernel:0', 'tf_roberta_model_4/roberta/encoder/layer_._12/attention/self/key/bias:0', 'tf_roberta_model_4/roberta/encoder/layer_._12/attention/self/value/kernel:0', 'tf_roberta_model_4/roberta/encoder/layer_._12/attention/self/value/bias:0', 'tf_roberta_model_4/roberta/encoder/layer_._12/attention/output/dense/kernel:0', 'tf_roberta_model_4/roberta/encoder/layer_._12/attention/output/dense/bias:0', 'tf_roberta_model_4/roberta/encoder/layer_._12/attention/output/LayerNorm/gamma:0', 'tf_roberta_model_4/roberta/encoder/layer_._12/attention/output/LayerNorm/beta:0', 'tf_roberta_model_4/roberta/encoder/layer_._12/intermediate/dense/kernel:0', 'tf_roberta_model_4/roberta/encoder/layer_._12/intermediate/dense/bias:0', 'tf_roberta_model_4/roberta/encoder/layer_._12/output/dense/kernel:0', 'tf_roberta_model_4/roberta/encoder/layer_._12/output/dense/bias:0', 'tf_roberta_model_4/roberta/encoder/layer_._12/output/LayerNorm/gamma:0', 'tf_roberta_model_4/roberta/encoder/layer_._12/output/LayerNorm/beta:0', 'tf_roberta_model_4/roberta/encoder/layer_._13/attention/self/query/kernel:0', 'tf_roberta_model_4/roberta/encoder/layer_._13/attention/self/query/bias:0', 'tf_roberta_model_4/roberta/encoder/layer_._13/attention/self/key/kernel:0', 'tf_roberta_model_4/roberta/encoder/layer_._13/attention/self/key/bias:0', 'tf_roberta_model_4/roberta/encoder/layer_._13/attention/self/value/kernel:0', 'tf_roberta_model_4/roberta/encoder/layer_._13/attention/self/value/bias:0', 'tf_roberta_model_4/roberta/encoder/layer_._13/attention/output/dense/kernel:0', 'tf_roberta_model_4/roberta/encoder/layer_._13/attention/output/dense/bias:0', 'tf_roberta_model_4/roberta/encoder/layer_._13/attention/output/LayerNorm/gamma:0', 'tf_roberta_model_4/roberta/encoder/layer_._13/attention/output/LayerNorm/beta:0', 'tf_roberta_model_4/roberta/encoder/layer_._13/intermediate/dense/kernel:0', 'tf_roberta_model_4/roberta/encoder/layer_._13/intermediate/dense/bias:0', 'tf_roberta_model_4/roberta/encoder/layer_._13/output/dense/kernel:0', 'tf_roberta_model_4/roberta/encoder/layer_._13/output/dense/bias:0', 'tf_roberta_model_4/roberta/encoder/layer_._13/output/LayerNorm/gamma:0', 'tf_roberta_model_4/roberta/encoder/layer_._13/output/LayerNorm/beta:0', 'tf_roberta_model_4/roberta/encoder/layer_._14/attention/self/query/kernel:0', 'tf_roberta_model_4/roberta/encoder/layer_._14/attention/self/query/bias:0', 'tf_roberta_model_4/roberta/encoder/layer_._14/attention/self/key/kernel:0', 'tf_roberta_model_4/roberta/encoder/layer_._14/attention/self/key/bias:0', 'tf_roberta_model_4/roberta/encoder/layer_._14/attention/self/value/kernel:0', 'tf_roberta_model_4/roberta/encoder/layer_._14/attention/self/value/bias:0', 'tf_roberta_model_4/roberta/encoder/layer_._14/attention/output/dense/kernel:0', 'tf_roberta_model_4/roberta/encoder/layer_._14/attention/output/dense/bias:0', 'tf_roberta_model_4/roberta/encoder/layer_._14/attention/output/LayerNorm/gamma:0', 'tf_roberta_model_4/roberta/encoder/layer_._14/attention/output/LayerNorm/beta:0', 'tf_roberta_model_4/roberta/encoder/layer_._14/intermediate/dense/kernel:0', 'tf_roberta_model_4/roberta/encoder/layer_._14/intermediate/dense/bias:0', 'tf_roberta_model_4/roberta/encoder/layer_._14/output/dense/kernel:0', 'tf_roberta_model_4/roberta/encoder/layer_._14/output/dense/bias:0', 'tf_roberta_model_4/roberta/encoder/layer_._14/output/LayerNorm/gamma:0', 'tf_roberta_model_4/roberta/encoder/layer_._14/output/LayerNorm/beta:0', 'tf_roberta_model_4/roberta/encoder/layer_._15/attention/self/query/kernel:0', 'tf_roberta_model_4/roberta/encoder/layer_._15/attention/self/query/bias:0', 'tf_roberta_model_4/roberta/encoder/layer_._15/attention/self/key/kernel:0', 'tf_roberta_model_4/roberta/encoder/layer_._15/attention/self/key/bias:0', 'tf_roberta_model_4/roberta/encoder/layer_._15/attention/self/value/kernel:0', 'tf_roberta_model_4/roberta/encoder/layer_._15/attention/self/value/bias:0', 'tf_roberta_model_4/roberta/encoder/layer_._15/attention/output/dense/kernel:0', 'tf_roberta_model_4/roberta/encoder/layer_._15/attention/output/dense/bias:0', 'tf_roberta_model_4/roberta/encoder/layer_._15/attention/output/LayerNorm/gamma:0', 'tf_roberta_model_4/roberta/encoder/layer_._15/attention/output/LayerNorm/beta:0', 'tf_roberta_model_4/roberta/encoder/layer_._15/intermediate/dense/kernel:0', 'tf_roberta_model_4/roberta/encoder/layer_._15/intermediate/dense/bias:0', 'tf_roberta_model_4/roberta/encoder/layer_._15/output/dense/kernel:0', 'tf_roberta_model_4/roberta/encoder/layer_._15/output/dense/bias:0', 'tf_roberta_model_4/roberta/encoder/layer_._15/output/LayerNorm/gamma:0', 'tf_roberta_model_4/roberta/encoder/layer_._15/output/LayerNorm/beta:0', 'tf_roberta_model_4/roberta/encoder/layer_._16/attention/self/query/kernel:0', 'tf_roberta_model_4/roberta/encoder/layer_._16/attention/self/query/bias:0', 'tf_roberta_model_4/roberta/encoder/layer_._16/attention/self/key/kernel:0', 'tf_roberta_model_4/roberta/encoder/layer_._16/attention/self/key/bias:0', 'tf_roberta_model_4/roberta/encoder/layer_._16/attention/self/value/kernel:0', 'tf_roberta_model_4/roberta/encoder/layer_._16/attention/self/value/bias:0', 'tf_roberta_model_4/roberta/encoder/layer_._16/attention/output/dense/kernel:0', 'tf_roberta_model_4/roberta/encoder/layer_._16/attention/output/dense/bias:0', 'tf_roberta_model_4/roberta/encoder/layer_._16/attention/output/LayerNorm/gamma:0', 'tf_roberta_model_4/roberta/encoder/layer_._16/attention/output/LayerNorm/beta:0', 'tf_roberta_model_4/roberta/encoder/layer_._16/intermediate/dense/kernel:0', 'tf_roberta_model_4/roberta/encoder/layer_._16/intermediate/dense/bias:0', 'tf_roberta_model_4/roberta/encoder/layer_._16/output/dense/kernel:0', 'tf_roberta_model_4/roberta/encoder/layer_._16/output/dense/bias:0', 'tf_roberta_model_4/roberta/encoder/layer_._16/output/LayerNorm/gamma:0', 'tf_roberta_model_4/roberta/encoder/layer_._16/output/LayerNorm/beta:0', 'tf_roberta_model_4/roberta/encoder/layer_._17/attention/self/query/kernel:0', 'tf_roberta_model_4/roberta/encoder/layer_._17/attention/self/query/bias:0', 'tf_roberta_model_4/roberta/encoder/layer_._17/attention/self/key/kernel:0', 'tf_roberta_model_4/roberta/encoder/layer_._17/attention/self/key/bias:0', 'tf_roberta_model_4/roberta/encoder/layer_._17/attention/self/value/kernel:0', 'tf_roberta_model_4/roberta/encoder/layer_._17/attention/self/value/bias:0', 'tf_roberta_model_4/roberta/encoder/layer_._17/attention/output/dense/kernel:0', 'tf_roberta_model_4/roberta/encoder/layer_._17/attention/output/dense/bias:0', 'tf_roberta_model_4/roberta/encoder/layer_._17/attention/output/LayerNorm/gamma:0', 'tf_roberta_model_4/roberta/encoder/layer_._17/attention/output/LayerNorm/beta:0', 'tf_roberta_model_4/roberta/encoder/layer_._17/intermediate/dense/kernel:0', 'tf_roberta_model_4/roberta/encoder/layer_._17/intermediate/dense/bias:0', 'tf_roberta_model_4/roberta/encoder/layer_._17/output/dense/kernel:0', 'tf_roberta_model_4/roberta/encoder/layer_._17/output/dense/bias:0', 'tf_roberta_model_4/roberta/encoder/layer_._17/output/LayerNorm/gamma:0', 'tf_roberta_model_4/roberta/encoder/layer_._17/output/LayerNorm/beta:0', 'tf_roberta_model_4/roberta/encoder/layer_._18/attention/self/query/kernel:0', 'tf_roberta_model_4/roberta/encoder/layer_._18/attention/self/query/bias:0', 'tf_roberta_model_4/roberta/encoder/layer_._18/attention/self/key/kernel:0', 'tf_roberta_model_4/roberta/encoder/layer_._18/attention/self/key/bias:0', 'tf_roberta_model_4/roberta/encoder/layer_._18/attention/self/value/kernel:0', 'tf_roberta_model_4/roberta/encoder/layer_._18/attention/self/value/bias:0', 'tf_roberta_model_4/roberta/encoder/layer_._18/attention/output/dense/kernel:0', 'tf_roberta_model_4/roberta/encoder/layer_._18/attention/output/dense/bias:0', 'tf_roberta_model_4/roberta/encoder/layer_._18/attention/output/LayerNorm/gamma:0', 'tf_roberta_model_4/roberta/encoder/layer_._18/attention/output/LayerNorm/beta:0', 'tf_roberta_model_4/roberta/encoder/layer_._18/intermediate/dense/kernel:0', 'tf_roberta_model_4/roberta/encoder/layer_._18/intermediate/dense/bias:0', 'tf_roberta_model_4/roberta/encoder/layer_._18/output/dense/kernel:0', 'tf_roberta_model_4/roberta/encoder/layer_._18/output/dense/bias:0', 'tf_roberta_model_4/roberta/encoder/layer_._18/output/LayerNorm/gamma:0', 'tf_roberta_model_4/roberta/encoder/layer_._18/output/LayerNorm/beta:0', 'tf_roberta_model_4/roberta/encoder/layer_._19/attention/self/query/kernel:0', 'tf_roberta_model_4/roberta/encoder/layer_._19/attention/self/query/bias:0', 'tf_roberta_model_4/roberta/encoder/layer_._19/attention/self/key/kernel:0', 'tf_roberta_model_4/roberta/encoder/layer_._19/attention/self/key/bias:0', 'tf_roberta_model_4/roberta/encoder/layer_._19/attention/self/value/kernel:0', 'tf_roberta_model_4/roberta/encoder/layer_._19/attention/self/value/bias:0', 'tf_roberta_model_4/roberta/encoder/layer_._19/attention/output/dense/kernel:0', 'tf_roberta_model_4/roberta/encoder/layer_._19/attention/output/dense/bias:0', 'tf_roberta_model_4/roberta/encoder/layer_._19/attention/output/LayerNorm/gamma:0', 'tf_roberta_model_4/roberta/encoder/layer_._19/attention/output/LayerNorm/beta:0', 'tf_roberta_model_4/roberta/encoder/layer_._19/intermediate/dense/kernel:0', 'tf_roberta_model_4/roberta/encoder/layer_._19/intermediate/dense/bias:0', 'tf_roberta_model_4/roberta/encoder/layer_._19/output/dense/kernel:0', 'tf_roberta_model_4/roberta/encoder/layer_._19/output/dense/bias:0', 'tf_roberta_model_4/roberta/encoder/layer_._19/output/LayerNorm/gamma:0', 'tf_roberta_model_4/roberta/encoder/layer_._19/output/LayerNorm/beta:0', 'tf_roberta_model_4/roberta/pooler/dense/kernel:0', 'tf_roberta_model_4/roberta/pooler/dense/bias:0', 'tf_roberta_model_4/roberta/embeddings/word_embeddings/weight:0', 'tf_roberta_model_4/roberta/embeddings/token_type_embeddings/embeddings:0', 'tf_roberta_model_4/roberta/embeddings/position_embeddings/embeddings:0', 'tf_roberta_model_4/roberta/embeddings/LayerNorm/gamma:0', 'tf_roberta_model_4/roberta/embeddings/LayerNorm/beta:0'] when minimizing the loss. If you're using `model.compile()`, did you forget to provide a `loss` argument?\n",
            "WARNING:tensorflow:Gradients do not exist for variables ['tf_roberta_model_4/roberta/encoder/layer_._0/attention/self/query/kernel:0', 'tf_roberta_model_4/roberta/encoder/layer_._0/attention/self/query/bias:0', 'tf_roberta_model_4/roberta/encoder/layer_._0/attention/self/key/kernel:0', 'tf_roberta_model_4/roberta/encoder/layer_._0/attention/self/key/bias:0', 'tf_roberta_model_4/roberta/encoder/layer_._0/attention/self/value/kernel:0', 'tf_roberta_model_4/roberta/encoder/layer_._0/attention/self/value/bias:0', 'tf_roberta_model_4/roberta/encoder/layer_._0/attention/output/dense/kernel:0', 'tf_roberta_model_4/roberta/encoder/layer_._0/attention/output/dense/bias:0', 'tf_roberta_model_4/roberta/encoder/layer_._0/attention/output/LayerNorm/gamma:0', 'tf_roberta_model_4/roberta/encoder/layer_._0/attention/output/LayerNorm/beta:0', 'tf_roberta_model_4/roberta/encoder/layer_._0/intermediate/dense/kernel:0', 'tf_roberta_model_4/roberta/encoder/layer_._0/intermediate/dense/bias:0', 'tf_roberta_model_4/roberta/encoder/layer_._0/output/dense/kernel:0', 'tf_roberta_model_4/roberta/encoder/layer_._0/output/dense/bias:0', 'tf_roberta_model_4/roberta/encoder/layer_._0/output/LayerNorm/gamma:0', 'tf_roberta_model_4/roberta/encoder/layer_._0/output/LayerNorm/beta:0', 'tf_roberta_model_4/roberta/encoder/layer_._1/attention/self/query/kernel:0', 'tf_roberta_model_4/roberta/encoder/layer_._1/attention/self/query/bias:0', 'tf_roberta_model_4/roberta/encoder/layer_._1/attention/self/key/kernel:0', 'tf_roberta_model_4/roberta/encoder/layer_._1/attention/self/key/bias:0', 'tf_roberta_model_4/roberta/encoder/layer_._1/attention/self/value/kernel:0', 'tf_roberta_model_4/roberta/encoder/layer_._1/attention/self/value/bias:0', 'tf_roberta_model_4/roberta/encoder/layer_._1/attention/output/dense/kernel:0', 'tf_roberta_model_4/roberta/encoder/layer_._1/attention/output/dense/bias:0', 'tf_roberta_model_4/roberta/encoder/layer_._1/attention/output/LayerNorm/gamma:0', 'tf_roberta_model_4/roberta/encoder/layer_._1/attention/output/LayerNorm/beta:0', 'tf_roberta_model_4/roberta/encoder/layer_._1/intermediate/dense/kernel:0', 'tf_roberta_model_4/roberta/encoder/layer_._1/intermediate/dense/bias:0', 'tf_roberta_model_4/roberta/encoder/layer_._1/output/dense/kernel:0', 'tf_roberta_model_4/roberta/encoder/layer_._1/output/dense/bias:0', 'tf_roberta_model_4/roberta/encoder/layer_._1/output/LayerNorm/gamma:0', 'tf_roberta_model_4/roberta/encoder/layer_._1/output/LayerNorm/beta:0', 'tf_roberta_model_4/roberta/encoder/layer_._2/attention/self/query/kernel:0', 'tf_roberta_model_4/roberta/encoder/layer_._2/attention/self/query/bias:0', 'tf_roberta_model_4/roberta/encoder/layer_._2/attention/self/key/kernel:0', 'tf_roberta_model_4/roberta/encoder/layer_._2/attention/self/key/bias:0', 'tf_roberta_model_4/roberta/encoder/layer_._2/attention/self/value/kernel:0', 'tf_roberta_model_4/roberta/encoder/layer_._2/attention/self/value/bias:0', 'tf_roberta_model_4/roberta/encoder/layer_._2/attention/output/dense/kernel:0', 'tf_roberta_model_4/roberta/encoder/layer_._2/attention/output/dense/bias:0', 'tf_roberta_model_4/roberta/encoder/layer_._2/attention/output/LayerNorm/gamma:0', 'tf_roberta_model_4/roberta/encoder/layer_._2/attention/output/LayerNorm/beta:0', 'tf_roberta_model_4/roberta/encoder/layer_._2/intermediate/dense/kernel:0', 'tf_roberta_model_4/roberta/encoder/layer_._2/intermediate/dense/bias:0', 'tf_roberta_model_4/roberta/encoder/layer_._2/output/dense/kernel:0', 'tf_roberta_model_4/roberta/encoder/layer_._2/output/dense/bias:0', 'tf_roberta_model_4/roberta/encoder/layer_._2/output/LayerNorm/gamma:0', 'tf_roberta_model_4/roberta/encoder/layer_._2/output/LayerNorm/beta:0', 'tf_roberta_model_4/roberta/encoder/layer_._3/attention/self/query/kernel:0', 'tf_roberta_model_4/roberta/encoder/layer_._3/attention/self/query/bias:0', 'tf_roberta_model_4/roberta/encoder/layer_._3/attention/self/key/kernel:0', 'tf_roberta_model_4/roberta/encoder/layer_._3/attention/self/key/bias:0', 'tf_roberta_model_4/roberta/encoder/layer_._3/attention/self/value/kernel:0', 'tf_roberta_model_4/roberta/encoder/layer_._3/attention/self/value/bias:0', 'tf_roberta_model_4/roberta/encoder/layer_._3/attention/output/dense/kernel:0', 'tf_roberta_model_4/roberta/encoder/layer_._3/attention/output/dense/bias:0', 'tf_roberta_model_4/roberta/encoder/layer_._3/attention/output/LayerNorm/gamma:0', 'tf_roberta_model_4/roberta/encoder/layer_._3/attention/output/LayerNorm/beta:0', 'tf_roberta_model_4/roberta/encoder/layer_._3/intermediate/dense/kernel:0', 'tf_roberta_model_4/roberta/encoder/layer_._3/intermediate/dense/bias:0', 'tf_roberta_model_4/roberta/encoder/layer_._3/output/dense/kernel:0', 'tf_roberta_model_4/roberta/encoder/layer_._3/output/dense/bias:0', 'tf_roberta_model_4/roberta/encoder/layer_._3/output/LayerNorm/gamma:0', 'tf_roberta_model_4/roberta/encoder/layer_._3/output/LayerNorm/beta:0', 'tf_roberta_model_4/roberta/encoder/layer_._4/attention/self/query/kernel:0', 'tf_roberta_model_4/roberta/encoder/layer_._4/attention/self/query/bias:0', 'tf_roberta_model_4/roberta/encoder/layer_._4/attention/self/key/kernel:0', 'tf_roberta_model_4/roberta/encoder/layer_._4/attention/self/key/bias:0', 'tf_roberta_model_4/roberta/encoder/layer_._4/attention/self/value/kernel:0', 'tf_roberta_model_4/roberta/encoder/layer_._4/attention/self/value/bias:0', 'tf_roberta_model_4/roberta/encoder/layer_._4/attention/output/dense/kernel:0', 'tf_roberta_model_4/roberta/encoder/layer_._4/attention/output/dense/bias:0', 'tf_roberta_model_4/roberta/encoder/layer_._4/attention/output/LayerNorm/gamma:0', 'tf_roberta_model_4/roberta/encoder/layer_._4/attention/output/LayerNorm/beta:0', 'tf_roberta_model_4/roberta/encoder/layer_._4/intermediate/dense/kernel:0', 'tf_roberta_model_4/roberta/encoder/layer_._4/intermediate/dense/bias:0', 'tf_roberta_model_4/roberta/encoder/layer_._4/output/dense/kernel:0', 'tf_roberta_model_4/roberta/encoder/layer_._4/output/dense/bias:0', 'tf_roberta_model_4/roberta/encoder/layer_._4/output/LayerNorm/gamma:0', 'tf_roberta_model_4/roberta/encoder/layer_._4/output/LayerNorm/beta:0', 'tf_roberta_model_4/roberta/encoder/layer_._5/attention/self/query/kernel:0', 'tf_roberta_model_4/roberta/encoder/layer_._5/attention/self/query/bias:0', 'tf_roberta_model_4/roberta/encoder/layer_._5/attention/self/key/kernel:0', 'tf_roberta_model_4/roberta/encoder/layer_._5/attention/self/key/bias:0', 'tf_roberta_model_4/roberta/encoder/layer_._5/attention/self/value/kernel:0', 'tf_roberta_model_4/roberta/encoder/layer_._5/attention/self/value/bias:0', 'tf_roberta_model_4/roberta/encoder/layer_._5/attention/output/dense/kernel:0', 'tf_roberta_model_4/roberta/encoder/layer_._5/attention/output/dense/bias:0', 'tf_roberta_model_4/roberta/encoder/layer_._5/attention/output/LayerNorm/gamma:0', 'tf_roberta_model_4/roberta/encoder/layer_._5/attention/output/LayerNorm/beta:0', 'tf_roberta_model_4/roberta/encoder/layer_._5/intermediate/dense/kernel:0', 'tf_roberta_model_4/roberta/encoder/layer_._5/intermediate/dense/bias:0', 'tf_roberta_model_4/roberta/encoder/layer_._5/output/dense/kernel:0', 'tf_roberta_model_4/roberta/encoder/layer_._5/output/dense/bias:0', 'tf_roberta_model_4/roberta/encoder/layer_._5/output/LayerNorm/gamma:0', 'tf_roberta_model_4/roberta/encoder/layer_._5/output/LayerNorm/beta:0', 'tf_roberta_model_4/roberta/encoder/layer_._6/attention/self/query/kernel:0', 'tf_roberta_model_4/roberta/encoder/layer_._6/attention/self/query/bias:0', 'tf_roberta_model_4/roberta/encoder/layer_._6/attention/self/key/kernel:0', 'tf_roberta_model_4/roberta/encoder/layer_._6/attention/self/key/bias:0', 'tf_roberta_model_4/roberta/encoder/layer_._6/attention/self/value/kernel:0', 'tf_roberta_model_4/roberta/encoder/layer_._6/attention/self/value/bias:0', 'tf_roberta_model_4/roberta/encoder/layer_._6/attention/output/dense/kernel:0', 'tf_roberta_model_4/roberta/encoder/layer_._6/attention/output/dense/bias:0', 'tf_roberta_model_4/roberta/encoder/layer_._6/attention/output/LayerNorm/gamma:0', 'tf_roberta_model_4/roberta/encoder/layer_._6/attention/output/LayerNorm/beta:0', 'tf_roberta_model_4/roberta/encoder/layer_._6/intermediate/dense/kernel:0', 'tf_roberta_model_4/roberta/encoder/layer_._6/intermediate/dense/bias:0', 'tf_roberta_model_4/roberta/encoder/layer_._6/output/dense/kernel:0', 'tf_roberta_model_4/roberta/encoder/layer_._6/output/dense/bias:0', 'tf_roberta_model_4/roberta/encoder/layer_._6/output/LayerNorm/gamma:0', 'tf_roberta_model_4/roberta/encoder/layer_._6/output/LayerNorm/beta:0', 'tf_roberta_model_4/roberta/encoder/layer_._7/attention/self/query/kernel:0', 'tf_roberta_model_4/roberta/encoder/layer_._7/attention/self/query/bias:0', 'tf_roberta_model_4/roberta/encoder/layer_._7/attention/self/key/kernel:0', 'tf_roberta_model_4/roberta/encoder/layer_._7/attention/self/key/bias:0', 'tf_roberta_model_4/roberta/encoder/layer_._7/attention/self/value/kernel:0', 'tf_roberta_model_4/roberta/encoder/layer_._7/attention/self/value/bias:0', 'tf_roberta_model_4/roberta/encoder/layer_._7/attention/output/dense/kernel:0', 'tf_roberta_model_4/roberta/encoder/layer_._7/attention/output/dense/bias:0', 'tf_roberta_model_4/roberta/encoder/layer_._7/attention/output/LayerNorm/gamma:0', 'tf_roberta_model_4/roberta/encoder/layer_._7/attention/output/LayerNorm/beta:0', 'tf_roberta_model_4/roberta/encoder/layer_._7/intermediate/dense/kernel:0', 'tf_roberta_model_4/roberta/encoder/layer_._7/intermediate/dense/bias:0', 'tf_roberta_model_4/roberta/encoder/layer_._7/output/dense/kernel:0', 'tf_roberta_model_4/roberta/encoder/layer_._7/output/dense/bias:0', 'tf_roberta_model_4/roberta/encoder/layer_._7/output/LayerNorm/gamma:0', 'tf_roberta_model_4/roberta/encoder/layer_._7/output/LayerNorm/beta:0', 'tf_roberta_model_4/roberta/encoder/layer_._8/attention/self/query/kernel:0', 'tf_roberta_model_4/roberta/encoder/layer_._8/attention/self/query/bias:0', 'tf_roberta_model_4/roberta/encoder/layer_._8/attention/self/key/kernel:0', 'tf_roberta_model_4/roberta/encoder/layer_._8/attention/self/key/bias:0', 'tf_roberta_model_4/roberta/encoder/layer_._8/attention/self/value/kernel:0', 'tf_roberta_model_4/roberta/encoder/layer_._8/attention/self/value/bias:0', 'tf_roberta_model_4/roberta/encoder/layer_._8/attention/output/dense/kernel:0', 'tf_roberta_model_4/roberta/encoder/layer_._8/attention/output/dense/bias:0', 'tf_roberta_model_4/roberta/encoder/layer_._8/attention/output/LayerNorm/gamma:0', 'tf_roberta_model_4/roberta/encoder/layer_._8/attention/output/LayerNorm/beta:0', 'tf_roberta_model_4/roberta/encoder/layer_._8/intermediate/dense/kernel:0', 'tf_roberta_model_4/roberta/encoder/layer_._8/intermediate/dense/bias:0', 'tf_roberta_model_4/roberta/encoder/layer_._8/output/dense/kernel:0', 'tf_roberta_model_4/roberta/encoder/layer_._8/output/dense/bias:0', 'tf_roberta_model_4/roberta/encoder/layer_._8/output/LayerNorm/gamma:0', 'tf_roberta_model_4/roberta/encoder/layer_._8/output/LayerNorm/beta:0', 'tf_roberta_model_4/roberta/encoder/layer_._9/attention/self/query/kernel:0', 'tf_roberta_model_4/roberta/encoder/layer_._9/attention/self/query/bias:0', 'tf_roberta_model_4/roberta/encoder/layer_._9/attention/self/key/kernel:0', 'tf_roberta_model_4/roberta/encoder/layer_._9/attention/self/key/bias:0', 'tf_roberta_model_4/roberta/encoder/layer_._9/attention/self/value/kernel:0', 'tf_roberta_model_4/roberta/encoder/layer_._9/attention/self/value/bias:0', 'tf_roberta_model_4/roberta/encoder/layer_._9/attention/output/dense/kernel:0', 'tf_roberta_model_4/roberta/encoder/layer_._9/attention/output/dense/bias:0', 'tf_roberta_model_4/roberta/encoder/layer_._9/attention/output/LayerNorm/gamma:0', 'tf_roberta_model_4/roberta/encoder/layer_._9/attention/output/LayerNorm/beta:0', 'tf_roberta_model_4/roberta/encoder/layer_._9/intermediate/dense/kernel:0', 'tf_roberta_model_4/roberta/encoder/layer_._9/intermediate/dense/bias:0', 'tf_roberta_model_4/roberta/encoder/layer_._9/output/dense/kernel:0', 'tf_roberta_model_4/roberta/encoder/layer_._9/output/dense/bias:0', 'tf_roberta_model_4/roberta/encoder/layer_._9/output/LayerNorm/gamma:0', 'tf_roberta_model_4/roberta/encoder/layer_._9/output/LayerNorm/beta:0', 'tf_roberta_model_4/roberta/encoder/layer_._10/attention/self/query/kernel:0', 'tf_roberta_model_4/roberta/encoder/layer_._10/attention/self/query/bias:0', 'tf_roberta_model_4/roberta/encoder/layer_._10/attention/self/key/kernel:0', 'tf_roberta_model_4/roberta/encoder/layer_._10/attention/self/key/bias:0', 'tf_roberta_model_4/roberta/encoder/layer_._10/attention/self/value/kernel:0', 'tf_roberta_model_4/roberta/encoder/layer_._10/attention/self/value/bias:0', 'tf_roberta_model_4/roberta/encoder/layer_._10/attention/output/dense/kernel:0', 'tf_roberta_model_4/roberta/encoder/layer_._10/attention/output/dense/bias:0', 'tf_roberta_model_4/roberta/encoder/layer_._10/attention/output/LayerNorm/gamma:0', 'tf_roberta_model_4/roberta/encoder/layer_._10/attention/output/LayerNorm/beta:0', 'tf_roberta_model_4/roberta/encoder/layer_._10/intermediate/dense/kernel:0', 'tf_roberta_model_4/roberta/encoder/layer_._10/intermediate/dense/bias:0', 'tf_roberta_model_4/roberta/encoder/layer_._10/output/dense/kernel:0', 'tf_roberta_model_4/roberta/encoder/layer_._10/output/dense/bias:0', 'tf_roberta_model_4/roberta/encoder/layer_._10/output/LayerNorm/gamma:0', 'tf_roberta_model_4/roberta/encoder/layer_._10/output/LayerNorm/beta:0', 'tf_roberta_model_4/roberta/encoder/layer_._11/attention/self/query/kernel:0', 'tf_roberta_model_4/roberta/encoder/layer_._11/attention/self/query/bias:0', 'tf_roberta_model_4/roberta/encoder/layer_._11/attention/self/key/kernel:0', 'tf_roberta_model_4/roberta/encoder/layer_._11/attention/self/key/bias:0', 'tf_roberta_model_4/roberta/encoder/layer_._11/attention/self/value/kernel:0', 'tf_roberta_model_4/roberta/encoder/layer_._11/attention/self/value/bias:0', 'tf_roberta_model_4/roberta/encoder/layer_._11/attention/output/dense/kernel:0', 'tf_roberta_model_4/roberta/encoder/layer_._11/attention/output/dense/bias:0', 'tf_roberta_model_4/roberta/encoder/layer_._11/attention/output/LayerNorm/gamma:0', 'tf_roberta_model_4/roberta/encoder/layer_._11/attention/output/LayerNorm/beta:0', 'tf_roberta_model_4/roberta/encoder/layer_._11/intermediate/dense/kernel:0', 'tf_roberta_model_4/roberta/encoder/layer_._11/intermediate/dense/bias:0', 'tf_roberta_model_4/roberta/encoder/layer_._11/output/dense/kernel:0', 'tf_roberta_model_4/roberta/encoder/layer_._11/output/dense/bias:0', 'tf_roberta_model_4/roberta/encoder/layer_._11/output/LayerNorm/gamma:0', 'tf_roberta_model_4/roberta/encoder/layer_._11/output/LayerNorm/beta:0', 'tf_roberta_model_4/roberta/encoder/layer_._12/attention/self/query/kernel:0', 'tf_roberta_model_4/roberta/encoder/layer_._12/attention/self/query/bias:0', 'tf_roberta_model_4/roberta/encoder/layer_._12/attention/self/key/kernel:0', 'tf_roberta_model_4/roberta/encoder/layer_._12/attention/self/key/bias:0', 'tf_roberta_model_4/roberta/encoder/layer_._12/attention/self/value/kernel:0', 'tf_roberta_model_4/roberta/encoder/layer_._12/attention/self/value/bias:0', 'tf_roberta_model_4/roberta/encoder/layer_._12/attention/output/dense/kernel:0', 'tf_roberta_model_4/roberta/encoder/layer_._12/attention/output/dense/bias:0', 'tf_roberta_model_4/roberta/encoder/layer_._12/attention/output/LayerNorm/gamma:0', 'tf_roberta_model_4/roberta/encoder/layer_._12/attention/output/LayerNorm/beta:0', 'tf_roberta_model_4/roberta/encoder/layer_._12/intermediate/dense/kernel:0', 'tf_roberta_model_4/roberta/encoder/layer_._12/intermediate/dense/bias:0', 'tf_roberta_model_4/roberta/encoder/layer_._12/output/dense/kernel:0', 'tf_roberta_model_4/roberta/encoder/layer_._12/output/dense/bias:0', 'tf_roberta_model_4/roberta/encoder/layer_._12/output/LayerNorm/gamma:0', 'tf_roberta_model_4/roberta/encoder/layer_._12/output/LayerNorm/beta:0', 'tf_roberta_model_4/roberta/encoder/layer_._13/attention/self/query/kernel:0', 'tf_roberta_model_4/roberta/encoder/layer_._13/attention/self/query/bias:0', 'tf_roberta_model_4/roberta/encoder/layer_._13/attention/self/key/kernel:0', 'tf_roberta_model_4/roberta/encoder/layer_._13/attention/self/key/bias:0', 'tf_roberta_model_4/roberta/encoder/layer_._13/attention/self/value/kernel:0', 'tf_roberta_model_4/roberta/encoder/layer_._13/attention/self/value/bias:0', 'tf_roberta_model_4/roberta/encoder/layer_._13/attention/output/dense/kernel:0', 'tf_roberta_model_4/roberta/encoder/layer_._13/attention/output/dense/bias:0', 'tf_roberta_model_4/roberta/encoder/layer_._13/attention/output/LayerNorm/gamma:0', 'tf_roberta_model_4/roberta/encoder/layer_._13/attention/output/LayerNorm/beta:0', 'tf_roberta_model_4/roberta/encoder/layer_._13/intermediate/dense/kernel:0', 'tf_roberta_model_4/roberta/encoder/layer_._13/intermediate/dense/bias:0', 'tf_roberta_model_4/roberta/encoder/layer_._13/output/dense/kernel:0', 'tf_roberta_model_4/roberta/encoder/layer_._13/output/dense/bias:0', 'tf_roberta_model_4/roberta/encoder/layer_._13/output/LayerNorm/gamma:0', 'tf_roberta_model_4/roberta/encoder/layer_._13/output/LayerNorm/beta:0', 'tf_roberta_model_4/roberta/encoder/layer_._14/attention/self/query/kernel:0', 'tf_roberta_model_4/roberta/encoder/layer_._14/attention/self/query/bias:0', 'tf_roberta_model_4/roberta/encoder/layer_._14/attention/self/key/kernel:0', 'tf_roberta_model_4/roberta/encoder/layer_._14/attention/self/key/bias:0', 'tf_roberta_model_4/roberta/encoder/layer_._14/attention/self/value/kernel:0', 'tf_roberta_model_4/roberta/encoder/layer_._14/attention/self/value/bias:0', 'tf_roberta_model_4/roberta/encoder/layer_._14/attention/output/dense/kernel:0', 'tf_roberta_model_4/roberta/encoder/layer_._14/attention/output/dense/bias:0', 'tf_roberta_model_4/roberta/encoder/layer_._14/attention/output/LayerNorm/gamma:0', 'tf_roberta_model_4/roberta/encoder/layer_._14/attention/output/LayerNorm/beta:0', 'tf_roberta_model_4/roberta/encoder/layer_._14/intermediate/dense/kernel:0', 'tf_roberta_model_4/roberta/encoder/layer_._14/intermediate/dense/bias:0', 'tf_roberta_model_4/roberta/encoder/layer_._14/output/dense/kernel:0', 'tf_roberta_model_4/roberta/encoder/layer_._14/output/dense/bias:0', 'tf_roberta_model_4/roberta/encoder/layer_._14/output/LayerNorm/gamma:0', 'tf_roberta_model_4/roberta/encoder/layer_._14/output/LayerNorm/beta:0', 'tf_roberta_model_4/roberta/encoder/layer_._15/attention/self/query/kernel:0', 'tf_roberta_model_4/roberta/encoder/layer_._15/attention/self/query/bias:0', 'tf_roberta_model_4/roberta/encoder/layer_._15/attention/self/key/kernel:0', 'tf_roberta_model_4/roberta/encoder/layer_._15/attention/self/key/bias:0', 'tf_roberta_model_4/roberta/encoder/layer_._15/attention/self/value/kernel:0', 'tf_roberta_model_4/roberta/encoder/layer_._15/attention/self/value/bias:0', 'tf_roberta_model_4/roberta/encoder/layer_._15/attention/output/dense/kernel:0', 'tf_roberta_model_4/roberta/encoder/layer_._15/attention/output/dense/bias:0', 'tf_roberta_model_4/roberta/encoder/layer_._15/attention/output/LayerNorm/gamma:0', 'tf_roberta_model_4/roberta/encoder/layer_._15/attention/output/LayerNorm/beta:0', 'tf_roberta_model_4/roberta/encoder/layer_._15/intermediate/dense/kernel:0', 'tf_roberta_model_4/roberta/encoder/layer_._15/intermediate/dense/bias:0', 'tf_roberta_model_4/roberta/encoder/layer_._15/output/dense/kernel:0', 'tf_roberta_model_4/roberta/encoder/layer_._15/output/dense/bias:0', 'tf_roberta_model_4/roberta/encoder/layer_._15/output/LayerNorm/gamma:0', 'tf_roberta_model_4/roberta/encoder/layer_._15/output/LayerNorm/beta:0', 'tf_roberta_model_4/roberta/encoder/layer_._16/attention/self/query/kernel:0', 'tf_roberta_model_4/roberta/encoder/layer_._16/attention/self/query/bias:0', 'tf_roberta_model_4/roberta/encoder/layer_._16/attention/self/key/kernel:0', 'tf_roberta_model_4/roberta/encoder/layer_._16/attention/self/key/bias:0', 'tf_roberta_model_4/roberta/encoder/layer_._16/attention/self/value/kernel:0', 'tf_roberta_model_4/roberta/encoder/layer_._16/attention/self/value/bias:0', 'tf_roberta_model_4/roberta/encoder/layer_._16/attention/output/dense/kernel:0', 'tf_roberta_model_4/roberta/encoder/layer_._16/attention/output/dense/bias:0', 'tf_roberta_model_4/roberta/encoder/layer_._16/attention/output/LayerNorm/gamma:0', 'tf_roberta_model_4/roberta/encoder/layer_._16/attention/output/LayerNorm/beta:0', 'tf_roberta_model_4/roberta/encoder/layer_._16/intermediate/dense/kernel:0', 'tf_roberta_model_4/roberta/encoder/layer_._16/intermediate/dense/bias:0', 'tf_roberta_model_4/roberta/encoder/layer_._16/output/dense/kernel:0', 'tf_roberta_model_4/roberta/encoder/layer_._16/output/dense/bias:0', 'tf_roberta_model_4/roberta/encoder/layer_._16/output/LayerNorm/gamma:0', 'tf_roberta_model_4/roberta/encoder/layer_._16/output/LayerNorm/beta:0', 'tf_roberta_model_4/roberta/encoder/layer_._17/attention/self/query/kernel:0', 'tf_roberta_model_4/roberta/encoder/layer_._17/attention/self/query/bias:0', 'tf_roberta_model_4/roberta/encoder/layer_._17/attention/self/key/kernel:0', 'tf_roberta_model_4/roberta/encoder/layer_._17/attention/self/key/bias:0', 'tf_roberta_model_4/roberta/encoder/layer_._17/attention/self/value/kernel:0', 'tf_roberta_model_4/roberta/encoder/layer_._17/attention/self/value/bias:0', 'tf_roberta_model_4/roberta/encoder/layer_._17/attention/output/dense/kernel:0', 'tf_roberta_model_4/roberta/encoder/layer_._17/attention/output/dense/bias:0', 'tf_roberta_model_4/roberta/encoder/layer_._17/attention/output/LayerNorm/gamma:0', 'tf_roberta_model_4/roberta/encoder/layer_._17/attention/output/LayerNorm/beta:0', 'tf_roberta_model_4/roberta/encoder/layer_._17/intermediate/dense/kernel:0', 'tf_roberta_model_4/roberta/encoder/layer_._17/intermediate/dense/bias:0', 'tf_roberta_model_4/roberta/encoder/layer_._17/output/dense/kernel:0', 'tf_roberta_model_4/roberta/encoder/layer_._17/output/dense/bias:0', 'tf_roberta_model_4/roberta/encoder/layer_._17/output/LayerNorm/gamma:0', 'tf_roberta_model_4/roberta/encoder/layer_._17/output/LayerNorm/beta:0', 'tf_roberta_model_4/roberta/encoder/layer_._18/attention/self/query/kernel:0', 'tf_roberta_model_4/roberta/encoder/layer_._18/attention/self/query/bias:0', 'tf_roberta_model_4/roberta/encoder/layer_._18/attention/self/key/kernel:0', 'tf_roberta_model_4/roberta/encoder/layer_._18/attention/self/key/bias:0', 'tf_roberta_model_4/roberta/encoder/layer_._18/attention/self/value/kernel:0', 'tf_roberta_model_4/roberta/encoder/layer_._18/attention/self/value/bias:0', 'tf_roberta_model_4/roberta/encoder/layer_._18/attention/output/dense/kernel:0', 'tf_roberta_model_4/roberta/encoder/layer_._18/attention/output/dense/bias:0', 'tf_roberta_model_4/roberta/encoder/layer_._18/attention/output/LayerNorm/gamma:0', 'tf_roberta_model_4/roberta/encoder/layer_._18/attention/output/LayerNorm/beta:0', 'tf_roberta_model_4/roberta/encoder/layer_._18/intermediate/dense/kernel:0', 'tf_roberta_model_4/roberta/encoder/layer_._18/intermediate/dense/bias:0', 'tf_roberta_model_4/roberta/encoder/layer_._18/output/dense/kernel:0', 'tf_roberta_model_4/roberta/encoder/layer_._18/output/dense/bias:0', 'tf_roberta_model_4/roberta/encoder/layer_._18/output/LayerNorm/gamma:0', 'tf_roberta_model_4/roberta/encoder/layer_._18/output/LayerNorm/beta:0', 'tf_roberta_model_4/roberta/encoder/layer_._19/attention/self/query/kernel:0', 'tf_roberta_model_4/roberta/encoder/layer_._19/attention/self/query/bias:0', 'tf_roberta_model_4/roberta/encoder/layer_._19/attention/self/key/kernel:0', 'tf_roberta_model_4/roberta/encoder/layer_._19/attention/self/key/bias:0', 'tf_roberta_model_4/roberta/encoder/layer_._19/attention/self/value/kernel:0', 'tf_roberta_model_4/roberta/encoder/layer_._19/attention/self/value/bias:0', 'tf_roberta_model_4/roberta/encoder/layer_._19/attention/output/dense/kernel:0', 'tf_roberta_model_4/roberta/encoder/layer_._19/attention/output/dense/bias:0', 'tf_roberta_model_4/roberta/encoder/layer_._19/attention/output/LayerNorm/gamma:0', 'tf_roberta_model_4/roberta/encoder/layer_._19/attention/output/LayerNorm/beta:0', 'tf_roberta_model_4/roberta/encoder/layer_._19/intermediate/dense/kernel:0', 'tf_roberta_model_4/roberta/encoder/layer_._19/intermediate/dense/bias:0', 'tf_roberta_model_4/roberta/encoder/layer_._19/output/dense/kernel:0', 'tf_roberta_model_4/roberta/encoder/layer_._19/output/dense/bias:0', 'tf_roberta_model_4/roberta/encoder/layer_._19/output/LayerNorm/gamma:0', 'tf_roberta_model_4/roberta/encoder/layer_._19/output/LayerNorm/beta:0', 'tf_roberta_model_4/roberta/pooler/dense/kernel:0', 'tf_roberta_model_4/roberta/pooler/dense/bias:0', 'tf_roberta_model_4/roberta/embeddings/word_embeddings/weight:0', 'tf_roberta_model_4/roberta/embeddings/token_type_embeddings/embeddings:0', 'tf_roberta_model_4/roberta/embeddings/position_embeddings/embeddings:0', 'tf_roberta_model_4/roberta/embeddings/LayerNorm/gamma:0', 'tf_roberta_model_4/roberta/embeddings/LayerNorm/beta:0'] when minimizing the loss. If you're using `model.compile()`, did you forget to provide a `loss` argument?\n",
            "WARNING:tensorflow:Gradients do not exist for variables ['tf_roberta_model_4/roberta/encoder/layer_._0/attention/self/query/kernel:0', 'tf_roberta_model_4/roberta/encoder/layer_._0/attention/self/query/bias:0', 'tf_roberta_model_4/roberta/encoder/layer_._0/attention/self/key/kernel:0', 'tf_roberta_model_4/roberta/encoder/layer_._0/attention/self/key/bias:0', 'tf_roberta_model_4/roberta/encoder/layer_._0/attention/self/value/kernel:0', 'tf_roberta_model_4/roberta/encoder/layer_._0/attention/self/value/bias:0', 'tf_roberta_model_4/roberta/encoder/layer_._0/attention/output/dense/kernel:0', 'tf_roberta_model_4/roberta/encoder/layer_._0/attention/output/dense/bias:0', 'tf_roberta_model_4/roberta/encoder/layer_._0/attention/output/LayerNorm/gamma:0', 'tf_roberta_model_4/roberta/encoder/layer_._0/attention/output/LayerNorm/beta:0', 'tf_roberta_model_4/roberta/encoder/layer_._0/intermediate/dense/kernel:0', 'tf_roberta_model_4/roberta/encoder/layer_._0/intermediate/dense/bias:0', 'tf_roberta_model_4/roberta/encoder/layer_._0/output/dense/kernel:0', 'tf_roberta_model_4/roberta/encoder/layer_._0/output/dense/bias:0', 'tf_roberta_model_4/roberta/encoder/layer_._0/output/LayerNorm/gamma:0', 'tf_roberta_model_4/roberta/encoder/layer_._0/output/LayerNorm/beta:0', 'tf_roberta_model_4/roberta/encoder/layer_._1/attention/self/query/kernel:0', 'tf_roberta_model_4/roberta/encoder/layer_._1/attention/self/query/bias:0', 'tf_roberta_model_4/roberta/encoder/layer_._1/attention/self/key/kernel:0', 'tf_roberta_model_4/roberta/encoder/layer_._1/attention/self/key/bias:0', 'tf_roberta_model_4/roberta/encoder/layer_._1/attention/self/value/kernel:0', 'tf_roberta_model_4/roberta/encoder/layer_._1/attention/self/value/bias:0', 'tf_roberta_model_4/roberta/encoder/layer_._1/attention/output/dense/kernel:0', 'tf_roberta_model_4/roberta/encoder/layer_._1/attention/output/dense/bias:0', 'tf_roberta_model_4/roberta/encoder/layer_._1/attention/output/LayerNorm/gamma:0', 'tf_roberta_model_4/roberta/encoder/layer_._1/attention/output/LayerNorm/beta:0', 'tf_roberta_model_4/roberta/encoder/layer_._1/intermediate/dense/kernel:0', 'tf_roberta_model_4/roberta/encoder/layer_._1/intermediate/dense/bias:0', 'tf_roberta_model_4/roberta/encoder/layer_._1/output/dense/kernel:0', 'tf_roberta_model_4/roberta/encoder/layer_._1/output/dense/bias:0', 'tf_roberta_model_4/roberta/encoder/layer_._1/output/LayerNorm/gamma:0', 'tf_roberta_model_4/roberta/encoder/layer_._1/output/LayerNorm/beta:0', 'tf_roberta_model_4/roberta/encoder/layer_._2/attention/self/query/kernel:0', 'tf_roberta_model_4/roberta/encoder/layer_._2/attention/self/query/bias:0', 'tf_roberta_model_4/roberta/encoder/layer_._2/attention/self/key/kernel:0', 'tf_roberta_model_4/roberta/encoder/layer_._2/attention/self/key/bias:0', 'tf_roberta_model_4/roberta/encoder/layer_._2/attention/self/value/kernel:0', 'tf_roberta_model_4/roberta/encoder/layer_._2/attention/self/value/bias:0', 'tf_roberta_model_4/roberta/encoder/layer_._2/attention/output/dense/kernel:0', 'tf_roberta_model_4/roberta/encoder/layer_._2/attention/output/dense/bias:0', 'tf_roberta_model_4/roberta/encoder/layer_._2/attention/output/LayerNorm/gamma:0', 'tf_roberta_model_4/roberta/encoder/layer_._2/attention/output/LayerNorm/beta:0', 'tf_roberta_model_4/roberta/encoder/layer_._2/intermediate/dense/kernel:0', 'tf_roberta_model_4/roberta/encoder/layer_._2/intermediate/dense/bias:0', 'tf_roberta_model_4/roberta/encoder/layer_._2/output/dense/kernel:0', 'tf_roberta_model_4/roberta/encoder/layer_._2/output/dense/bias:0', 'tf_roberta_model_4/roberta/encoder/layer_._2/output/LayerNorm/gamma:0', 'tf_roberta_model_4/roberta/encoder/layer_._2/output/LayerNorm/beta:0', 'tf_roberta_model_4/roberta/encoder/layer_._3/attention/self/query/kernel:0', 'tf_roberta_model_4/roberta/encoder/layer_._3/attention/self/query/bias:0', 'tf_roberta_model_4/roberta/encoder/layer_._3/attention/self/key/kernel:0', 'tf_roberta_model_4/roberta/encoder/layer_._3/attention/self/key/bias:0', 'tf_roberta_model_4/roberta/encoder/layer_._3/attention/self/value/kernel:0', 'tf_roberta_model_4/roberta/encoder/layer_._3/attention/self/value/bias:0', 'tf_roberta_model_4/roberta/encoder/layer_._3/attention/output/dense/kernel:0', 'tf_roberta_model_4/roberta/encoder/layer_._3/attention/output/dense/bias:0', 'tf_roberta_model_4/roberta/encoder/layer_._3/attention/output/LayerNorm/gamma:0', 'tf_roberta_model_4/roberta/encoder/layer_._3/attention/output/LayerNorm/beta:0', 'tf_roberta_model_4/roberta/encoder/layer_._3/intermediate/dense/kernel:0', 'tf_roberta_model_4/roberta/encoder/layer_._3/intermediate/dense/bias:0', 'tf_roberta_model_4/roberta/encoder/layer_._3/output/dense/kernel:0', 'tf_roberta_model_4/roberta/encoder/layer_._3/output/dense/bias:0', 'tf_roberta_model_4/roberta/encoder/layer_._3/output/LayerNorm/gamma:0', 'tf_roberta_model_4/roberta/encoder/layer_._3/output/LayerNorm/beta:0', 'tf_roberta_model_4/roberta/encoder/layer_._4/attention/self/query/kernel:0', 'tf_roberta_model_4/roberta/encoder/layer_._4/attention/self/query/bias:0', 'tf_roberta_model_4/roberta/encoder/layer_._4/attention/self/key/kernel:0', 'tf_roberta_model_4/roberta/encoder/layer_._4/attention/self/key/bias:0', 'tf_roberta_model_4/roberta/encoder/layer_._4/attention/self/value/kernel:0', 'tf_roberta_model_4/roberta/encoder/layer_._4/attention/self/value/bias:0', 'tf_roberta_model_4/roberta/encoder/layer_._4/attention/output/dense/kernel:0', 'tf_roberta_model_4/roberta/encoder/layer_._4/attention/output/dense/bias:0', 'tf_roberta_model_4/roberta/encoder/layer_._4/attention/output/LayerNorm/gamma:0', 'tf_roberta_model_4/roberta/encoder/layer_._4/attention/output/LayerNorm/beta:0', 'tf_roberta_model_4/roberta/encoder/layer_._4/intermediate/dense/kernel:0', 'tf_roberta_model_4/roberta/encoder/layer_._4/intermediate/dense/bias:0', 'tf_roberta_model_4/roberta/encoder/layer_._4/output/dense/kernel:0', 'tf_roberta_model_4/roberta/encoder/layer_._4/output/dense/bias:0', 'tf_roberta_model_4/roberta/encoder/layer_._4/output/LayerNorm/gamma:0', 'tf_roberta_model_4/roberta/encoder/layer_._4/output/LayerNorm/beta:0', 'tf_roberta_model_4/roberta/encoder/layer_._5/attention/self/query/kernel:0', 'tf_roberta_model_4/roberta/encoder/layer_._5/attention/self/query/bias:0', 'tf_roberta_model_4/roberta/encoder/layer_._5/attention/self/key/kernel:0', 'tf_roberta_model_4/roberta/encoder/layer_._5/attention/self/key/bias:0', 'tf_roberta_model_4/roberta/encoder/layer_._5/attention/self/value/kernel:0', 'tf_roberta_model_4/roberta/encoder/layer_._5/attention/self/value/bias:0', 'tf_roberta_model_4/roberta/encoder/layer_._5/attention/output/dense/kernel:0', 'tf_roberta_model_4/roberta/encoder/layer_._5/attention/output/dense/bias:0', 'tf_roberta_model_4/roberta/encoder/layer_._5/attention/output/LayerNorm/gamma:0', 'tf_roberta_model_4/roberta/encoder/layer_._5/attention/output/LayerNorm/beta:0', 'tf_roberta_model_4/roberta/encoder/layer_._5/intermediate/dense/kernel:0', 'tf_roberta_model_4/roberta/encoder/layer_._5/intermediate/dense/bias:0', 'tf_roberta_model_4/roberta/encoder/layer_._5/output/dense/kernel:0', 'tf_roberta_model_4/roberta/encoder/layer_._5/output/dense/bias:0', 'tf_roberta_model_4/roberta/encoder/layer_._5/output/LayerNorm/gamma:0', 'tf_roberta_model_4/roberta/encoder/layer_._5/output/LayerNorm/beta:0', 'tf_roberta_model_4/roberta/encoder/layer_._6/attention/self/query/kernel:0', 'tf_roberta_model_4/roberta/encoder/layer_._6/attention/self/query/bias:0', 'tf_roberta_model_4/roberta/encoder/layer_._6/attention/self/key/kernel:0', 'tf_roberta_model_4/roberta/encoder/layer_._6/attention/self/key/bias:0', 'tf_roberta_model_4/roberta/encoder/layer_._6/attention/self/value/kernel:0', 'tf_roberta_model_4/roberta/encoder/layer_._6/attention/self/value/bias:0', 'tf_roberta_model_4/roberta/encoder/layer_._6/attention/output/dense/kernel:0', 'tf_roberta_model_4/roberta/encoder/layer_._6/attention/output/dense/bias:0', 'tf_roberta_model_4/roberta/encoder/layer_._6/attention/output/LayerNorm/gamma:0', 'tf_roberta_model_4/roberta/encoder/layer_._6/attention/output/LayerNorm/beta:0', 'tf_roberta_model_4/roberta/encoder/layer_._6/intermediate/dense/kernel:0', 'tf_roberta_model_4/roberta/encoder/layer_._6/intermediate/dense/bias:0', 'tf_roberta_model_4/roberta/encoder/layer_._6/output/dense/kernel:0', 'tf_roberta_model_4/roberta/encoder/layer_._6/output/dense/bias:0', 'tf_roberta_model_4/roberta/encoder/layer_._6/output/LayerNorm/gamma:0', 'tf_roberta_model_4/roberta/encoder/layer_._6/output/LayerNorm/beta:0', 'tf_roberta_model_4/roberta/encoder/layer_._7/attention/self/query/kernel:0', 'tf_roberta_model_4/roberta/encoder/layer_._7/attention/self/query/bias:0', 'tf_roberta_model_4/roberta/encoder/layer_._7/attention/self/key/kernel:0', 'tf_roberta_model_4/roberta/encoder/layer_._7/attention/self/key/bias:0', 'tf_roberta_model_4/roberta/encoder/layer_._7/attention/self/value/kernel:0', 'tf_roberta_model_4/roberta/encoder/layer_._7/attention/self/value/bias:0', 'tf_roberta_model_4/roberta/encoder/layer_._7/attention/output/dense/kernel:0', 'tf_roberta_model_4/roberta/encoder/layer_._7/attention/output/dense/bias:0', 'tf_roberta_model_4/roberta/encoder/layer_._7/attention/output/LayerNorm/gamma:0', 'tf_roberta_model_4/roberta/encoder/layer_._7/attention/output/LayerNorm/beta:0', 'tf_roberta_model_4/roberta/encoder/layer_._7/intermediate/dense/kernel:0', 'tf_roberta_model_4/roberta/encoder/layer_._7/intermediate/dense/bias:0', 'tf_roberta_model_4/roberta/encoder/layer_._7/output/dense/kernel:0', 'tf_roberta_model_4/roberta/encoder/layer_._7/output/dense/bias:0', 'tf_roberta_model_4/roberta/encoder/layer_._7/output/LayerNorm/gamma:0', 'tf_roberta_model_4/roberta/encoder/layer_._7/output/LayerNorm/beta:0', 'tf_roberta_model_4/roberta/encoder/layer_._8/attention/self/query/kernel:0', 'tf_roberta_model_4/roberta/encoder/layer_._8/attention/self/query/bias:0', 'tf_roberta_model_4/roberta/encoder/layer_._8/attention/self/key/kernel:0', 'tf_roberta_model_4/roberta/encoder/layer_._8/attention/self/key/bias:0', 'tf_roberta_model_4/roberta/encoder/layer_._8/attention/self/value/kernel:0', 'tf_roberta_model_4/roberta/encoder/layer_._8/attention/self/value/bias:0', 'tf_roberta_model_4/roberta/encoder/layer_._8/attention/output/dense/kernel:0', 'tf_roberta_model_4/roberta/encoder/layer_._8/attention/output/dense/bias:0', 'tf_roberta_model_4/roberta/encoder/layer_._8/attention/output/LayerNorm/gamma:0', 'tf_roberta_model_4/roberta/encoder/layer_._8/attention/output/LayerNorm/beta:0', 'tf_roberta_model_4/roberta/encoder/layer_._8/intermediate/dense/kernel:0', 'tf_roberta_model_4/roberta/encoder/layer_._8/intermediate/dense/bias:0', 'tf_roberta_model_4/roberta/encoder/layer_._8/output/dense/kernel:0', 'tf_roberta_model_4/roberta/encoder/layer_._8/output/dense/bias:0', 'tf_roberta_model_4/roberta/encoder/layer_._8/output/LayerNorm/gamma:0', 'tf_roberta_model_4/roberta/encoder/layer_._8/output/LayerNorm/beta:0', 'tf_roberta_model_4/roberta/encoder/layer_._9/attention/self/query/kernel:0', 'tf_roberta_model_4/roberta/encoder/layer_._9/attention/self/query/bias:0', 'tf_roberta_model_4/roberta/encoder/layer_._9/attention/self/key/kernel:0', 'tf_roberta_model_4/roberta/encoder/layer_._9/attention/self/key/bias:0', 'tf_roberta_model_4/roberta/encoder/layer_._9/attention/self/value/kernel:0', 'tf_roberta_model_4/roberta/encoder/layer_._9/attention/self/value/bias:0', 'tf_roberta_model_4/roberta/encoder/layer_._9/attention/output/dense/kernel:0', 'tf_roberta_model_4/roberta/encoder/layer_._9/attention/output/dense/bias:0', 'tf_roberta_model_4/roberta/encoder/layer_._9/attention/output/LayerNorm/gamma:0', 'tf_roberta_model_4/roberta/encoder/layer_._9/attention/output/LayerNorm/beta:0', 'tf_roberta_model_4/roberta/encoder/layer_._9/intermediate/dense/kernel:0', 'tf_roberta_model_4/roberta/encoder/layer_._9/intermediate/dense/bias:0', 'tf_roberta_model_4/roberta/encoder/layer_._9/output/dense/kernel:0', 'tf_roberta_model_4/roberta/encoder/layer_._9/output/dense/bias:0', 'tf_roberta_model_4/roberta/encoder/layer_._9/output/LayerNorm/gamma:0', 'tf_roberta_model_4/roberta/encoder/layer_._9/output/LayerNorm/beta:0', 'tf_roberta_model_4/roberta/encoder/layer_._10/attention/self/query/kernel:0', 'tf_roberta_model_4/roberta/encoder/layer_._10/attention/self/query/bias:0', 'tf_roberta_model_4/roberta/encoder/layer_._10/attention/self/key/kernel:0', 'tf_roberta_model_4/roberta/encoder/layer_._10/attention/self/key/bias:0', 'tf_roberta_model_4/roberta/encoder/layer_._10/attention/self/value/kernel:0', 'tf_roberta_model_4/roberta/encoder/layer_._10/attention/self/value/bias:0', 'tf_roberta_model_4/roberta/encoder/layer_._10/attention/output/dense/kernel:0', 'tf_roberta_model_4/roberta/encoder/layer_._10/attention/output/dense/bias:0', 'tf_roberta_model_4/roberta/encoder/layer_._10/attention/output/LayerNorm/gamma:0', 'tf_roberta_model_4/roberta/encoder/layer_._10/attention/output/LayerNorm/beta:0', 'tf_roberta_model_4/roberta/encoder/layer_._10/intermediate/dense/kernel:0', 'tf_roberta_model_4/roberta/encoder/layer_._10/intermediate/dense/bias:0', 'tf_roberta_model_4/roberta/encoder/layer_._10/output/dense/kernel:0', 'tf_roberta_model_4/roberta/encoder/layer_._10/output/dense/bias:0', 'tf_roberta_model_4/roberta/encoder/layer_._10/output/LayerNorm/gamma:0', 'tf_roberta_model_4/roberta/encoder/layer_._10/output/LayerNorm/beta:0', 'tf_roberta_model_4/roberta/encoder/layer_._11/attention/self/query/kernel:0', 'tf_roberta_model_4/roberta/encoder/layer_._11/attention/self/query/bias:0', 'tf_roberta_model_4/roberta/encoder/layer_._11/attention/self/key/kernel:0', 'tf_roberta_model_4/roberta/encoder/layer_._11/attention/self/key/bias:0', 'tf_roberta_model_4/roberta/encoder/layer_._11/attention/self/value/kernel:0', 'tf_roberta_model_4/roberta/encoder/layer_._11/attention/self/value/bias:0', 'tf_roberta_model_4/roberta/encoder/layer_._11/attention/output/dense/kernel:0', 'tf_roberta_model_4/roberta/encoder/layer_._11/attention/output/dense/bias:0', 'tf_roberta_model_4/roberta/encoder/layer_._11/attention/output/LayerNorm/gamma:0', 'tf_roberta_model_4/roberta/encoder/layer_._11/attention/output/LayerNorm/beta:0', 'tf_roberta_model_4/roberta/encoder/layer_._11/intermediate/dense/kernel:0', 'tf_roberta_model_4/roberta/encoder/layer_._11/intermediate/dense/bias:0', 'tf_roberta_model_4/roberta/encoder/layer_._11/output/dense/kernel:0', 'tf_roberta_model_4/roberta/encoder/layer_._11/output/dense/bias:0', 'tf_roberta_model_4/roberta/encoder/layer_._11/output/LayerNorm/gamma:0', 'tf_roberta_model_4/roberta/encoder/layer_._11/output/LayerNorm/beta:0', 'tf_roberta_model_4/roberta/encoder/layer_._12/attention/self/query/kernel:0', 'tf_roberta_model_4/roberta/encoder/layer_._12/attention/self/query/bias:0', 'tf_roberta_model_4/roberta/encoder/layer_._12/attention/self/key/kernel:0', 'tf_roberta_model_4/roberta/encoder/layer_._12/attention/self/key/bias:0', 'tf_roberta_model_4/roberta/encoder/layer_._12/attention/self/value/kernel:0', 'tf_roberta_model_4/roberta/encoder/layer_._12/attention/self/value/bias:0', 'tf_roberta_model_4/roberta/encoder/layer_._12/attention/output/dense/kernel:0', 'tf_roberta_model_4/roberta/encoder/layer_._12/attention/output/dense/bias:0', 'tf_roberta_model_4/roberta/encoder/layer_._12/attention/output/LayerNorm/gamma:0', 'tf_roberta_model_4/roberta/encoder/layer_._12/attention/output/LayerNorm/beta:0', 'tf_roberta_model_4/roberta/encoder/layer_._12/intermediate/dense/kernel:0', 'tf_roberta_model_4/roberta/encoder/layer_._12/intermediate/dense/bias:0', 'tf_roberta_model_4/roberta/encoder/layer_._12/output/dense/kernel:0', 'tf_roberta_model_4/roberta/encoder/layer_._12/output/dense/bias:0', 'tf_roberta_model_4/roberta/encoder/layer_._12/output/LayerNorm/gamma:0', 'tf_roberta_model_4/roberta/encoder/layer_._12/output/LayerNorm/beta:0', 'tf_roberta_model_4/roberta/encoder/layer_._13/attention/self/query/kernel:0', 'tf_roberta_model_4/roberta/encoder/layer_._13/attention/self/query/bias:0', 'tf_roberta_model_4/roberta/encoder/layer_._13/attention/self/key/kernel:0', 'tf_roberta_model_4/roberta/encoder/layer_._13/attention/self/key/bias:0', 'tf_roberta_model_4/roberta/encoder/layer_._13/attention/self/value/kernel:0', 'tf_roberta_model_4/roberta/encoder/layer_._13/attention/self/value/bias:0', 'tf_roberta_model_4/roberta/encoder/layer_._13/attention/output/dense/kernel:0', 'tf_roberta_model_4/roberta/encoder/layer_._13/attention/output/dense/bias:0', 'tf_roberta_model_4/roberta/encoder/layer_._13/attention/output/LayerNorm/gamma:0', 'tf_roberta_model_4/roberta/encoder/layer_._13/attention/output/LayerNorm/beta:0', 'tf_roberta_model_4/roberta/encoder/layer_._13/intermediate/dense/kernel:0', 'tf_roberta_model_4/roberta/encoder/layer_._13/intermediate/dense/bias:0', 'tf_roberta_model_4/roberta/encoder/layer_._13/output/dense/kernel:0', 'tf_roberta_model_4/roberta/encoder/layer_._13/output/dense/bias:0', 'tf_roberta_model_4/roberta/encoder/layer_._13/output/LayerNorm/gamma:0', 'tf_roberta_model_4/roberta/encoder/layer_._13/output/LayerNorm/beta:0', 'tf_roberta_model_4/roberta/encoder/layer_._14/attention/self/query/kernel:0', 'tf_roberta_model_4/roberta/encoder/layer_._14/attention/self/query/bias:0', 'tf_roberta_model_4/roberta/encoder/layer_._14/attention/self/key/kernel:0', 'tf_roberta_model_4/roberta/encoder/layer_._14/attention/self/key/bias:0', 'tf_roberta_model_4/roberta/encoder/layer_._14/attention/self/value/kernel:0', 'tf_roberta_model_4/roberta/encoder/layer_._14/attention/self/value/bias:0', 'tf_roberta_model_4/roberta/encoder/layer_._14/attention/output/dense/kernel:0', 'tf_roberta_model_4/roberta/encoder/layer_._14/attention/output/dense/bias:0', 'tf_roberta_model_4/roberta/encoder/layer_._14/attention/output/LayerNorm/gamma:0', 'tf_roberta_model_4/roberta/encoder/layer_._14/attention/output/LayerNorm/beta:0', 'tf_roberta_model_4/roberta/encoder/layer_._14/intermediate/dense/kernel:0', 'tf_roberta_model_4/roberta/encoder/layer_._14/intermediate/dense/bias:0', 'tf_roberta_model_4/roberta/encoder/layer_._14/output/dense/kernel:0', 'tf_roberta_model_4/roberta/encoder/layer_._14/output/dense/bias:0', 'tf_roberta_model_4/roberta/encoder/layer_._14/output/LayerNorm/gamma:0', 'tf_roberta_model_4/roberta/encoder/layer_._14/output/LayerNorm/beta:0', 'tf_roberta_model_4/roberta/encoder/layer_._15/attention/self/query/kernel:0', 'tf_roberta_model_4/roberta/encoder/layer_._15/attention/self/query/bias:0', 'tf_roberta_model_4/roberta/encoder/layer_._15/attention/self/key/kernel:0', 'tf_roberta_model_4/roberta/encoder/layer_._15/attention/self/key/bias:0', 'tf_roberta_model_4/roberta/encoder/layer_._15/attention/self/value/kernel:0', 'tf_roberta_model_4/roberta/encoder/layer_._15/attention/self/value/bias:0', 'tf_roberta_model_4/roberta/encoder/layer_._15/attention/output/dense/kernel:0', 'tf_roberta_model_4/roberta/encoder/layer_._15/attention/output/dense/bias:0', 'tf_roberta_model_4/roberta/encoder/layer_._15/attention/output/LayerNorm/gamma:0', 'tf_roberta_model_4/roberta/encoder/layer_._15/attention/output/LayerNorm/beta:0', 'tf_roberta_model_4/roberta/encoder/layer_._15/intermediate/dense/kernel:0', 'tf_roberta_model_4/roberta/encoder/layer_._15/intermediate/dense/bias:0', 'tf_roberta_model_4/roberta/encoder/layer_._15/output/dense/kernel:0', 'tf_roberta_model_4/roberta/encoder/layer_._15/output/dense/bias:0', 'tf_roberta_model_4/roberta/encoder/layer_._15/output/LayerNorm/gamma:0', 'tf_roberta_model_4/roberta/encoder/layer_._15/output/LayerNorm/beta:0', 'tf_roberta_model_4/roberta/encoder/layer_._16/attention/self/query/kernel:0', 'tf_roberta_model_4/roberta/encoder/layer_._16/attention/self/query/bias:0', 'tf_roberta_model_4/roberta/encoder/layer_._16/attention/self/key/kernel:0', 'tf_roberta_model_4/roberta/encoder/layer_._16/attention/self/key/bias:0', 'tf_roberta_model_4/roberta/encoder/layer_._16/attention/self/value/kernel:0', 'tf_roberta_model_4/roberta/encoder/layer_._16/attention/self/value/bias:0', 'tf_roberta_model_4/roberta/encoder/layer_._16/attention/output/dense/kernel:0', 'tf_roberta_model_4/roberta/encoder/layer_._16/attention/output/dense/bias:0', 'tf_roberta_model_4/roberta/encoder/layer_._16/attention/output/LayerNorm/gamma:0', 'tf_roberta_model_4/roberta/encoder/layer_._16/attention/output/LayerNorm/beta:0', 'tf_roberta_model_4/roberta/encoder/layer_._16/intermediate/dense/kernel:0', 'tf_roberta_model_4/roberta/encoder/layer_._16/intermediate/dense/bias:0', 'tf_roberta_model_4/roberta/encoder/layer_._16/output/dense/kernel:0', 'tf_roberta_model_4/roberta/encoder/layer_._16/output/dense/bias:0', 'tf_roberta_model_4/roberta/encoder/layer_._16/output/LayerNorm/gamma:0', 'tf_roberta_model_4/roberta/encoder/layer_._16/output/LayerNorm/beta:0', 'tf_roberta_model_4/roberta/encoder/layer_._17/attention/self/query/kernel:0', 'tf_roberta_model_4/roberta/encoder/layer_._17/attention/self/query/bias:0', 'tf_roberta_model_4/roberta/encoder/layer_._17/attention/self/key/kernel:0', 'tf_roberta_model_4/roberta/encoder/layer_._17/attention/self/key/bias:0', 'tf_roberta_model_4/roberta/encoder/layer_._17/attention/self/value/kernel:0', 'tf_roberta_model_4/roberta/encoder/layer_._17/attention/self/value/bias:0', 'tf_roberta_model_4/roberta/encoder/layer_._17/attention/output/dense/kernel:0', 'tf_roberta_model_4/roberta/encoder/layer_._17/attention/output/dense/bias:0', 'tf_roberta_model_4/roberta/encoder/layer_._17/attention/output/LayerNorm/gamma:0', 'tf_roberta_model_4/roberta/encoder/layer_._17/attention/output/LayerNorm/beta:0', 'tf_roberta_model_4/roberta/encoder/layer_._17/intermediate/dense/kernel:0', 'tf_roberta_model_4/roberta/encoder/layer_._17/intermediate/dense/bias:0', 'tf_roberta_model_4/roberta/encoder/layer_._17/output/dense/kernel:0', 'tf_roberta_model_4/roberta/encoder/layer_._17/output/dense/bias:0', 'tf_roberta_model_4/roberta/encoder/layer_._17/output/LayerNorm/gamma:0', 'tf_roberta_model_4/roberta/encoder/layer_._17/output/LayerNorm/beta:0', 'tf_roberta_model_4/roberta/encoder/layer_._18/attention/self/query/kernel:0', 'tf_roberta_model_4/roberta/encoder/layer_._18/attention/self/query/bias:0', 'tf_roberta_model_4/roberta/encoder/layer_._18/attention/self/key/kernel:0', 'tf_roberta_model_4/roberta/encoder/layer_._18/attention/self/key/bias:0', 'tf_roberta_model_4/roberta/encoder/layer_._18/attention/self/value/kernel:0', 'tf_roberta_model_4/roberta/encoder/layer_._18/attention/self/value/bias:0', 'tf_roberta_model_4/roberta/encoder/layer_._18/attention/output/dense/kernel:0', 'tf_roberta_model_4/roberta/encoder/layer_._18/attention/output/dense/bias:0', 'tf_roberta_model_4/roberta/encoder/layer_._18/attention/output/LayerNorm/gamma:0', 'tf_roberta_model_4/roberta/encoder/layer_._18/attention/output/LayerNorm/beta:0', 'tf_roberta_model_4/roberta/encoder/layer_._18/intermediate/dense/kernel:0', 'tf_roberta_model_4/roberta/encoder/layer_._18/intermediate/dense/bias:0', 'tf_roberta_model_4/roberta/encoder/layer_._18/output/dense/kernel:0', 'tf_roberta_model_4/roberta/encoder/layer_._18/output/dense/bias:0', 'tf_roberta_model_4/roberta/encoder/layer_._18/output/LayerNorm/gamma:0', 'tf_roberta_model_4/roberta/encoder/layer_._18/output/LayerNorm/beta:0', 'tf_roberta_model_4/roberta/encoder/layer_._19/attention/self/query/kernel:0', 'tf_roberta_model_4/roberta/encoder/layer_._19/attention/self/query/bias:0', 'tf_roberta_model_4/roberta/encoder/layer_._19/attention/self/key/kernel:0', 'tf_roberta_model_4/roberta/encoder/layer_._19/attention/self/key/bias:0', 'tf_roberta_model_4/roberta/encoder/layer_._19/attention/self/value/kernel:0', 'tf_roberta_model_4/roberta/encoder/layer_._19/attention/self/value/bias:0', 'tf_roberta_model_4/roberta/encoder/layer_._19/attention/output/dense/kernel:0', 'tf_roberta_model_4/roberta/encoder/layer_._19/attention/output/dense/bias:0', 'tf_roberta_model_4/roberta/encoder/layer_._19/attention/output/LayerNorm/gamma:0', 'tf_roberta_model_4/roberta/encoder/layer_._19/attention/output/LayerNorm/beta:0', 'tf_roberta_model_4/roberta/encoder/layer_._19/intermediate/dense/kernel:0', 'tf_roberta_model_4/roberta/encoder/layer_._19/intermediate/dense/bias:0', 'tf_roberta_model_4/roberta/encoder/layer_._19/output/dense/kernel:0', 'tf_roberta_model_4/roberta/encoder/layer_._19/output/dense/bias:0', 'tf_roberta_model_4/roberta/encoder/layer_._19/output/LayerNorm/gamma:0', 'tf_roberta_model_4/roberta/encoder/layer_._19/output/LayerNorm/beta:0', 'tf_roberta_model_4/roberta/pooler/dense/kernel:0', 'tf_roberta_model_4/roberta/pooler/dense/bias:0', 'tf_roberta_model_4/roberta/embeddings/word_embeddings/weight:0', 'tf_roberta_model_4/roberta/embeddings/token_type_embeddings/embeddings:0', 'tf_roberta_model_4/roberta/embeddings/position_embeddings/embeddings:0', 'tf_roberta_model_4/roberta/embeddings/LayerNorm/gamma:0', 'tf_roberta_model_4/roberta/embeddings/LayerNorm/beta:0'] when minimizing the loss. If you're using `model.compile()`, did you forget to provide a `loss` argument?\n",
            "WARNING:tensorflow:Gradients do not exist for variables ['tf_roberta_model_4/roberta/encoder/layer_._0/attention/self/query/kernel:0', 'tf_roberta_model_4/roberta/encoder/layer_._0/attention/self/query/bias:0', 'tf_roberta_model_4/roberta/encoder/layer_._0/attention/self/key/kernel:0', 'tf_roberta_model_4/roberta/encoder/layer_._0/attention/self/key/bias:0', 'tf_roberta_model_4/roberta/encoder/layer_._0/attention/self/value/kernel:0', 'tf_roberta_model_4/roberta/encoder/layer_._0/attention/self/value/bias:0', 'tf_roberta_model_4/roberta/encoder/layer_._0/attention/output/dense/kernel:0', 'tf_roberta_model_4/roberta/encoder/layer_._0/attention/output/dense/bias:0', 'tf_roberta_model_4/roberta/encoder/layer_._0/attention/output/LayerNorm/gamma:0', 'tf_roberta_model_4/roberta/encoder/layer_._0/attention/output/LayerNorm/beta:0', 'tf_roberta_model_4/roberta/encoder/layer_._0/intermediate/dense/kernel:0', 'tf_roberta_model_4/roberta/encoder/layer_._0/intermediate/dense/bias:0', 'tf_roberta_model_4/roberta/encoder/layer_._0/output/dense/kernel:0', 'tf_roberta_model_4/roberta/encoder/layer_._0/output/dense/bias:0', 'tf_roberta_model_4/roberta/encoder/layer_._0/output/LayerNorm/gamma:0', 'tf_roberta_model_4/roberta/encoder/layer_._0/output/LayerNorm/beta:0', 'tf_roberta_model_4/roberta/encoder/layer_._1/attention/self/query/kernel:0', 'tf_roberta_model_4/roberta/encoder/layer_._1/attention/self/query/bias:0', 'tf_roberta_model_4/roberta/encoder/layer_._1/attention/self/key/kernel:0', 'tf_roberta_model_4/roberta/encoder/layer_._1/attention/self/key/bias:0', 'tf_roberta_model_4/roberta/encoder/layer_._1/attention/self/value/kernel:0', 'tf_roberta_model_4/roberta/encoder/layer_._1/attention/self/value/bias:0', 'tf_roberta_model_4/roberta/encoder/layer_._1/attention/output/dense/kernel:0', 'tf_roberta_model_4/roberta/encoder/layer_._1/attention/output/dense/bias:0', 'tf_roberta_model_4/roberta/encoder/layer_._1/attention/output/LayerNorm/gamma:0', 'tf_roberta_model_4/roberta/encoder/layer_._1/attention/output/LayerNorm/beta:0', 'tf_roberta_model_4/roberta/encoder/layer_._1/intermediate/dense/kernel:0', 'tf_roberta_model_4/roberta/encoder/layer_._1/intermediate/dense/bias:0', 'tf_roberta_model_4/roberta/encoder/layer_._1/output/dense/kernel:0', 'tf_roberta_model_4/roberta/encoder/layer_._1/output/dense/bias:0', 'tf_roberta_model_4/roberta/encoder/layer_._1/output/LayerNorm/gamma:0', 'tf_roberta_model_4/roberta/encoder/layer_._1/output/LayerNorm/beta:0', 'tf_roberta_model_4/roberta/encoder/layer_._2/attention/self/query/kernel:0', 'tf_roberta_model_4/roberta/encoder/layer_._2/attention/self/query/bias:0', 'tf_roberta_model_4/roberta/encoder/layer_._2/attention/self/key/kernel:0', 'tf_roberta_model_4/roberta/encoder/layer_._2/attention/self/key/bias:0', 'tf_roberta_model_4/roberta/encoder/layer_._2/attention/self/value/kernel:0', 'tf_roberta_model_4/roberta/encoder/layer_._2/attention/self/value/bias:0', 'tf_roberta_model_4/roberta/encoder/layer_._2/attention/output/dense/kernel:0', 'tf_roberta_model_4/roberta/encoder/layer_._2/attention/output/dense/bias:0', 'tf_roberta_model_4/roberta/encoder/layer_._2/attention/output/LayerNorm/gamma:0', 'tf_roberta_model_4/roberta/encoder/layer_._2/attention/output/LayerNorm/beta:0', 'tf_roberta_model_4/roberta/encoder/layer_._2/intermediate/dense/kernel:0', 'tf_roberta_model_4/roberta/encoder/layer_._2/intermediate/dense/bias:0', 'tf_roberta_model_4/roberta/encoder/layer_._2/output/dense/kernel:0', 'tf_roberta_model_4/roberta/encoder/layer_._2/output/dense/bias:0', 'tf_roberta_model_4/roberta/encoder/layer_._2/output/LayerNorm/gamma:0', 'tf_roberta_model_4/roberta/encoder/layer_._2/output/LayerNorm/beta:0', 'tf_roberta_model_4/roberta/encoder/layer_._3/attention/self/query/kernel:0', 'tf_roberta_model_4/roberta/encoder/layer_._3/attention/self/query/bias:0', 'tf_roberta_model_4/roberta/encoder/layer_._3/attention/self/key/kernel:0', 'tf_roberta_model_4/roberta/encoder/layer_._3/attention/self/key/bias:0', 'tf_roberta_model_4/roberta/encoder/layer_._3/attention/self/value/kernel:0', 'tf_roberta_model_4/roberta/encoder/layer_._3/attention/self/value/bias:0', 'tf_roberta_model_4/roberta/encoder/layer_._3/attention/output/dense/kernel:0', 'tf_roberta_model_4/roberta/encoder/layer_._3/attention/output/dense/bias:0', 'tf_roberta_model_4/roberta/encoder/layer_._3/attention/output/LayerNorm/gamma:0', 'tf_roberta_model_4/roberta/encoder/layer_._3/attention/output/LayerNorm/beta:0', 'tf_roberta_model_4/roberta/encoder/layer_._3/intermediate/dense/kernel:0', 'tf_roberta_model_4/roberta/encoder/layer_._3/intermediate/dense/bias:0', 'tf_roberta_model_4/roberta/encoder/layer_._3/output/dense/kernel:0', 'tf_roberta_model_4/roberta/encoder/layer_._3/output/dense/bias:0', 'tf_roberta_model_4/roberta/encoder/layer_._3/output/LayerNorm/gamma:0', 'tf_roberta_model_4/roberta/encoder/layer_._3/output/LayerNorm/beta:0', 'tf_roberta_model_4/roberta/encoder/layer_._4/attention/self/query/kernel:0', 'tf_roberta_model_4/roberta/encoder/layer_._4/attention/self/query/bias:0', 'tf_roberta_model_4/roberta/encoder/layer_._4/attention/self/key/kernel:0', 'tf_roberta_model_4/roberta/encoder/layer_._4/attention/self/key/bias:0', 'tf_roberta_model_4/roberta/encoder/layer_._4/attention/self/value/kernel:0', 'tf_roberta_model_4/roberta/encoder/layer_._4/attention/self/value/bias:0', 'tf_roberta_model_4/roberta/encoder/layer_._4/attention/output/dense/kernel:0', 'tf_roberta_model_4/roberta/encoder/layer_._4/attention/output/dense/bias:0', 'tf_roberta_model_4/roberta/encoder/layer_._4/attention/output/LayerNorm/gamma:0', 'tf_roberta_model_4/roberta/encoder/layer_._4/attention/output/LayerNorm/beta:0', 'tf_roberta_model_4/roberta/encoder/layer_._4/intermediate/dense/kernel:0', 'tf_roberta_model_4/roberta/encoder/layer_._4/intermediate/dense/bias:0', 'tf_roberta_model_4/roberta/encoder/layer_._4/output/dense/kernel:0', 'tf_roberta_model_4/roberta/encoder/layer_._4/output/dense/bias:0', 'tf_roberta_model_4/roberta/encoder/layer_._4/output/LayerNorm/gamma:0', 'tf_roberta_model_4/roberta/encoder/layer_._4/output/LayerNorm/beta:0', 'tf_roberta_model_4/roberta/encoder/layer_._5/attention/self/query/kernel:0', 'tf_roberta_model_4/roberta/encoder/layer_._5/attention/self/query/bias:0', 'tf_roberta_model_4/roberta/encoder/layer_._5/attention/self/key/kernel:0', 'tf_roberta_model_4/roberta/encoder/layer_._5/attention/self/key/bias:0', 'tf_roberta_model_4/roberta/encoder/layer_._5/attention/self/value/kernel:0', 'tf_roberta_model_4/roberta/encoder/layer_._5/attention/self/value/bias:0', 'tf_roberta_model_4/roberta/encoder/layer_._5/attention/output/dense/kernel:0', 'tf_roberta_model_4/roberta/encoder/layer_._5/attention/output/dense/bias:0', 'tf_roberta_model_4/roberta/encoder/layer_._5/attention/output/LayerNorm/gamma:0', 'tf_roberta_model_4/roberta/encoder/layer_._5/attention/output/LayerNorm/beta:0', 'tf_roberta_model_4/roberta/encoder/layer_._5/intermediate/dense/kernel:0', 'tf_roberta_model_4/roberta/encoder/layer_._5/intermediate/dense/bias:0', 'tf_roberta_model_4/roberta/encoder/layer_._5/output/dense/kernel:0', 'tf_roberta_model_4/roberta/encoder/layer_._5/output/dense/bias:0', 'tf_roberta_model_4/roberta/encoder/layer_._5/output/LayerNorm/gamma:0', 'tf_roberta_model_4/roberta/encoder/layer_._5/output/LayerNorm/beta:0', 'tf_roberta_model_4/roberta/encoder/layer_._6/attention/self/query/kernel:0', 'tf_roberta_model_4/roberta/encoder/layer_._6/attention/self/query/bias:0', 'tf_roberta_model_4/roberta/encoder/layer_._6/attention/self/key/kernel:0', 'tf_roberta_model_4/roberta/encoder/layer_._6/attention/self/key/bias:0', 'tf_roberta_model_4/roberta/encoder/layer_._6/attention/self/value/kernel:0', 'tf_roberta_model_4/roberta/encoder/layer_._6/attention/self/value/bias:0', 'tf_roberta_model_4/roberta/encoder/layer_._6/attention/output/dense/kernel:0', 'tf_roberta_model_4/roberta/encoder/layer_._6/attention/output/dense/bias:0', 'tf_roberta_model_4/roberta/encoder/layer_._6/attention/output/LayerNorm/gamma:0', 'tf_roberta_model_4/roberta/encoder/layer_._6/attention/output/LayerNorm/beta:0', 'tf_roberta_model_4/roberta/encoder/layer_._6/intermediate/dense/kernel:0', 'tf_roberta_model_4/roberta/encoder/layer_._6/intermediate/dense/bias:0', 'tf_roberta_model_4/roberta/encoder/layer_._6/output/dense/kernel:0', 'tf_roberta_model_4/roberta/encoder/layer_._6/output/dense/bias:0', 'tf_roberta_model_4/roberta/encoder/layer_._6/output/LayerNorm/gamma:0', 'tf_roberta_model_4/roberta/encoder/layer_._6/output/LayerNorm/beta:0', 'tf_roberta_model_4/roberta/encoder/layer_._7/attention/self/query/kernel:0', 'tf_roberta_model_4/roberta/encoder/layer_._7/attention/self/query/bias:0', 'tf_roberta_model_4/roberta/encoder/layer_._7/attention/self/key/kernel:0', 'tf_roberta_model_4/roberta/encoder/layer_._7/attention/self/key/bias:0', 'tf_roberta_model_4/roberta/encoder/layer_._7/attention/self/value/kernel:0', 'tf_roberta_model_4/roberta/encoder/layer_._7/attention/self/value/bias:0', 'tf_roberta_model_4/roberta/encoder/layer_._7/attention/output/dense/kernel:0', 'tf_roberta_model_4/roberta/encoder/layer_._7/attention/output/dense/bias:0', 'tf_roberta_model_4/roberta/encoder/layer_._7/attention/output/LayerNorm/gamma:0', 'tf_roberta_model_4/roberta/encoder/layer_._7/attention/output/LayerNorm/beta:0', 'tf_roberta_model_4/roberta/encoder/layer_._7/intermediate/dense/kernel:0', 'tf_roberta_model_4/roberta/encoder/layer_._7/intermediate/dense/bias:0', 'tf_roberta_model_4/roberta/encoder/layer_._7/output/dense/kernel:0', 'tf_roberta_model_4/roberta/encoder/layer_._7/output/dense/bias:0', 'tf_roberta_model_4/roberta/encoder/layer_._7/output/LayerNorm/gamma:0', 'tf_roberta_model_4/roberta/encoder/layer_._7/output/LayerNorm/beta:0', 'tf_roberta_model_4/roberta/encoder/layer_._8/attention/self/query/kernel:0', 'tf_roberta_model_4/roberta/encoder/layer_._8/attention/self/query/bias:0', 'tf_roberta_model_4/roberta/encoder/layer_._8/attention/self/key/kernel:0', 'tf_roberta_model_4/roberta/encoder/layer_._8/attention/self/key/bias:0', 'tf_roberta_model_4/roberta/encoder/layer_._8/attention/self/value/kernel:0', 'tf_roberta_model_4/roberta/encoder/layer_._8/attention/self/value/bias:0', 'tf_roberta_model_4/roberta/encoder/layer_._8/attention/output/dense/kernel:0', 'tf_roberta_model_4/roberta/encoder/layer_._8/attention/output/dense/bias:0', 'tf_roberta_model_4/roberta/encoder/layer_._8/attention/output/LayerNorm/gamma:0', 'tf_roberta_model_4/roberta/encoder/layer_._8/attention/output/LayerNorm/beta:0', 'tf_roberta_model_4/roberta/encoder/layer_._8/intermediate/dense/kernel:0', 'tf_roberta_model_4/roberta/encoder/layer_._8/intermediate/dense/bias:0', 'tf_roberta_model_4/roberta/encoder/layer_._8/output/dense/kernel:0', 'tf_roberta_model_4/roberta/encoder/layer_._8/output/dense/bias:0', 'tf_roberta_model_4/roberta/encoder/layer_._8/output/LayerNorm/gamma:0', 'tf_roberta_model_4/roberta/encoder/layer_._8/output/LayerNorm/beta:0', 'tf_roberta_model_4/roberta/encoder/layer_._9/attention/self/query/kernel:0', 'tf_roberta_model_4/roberta/encoder/layer_._9/attention/self/query/bias:0', 'tf_roberta_model_4/roberta/encoder/layer_._9/attention/self/key/kernel:0', 'tf_roberta_model_4/roberta/encoder/layer_._9/attention/self/key/bias:0', 'tf_roberta_model_4/roberta/encoder/layer_._9/attention/self/value/kernel:0', 'tf_roberta_model_4/roberta/encoder/layer_._9/attention/self/value/bias:0', 'tf_roberta_model_4/roberta/encoder/layer_._9/attention/output/dense/kernel:0', 'tf_roberta_model_4/roberta/encoder/layer_._9/attention/output/dense/bias:0', 'tf_roberta_model_4/roberta/encoder/layer_._9/attention/output/LayerNorm/gamma:0', 'tf_roberta_model_4/roberta/encoder/layer_._9/attention/output/LayerNorm/beta:0', 'tf_roberta_model_4/roberta/encoder/layer_._9/intermediate/dense/kernel:0', 'tf_roberta_model_4/roberta/encoder/layer_._9/intermediate/dense/bias:0', 'tf_roberta_model_4/roberta/encoder/layer_._9/output/dense/kernel:0', 'tf_roberta_model_4/roberta/encoder/layer_._9/output/dense/bias:0', 'tf_roberta_model_4/roberta/encoder/layer_._9/output/LayerNorm/gamma:0', 'tf_roberta_model_4/roberta/encoder/layer_._9/output/LayerNorm/beta:0', 'tf_roberta_model_4/roberta/encoder/layer_._10/attention/self/query/kernel:0', 'tf_roberta_model_4/roberta/encoder/layer_._10/attention/self/query/bias:0', 'tf_roberta_model_4/roberta/encoder/layer_._10/attention/self/key/kernel:0', 'tf_roberta_model_4/roberta/encoder/layer_._10/attention/self/key/bias:0', 'tf_roberta_model_4/roberta/encoder/layer_._10/attention/self/value/kernel:0', 'tf_roberta_model_4/roberta/encoder/layer_._10/attention/self/value/bias:0', 'tf_roberta_model_4/roberta/encoder/layer_._10/attention/output/dense/kernel:0', 'tf_roberta_model_4/roberta/encoder/layer_._10/attention/output/dense/bias:0', 'tf_roberta_model_4/roberta/encoder/layer_._10/attention/output/LayerNorm/gamma:0', 'tf_roberta_model_4/roberta/encoder/layer_._10/attention/output/LayerNorm/beta:0', 'tf_roberta_model_4/roberta/encoder/layer_._10/intermediate/dense/kernel:0', 'tf_roberta_model_4/roberta/encoder/layer_._10/intermediate/dense/bias:0', 'tf_roberta_model_4/roberta/encoder/layer_._10/output/dense/kernel:0', 'tf_roberta_model_4/roberta/encoder/layer_._10/output/dense/bias:0', 'tf_roberta_model_4/roberta/encoder/layer_._10/output/LayerNorm/gamma:0', 'tf_roberta_model_4/roberta/encoder/layer_._10/output/LayerNorm/beta:0', 'tf_roberta_model_4/roberta/encoder/layer_._11/attention/self/query/kernel:0', 'tf_roberta_model_4/roberta/encoder/layer_._11/attention/self/query/bias:0', 'tf_roberta_model_4/roberta/encoder/layer_._11/attention/self/key/kernel:0', 'tf_roberta_model_4/roberta/encoder/layer_._11/attention/self/key/bias:0', 'tf_roberta_model_4/roberta/encoder/layer_._11/attention/self/value/kernel:0', 'tf_roberta_model_4/roberta/encoder/layer_._11/attention/self/value/bias:0', 'tf_roberta_model_4/roberta/encoder/layer_._11/attention/output/dense/kernel:0', 'tf_roberta_model_4/roberta/encoder/layer_._11/attention/output/dense/bias:0', 'tf_roberta_model_4/roberta/encoder/layer_._11/attention/output/LayerNorm/gamma:0', 'tf_roberta_model_4/roberta/encoder/layer_._11/attention/output/LayerNorm/beta:0', 'tf_roberta_model_4/roberta/encoder/layer_._11/intermediate/dense/kernel:0', 'tf_roberta_model_4/roberta/encoder/layer_._11/intermediate/dense/bias:0', 'tf_roberta_model_4/roberta/encoder/layer_._11/output/dense/kernel:0', 'tf_roberta_model_4/roberta/encoder/layer_._11/output/dense/bias:0', 'tf_roberta_model_4/roberta/encoder/layer_._11/output/LayerNorm/gamma:0', 'tf_roberta_model_4/roberta/encoder/layer_._11/output/LayerNorm/beta:0', 'tf_roberta_model_4/roberta/encoder/layer_._12/attention/self/query/kernel:0', 'tf_roberta_model_4/roberta/encoder/layer_._12/attention/self/query/bias:0', 'tf_roberta_model_4/roberta/encoder/layer_._12/attention/self/key/kernel:0', 'tf_roberta_model_4/roberta/encoder/layer_._12/attention/self/key/bias:0', 'tf_roberta_model_4/roberta/encoder/layer_._12/attention/self/value/kernel:0', 'tf_roberta_model_4/roberta/encoder/layer_._12/attention/self/value/bias:0', 'tf_roberta_model_4/roberta/encoder/layer_._12/attention/output/dense/kernel:0', 'tf_roberta_model_4/roberta/encoder/layer_._12/attention/output/dense/bias:0', 'tf_roberta_model_4/roberta/encoder/layer_._12/attention/output/LayerNorm/gamma:0', 'tf_roberta_model_4/roberta/encoder/layer_._12/attention/output/LayerNorm/beta:0', 'tf_roberta_model_4/roberta/encoder/layer_._12/intermediate/dense/kernel:0', 'tf_roberta_model_4/roberta/encoder/layer_._12/intermediate/dense/bias:0', 'tf_roberta_model_4/roberta/encoder/layer_._12/output/dense/kernel:0', 'tf_roberta_model_4/roberta/encoder/layer_._12/output/dense/bias:0', 'tf_roberta_model_4/roberta/encoder/layer_._12/output/LayerNorm/gamma:0', 'tf_roberta_model_4/roberta/encoder/layer_._12/output/LayerNorm/beta:0', 'tf_roberta_model_4/roberta/encoder/layer_._13/attention/self/query/kernel:0', 'tf_roberta_model_4/roberta/encoder/layer_._13/attention/self/query/bias:0', 'tf_roberta_model_4/roberta/encoder/layer_._13/attention/self/key/kernel:0', 'tf_roberta_model_4/roberta/encoder/layer_._13/attention/self/key/bias:0', 'tf_roberta_model_4/roberta/encoder/layer_._13/attention/self/value/kernel:0', 'tf_roberta_model_4/roberta/encoder/layer_._13/attention/self/value/bias:0', 'tf_roberta_model_4/roberta/encoder/layer_._13/attention/output/dense/kernel:0', 'tf_roberta_model_4/roberta/encoder/layer_._13/attention/output/dense/bias:0', 'tf_roberta_model_4/roberta/encoder/layer_._13/attention/output/LayerNorm/gamma:0', 'tf_roberta_model_4/roberta/encoder/layer_._13/attention/output/LayerNorm/beta:0', 'tf_roberta_model_4/roberta/encoder/layer_._13/intermediate/dense/kernel:0', 'tf_roberta_model_4/roberta/encoder/layer_._13/intermediate/dense/bias:0', 'tf_roberta_model_4/roberta/encoder/layer_._13/output/dense/kernel:0', 'tf_roberta_model_4/roberta/encoder/layer_._13/output/dense/bias:0', 'tf_roberta_model_4/roberta/encoder/layer_._13/output/LayerNorm/gamma:0', 'tf_roberta_model_4/roberta/encoder/layer_._13/output/LayerNorm/beta:0', 'tf_roberta_model_4/roberta/encoder/layer_._14/attention/self/query/kernel:0', 'tf_roberta_model_4/roberta/encoder/layer_._14/attention/self/query/bias:0', 'tf_roberta_model_4/roberta/encoder/layer_._14/attention/self/key/kernel:0', 'tf_roberta_model_4/roberta/encoder/layer_._14/attention/self/key/bias:0', 'tf_roberta_model_4/roberta/encoder/layer_._14/attention/self/value/kernel:0', 'tf_roberta_model_4/roberta/encoder/layer_._14/attention/self/value/bias:0', 'tf_roberta_model_4/roberta/encoder/layer_._14/attention/output/dense/kernel:0', 'tf_roberta_model_4/roberta/encoder/layer_._14/attention/output/dense/bias:0', 'tf_roberta_model_4/roberta/encoder/layer_._14/attention/output/LayerNorm/gamma:0', 'tf_roberta_model_4/roberta/encoder/layer_._14/attention/output/LayerNorm/beta:0', 'tf_roberta_model_4/roberta/encoder/layer_._14/intermediate/dense/kernel:0', 'tf_roberta_model_4/roberta/encoder/layer_._14/intermediate/dense/bias:0', 'tf_roberta_model_4/roberta/encoder/layer_._14/output/dense/kernel:0', 'tf_roberta_model_4/roberta/encoder/layer_._14/output/dense/bias:0', 'tf_roberta_model_4/roberta/encoder/layer_._14/output/LayerNorm/gamma:0', 'tf_roberta_model_4/roberta/encoder/layer_._14/output/LayerNorm/beta:0', 'tf_roberta_model_4/roberta/encoder/layer_._15/attention/self/query/kernel:0', 'tf_roberta_model_4/roberta/encoder/layer_._15/attention/self/query/bias:0', 'tf_roberta_model_4/roberta/encoder/layer_._15/attention/self/key/kernel:0', 'tf_roberta_model_4/roberta/encoder/layer_._15/attention/self/key/bias:0', 'tf_roberta_model_4/roberta/encoder/layer_._15/attention/self/value/kernel:0', 'tf_roberta_model_4/roberta/encoder/layer_._15/attention/self/value/bias:0', 'tf_roberta_model_4/roberta/encoder/layer_._15/attention/output/dense/kernel:0', 'tf_roberta_model_4/roberta/encoder/layer_._15/attention/output/dense/bias:0', 'tf_roberta_model_4/roberta/encoder/layer_._15/attention/output/LayerNorm/gamma:0', 'tf_roberta_model_4/roberta/encoder/layer_._15/attention/output/LayerNorm/beta:0', 'tf_roberta_model_4/roberta/encoder/layer_._15/intermediate/dense/kernel:0', 'tf_roberta_model_4/roberta/encoder/layer_._15/intermediate/dense/bias:0', 'tf_roberta_model_4/roberta/encoder/layer_._15/output/dense/kernel:0', 'tf_roberta_model_4/roberta/encoder/layer_._15/output/dense/bias:0', 'tf_roberta_model_4/roberta/encoder/layer_._15/output/LayerNorm/gamma:0', 'tf_roberta_model_4/roberta/encoder/layer_._15/output/LayerNorm/beta:0', 'tf_roberta_model_4/roberta/encoder/layer_._16/attention/self/query/kernel:0', 'tf_roberta_model_4/roberta/encoder/layer_._16/attention/self/query/bias:0', 'tf_roberta_model_4/roberta/encoder/layer_._16/attention/self/key/kernel:0', 'tf_roberta_model_4/roberta/encoder/layer_._16/attention/self/key/bias:0', 'tf_roberta_model_4/roberta/encoder/layer_._16/attention/self/value/kernel:0', 'tf_roberta_model_4/roberta/encoder/layer_._16/attention/self/value/bias:0', 'tf_roberta_model_4/roberta/encoder/layer_._16/attention/output/dense/kernel:0', 'tf_roberta_model_4/roberta/encoder/layer_._16/attention/output/dense/bias:0', 'tf_roberta_model_4/roberta/encoder/layer_._16/attention/output/LayerNorm/gamma:0', 'tf_roberta_model_4/roberta/encoder/layer_._16/attention/output/LayerNorm/beta:0', 'tf_roberta_model_4/roberta/encoder/layer_._16/intermediate/dense/kernel:0', 'tf_roberta_model_4/roberta/encoder/layer_._16/intermediate/dense/bias:0', 'tf_roberta_model_4/roberta/encoder/layer_._16/output/dense/kernel:0', 'tf_roberta_model_4/roberta/encoder/layer_._16/output/dense/bias:0', 'tf_roberta_model_4/roberta/encoder/layer_._16/output/LayerNorm/gamma:0', 'tf_roberta_model_4/roberta/encoder/layer_._16/output/LayerNorm/beta:0', 'tf_roberta_model_4/roberta/encoder/layer_._17/attention/self/query/kernel:0', 'tf_roberta_model_4/roberta/encoder/layer_._17/attention/self/query/bias:0', 'tf_roberta_model_4/roberta/encoder/layer_._17/attention/self/key/kernel:0', 'tf_roberta_model_4/roberta/encoder/layer_._17/attention/self/key/bias:0', 'tf_roberta_model_4/roberta/encoder/layer_._17/attention/self/value/kernel:0', 'tf_roberta_model_4/roberta/encoder/layer_._17/attention/self/value/bias:0', 'tf_roberta_model_4/roberta/encoder/layer_._17/attention/output/dense/kernel:0', 'tf_roberta_model_4/roberta/encoder/layer_._17/attention/output/dense/bias:0', 'tf_roberta_model_4/roberta/encoder/layer_._17/attention/output/LayerNorm/gamma:0', 'tf_roberta_model_4/roberta/encoder/layer_._17/attention/output/LayerNorm/beta:0', 'tf_roberta_model_4/roberta/encoder/layer_._17/intermediate/dense/kernel:0', 'tf_roberta_model_4/roberta/encoder/layer_._17/intermediate/dense/bias:0', 'tf_roberta_model_4/roberta/encoder/layer_._17/output/dense/kernel:0', 'tf_roberta_model_4/roberta/encoder/layer_._17/output/dense/bias:0', 'tf_roberta_model_4/roberta/encoder/layer_._17/output/LayerNorm/gamma:0', 'tf_roberta_model_4/roberta/encoder/layer_._17/output/LayerNorm/beta:0', 'tf_roberta_model_4/roberta/encoder/layer_._18/attention/self/query/kernel:0', 'tf_roberta_model_4/roberta/encoder/layer_._18/attention/self/query/bias:0', 'tf_roberta_model_4/roberta/encoder/layer_._18/attention/self/key/kernel:0', 'tf_roberta_model_4/roberta/encoder/layer_._18/attention/self/key/bias:0', 'tf_roberta_model_4/roberta/encoder/layer_._18/attention/self/value/kernel:0', 'tf_roberta_model_4/roberta/encoder/layer_._18/attention/self/value/bias:0', 'tf_roberta_model_4/roberta/encoder/layer_._18/attention/output/dense/kernel:0', 'tf_roberta_model_4/roberta/encoder/layer_._18/attention/output/dense/bias:0', 'tf_roberta_model_4/roberta/encoder/layer_._18/attention/output/LayerNorm/gamma:0', 'tf_roberta_model_4/roberta/encoder/layer_._18/attention/output/LayerNorm/beta:0', 'tf_roberta_model_4/roberta/encoder/layer_._18/intermediate/dense/kernel:0', 'tf_roberta_model_4/roberta/encoder/layer_._18/intermediate/dense/bias:0', 'tf_roberta_model_4/roberta/encoder/layer_._18/output/dense/kernel:0', 'tf_roberta_model_4/roberta/encoder/layer_._18/output/dense/bias:0', 'tf_roberta_model_4/roberta/encoder/layer_._18/output/LayerNorm/gamma:0', 'tf_roberta_model_4/roberta/encoder/layer_._18/output/LayerNorm/beta:0', 'tf_roberta_model_4/roberta/encoder/layer_._19/attention/self/query/kernel:0', 'tf_roberta_model_4/roberta/encoder/layer_._19/attention/self/query/bias:0', 'tf_roberta_model_4/roberta/encoder/layer_._19/attention/self/key/kernel:0', 'tf_roberta_model_4/roberta/encoder/layer_._19/attention/self/key/bias:0', 'tf_roberta_model_4/roberta/encoder/layer_._19/attention/self/value/kernel:0', 'tf_roberta_model_4/roberta/encoder/layer_._19/attention/self/value/bias:0', 'tf_roberta_model_4/roberta/encoder/layer_._19/attention/output/dense/kernel:0', 'tf_roberta_model_4/roberta/encoder/layer_._19/attention/output/dense/bias:0', 'tf_roberta_model_4/roberta/encoder/layer_._19/attention/output/LayerNorm/gamma:0', 'tf_roberta_model_4/roberta/encoder/layer_._19/attention/output/LayerNorm/beta:0', 'tf_roberta_model_4/roberta/encoder/layer_._19/intermediate/dense/kernel:0', 'tf_roberta_model_4/roberta/encoder/layer_._19/intermediate/dense/bias:0', 'tf_roberta_model_4/roberta/encoder/layer_._19/output/dense/kernel:0', 'tf_roberta_model_4/roberta/encoder/layer_._19/output/dense/bias:0', 'tf_roberta_model_4/roberta/encoder/layer_._19/output/LayerNorm/gamma:0', 'tf_roberta_model_4/roberta/encoder/layer_._19/output/LayerNorm/beta:0', 'tf_roberta_model_4/roberta/pooler/dense/kernel:0', 'tf_roberta_model_4/roberta/pooler/dense/bias:0', 'tf_roberta_model_4/roberta/embeddings/word_embeddings/weight:0', 'tf_roberta_model_4/roberta/embeddings/token_type_embeddings/embeddings:0', 'tf_roberta_model_4/roberta/embeddings/position_embeddings/embeddings:0', 'tf_roberta_model_4/roberta/embeddings/LayerNorm/gamma:0', 'tf_roberta_model_4/roberta/embeddings/LayerNorm/beta:0'] when minimizing the loss. If you're using `model.compile()`, did you forget to provide a `loss` argument?\n"
          ]
        },
        {
          "output_type": "stream",
          "name": "stdout",
          "text": [
            "2401/2401 [==============================] - 952s 388ms/step - loss: 0.5452 - accuracy: 0.7077 - val_loss: 0.5430 - val_accuracy: 0.7721\n",
            "Epoch 2/6\n",
            "2401/2401 [==============================] - 925s 385ms/step - loss: 0.4014 - accuracy: 0.8230 - val_loss: 0.4522 - val_accuracy: 0.8089\n",
            "Epoch 3/6\n",
            "2401/2401 [==============================] - 925s 385ms/step - loss: 0.3819 - accuracy: 0.8302 - val_loss: 0.4411 - val_accuracy: 0.8118\n",
            "Epoch 4/6\n",
            "2401/2401 [==============================] - 925s 385ms/step - loss: 0.3628 - accuracy: 0.8433 - val_loss: 0.5031 - val_accuracy: 0.7984\n",
            "Epoch 5/6\n",
            "2401/2401 [==============================] - 926s 385ms/step - loss: 0.3550 - accuracy: 0.8456 - val_loss: 0.4369 - val_accuracy: 0.8177\n",
            "Epoch 6/6\n",
            "2401/2401 [==============================] - 926s 386ms/step - loss: 0.3505 - accuracy: 0.8495 - val_loss: 0.4125 - val_accuracy: 0.8235\n"
          ]
        }
      ]
    },
    {
      "cell_type": "markdown",
      "source": [
        "### Visualize"
      ],
      "metadata": {
        "id": "7pSNFTuw1aZG"
      }
    },
    {
      "cell_type": "code",
      "source": [
        "visualize(model_4_base_history)"
      ],
      "metadata": {
        "colab": {
          "base_uri": "https://localhost:8080/",
          "height": 487
        },
        "id": "bEL__Hni2SgR",
        "outputId": "53086fb8-34ac-4267-c344-ccb1afde4ae3"
      },
      "execution_count": null,
      "outputs": [
        {
          "output_type": "display_data",
          "data": {
            "text/plain": [
              "<Figure size 1500x500 with 2 Axes>"
            ],
            "image/png": "[encoded data removed]"
          },
          "metadata": {}
        }
      ]
    }
  ]
}