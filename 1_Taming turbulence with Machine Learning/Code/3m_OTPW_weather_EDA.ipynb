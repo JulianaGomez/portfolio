{
 "cells": [
  {
   "cell_type": "markdown",
   "metadata": {
    "application/vnd.databricks.v1+cell": {
     "cellMetadata": {
      "byteLimit": 2048000,
      "rowLimit": 10000
     },
     "inputWidgets": {},
     "nuid": "63719620-b500-4ae6-be24-a186e3626676",
     "showTitle": false,
     "title": ""
    }
   },
   "source": [
    "# EDA on 3 month weather data from OTPW \n",
    "\n",
    "## SUMMARY\n",
    "\n",
    "1. **Dimensions:**\n",
    "- There are 1401363 rows and 124 columns in the otpw_weather dataframe\n",
    "- There are 30528602 rows and 124 columns in the df_weather dataframe\n",
    "- There are 1401363 rows and 216 columns in the df_otpw dataframe\n",
    "- There are 1401363 rows and 34 columns in the otpw_weather_test_subset dataframe (variables with less than 80% nulls)\n",
    "  \n",
    "\n",
    "2. **Schema:** \n",
    "- Integer, float, string and datetime variables\n",
    "\n",
    "3. **Nulls**\n",
    "  - Out of the 124 columns in otpw_weather, only 58 columns are not all-nulls. \n",
    "  - Of the 58 columns in the subset, columns with most nulls are (see dictionary below)\n",
    "\n",
    "4. **Histograms**\n",
    "- Some variables are skewed\n",
    "\n",
    "5. **Summary statistics**\n",
    "- No visible outliers\n",
    "\n",
    "6. **Pearson Correlations**\n",
    "- Some variables are highly correlated - carry out PCA\n",
    "\n",
    "\n"
   ]
  },
  {
   "cell_type": "markdown",
   "metadata": {
    "application/vnd.databricks.v1+cell": {
     "cellMetadata": {
      "byteLimit": 2048000,
      "rowLimit": 10000
     },
     "inputWidgets": {},
     "nuid": "1f94dc1c-9bf9-47dd-954f-9ea2db65b6a7",
     "showTitle": false,
     "title": ""
    }
   },
   "source": [
    "## Import libraries"
   ]
  },
  {
   "cell_type": "code",
   "execution_count": 0,
   "metadata": {
    "application/vnd.databricks.v1+cell": {
     "cellMetadata": {
      "byteLimit": 2048000,
      "rowLimit": 10000
     },
     "inputWidgets": {},
     "nuid": "a52f24a5-3f63-4a41-95d0-369dcaa8713f",
     "showTitle": false,
     "title": ""
    }
   },
   "outputs": [],
   "source": [
    "import pandas as pd\n",
    "import matplotlib.pyplot as plt\n",
    "import pyspark.sql.functions as F\n",
    "import seaborn as sns\n",
    "from pyspark.ml.feature import Imputer\n"
   ]
  },
  {
   "cell_type": "markdown",
   "metadata": {
    "application/vnd.databricks.v1+cell": {
     "cellMetadata": {
      "byteLimit": 2048000,
      "rowLimit": 10000
     },
     "inputWidgets": {},
     "nuid": "18d2e63b-e750-4411-8be4-c4baedb72e11",
     "showTitle": false,
     "title": ""
    }
   },
   "source": [
    "## Setup cluster"
   ]
  },
  {
   "cell_type": "code",
   "execution_count": 0,
   "metadata": {
    "application/vnd.databricks.v1+cell": {
     "cellMetadata": {
      "byteLimit": 2048000,
      "rowLimit": 10000
     },
     "inputWidgets": {},
     "nuid": "543677ba-0b47-4868-b2c9-694de6a787a1",
     "showTitle": false,
     "title": ""
    }
   },
   "outputs": [],
   "source": [
    "\n",
    "blob_container = \"261storagecontainer\"  \n",
    "storage_account = \"261storage\" \n",
    "secret_scope = \"261_team_6_1_spring24_scope\"  \n",
    "secret_key = \"team_6_1_key\"  \n",
    "team_blob_url = f\"wasbs://{blob_container}@{storage_account}.blob.core.windows.net\" \n",
    "\n",
    "\n",
    "# blob storage is mounted here.\n",
    "mids261_mount_path = \"/mnt/mids-w261\"\n",
    "\n",
    "# SAS Token: Grant the team limited access to Azure Storage resources\n",
    "spark.conf.set(\n",
    "    f\"fs.azure.sas.{blob_container}.{storage_account}.blob.core.windows.net\",\n",
    "    dbutils.secrets.get(scope=secret_scope, key=secret_key),\n",
    ")"
   ]
  },
  {
   "cell_type": "code",
   "execution_count": 0,
   "metadata": {
    "application/vnd.databricks.v1+cell": {
     "cellMetadata": {
      "byteLimit": 2048000,
      "rowLimit": 10000
     },
     "inputWidgets": {},
     "nuid": "c7bc1b72-8d29-4107-be79-883c137cfc60",
     "showTitle": false,
     "title": ""
    }
   },
   "outputs": [
    {
     "output_type": "display_data",
     "data": {
      "text/html": [
       "<style scoped>\n",
       "  .table-result-container {\n",
       "    max-height: 300px;\n",
       "    overflow: auto;\n",
       "  }\n",
       "  table, th, td {\n",
       "    border: 1px solid black;\n",
       "    border-collapse: collapse;\n",
       "  }\n",
       "  th, td {\n",
       "    padding: 5px;\n",
       "  }\n",
       "  th {\n",
       "    text-align: left;\n",
       "  }\n",
       "</style><div class='table-result-container'><table class='table-result'><thead style='background-color: white'><tr><th>path</th><th>name</th><th>size</th><th>modificationTime</th></tr></thead><tbody><tr><td>wasbs://261storagecontainer@261storage.blob.core.windows.net/2015_1YR_OTPW_parquet/</td><td>2015_1YR_OTPW_parquet/</td><td>0</td><td>1710978433000</td></tr><tr><td>wasbs://261storagecontainer@261storage.blob.core.windows.net/2015_1YR_OTPW_parquet_test/</td><td>2015_1YR_OTPW_parquet_test/</td><td>0</td><td>1711039243000</td></tr><tr><td>wasbs://261storagecontainer@261storage.blob.core.windows.net/2015_1YR_OTPW_parquet_train/</td><td>2015_1YR_OTPW_parquet_train/</td><td>0</td><td>1711039121000</td></tr><tr><td>wasbs://261storagecontainer@261storage.blob.core.windows.net/2015_1YR_OTPW_parquet_train_filtered/</td><td>2015_1YR_OTPW_parquet_train_filtered/</td><td>0</td><td>1711075248000</td></tr><tr><td>wasbs://261storagecontainer@261storage.blob.core.windows.net/TP/</td><td>TP/</td><td>0</td><td>1710263499000</td></tr><tr><td>wasbs://261storagecontainer@261storage.blob.core.windows.net/js/</td><td>js/</td><td>0</td><td>1710564217000</td></tr><tr><td>wasbs://261storagecontainer@261storage.blob.core.windows.net/js_test/</td><td>js_test/</td><td>0</td><td>1710692934000</td></tr><tr><td>wasbs://261storagecontainer@261storage.blob.core.windows.net/js_weatherstations/</td><td>js_weatherstations/</td><td>0</td><td>1710816939000</td></tr><tr><td>wasbs://261storagecontainer@261storage.blob.core.windows.net/juliana_1y_weather_subset/</td><td>juliana_1y_weather_subset/</td><td>0</td><td>1711045847000</td></tr><tr><td>wasbs://261storagecontainer@261storage.blob.core.windows.net/juliana_raw_1y_weather_subset/</td><td>juliana_raw_1y_weather_subset/</td><td>0</td><td>1711055700000</td></tr><tr><td>wasbs://261storagecontainer@261storage.blob.core.windows.net/juliana_temp/</td><td>juliana_temp/</td><td>0</td><td>1710859844000</td></tr><tr><td>wasbs://261storagecontainer@261storage.blob.core.windows.net/phase1_eda_2/</td><td>phase1_eda_2/</td><td>0</td><td>1710377616000</td></tr><tr><td>wasbs://261storagecontainer@261storage.blob.core.windows.net/ray_temp/</td><td>ray_temp/</td><td>0</td><td>1710375378000</td></tr><tr><td>wasbs://261storagecontainer@261storage.blob.core.windows.net/rg/</td><td>rg/</td><td>0</td><td>1710536122000</td></tr><tr><td>wasbs://261storagecontainer@261storage.blob.core.windows.net/select_3m_optw/</td><td>select_3m_optw/</td><td>0</td><td>1710725827000</td></tr><tr><td>wasbs://261storagecontainer@261storage.blob.core.windows.net/temp/</td><td>temp/</td><td>0</td><td>1710512455000</td></tr></tbody></table></div>"
      ]
     },
     "metadata": {
      "application/vnd.databricks.v1+output": {
       "addedWidgets": {},
       "aggData": [],
       "aggError": "",
       "aggOverflow": false,
       "aggSchema": [],
       "aggSeriesLimitReached": false,
       "aggType": "",
       "arguments": {},
       "columnCustomDisplayInfos": {},
       "data": [
        [
         "wasbs://261storagecontainer@261storage.blob.core.windows.net/2015_1YR_OTPW_parquet/",
         "2015_1YR_OTPW_parquet/",
         0,
         1710978433000
        ],
        [
         "wasbs://261storagecontainer@261storage.blob.core.windows.net/2015_1YR_OTPW_parquet_test/",
         "2015_1YR_OTPW_parquet_test/",
         0,
         1711039243000
        ],
        [
         "wasbs://261storagecontainer@261storage.blob.core.windows.net/2015_1YR_OTPW_parquet_train/",
         "2015_1YR_OTPW_parquet_train/",
         0,
         1711039121000
        ],
        [
         "wasbs://261storagecontainer@261storage.blob.core.windows.net/2015_1YR_OTPW_parquet_train_filtered/",
         "2015_1YR_OTPW_parquet_train_filtered/",
         0,
         1711075248000
        ],
        [
         "wasbs://261storagecontainer@261storage.blob.core.windows.net/TP/",
         "TP/",
         0,
         1710263499000
        ],
        [
         "wasbs://261storagecontainer@261storage.blob.core.windows.net/js/",
         "js/",
         0,
         1710564217000
        ],
        [
         "wasbs://261storagecontainer@261storage.blob.core.windows.net/js_test/",
         "js_test/",
         0,
         1710692934000
        ],
        [
         "wasbs://261storagecontainer@261storage.blob.core.windows.net/js_weatherstations/",
         "js_weatherstations/",
         0,
         1710816939000
        ],
        [
         "wasbs://261storagecontainer@261storage.blob.core.windows.net/juliana_1y_weather_subset/",
         "juliana_1y_weather_subset/",
         0,
         1711045847000
        ],
        [
         "wasbs://261storagecontainer@261storage.blob.core.windows.net/juliana_raw_1y_weather_subset/",
         "juliana_raw_1y_weather_subset/",
         0,
         1711055700000
        ],
        [
         "wasbs://261storagecontainer@261storage.blob.core.windows.net/juliana_temp/",
         "juliana_temp/",
         0,
         1710859844000
        ],
        [
         "wasbs://261storagecontainer@261storage.blob.core.windows.net/phase1_eda_2/",
         "phase1_eda_2/",
         0,
         1710377616000
        ],
        [
         "wasbs://261storagecontainer@261storage.blob.core.windows.net/ray_temp/",
         "ray_temp/",
         0,
         1710375378000
        ],
        [
         "wasbs://261storagecontainer@261storage.blob.core.windows.net/rg/",
         "rg/",
         0,
         1710536122000
        ],
        [
         "wasbs://261storagecontainer@261storage.blob.core.windows.net/select_3m_optw/",
         "select_3m_optw/",
         0,
         1710725827000
        ],
        [
         "wasbs://261storagecontainer@261storage.blob.core.windows.net/temp/",
         "temp/",
         0,
         1710512455000
        ]
       ],
       "datasetInfos": [],
       "dbfsResultPath": null,
       "isJsonSchema": true,
       "metadata": {},
       "overflow": false,
       "plotOptions": {
        "customPlotOptions": {},
        "displayType": "table",
        "pivotAggregation": null,
        "pivotColumns": null,
        "xColumns": null,
        "yColumns": null
       },
       "removedWidgets": [],
       "schema": [
        {
         "metadata": "{}",
         "name": "path",
         "type": "\"string\""
        },
        {
         "metadata": "{}",
         "name": "name",
         "type": "\"string\""
        },
        {
         "metadata": "{}",
         "name": "size",
         "type": "\"long\""
        },
        {
         "metadata": "{}",
         "name": "modificationTime",
         "type": "\"long\""
        }
       ],
       "type": "table"
      }
     },
     "output_type": "display_data"
    }
   ],
   "source": [
    "# # see what's in the blob storage root folder\n",
    "display(dbutils.fs.ls(f\"{team_blob_url}/rg/\"))"
   ]
  },
  {
   "cell_type": "code",
   "execution_count": 0,
   "metadata": {
    "application/vnd.databricks.v1+cell": {
     "cellMetadata": {
      "byteLimit": 2048000,
      "rowLimit": 10000
     },
     "inputWidgets": {},
     "nuid": "24d867f9-dac4-454f-a2cc-fe2e55baeb74",
     "showTitle": false,
     "title": ""
    }
   },
   "outputs": [
    {
     "output_type": "display_data",
     "data": {
      "text/html": [
       "<style scoped>\n",
       "  .table-result-container {\n",
       "    max-height: 300px;\n",
       "    overflow: auto;\n",
       "  }\n",
       "  table, th, td {\n",
       "    border: 1px solid black;\n",
       "    border-collapse: collapse;\n",
       "  }\n",
       "  th, td {\n",
       "    padding: 5px;\n",
       "  }\n",
       "  th {\n",
       "    text-align: left;\n",
       "  }\n",
       "</style><div class='table-result-container'><table class='table-result'><thead style='background-color: white'><tr><th>path</th><th>name</th><th>size</th><th>modificationTime</th></tr></thead><tbody><tr><td>dbfs:/mnt/mids-w261/HW5/</td><td>HW5/</td><td>0</td><td>0</td></tr><tr><td>dbfs:/mnt/mids-w261/OTPW_12M/</td><td>OTPW_12M/</td><td>0</td><td>0</td></tr><tr><td>dbfs:/mnt/mids-w261/OTPW_1D_CSV/</td><td>OTPW_1D_CSV/</td><td>0</td><td>0</td></tr><tr><td>dbfs:/mnt/mids-w261/OTPW_36M/</td><td>OTPW_36M/</td><td>0</td><td>0</td></tr><tr><td>dbfs:/mnt/mids-w261/OTPW_3M/</td><td>OTPW_3M/</td><td>0</td><td>0</td></tr><tr><td>dbfs:/mnt/mids-w261/OTPW_3M_2015.csv</td><td>OTPW_3M_2015.csv</td><td>1500620247</td><td>1679772070000</td></tr><tr><td>dbfs:/mnt/mids-w261/OTPW_60M/</td><td>OTPW_60M/</td><td>0</td><td>0</td></tr><tr><td>dbfs:/mnt/mids-w261/airport-codes_csv.csv</td><td>airport-codes_csv.csv</td><td>6232459</td><td>1677623514000</td></tr><tr><td>dbfs:/mnt/mids-w261/datasets_final_project/</td><td>datasets_final_project/</td><td>0</td><td>0</td></tr><tr><td>dbfs:/mnt/mids-w261/datasets_final_project_2022/</td><td>datasets_final_project_2022/</td><td>0</td><td>0</td></tr></tbody></table></div>"
      ]
     },
     "metadata": {
      "application/vnd.databricks.v1+output": {
       "addedWidgets": {},
       "aggData": [],
       "aggError": "",
       "aggOverflow": false,
       "aggSchema": [],
       "aggSeriesLimitReached": false,
       "aggType": "",
       "arguments": {},
       "columnCustomDisplayInfos": {},
       "data": [
        [
         "dbfs:/mnt/mids-w261/HW5/",
         "HW5/",
         0,
         0
        ],
        [
         "dbfs:/mnt/mids-w261/OTPW_12M/",
         "OTPW_12M/",
         0,
         0
        ],
        [
         "dbfs:/mnt/mids-w261/OTPW_1D_CSV/",
         "OTPW_1D_CSV/",
         0,
         0
        ],
        [
         "dbfs:/mnt/mids-w261/OTPW_36M/",
         "OTPW_36M/",
         0,
         0
        ],
        [
         "dbfs:/mnt/mids-w261/OTPW_3M/",
         "OTPW_3M/",
         0,
         0
        ],
        [
         "dbfs:/mnt/mids-w261/OTPW_3M_2015.csv",
         "OTPW_3M_2015.csv",
         1500620247,
         1679772070000
        ],
        [
         "dbfs:/mnt/mids-w261/OTPW_60M/",
         "OTPW_60M/",
         0,
         0
        ],
        [
         "dbfs:/mnt/mids-w261/airport-codes_csv.csv",
         "airport-codes_csv.csv",
         6232459,
         1677623514000
        ],
        [
         "dbfs:/mnt/mids-w261/datasets_final_project/",
         "datasets_final_project/",
         0,
         0
        ],
        [
         "dbfs:/mnt/mids-w261/datasets_final_project_2022/",
         "datasets_final_project_2022/",
         0,
         0
        ]
       ],
       "datasetInfos": [],
       "dbfsResultPath": null,
       "isJsonSchema": true,
       "metadata": {},
       "overflow": false,
       "plotOptions": {
        "customPlotOptions": {},
        "displayType": "table",
        "pivotAggregation": null,
        "pivotColumns": null,
        "xColumns": null,
        "yColumns": null
       },
       "removedWidgets": [],
       "schema": [
        {
         "metadata": "{}",
         "name": "path",
         "type": "\"string\""
        },
        {
         "metadata": "{}",
         "name": "name",
         "type": "\"string\""
        },
        {
         "metadata": "{}",
         "name": "size",
         "type": "\"long\""
        },
        {
         "metadata": "{}",
         "name": "modificationTime",
         "type": "\"long\""
        }
       ],
       "type": "table"
      }
     },
     "output_type": "display_data"
    }
   ],
   "source": [
    "# mount\n",
    "data_BASE_DIR = \"dbfs:/mnt/mids-w261/\"\n",
    "display(dbutils.fs.ls(f\"{data_BASE_DIR}\"))"
   ]
  },
  {
   "cell_type": "markdown",
   "metadata": {
    "application/vnd.databricks.v1+cell": {
     "cellMetadata": {
      "byteLimit": 2048000,
      "rowLimit": 10000
     },
     "inputWidgets": {},
     "nuid": "9207e862-a86d-4b6b-b1d7-0ef5a4f5fed3",
     "showTitle": false,
     "title": ""
    }
   },
   "source": [
    "## Load data"
   ]
  },
  {
   "cell_type": "markdown",
   "metadata": {
    "application/vnd.databricks.v1+cell": {
     "cellMetadata": {
      "byteLimit": 2048000,
      "rowLimit": 10000
     },
     "inputWidgets": {},
     "nuid": "595776a3-dcd4-4d9d-b432-631ccb58d8f1",
     "showTitle": false,
     "title": ""
    }
   },
   "source": [
    "%md\n",
    "## 1 Schema"
   ]
  },
  {
   "cell_type": "code",
   "execution_count": 0,
   "metadata": {
    "application/vnd.databricks.v1+cell": {
     "cellMetadata": {
      "byteLimit": 2048000,
      "rowLimit": 10000
     },
     "inputWidgets": {},
     "nuid": "bf926494-8ed1-4856-865e-5c54424ece68",
     "showTitle": false,
     "title": ""
    }
   },
   "outputs": [
    {
     "output_type": "stream",
     "name": "stdout",
     "output_type": "stream",
     "text": [
      "There are 1401363 rows and 216 columns in the df_otpw dataframe\n"
     ]
    }
   ],
   "source": [
    "# OTPW 3 month data csv\n",
    "df_otpw = spark.read.format(\"csv\").option(\"header\", \"true\").load(f\"dbfs:/mnt/mids-w261/OTPW_3M_2015.csv\")\n",
    "print(f'There are {df_otpw.count()} rows and {len(df_otpw.columns)} columns in the df_otpw dataframe')\n"
   ]
  },
  {
   "cell_type": "code",
   "execution_count": 0,
   "metadata": {
    "application/vnd.databricks.v1+cell": {
     "cellMetadata": {
      "byteLimit": 2048000,
      "rowLimit": 10000
     },
     "inputWidgets": {},
     "nuid": "257bbe1e-9983-47ec-8ac4-18c3eccd4614",
     "showTitle": false,
     "title": ""
    }
   },
   "outputs": [
    {
     "output_type": "stream",
     "name": "stdout",
     "output_type": "stream",
     "text": [
      "There are 3840009 rows and 216 columns in the df_otpw_not_csv dataframe\n"
     ]
    }
   ],
   "source": [
    "# and then what is this??? Vini says: use either, there is a slight difference\n",
    "df_otpw_not_csv = spark.read.format(\"csv\").option(\"header\", \"true\").load(f\"dbfs:/mnt/mids-w261/OTPW_3M/\")\n",
    "print(f'There are {df_otpw_not_csv.count()} rows and {len(df_otpw_not_csv.columns)} columns in the df_otpw_not_csv dataframe')\n"
   ]
  },
  {
   "cell_type": "code",
   "execution_count": 0,
   "metadata": {
    "application/vnd.databricks.v1+cell": {
     "cellMetadata": {
      "byteLimit": 2048000,
      "rowLimit": 10000
     },
     "inputWidgets": {},
     "nuid": "b06bd5d5-b444-4f2d-a5b2-017b40b7cf02",
     "showTitle": false,
     "title": ""
    }
   },
   "outputs": [],
   "source": [
    "# Load weather data to check for relevant columns in the OTPW dataframe\n",
    "# Weather data\n",
    "df_weather = spark.read.parquet(f\"dbfs:/mnt/mids-w261/datasets_final_project_2022/parquet_weather_data_3m/\")"
   ]
  },
  {
   "cell_type": "markdown",
   "metadata": {
    "application/vnd.databricks.v1+cell": {
     "cellMetadata": {
      "byteLimit": 2048000,
      "rowLimit": 10000
     },
     "inputWidgets": {},
     "nuid": "bb921d68-36de-4e04-a17f-7e1fcd7eef0c",
     "showTitle": false,
     "title": ""
    }
   },
   "source": [
    "## 2. Dimensions\n",
    "\n",
    "- All variables are typecast as string. \n",
    "- We should typecast them to their original types"
   ]
  },
  {
   "cell_type": "code",
   "execution_count": 0,
   "metadata": {
    "application/vnd.databricks.v1+cell": {
     "cellMetadata": {
      "byteLimit": 2048000,
      "rowLimit": 10000
     },
     "inputWidgets": {},
     "nuid": "5d836807-9af8-4462-a2b1-96cc3b194b1e",
     "showTitle": false,
     "title": ""
    }
   },
   "outputs": [
    {
     "output_type": "stream",
     "name": "stdout",
     "output_type": "stream",
     "text": [
      "There are 1401363 rows and 124 columns in the otpw_weather dataframe\nThere are 30528602 rows and 124 columns in the df_weather dataframe\nThere are 1401363 rows and 216 columns in the df_otpw dataframe\n"
     ]
    }
   ],
   "source": [
    "# Select only weather variables and check dimensions again\n",
    "otpw_weather = df_otpw.select([col for col in df_weather.columns])\n",
    "\n",
    "print(f'There are {otpw_weather.count()} rows and {len(otpw_weather.columns)} columns in the otpw_weather dataframe')\n",
    "print(f'There are {df_weather.count()} rows and {len(df_weather.columns)} columns in the df_weather dataframe')\n",
    "print(f'There are {df_otpw.count()} rows and {len(df_otpw.columns)} columns in the df_otpw dataframe')\n"
   ]
  },
  {
   "cell_type": "markdown",
   "metadata": {
    "application/vnd.databricks.v1+cell": {
     "cellMetadata": {
      "byteLimit": 2048000,
      "rowLimit": 10000
     },
     "inputWidgets": {},
     "nuid": "0990e6b6-e795-423a-aba2-1a1ac96ff2c8",
     "showTitle": false,
     "title": ""
    }
   },
   "source": [
    "## 2.5 Change datatype for string columns which are actually numeric\n",
    "\n",
    "- HourlyPressureChange (has a + before some numbers), HourlyPrecipitation (find out what T means), HourlyWindDirection (find out what VRB means), DailyPrecipitation (find out T), DailySnowfall (find out T)\n",
    "\n",
    "- station isn't INT (I don't know why, though), introducing NULLs when typecasting it. \n",
    "otpw_weather.select('STATION').distinct().show()"
   ]
  },
  {
   "cell_type": "code",
   "execution_count": 0,
   "metadata": {
    "application/vnd.databricks.v1+cell": {
     "cellMetadata": {
      "byteLimit": 2048000,
      "rowLimit": 10000
     },
     "inputWidgets": {},
     "nuid": "0a55a5e4-30cf-4457-9c84-5cb00e4f3c56",
     "showTitle": false,
     "title": ""
    }
   },
   "outputs": [],
   "source": [
    "# type cast as integers\n",
    "this_is_int = ['SOURCE', 'HourlyDewPointTemperature', 'HourlyDryBulbTemperature', 'HourlyPressureTendency', 'HourlyRelativeHumidity', 'HourlyWetBulbTemperature', 'HourlyWindGustSpeed', 'HourlyWindSpeed', 'Sunrise', 'Sunset', 'DailyAverageDewPointTemperature','DailyAverageDryBulbTemperature', 'DailyAverageRelativeHumidity', 'DailyCoolingDegreeDays', 'DailyHeatingDegreeDays', 'DailyMaximumDryBulbTemperature', 'DailyMinimumDryBulbTemperature', 'DailyPeakWindDirection', 'DailyPeakWindSpeed', 'DailySnowDepth', 'DailySustainedWindDirection', 'DailySustainedWindSpeed', 'BackupElevation', 'YEAR']\n",
    "\n",
    "this_is_float = ['LATITUDE', 'LONGITUDE', 'ELEVATION', 'HourlyAltimeterSetting', 'HourlySeaLevelPressure', 'HourlyStationPressure', 'HourlyVisibility', 'DailyAverageSeaLevelPressure', 'DailyAverageStationPressure', 'DailyAverageWindSpeed', 'DailyDepartureFromNormalAverageTemperature', 'DailyPrecipitation', 'DailySnowfall', 'BackupDistance', 'BackupLatitude', 'BackupLongitude']"
   ]
  },
  {
   "cell_type": "code",
   "execution_count": 0,
   "metadata": {
    "application/vnd.databricks.v1+cell": {
     "cellMetadata": {
      "byteLimit": 2048000,
      "rowLimit": 10000
     },
     "inputWidgets": {},
     "nuid": "b20cb6cb-b5e2-4e99-92e1-28dccda86e9b",
     "showTitle": false,
     "title": ""
    }
   },
   "outputs": [],
   "source": [
    "#typecast as int or float\n",
    "otpw_weather_test = otpw_weather.select(*[\n",
    "    F.col(c).cast('int').alias(c) if c in this_is_int else\n",
    "    F.col(c).cast('float').alias(c) if c in this_is_float else\n",
    "    F.col(c)\n",
    "    for c in otpw_weather.columns\n",
    "])"
   ]
  },
  {
   "cell_type": "code",
   "execution_count": 0,
   "metadata": {
    "application/vnd.databricks.v1+cell": {
     "cellMetadata": {
      "byteLimit": 2048000,
      "rowLimit": 10000
     },
     "inputWidgets": {},
     "nuid": "1db228aa-fa52-47cf-9aad-5ec947932c99",
     "showTitle": false,
     "title": ""
    }
   },
   "outputs": [],
   "source": [
    "# change date to date\n",
    "otpw_weather = otpw_weather.withColumn('DATE', F.to_date('DATE'))"
   ]
  },
  {
   "cell_type": "markdown",
   "metadata": {
    "application/vnd.databricks.v1+cell": {
     "cellMetadata": {
      "byteLimit": 2048000,
      "rowLimit": 10000
     },
     "inputWidgets": {},
     "nuid": "6652d460-a5a1-4eaa-9852-5b6e3a5c7b37",
     "showTitle": false,
     "title": ""
    }
   },
   "source": [
    "## 3. Null values\n"
   ]
  },
  {
   "cell_type": "code",
   "execution_count": 0,
   "metadata": {
    "application/vnd.databricks.v1+cell": {
     "cellMetadata": {
      "byteLimit": 2048000,
      "rowLimit": 10000
     },
     "inputWidgets": {},
     "nuid": "8691c760-7426-4803-be9e-a7de9811cd7b",
     "showTitle": false,
     "title": ""
    }
   },
   "outputs": [],
   "source": [
    "# find out which columns are all nulls \n",
    "numrows = otpw_weather.count()\n",
    "\n",
    "# Get the number of null values for each column\n",
    "otpw_null_counts_dict = otpw_weather.select(\n",
    "        [F.sum(F.col(c).isNull().cast(\"integer\")).alias(c) for c in otpw_weather.columns]\n",
    "    ).collect()[0].asDict()"
   ]
  },
  {
   "cell_type": "code",
   "execution_count": 0,
   "metadata": {
    "application/vnd.databricks.v1+cell": {
     "cellMetadata": {
      "byteLimit": 2048000,
      "rowLimit": 10000
     },
     "inputWidgets": {},
     "nuid": "3d6b3314-a0df-43e7-9569-598d6e999712",
     "showTitle": false,
     "title": ""
    }
   },
   "outputs": [],
   "source": [
    "# drop columns which are all nulls\n",
    "columns_to_drop = [col for col, null_count in otpw_null_counts_dict.items() if null_count == numrows]\n"
   ]
  },
  {
   "cell_type": "code",
   "execution_count": 0,
   "metadata": {
    "application/vnd.databricks.v1+cell": {
     "cellMetadata": {
      "byteLimit": 2048000,
      "rowLimit": 10000
     },
     "inputWidgets": {},
     "nuid": "46463595-f243-496a-8ad2-68309f15b200",
     "showTitle": false,
     "title": ""
    }
   },
   "outputs": [
    {
     "output_type": "stream",
     "name": "stdout",
     "output_type": "stream",
     "text": [
      "66 of the weather variables are all nulls\n"
     ]
    }
   ],
   "source": [
    "print(f'{len(columns_to_drop)} of the weather variables are all nulls')\n"
   ]
  },
  {
   "cell_type": "code",
   "execution_count": 0,
   "metadata": {
    "application/vnd.databricks.v1+cell": {
     "cellMetadata": {
      "byteLimit": 2048000,
      "rowLimit": 10000
     },
     "inputWidgets": {},
     "nuid": "a95adcfd-3a61-4fdf-95ce-5677b419357a",
     "showTitle": false,
     "title": ""
    }
   },
   "outputs": [],
   "source": [
    "otpw_weather_test_subset = otpw_weather_test.select(*[F.col(c) for c in otpw_weather_test.columns if c not in columns_to_drop])"
   ]
  },
  {
   "cell_type": "markdown",
   "metadata": {
    "application/vnd.databricks.v1+cell": {
     "cellMetadata": {},
     "inputWidgets": {},
     "nuid": "4dabbc26-9476-4215-ad55-fd5bef131405",
     "showTitle": false,
     "title": ""
    }
   },
   "source": [
    "Select variables which have less than 100% nulls and checkpoint"
   ]
  },
  {
   "cell_type": "code",
   "execution_count": 0,
   "metadata": {
    "application/vnd.databricks.v1+cell": {
     "cellMetadata": {
      "byteLimit": 2048000,
      "rowLimit": 10000
     },
     "inputWidgets": {},
     "nuid": "a77509bf-2100-4019-a7b9-28703d6f4a6e",
     "showTitle": false,
     "title": ""
    }
   },
   "outputs": [],
   "source": [
    "numrows = otpw_weather_test_subset.count()\n",
    "\n",
    "# nulls in subset weather data\n",
    "nulls_otpw_weather_test_subset_dict = otpw_weather_test_subset.select(\n",
    "        [F.sum(F.col(c).isNull().cast(\"integer\")).alias(c) for c in otpw_weather_test_subset.columns]\n",
    "    ).collect()[0].asDict()\n",
    "\n",
    "# calculate percentage of rows with null values\n",
    "updated_dict = {k: round((v / numrows),2) * 100 for k, v in nulls_otpw_weather_test_subset_dict.items()}\n",
    "\n",
    "# select variables with fewer than 80% nulls\n",
    "selected_keys = [k for k, v in updated_dict.items() if v < 100]\n",
    "# selected_keys\n",
    "\n",
    "\n",
    "otpw_weather_test_subset = otpw_weather_test_subset.select(selected_keys)\n",
    "\n"
   ]
  },
  {
   "cell_type": "code",
   "execution_count": 0,
   "metadata": {
    "application/vnd.databricks.v1+cell": {
     "cellMetadata": {
      "byteLimit": 2048000,
      "rowLimit": 10000
     },
     "inputWidgets": {},
     "nuid": "e7d0ccbd-68da-481d-b17c-abb644dbd47f",
     "showTitle": false,
     "title": ""
    }
   },
   "outputs": [],
   "source": [
    "# HourlyPrecipitation: **Change T to 0** (signifies trace amount)\n",
    "\n",
    "otpw_weather_test_subset = otpw_weather_test_subset.withColumn('HourlyPrecipitation', F.when(otpw_weather_test_subset.HourlyPrecipitation=='T', 0).otherwise(otpw_weather_test_subset.HourlyPrecipitation))\n",
    "\n",
    "#typecast as numeric\n",
    "mycol = ['HourlyPrecipitation']\n",
    "\n",
    "for column in mycol:\n",
    "    otpw_weather_test_subset = otpw_weather_test_subset.withColumn(f\"{column}\", F.col(column).cast(\"float\"))\n"
   ]
  },
  {
   "cell_type": "code",
   "execution_count": 0,
   "metadata": {
    "application/vnd.databricks.v1+cell": {
     "cellMetadata": {
      "byteLimit": 2048000,
      "rowLimit": 10000
     },
     "inputWidgets": {},
     "nuid": "3f12a049-d650-4a2b-86d3-99e037222227",
     "showTitle": false,
     "title": ""
    }
   },
   "outputs": [],
   "source": [
    "# change VRB (variable wind direction) in wind direction to 999\n",
    "otpw_weather_test_subset = otpw_weather_test_subset.withColumn('HourlyWindDirection', F.when(otpw_weather_test_subset.HourlyWindDirection=='VRB', 999).otherwise(otpw_weather_test_subset.HourlyWindDirection))\n",
    "\n",
    "#typecast as numeric\n",
    "mycol = ['HourlyWindDirection']\n",
    "\n",
    "for column in mycol:\n",
    "    otpw_weather_test_subset = otpw_weather_test_subset.withColumn(f\"{column}\", F.col(column).cast(\"float\"))\n"
   ]
  },
  {
   "cell_type": "code",
   "execution_count": 0,
   "metadata": {
    "application/vnd.databricks.v1+cell": {
     "cellMetadata": {
      "byteLimit": 2048000,
      "rowLimit": 10000
     },
     "inputWidgets": {},
     "nuid": "0170d7ab-1f96-47d5-be43-6c66f80a3569",
     "showTitle": false,
     "title": ""
    }
   },
   "outputs": [],
   "source": [
    "# Hourly Pressure Change - typecast to float \n",
    "\n",
    "#typecast as numeric\n",
    "mycol = ['HourlyPressureChange']\n",
    "\n",
    "for column in mycol:\n",
    "    otpw_weather_test_subset = otpw_weather_test_subset.withColumn(f\"{column}\", F.col(column).cast(\"float\"))\n"
   ]
  },
  {
   "cell_type": "markdown",
   "metadata": {
    "application/vnd.databricks.v1+cell": {
     "cellMetadata": {
      "byteLimit": 2048000,
      "rowLimit": 10000
     },
     "inputWidgets": {},
     "nuid": "4533b6dc-204c-4021-8195-3e9df53cb691",
     "showTitle": false,
     "title": ""
    }
   },
   "source": [
    "### Checkpoint otpw_weather_test_subset\n",
    "- variables which have less than 100% nulls\n",
    "- variables typecast to their proper type (int, float, str or date)\n",
    "- some data cleaning for numeric variables with some string information. \n"
   ]
  },
  {
   "cell_type": "code",
   "execution_count": 0,
   "metadata": {
    "application/vnd.databricks.v1+cell": {
     "cellMetadata": {
      "byteLimit": 2048000,
      "rowLimit": 10000
     },
     "inputWidgets": {},
     "nuid": "888ce1d4-b453-4c51-bb0d-39dcc170c531",
     "showTitle": false,
     "title": ""
    }
   },
   "outputs": [],
   "source": [
    "# Checkpoint the DataFrame\n",
    "otpw_weather_test_subset.write.mode(\"overwrite\").parquet(f\"{team_blob_url}/juliana_temp\")"
   ]
  },
  {
   "cell_type": "code",
   "execution_count": 0,
   "metadata": {
    "application/vnd.databricks.v1+cell": {
     "cellMetadata": {
      "byteLimit": 2048000,
      "rowLimit": 10000
     },
     "inputWidgets": {},
     "nuid": "aa524ea3-dbc6-4250-98cb-5820bd73d8c0",
     "showTitle": false,
     "title": ""
    }
   },
   "outputs": [],
   "source": [
    "# Load checkpointed dataframe\n",
    "otpw_weather_test_subset = spark.read.parquet( f\"wasbs://{blob_container}@{storage_account}.blob.core.windows.net/juliana_temp\" )\n"
   ]
  },
  {
   "cell_type": "code",
   "execution_count": 0,
   "metadata": {
    "application/vnd.databricks.v1+cell": {
     "cellMetadata": {
      "byteLimit": 2048000,
      "rowLimit": 10000
     },
     "inputWidgets": {},
     "nuid": "0feda190-ea7c-4698-99d3-218848bce370",
     "showTitle": false,
     "title": ""
    }
   },
   "outputs": [
    {
     "output_type": "stream",
     "name": "stdout",
     "output_type": "stream",
     "text": [
      "There are 1401363 rows and 34 columns in the otpw_weather_test_subset dataframe\n"
     ]
    }
   ],
   "source": [
    "print(f'There are {otpw_weather_test_subset.count()} rows and {len(otpw_weather_test_subset.columns)} columns in the otpw_weather_test_subset dataframe')\n"
   ]
  },
  {
   "cell_type": "markdown",
   "metadata": {
    "application/vnd.databricks.v1+cell": {
     "cellMetadata": {},
     "inputWidgets": {},
     "nuid": "5810c1d2-7cb5-4d8a-a622-65ebfdaf7658",
     "showTitle": false,
     "title": ""
    }
   },
   "source": [
    "## 4. Histograms\n",
    "\n",
    "Columns to drop based on very skewed data:\n",
    "- Hourly precipitation **DROP**\n",
    "- Source **DROP**\n",
    "- Hourly Visibility  **DROP**\n",
    "- Backup distance **DROP**"
   ]
  },
  {
   "cell_type": "markdown",
   "metadata": {
    "application/vnd.databricks.v1+cell": {
     "cellMetadata": {
      "byteLimit": 2048000,
      "rowLimit": 10000
     },
     "inputWidgets": {},
     "nuid": "30e7653a-025a-488e-9125-7290b8dd76a9",
     "showTitle": false,
     "title": ""
    }
   },
   "source": [
    "### Numeric Variables:\n",
    "- LATITUDE: Latitude\n",
    "- LONGITUDE: Longitude\n",
    "- ELEVATION: Elevation\n",
    "- SOURCE: \n",
    "- HourlyAltimeterSetting: The pressure value to which an aircraft altimeter is set so that it will indicate the altitude relative to mean sea level of an aircraft on the ground at the location for which the value was determined. **DROP - COLINEARITY**\n",
    "- HourlyDewPointTemperature:The temperature to which a given parcel of air must be cooled at constant pressure and water vapor\n",
    "- HourlyDryBulbTemperature: This is the dry-bulb temperature and is commonly used as the standard air temperature\n",
    "reported. **DROP - COLINEARITY**\n",
    "- HourlyPrecipitation: The total hourly precipitation amount for the sensor. T represents trace amounts **DROP - HIGHLY SKEWED**\n",
    "- HourlyPressureTendency:Pressure tendency (In general a 0 through 3 here indicates an increase in pressure over previous 3 hours and a 5 through 8 indicates a decrease over the previous 3 hours and 4 indicates no change during the previous 3 hours). **DROP - CUMMULATIVE, NOT HOURLY**\n",
    "- HourlyRelativeHumidity: The identifier that indicates an observation of relative humidity and temperature measured at the relative humidity instrument. \n",
    "- HourlySeaLevelPressure: Hourly average sea level pressure (in inches of mercury, to hundredths) **DROP - COLINEALITY**\n",
    "- HourlyStationPressure:\n",
    "- HourlyVisibility:\n",
    "- HourlyWetBulbTemperature:\n",
    "- HourlyWindDirection: Wind direction from true north using compass directions (e.g. 360 = true north, 180 = south, 270 =\n",
    "west, etc.). Note: A direction of “000” is given for calm winds. VRB changed to 999\n",
    "- HourlyWindSpeed: Speed of the wind at the time of observation\n",
    "- BackupDistance: additional direction information on wind distance from additional station **DROP - HIGHLY SKEWED**\n",
    "- BackupElevation: additional direction information on elevation from additional station **DROP IF STATION IS TOO FAR AWAY**\n",
    "- BackupLatitude: additional station latitude **DROP IF STATION IS TOO FAR AWAY**\n",
    "- BackupLongitude:additional station longitude  **DROP IF STATION IS TOO FAR AWAY**"
   ]
  },
  {
   "cell_type": "code",
   "execution_count": 0,
   "metadata": {
    "application/vnd.databricks.v1+cell": {
     "cellMetadata": {
      "byteLimit": 2048000,
      "rowLimit": 10000
     },
     "inputWidgets": {},
     "nuid": "5344cba8-6a37-4674-b72c-fed8d64f21f6",
     "showTitle": false,
     "title": ""
    }
   },
   "outputs": [
    {
     "output_type": "stream",
     "name": "stdout",
     "output_type": "stream",
     "text": [
      "There are 1401363 rows and 21 columns in the numeric_subset dataframe\n"
     ]
    },
    {
     "output_type": "display_data",
     "data": {
      "text/html": [
       "<style scoped>\n",
       "  .table-result-container {\n",
       "    max-height: 300px;\n",
       "    overflow: auto;\n",
       "  }\n",
       "  table, th, td {\n",
       "    border: 1px solid black;\n",
       "    border-collapse: collapse;\n",
       "  }\n",
       "  th, td {\n",
       "    padding: 5px;\n",
       "  }\n",
       "  th {\n",
       "    text-align: left;\n",
       "  }\n",
       "</style><div class='table-result-container'><table class='table-result'><thead style='background-color: white'><tr><th>summary</th><th>LATITUDE</th><th>LONGITUDE</th><th>ELEVATION</th><th>SOURCE</th><th>HourlyAltimeterSetting</th><th>HourlyDewPointTemperature</th><th>HourlyDryBulbTemperature</th><th>HourlyPrecipitation</th><th>HourlyPressureChange</th><th>HourlyPressureTendency</th><th>HourlyRelativeHumidity</th><th>HourlySeaLevelPressure</th><th>HourlyStationPressure</th><th>HourlyVisibility</th><th>HourlyWetBulbTemperature</th><th>HourlyWindDirection</th><th>HourlyWindSpeed</th><th>BackupDistance</th><th>BackupElevation</th><th>BackupLatitude</th><th>BackupLongitude</th></tr></thead><tbody><tr><td>count</td><td>1401363</td><td>1401363</td><td>1401363</td><td>1401351</td><td>1337974</td><td>1396373</td><td>1396290</td><td>1241666</td><td>471407</td><td>471407</td><td>1396608</td><td>1247789</td><td>1391549</td><td>1395162</td><td>1391071</td><td>1395292</td><td>1396692</td><td>502464</td><td>366060</td><td>383566</td><td>383566</td></tr><tr><td>mean</td><td>36.44793051787177</td><td>-95.31441957156241</td><td>254.23922358199434</td><td>6.845469122296984</td><td>30.121501825755566</td><td>32.178502448844256</td><td>47.39732720280171</td><td>0.0023032522257133647</td><td>0.0013680535274263612</td><td>4.391328512304654</td><td>60.50087211300522</td><td>30.13000645398759</td><td>29.227887037781613</td><td>9.007992118780699</td><td>40.87331200204734</td><td>209.48164971919857</td><td>8.954836141396958</td><td>390.72800442023475</td><td>1681.251841228214</td><td>37.719592414547215</td><td>-103.43900938317451</td></tr><tr><td>stddev</td><td>5.943325212683787</td><td>17.99214225262371</td><td>407.06377095700833</td><td>0.6292906552436668</td><td>0.20081071787756619</td><td>19.18455103357275</td><td>19.448690237472395</td><td>0.015832142565232542</td><td>0.05032599335727855</td><td>2.7950930537438015</td><td>22.051695719746224</td><td>0.2097999780510066</td><td>1.3501513523888173</td><td>2.4062120764065056</td><td>16.79303540675697</td><td>183.70318676916176</td><td>5.716072930240639</td><td>1389.9103636675056</td><td>1916.7706569618074</td><td>6.431866885990602</td><td>18.95181917102625</td></tr><tr><td>min</td><td>17.6997</td><td>-176.65</td><td>0.3</td><td>1</td><td>28.62</td><td>-38</td><td>-40</td><td>0.0</td><td>-0.31</td><td>0</td><td>3</td><td>28.63</td><td>22.22</td><td>0.0</td><td>-32</td><td>0.0</td><td>0</td><td>0.0625</td><td>4</td><td>19.7206</td><td>-165.4397</td></tr><tr><td>max</td><td>71.2834</td><td>-64.8125</td><td>2353.1</td><td>7</td><td>31.09</td><td>76</td><td>99</td><td>1.69</td><td>0.31</td><td>9</td><td>100</td><td>31.18</td><td>30.96</td><td>25.0</td><td>78</td><td>999.0</td><td>48</td><td>7500.0</td><td>7002</td><td>71.2869</td><td>-70.9803</td></tr></tbody></table></div>"
      ]
     },
     "metadata": {
      "application/vnd.databricks.v1+output": {
       "addedWidgets": {},
       "aggData": [],
       "aggError": "",
       "aggOverflow": false,
       "aggSchema": [],
       "aggSeriesLimitReached": false,
       "aggType": "",
       "arguments": {},
       "columnCustomDisplayInfos": {},
       "data": [
        [
         "count",
         "1401363",
         "1401363",
         "1401363",
         "1401351",
         "1337974",
         "1396373",
         "1396290",
         "1241666",
         "471407",
         "471407",
         "1396608",
         "1247789",
         "1391549",
         "1395162",
         "1391071",
         "1395292",
         "1396692",
         "502464",
         "366060",
         "383566",
         "383566"
        ],
        [
         "mean",
         "36.44793051787177",
         "-95.31441957156241",
         "254.23922358199434",
         "6.845469122296984",
         "30.121501825755566",
         "32.178502448844256",
         "47.39732720280171",
         "0.0023032522257133647",
         "0.0013680535274263612",
         "4.391328512304654",
         "60.50087211300522",
         "30.13000645398759",
         "29.227887037781613",
         "9.007992118780699",
         "40.87331200204734",
         "209.48164971919857",
         "8.954836141396958",
         "390.72800442023475",
         "1681.251841228214",
         "37.719592414547215",
         "-103.43900938317451"
        ],
        [
         "stddev",
         "5.943325212683787",
         "17.99214225262371",
         "407.06377095700833",
         "0.6292906552436668",
         "0.20081071787756619",
         "19.18455103357275",
         "19.448690237472395",
         "0.015832142565232542",
         "0.05032599335727855",
         "2.7950930537438015",
         "22.051695719746224",
         "0.2097999780510066",
         "1.3501513523888173",
         "2.4062120764065056",
         "16.79303540675697",
         "183.70318676916176",
         "5.716072930240639",
         "1389.9103636675056",
         "1916.7706569618074",
         "6.431866885990602",
         "18.95181917102625"
        ],
        [
         "min",
         "17.6997",
         "-176.65",
         "0.3",
         "1",
         "28.62",
         "-38",
         "-40",
         "0.0",
         "-0.31",
         "0",
         "3",
         "28.63",
         "22.22",
         "0.0",
         "-32",
         "0.0",
         "0",
         "0.0625",
         "4",
         "19.7206",
         "-165.4397"
        ],
        [
         "max",
         "71.2834",
         "-64.8125",
         "2353.1",
         "7",
         "31.09",
         "76",
         "99",
         "1.69",
         "0.31",
         "9",
         "100",
         "31.18",
         "30.96",
         "25.0",
         "78",
         "999.0",
         "48",
         "7500.0",
         "7002",
         "71.2869",
         "-70.9803"
        ]
       ],
       "datasetInfos": [],
       "dbfsResultPath": null,
       "isJsonSchema": true,
       "metadata": {},
       "overflow": false,
       "plotOptions": {
        "customPlotOptions": {},
        "displayType": "table",
        "pivotAggregation": null,
        "pivotColumns": null,
        "xColumns": null,
        "yColumns": null
       },
       "removedWidgets": [],
       "schema": [
        {
         "metadata": "{}",
         "name": "summary",
         "type": "\"string\""
        },
        {
         "metadata": "{}",
         "name": "LATITUDE",
         "type": "\"string\""
        },
        {
         "metadata": "{}",
         "name": "LONGITUDE",
         "type": "\"string\""
        },
        {
         "metadata": "{}",
         "name": "ELEVATION",
         "type": "\"string\""
        },
        {
         "metadata": "{}",
         "name": "SOURCE",
         "type": "\"string\""
        },
        {
         "metadata": "{}",
         "name": "HourlyAltimeterSetting",
         "type": "\"string\""
        },
        {
         "metadata": "{}",
         "name": "HourlyDewPointTemperature",
         "type": "\"string\""
        },
        {
         "metadata": "{}",
         "name": "HourlyDryBulbTemperature",
         "type": "\"string\""
        },
        {
         "metadata": "{}",
         "name": "HourlyPrecipitation",
         "type": "\"string\""
        },
        {
         "metadata": "{}",
         "name": "HourlyPressureChange",
         "type": "\"string\""
        },
        {
         "metadata": "{}",
         "name": "HourlyPressureTendency",
         "type": "\"string\""
        },
        {
         "metadata": "{}",
         "name": "HourlyRelativeHumidity",
         "type": "\"string\""
        },
        {
         "metadata": "{}",
         "name": "HourlySeaLevelPressure",
         "type": "\"string\""
        },
        {
         "metadata": "{}",
         "name": "HourlyStationPressure",
         "type": "\"string\""
        },
        {
         "metadata": "{}",
         "name": "HourlyVisibility",
         "type": "\"string\""
        },
        {
         "metadata": "{}",
         "name": "HourlyWetBulbTemperature",
         "type": "\"string\""
        },
        {
         "metadata": "{}",
         "name": "HourlyWindDirection",
         "type": "\"string\""
        },
        {
         "metadata": "{}",
         "name": "HourlyWindSpeed",
         "type": "\"string\""
        },
        {
         "metadata": "{}",
         "name": "BackupDistance",
         "type": "\"string\""
        },
        {
         "metadata": "{}",
         "name": "BackupElevation",
         "type": "\"string\""
        },
        {
         "metadata": "{}",
         "name": "BackupLatitude",
         "type": "\"string\""
        },
        {
         "metadata": "{}",
         "name": "BackupLongitude",
         "type": "\"string\""
        }
       ],
       "type": "table"
      }
     },
     "output_type": "display_data"
    }
   ],
   "source": [
    "# describe only numeric columns (minus year)\n",
    "numeric_cols = [col for col, dtype in otpw_weather_test_subset.dtypes if dtype in ('int', 'float')]\n",
    "numeric_subset = otpw_weather_test_subset.select(*[F.col(c) for c in numeric_cols if c != 'YEAR'])\n",
    "\n",
    "print(f'There are {numeric_subset.count()} rows and {len(numeric_subset.columns)} columns in the numeric_subset dataframe')\n",
    "display(numeric_subset.describe())"
   ]
  },
  {
   "cell_type": "code",
   "execution_count": 0,
   "metadata": {
    "application/vnd.databricks.v1+cell": {
     "cellMetadata": {
      "byteLimit": 2048000,
      "rowLimit": 10000
     },
     "inputWidgets": {},
     "nuid": "7fcc00b5-b45f-4459-8a5f-729be12261df",
     "showTitle": false,
     "title": ""
    }
   },
   "outputs": [
    {
     "output_type": "display_data",
     "data": {
      "image/png": "[encoded data removed]",
      "text/plain": [
       "<Figure size 1800x3600 with 24 Axes>"
      ]
     },
     "metadata": {},
     "output_type": "display_data"
    },
    {
     "output_type": "execute_result",
     "data": {
      "text/plain": [
       "DataFrame[STATION: string, DATE: string, LATITUDE: float, LONGITUDE: float, ELEVATION: float, NAME: string, REPORT_TYPE: string, SOURCE: int, HourlyAltimeterSetting: float, HourlyDewPointTemperature: int, HourlyDryBulbTemperature: int, HourlyPrecipitation: float, HourlyPressureChange: float, HourlyPressureTendency: int, HourlyRelativeHumidity: int, HourlySkyConditions: string, HourlySeaLevelPressure: float, HourlyStationPressure: float, HourlyVisibility: float, HourlyWetBulbTemperature: int, HourlyWindDirection: float, HourlyWindSpeed: int, REM: string, BackupDirection: string, BackupDistance: float, BackupDistanceUnit: string, BackupElements: string, BackupElevation: int, BackupEquipment: string, BackupLatitude: float, BackupLongitude: float, BackupName: string, WindEquipmentChangeDate: string, YEAR: int]"
      ]
     },
     "execution_count": 11,
     "metadata": {},
     "output_type": "execute_result"
    }
   ],
   "source": [
    "# Get the non-string column names\n",
    "non_string_cols = [col for col, dtype in otpw_weather_test_subset.dtypes if dtype not in ('string')]\n",
    "\n",
    "# Cache the DataFrame\n",
    "otpw_weather_test_subset.cache()\n",
    "\n",
    "# Create a figure and axis subplots\n",
    "num_cols = len(non_string_cols)\n",
    "ncols = 3  \n",
    "nrows = (num_cols + ncols - 1) // ncols\n",
    "fig, axes = plt.subplots(nrows=nrows, ncols=ncols, figsize=(18, 36))\n",
    "\n",
    "# Flatten the axes\n",
    "axes = axes.flatten()\n",
    "\n",
    "# Loop through each non-string column and create a histogram\n",
    "for idx, col in enumerate(non_string_cols):\n",
    "    # Convert the column to a Pandas Series\n",
    "    col_values = otpw_weather_test_subset.select(col).toPandas()[col]\n",
    "    \n",
    "    # Plot the histogram\n",
    "    axes[idx].hist(col_values.dropna(), bins=30)\n",
    "    axes[idx].set_xlabel(col)\n",
    "    # axes[idx].set_title(f\"{col}\")\n",
    "\n",
    "# Adjust spacing between subplots\n",
    "plt.subplots_adjust(hspace=0.8)\n",
    "\n",
    "fig.suptitle(\"Histograms for Non-String Variables\", fontsize=16)\n",
    "\n",
    "# Show the plot\n",
    "plt.show()\n",
    "\n",
    "# Unpersist \n",
    "otpw_weather_test_subset.unpersist()"
   ]
  },
  {
   "cell_type": "markdown",
   "metadata": {
    "application/vnd.databricks.v1+cell": {
     "cellMetadata": {
      "byteLimit": 2048000,
      "rowLimit": 10000
     },
     "inputWidgets": {},
     "nuid": "c1f39692-8ce0-468a-b26d-d79e7ec22388",
     "showTitle": false,
     "title": ""
    }
   },
   "source": [
    "## 5. Summary statistics"
   ]
  },
  {
   "cell_type": "markdown",
   "metadata": {
    "application/vnd.databricks.v1+cell": {
     "cellMetadata": {
      "byteLimit": 2048000,
      "rowLimit": 10000
     },
     "inputWidgets": {},
     "nuid": "34853db7-6d8f-478a-a657-03b14a160341",
     "showTitle": false,
     "title": ""
    }
   },
   "source": [
    "### String variables: \n",
    "\n",
    "- STATION: Code for weather station (will have only one code, regardless of weather it has a backup station)\n",
    "- DATE: Dates between xxxxx AND xxxx\n",
    "- NAME: Station Name, for stations found at airports\n",
    "- REPORT_TYPE: Code for report type, indicating type of weather observation\n",
    "- HourlyPressureChange: Change in pressure. + or - amounts versus last hour. \n",
    "- HourlySkyConditions: A report of each cloud layer (up to 3) giving several conditions. \n",
    "- REM: Remarks. Includes a date, a time, and other things. **REVIEW DATA DICTIONARY TO UNDERSTAND MORE**\n",
    "- BackupDirection: Additional direction information on wind direction from additional station **DROP - IF 2ND STATION FAR**\n",
    "- BackupDistanceUnit: Additional direction information on wind distance unit from additional station  **DROP - IF 2ND STATION FAR**\n",
    "- BackupElements: Weather elements in backup station (i.e. precipitation, snowfall, snowdepth)  **DROP - IF 2ND STATION FAR**\n",
    "- BackupEquipment: Equipment at additonal station  **DROP - IF 2ND STATION FAR**\n",
    "- BackupName: Station Name, for stations not found at airports  **DROP - IF 2ND STATION FAR**\n",
    "- WindEquipmentChangeDate: additional wind equipment change date information relevant to observation stations  **DROP - IF 2ND STATION FAR**\n",
    "\n",
    "\n"
   ]
  },
  {
   "cell_type": "code",
   "execution_count": 0,
   "metadata": {
    "application/vnd.databricks.v1+cell": {
     "cellMetadata": {
      "byteLimit": 2048000,
      "rowLimit": 10000
     },
     "inputWidgets": {},
     "nuid": "c3b9fa6e-8676-485f-928d-5c5891d71a03",
     "showTitle": false,
     "title": ""
    }
   },
   "outputs": [],
   "source": [
    "string_cols = [col for col, dtype in otpw_weather_test_subset.dtypes if dtype in ('string')]\n",
    "string_subset = otpw_weather_test_subset.select(*[F.col(c) for c in string_cols])\n",
    "\n",
    "display(string_subset)\n",
    "# for col in string_cols:\n",
    "#         print(f\"Number of unique values in '{col}' column: {otpw_weather_test_subset.select(col).distinct().count()}\")"
   ]
  },
  {
   "cell_type": "markdown",
   "metadata": {
    "application/vnd.databricks.v1+cell": {
     "cellMetadata": {
      "byteLimit": 2048000,
      "rowLimit": 10000
     },
     "inputWidgets": {},
     "nuid": "f9ee3e73-1bee-48fd-a18e-26a97b3eaead",
     "showTitle": false,
     "title": ""
    }
   },
   "source": [
    "## 6. Correlations of variables we want to keep\n",
    "\n",
    "- Columns with 80% or fewer nulls.\n",
    "- With mean imputing\n"
   ]
  },
  {
   "cell_type": "code",
   "execution_count": 0,
   "metadata": {
    "application/vnd.databricks.v1+cell": {
     "cellMetadata": {
      "byteLimit": 2048000,
      "rowLimit": 10000
     },
     "inputWidgets": {},
     "nuid": "a3775cdc-1e23-46d3-8b95-208e348bc990",
     "showTitle": false,
     "title": ""
    }
   },
   "outputs": [],
   "source": [
    "#drop backup columns BackupDistance:float\n",
    "columns_to_drop = ['BackupDistance', 'BackupElevation', 'BackupLatitude', 'BackupLongitude']\n",
    "numeric_subset = numeric_subset.drop(*columns_to_drop)"
   ]
  },
  {
   "cell_type": "code",
   "execution_count": 0,
   "metadata": {
    "application/vnd.databricks.v1+cell": {
     "cellMetadata": {
      "byteLimit": 2048000,
      "rowLimit": 10000
     },
     "inputWidgets": {},
     "nuid": "34dca44a-19fb-4d18-8a8f-bc6bc13fd755",
     "showTitle": false,
     "title": ""
    }
   },
   "outputs": [],
   "source": [
    "# Impute missing values\n",
    "\n",
    "# Get the list of numeric column names\n",
    "numeric_cols = numeric_subset.columns\n",
    "\n",
    "# Create input and output column names\n",
    "input_cols = numeric_cols\n",
    "output_cols = [f\"{col}\" for col in numeric_cols]\n",
    "\n",
    "# Create the Imputer instance\n",
    "imputer = Imputer(inputCols=input_cols, outputCols=output_cols)\n",
    "\n",
    "# Fit and transform the data\n",
    "imputed_data = imputer.fit(numeric_subset).transform(numeric_subset)"
   ]
  },
  {
   "cell_type": "code",
   "execution_count": 0,
   "metadata": {
    "application/vnd.databricks.v1+cell": {
     "cellMetadata": {
      "byteLimit": 2048000,
      "rowLimit": 10000
     },
     "inputWidgets": {},
     "nuid": "7f8123a3-702f-4421-b9f6-93098e7f869d",
     "showTitle": false,
     "title": ""
    }
   },
   "outputs": [
    {
     "output_type": "stream",
     "name": "stdout",
     "output_type": "stream",
     "text": [
      "There are 1401363 rows and 17 columns in the imputed_df dataframe\n"
     ]
    }
   ],
   "source": [
    "#check dimensions to make sure nothing got lost\n",
    "print(f'There are {imputed_data.count()} rows and {len(imputed_data.columns)} columns in the imputed_df dataframe')\n"
   ]
  },
  {
   "cell_type": "code",
   "execution_count": 0,
   "metadata": {
    "application/vnd.databricks.v1+cell": {
     "cellMetadata": {
      "byteLimit": 2048000,
      "rowLimit": 10000
     },
     "inputWidgets": {},
     "nuid": "7a9063c1-62c8-497d-9213-30ed416f9eea",
     "showTitle": false,
     "title": ""
    }
   },
   "outputs": [],
   "source": [
    "# pretty print variable names \n",
    "new_col = ['Latitude','Longitude','Elevation','Source','Altimeter Setting','Hourly Dew Point Temperature','Hourly Dry Bulb Temperature','Hourly Precipitation','Hourly Pressure Change','Hourly Pressure Tendency','Hourly Relative Humidity','Hourly Sea Level Pressure','Hourly Station Pressure','Hourly Visibility','Hourly Wet Bulb Temperature','Hourly Wind Direction','Hourly Wind Speed']\n",
    "\n",
    "for_corr_df = imputed_data.select([imputed_data[old].alias(new) for old, new in zip(imputed_data.columns, new_col)])\n",
    "\n",
    "# Calculate the correlation matrix\n",
    "correlation_matrix = for_corr_df.toPandas().corr()"
   ]
  },
  {
   "cell_type": "code",
   "execution_count": 0,
   "metadata": {
    "application/vnd.databricks.v1+cell": {
     "cellMetadata": {
      "byteLimit": 2048000,
      "rowLimit": 10000
     },
     "inputWidgets": {},
     "nuid": "12ccc4c2-2c43-4fc0-a6fe-d3824853fa65",
     "showTitle": false,
     "title": ""
    }
   },
   "outputs": [],
   "source": [
    "# Generate the heatmap\n",
    "plt.figure(figsize=(15, 12))\n",
    "plt.title('Correlations between numerical weather variables with < 80% nulls. Imputing = mean imputing')\n",
    "sns.heatmap(correlation_matrix, annot=True, cmap=\"coolwarm\", annot_kws={\"fontsize\": 12}, fmt=\".1f\")\n",
    "plt.tight_layout()\n",
    "plt.savefig('weatherheatmap.png', dpi=300)\n"
   ]
  },
  {
   "cell_type": "markdown",
   "metadata": {
    "application/vnd.databricks.v1+cell": {
     "cellMetadata": {
      "byteLimit": 2048000,
      "rowLimit": 10000
     },
     "inputWidgets": {},
     "nuid": "e692e1b6-6549-43cc-aacc-319bf8793d81",
     "showTitle": false,
     "title": ""
    }
   },
   "source": [
    "## 7. Variables we want to keep\n",
    "The following variables are densely populated, show no high colineality, are available on an hourly basis, and are relevant to our study: \n",
    "\n",
    "In bold, also suggested by Rachel as \"to keep\"\n",
    "\n",
    "- **Station**\n",
    "- **Date**\n",
    "- **Latitude**\n",
    "- **Longitude**\n",
    "- **Elevation**\n",
    "- Name \n",
    "- Report Type\n",
    "- **Hourly Dew Point Temperature**\n",
    "- **Hourly Relative Humidity**\n",
    "- **Hourly Station Pressure**\n",
    "- **Hourly Wet Bulb Temperature**\n",
    "- **Hourly Wind Direction**\n",
    "- **Hourly Wind Speed**\n",
    "\n",
    "\n",
    "Rachel suggests dropping Name due to redundancy with Station, and Report Type based on irrelevance. \n",
    "\n"
   ]
  },
  {
   "cell_type": "markdown",
   "metadata": {
    "application/vnd.databricks.v1+cell": {
     "cellMetadata": {},
     "inputWidgets": {},
     "nuid": "d0abb2f3-6db9-4077-8ff2-cd3b93ec807c",
     "showTitle": false,
     "title": ""
    }
   },
   "source": [
    "### Further analysis into REPORT_TYPE, HourlySkyConditions, REM, WindEquipmentChangeDate \n",
    "\n",
    "**REPORT_TYPE**\n",
    "- SHEF: Standard Hydrologic Exchange Format\n",
    "- FM-15: METAR Aviation routine weather report\n",
    "- SOD: Summary of day report from U.S. ASOS or AWOS station **Maybe drop?**\n",
    "- SY-MT: Synoptic and METAR merged report\n",
    "- FM-12: SYNOP Report of surface observation form a fixed land station\n",
    "- FM-16: SPECI Aviation selected special weather report\n",
    "\n",
    "**HourlySkyConditions**\n",
    "- 38821 unique\n",
    "- Includes codes for cloud cover. BKN = broken cloud amount. \n",
    "- Future inspection in phase 2.  \n",
    "\n",
    "**REM**\n",
    "- 268358 unique\n",
    "\n",
    "\n",
    "**WindEquipmentChangeDate**\n",
    "- **DROP: NOT ENOUGH INFORMATION IN THE DATA DICTIONARY**\n",
    "- 137\n",
    "- DDDD-MM-DD"
   ]
  },
  {
   "cell_type": "code",
   "execution_count": 0,
   "metadata": {
    "application/vnd.databricks.v1+cell": {
     "cellMetadata": {
      "byteLimit": 2048000,
      "rowLimit": 10000
     },
     "inputWidgets": {},
     "nuid": "32622d07-6e46-4b2a-9679-c0cdc21dafad",
     "showTitle": false,
     "title": ""
    }
   },
   "outputs": [],
   "source": [
    "columns = ['REPORT_TYPE', 'HourlySkyConditions', 'REM', 'WindEquipmentChangeDate']\n",
    "\n",
    "inspect_df = otpw_weather_test_subset.select(*columns)\n",
    "# display(inspect_df)"
   ]
  },
  {
   "cell_type": "code",
   "execution_count": 0,
   "metadata": {
    "application/vnd.databricks.v1+cell": {
     "cellMetadata": {
      "byteLimit": 2048000,
      "rowLimit": 10000
     },
     "inputWidgets": {},
     "nuid": "f0450e16-463c-45ce-afd9-5b150a75bafd",
     "showTitle": false,
     "title": ""
    }
   },
   "outputs": [],
   "source": [
    "# find unique values for each \n",
    "for column in inspect_df.columns:\n",
    "    display(inspect_df.select(column).distinct().count())\n",
    "    inspect_df.select(column).distinct().show()"
   ]
  },
  {
   "cell_type": "markdown",
   "metadata": {
    "application/vnd.databricks.v1+cell": {
     "cellMetadata": {},
     "inputWidgets": {},
     "nuid": "d44872d2-2f4f-4382-86f6-7af120e3cca6",
     "showTitle": false,
     "title": ""
    }
   },
   "source": [
    "## 8. Check to see if there's data available for every hour of every day in 2015, in order to select variables for training"
   ]
  },
  {
   "cell_type": "code",
   "execution_count": 0,
   "metadata": {
    "application/vnd.databricks.v1+cell": {
     "cellMetadata": {
      "byteLimit": 2048000,
      "rowLimit": 10000
     },
     "inputWidgets": {},
     "nuid": "adc2bddc-0339-44de-94fe-b57cb77a5bb5",
     "showTitle": false,
     "title": ""
    }
   },
   "outputs": [],
   "source": [
    "# split DATE into two columns, Date and Time. \n",
    "# 2015-01-10T13:53:00\n",
    "from pyspark.sql.window import Window\n",
    "from pyspark.sql.functions import hour, day, year, month, split"
   ]
  },
  {
   "cell_type": "code",
   "execution_count": 0,
   "metadata": {
    "application/vnd.databricks.v1+cell": {
     "cellMetadata": {
      "byteLimit": 2048000,
      "rowLimit": 10000
     },
     "inputWidgets": {},
     "nuid": "751f7c95-d7f8-441a-8042-34210c013412",
     "showTitle": false,
     "title": ""
    }
   },
   "outputs": [],
   "source": [
    "otpw_weather_test_subset = otpw_weather_test_subset.withColumn(\"DATE\", otpw_weather_test_subset[\"DATE\"].cast(\"string\"))\n"
   ]
  },
  {
   "cell_type": "code",
   "execution_count": 0,
   "metadata": {
    "application/vnd.databricks.v1+cell": {
     "cellMetadata": {
      "byteLimit": 2048000,
      "rowLimit": 10000
     },
     "inputWidgets": {},
     "nuid": "f8ccf2a4-6acc-4ebb-8162-79c31326a368",
     "showTitle": false,
     "title": ""
    }
   },
   "outputs": [],
   "source": [
    "# Extract the hour, day of the year, and year from the DATE column\n",
    "otpw_weather_test_subset = otpw_weather_test_subset.withColumn(\"hour\", F.expr(\"split(DATE, 'T')[1]\").substr(1, 2).cast(\"int\"))\n",
    "otpw_weather_test_subset = otpw_weather_test_subset.withColumn(\"day\", day(\"DATE\")) #of the month\n",
    "otpw_weather_test_subset = otpw_weather_test_subset.withColumn(\"month\", month(\"DATE\"))\n",
    "otpw_weather_test_subset = otpw_weather_test_subset.withColumn(\"year\", year(\"DATE\"))\n"
   ]
  },
  {
   "cell_type": "code",
   "execution_count": 0,
   "metadata": {
    "application/vnd.databricks.v1+cell": {
     "cellMetadata": {
      "byteLimit": 2048000,
      "rowLimit": 10000
     },
     "inputWidgets": {},
     "nuid": "16532ea5-8f5d-4bb8-ada4-eb6c3610f90e",
     "showTitle": false,
     "title": ""
    }
   },
   "outputs": [],
   "source": [
    "columns = ['DATE','year','month', 'day', 'hour']\n",
    "\n",
    "inspect_df = otpw_weather_test_subset.select(*columns)\n",
    "# display(inspect_df)"
   ]
  },
  {
   "cell_type": "code",
   "execution_count": 0,
   "metadata": {
    "application/vnd.databricks.v1+cell": {
     "cellMetadata": {
      "byteLimit": 2048000,
      "rowLimit": 10000
     },
     "inputWidgets": {},
     "nuid": "64f88660-0572-4a22-9ebd-9885c8a83edc",
     "showTitle": false,
     "title": ""
    }
   },
   "outputs": [],
   "source": [
    "# Define year\n",
    "target_year = 2015\n",
    "\n",
    "# Create DataFrames for all days and months\n",
    "all_days = spark.range(1, 32).toDF(\"day\")  \n",
    "all_months = spark.range(1, 13).toDF(\"month\")\n",
    "\n",
    "# Create a DataFrame with all day-month combinations for the target year\n",
    "day_month_df = all_days.crossJoin(all_months).withColumn(\"year\", lit(target_year))\n",
    "\n",
    "# Broadcast the DataFrame with all day-month combinations \n",
    "# day_month_df_broadcasted = day_month_df.broadcast()\n",
    "\n",
    "# Join original dataframe with the broadcasted day-month combinations\n",
    "joined_df = otpw_weather_test_subset.join(day_month_df, on=[\"year\", \"month\", \"day\"], how=\"left\")\n",
    "\n",
    "# Filter rows where hour is null (unaccounted hours)\n",
    "unaccounted_hours = joined_df.where(col(\"hour\").isNull())\n",
    "\n",
    "# Display the unaccounted day-month-hour combinations\n",
    "display(unaccounted_hours)"
   ]
  }
 ],
 "metadata": {
  "application/vnd.databricks.v1+notebook": {
   "dashboards": [],
   "language": "python",
   "notebookMetadata": {
    "pythonIndentUnit": 4
   },
   "notebookName": "3m_OTPW_weather_EDA",
   "widgets": {}
  }
 },
 "nbformat": 4,
 "nbformat_minor": 0
}
