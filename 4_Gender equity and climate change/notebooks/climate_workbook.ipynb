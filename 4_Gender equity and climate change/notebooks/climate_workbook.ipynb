{
 "cells": [
  {
   "cell_type": "code",
   "execution_count": null,
   "metadata": {},
   "outputs": [],
   "source": [
    "!pip install cdsapi\n",
    "!pip install rioxarray\n",
    "!pip install netCDF4\n",
    "!pip install xarray[complete]\n"
   ]
  },
  {
   "cell_type": "markdown",
   "metadata": {},
   "source": [
    "# Objectives"
   ]
  },
  {
   "cell_type": "markdown",
   "metadata": {},
   "source": [
    " - We need to build a workable dataset downloading climate data at the **kmsq** level in East Africa with data downloadable via python scripts.\n",
    "     - Precipitation levels\n",
    "     - Land cover\n",
    "\n"
   ]
  },
  {
   "cell_type": "markdown",
   "metadata": {},
   "source": [
    "# Libraries "
   ]
  },
  {
   "cell_type": "code",
   "execution_count": null,
   "metadata": {},
   "outputs": [],
   "source": [
    "import cdsapi\n",
    "import xarray as xr\n",
    "import rioxarray\n",
    "import netCDF4\n",
    "import cftime\n",
    "import pandas as pd\n",
    "import gzip\n",
    "import zipfile36\n",
    "import rasterio\n",
    "import geopandas as gpd"
   ]
  },
  {
   "cell_type": "code",
   "execution_count": 2,
   "metadata": {},
   "outputs": [],
   "source": [
    "url =  'https://cds.climate.copernicus.eu/api/v2' \n",
    "key = '288733:3d0ca374-4a3b-4bc3-b5cf-8dabdb5411d2'\n",
    "c = cdsapi.Client()"
   ]
  },
  {
   "cell_type": "markdown",
   "metadata": {},
   "source": [
    "# Download data"
   ]
  },
  {
   "cell_type": "markdown",
   "metadata": {},
   "source": [
    "## Land cover classification gridded maps from 1992 to present derived from satellite observations\n",
    "*The netCDF4 format supports data stored in an array format. Arrays are used to store raster spatial data*\n",
    "\n",
    "- Download all years from 2022-2012 (if time allows)"
   ]
  },
  {
   "cell_type": "code",
   "execution_count": 3,
   "metadata": {},
   "outputs": [],
   "source": [
    "# change path to download file so we save time from downloading it from Copernicus\n",
    "path = '/Desktop/Climate'\n",
    "\n",
    "#change wd to path\n",
    "import os\n",
    "os.chdir(path)"
   ]
  },
  {
   "cell_type": "code",
   "execution_count": 3,
   "metadata": {},
   "outputs": [
    {
     "name": "stderr",
     "output_type": "stream",
     "text": [
      "2024-04-13 08:42:58,429 INFO Welcome to the CDS\n",
      "2024-04-13 08:42:58,430 INFO Sending request to https://cds.climate.copernicus.eu/api/v2/resources/satellite-land-cover\n",
      "2024-04-13 08:42:58,883 INFO Request is completed\n",
      "2024-04-13 08:42:58,884 INFO Downloading https://download-0013-clone.copernicus-climate.eu/cache-compute-0013/cache/data7/dataset-satellite-land-cover-42de76ff-8baf-418d-80cb-b047636d6c7d.zip to download.zip (2.2G)\n",
      "2024-04-13 09:16:27,632 INFO Download rate 1.1M/s      \n"
     ]
    },
    {
     "data": {
      "text/plain": [
       "Result(content_length=2351764287,content_type=application/zip,location=https://download-0013-clone.copernicus-climate.eu/cache-compute-0013/cache/data7/dataset-satellite-land-cover-42de76ff-8baf-418d-80cb-b047636d6c7d.zip)"
      ]
     },
     "execution_count": 3,
     "metadata": {},
     "output_type": "execute_result"
    }
   ],
   "source": [
    "# download data as zip file to https://cds.climate.copernicus.eu/cdsapp#!/yourrequests\n",
    "c.retrieve(\n",
    "    'satellite-land-cover',\n",
    "    {\n",
    "        'variable': 'all',\n",
    "        'format': 'zip',\n",
    "        'year': '2022',\n",
    "        'version': 'v2.1.1',\n",
    "    },\n",
    "    'download.zip')\n"
   ]
  },
  {
   "cell_type": "code",
   "execution_count": 8,
   "metadata": {},
   "outputs": [
    {
     "name": "stderr",
     "output_type": "stream",
     "text": [
      "2024-04-13 09:54:11,709 INFO Welcome to the CDS\n",
      "2024-04-13 09:54:11,710 INFO Sending request to https://cds.climate.copernicus.eu/api/v2/resources/satellite-land-cover\n",
      "2024-04-13 09:54:12,145 INFO Downloading https://download-0006-clone.copernicus-climate.eu/cache-compute-0006/cache/data5/dataset-satellite-land-cover-f781ec08-36db-4e99-845c-0dcc387861e7.zip to 2021-satellite-land-cover.zip (2.2G)\n",
      "2024-04-13 10:08:30,057 INFO Download rate 2.6M/s      \n"
     ]
    },
    {
     "data": {
      "text/plain": [
       "Result(content_length=2347577748,content_type=application/zip,location=https://download-0006-clone.copernicus-climate.eu/cache-compute-0006/cache/data5/dataset-satellite-land-cover-f781ec08-36db-4e99-845c-0dcc387861e7.zip)"
      ]
     },
     "execution_count": 8,
     "metadata": {},
     "output_type": "execute_result"
    }
   ],
   "source": [
    "c.retrieve(\n",
    "    'satellite-land-cover',\n",
    "    {\n",
    "        'variable': 'all',\n",
    "        'format': 'zip',\n",
    "        'year': '2021',\n",
    "        'version': 'v2.1.1',\n",
    "    },\n",
    "    '2021-satellite-land-cover.zip')"
   ]
  },
  {
   "cell_type": "code",
   "execution_count": 4,
   "metadata": {},
   "outputs": [
    {
     "name": "stderr",
     "output_type": "stream",
     "text": [
      "2024-04-13 15:38:24,732 INFO Welcome to the CDS\n",
      "2024-04-13 15:38:24,732 INFO Sending request to https://cds.climate.copernicus.eu/api/v2/resources/satellite-land-cover\n",
      "2024-04-13 15:38:25,337 INFO Request is completed\n",
      "2024-04-13 15:38:25,337 INFO Downloading https://download-0015-clone.copernicus-climate.eu/cache-compute-0015/cache/data7/dataset-satellite-land-cover-d109796e-582b-4454-9ffd-a05d99720f2c.zip to 2020-satellite-land-cover.zip (2.2G)\n",
      "2024-04-13 16:03:03,267 INFO Download rate 1.5M/s      \n"
     ]
    },
    {
     "data": {
      "text/plain": [
       "Result(content_length=2343958308,content_type=application/zip,location=https://download-0015-clone.copernicus-climate.eu/cache-compute-0015/cache/data7/dataset-satellite-land-cover-d109796e-582b-4454-9ffd-a05d99720f2c.zip)"
      ]
     },
     "execution_count": 4,
     "metadata": {},
     "output_type": "execute_result"
    }
   ],
   "source": [
    "c.retrieve(\n",
    "    'satellite-land-cover',\n",
    "    {\n",
    "        'variable': 'all',\n",
    "        'format': 'zip',\n",
    "        'year': '2020',\n",
    "        'version': 'v2.1.1',\n",
    "    },\n",
    "    '2020-satellite-land-cover.zip')"
   ]
  },
  {
   "cell_type": "code",
   "execution_count": 5,
   "metadata": {},
   "outputs": [
    {
     "name": "stderr",
     "output_type": "stream",
     "text": [
      "2024-04-13 16:03:04,048 INFO Welcome to the CDS\n",
      "2024-04-13 16:03:04,048 INFO Sending request to https://cds.climate.copernicus.eu/api/v2/resources/satellite-land-cover\n",
      "2024-04-13 16:03:04,408 INFO Downloading https://download-0007-clone.copernicus-climate.eu/cache-compute-0007/cache/data6/dataset-satellite-land-cover-3fd1fe87-0677-433a-9b23-07c83967265f.zip to 2019-satellite-land-cover.zip (2.2G)\n",
      "2024-04-13 16:33:42,340 INFO Download rate 1.2M/s      \n"
     ]
    },
    {
     "data": {
      "text/plain": [
       "Result(content_length=2340604566,content_type=application/zip,location=https://download-0007-clone.copernicus-climate.eu/cache-compute-0007/cache/data6/dataset-satellite-land-cover-3fd1fe87-0677-433a-9b23-07c83967265f.zip)"
      ]
     },
     "execution_count": 5,
     "metadata": {},
     "output_type": "execute_result"
    }
   ],
   "source": [
    "c.retrieve(\n",
    "    'satellite-land-cover',\n",
    "    {\n",
    "        'variable': 'all',\n",
    "        'format': 'zip',\n",
    "        'year': '2019',\n",
    "        'version': 'v2.1.1',\n",
    "    },\n",
    "    '2019-satellite-land-cover.zip')"
   ]
  },
  {
   "cell_type": "code",
   "execution_count": 6,
   "metadata": {},
   "outputs": [
    {
     "name": "stderr",
     "output_type": "stream",
     "text": [
      "2024-04-13 16:33:43,195 INFO Welcome to the CDS\n",
      "2024-04-13 16:33:43,196 INFO Sending request to https://cds.climate.copernicus.eu/api/v2/resources/satellite-land-cover\n",
      "2024-04-13 16:33:43,515 INFO Downloading https://download-0018.copernicus-climate.eu/cache-compute-0018/cache/data6/dataset-satellite-land-cover-06d8172c-ffdc-450a-9fc2-6c21435d8433.zip to 2018-satellite-land-cover.zip (1.5G)\n",
      "2024-04-13 16:44:20,814 ERROR Download incomplete, downloaded 1245677597 byte(s) out of 1610121722\n",
      "2024-04-13 16:44:20,814 WARNING Sleeping 10 seconds\n",
      "2024-04-13 16:44:30,822 WARNING Resuming download at byte 1245677597\n",
      "2024-04-13 16:45:01,600 ERROR Download incomplete, downloaded 1245677597 byte(s) out of 1610121722\n",
      "2024-04-13 16:45:01,601 WARNING Sleeping 15.0 seconds\n",
      "2024-04-13 16:45:16,603 WARNING Resuming download at byte 1245677597\n",
      "2024-04-13 16:47:59,884 INFO Download rate 1.8M/s   \n"
     ]
    },
    {
     "data": {
      "text/plain": [
       "Result(content_length=1610121722,content_type=application/zip,location=https://download-0018.copernicus-climate.eu/cache-compute-0018/cache/data6/dataset-satellite-land-cover-06d8172c-ffdc-450a-9fc2-6c21435d8433.zip)"
      ]
     },
     "execution_count": 6,
     "metadata": {},
     "output_type": "execute_result"
    }
   ],
   "source": [
    "c.retrieve(\n",
    "    'satellite-land-cover',\n",
    "    {\n",
    "        'variable': 'all',\n",
    "        'format': 'zip',\n",
    "        'year': '2018',\n",
    "        'version': 'v2.1.1',\n",
    "    },\n",
    "    '2018-satellite-land-cover.zip')"
   ]
  },
  {
   "cell_type": "code",
   "execution_count": 7,
   "metadata": {},
   "outputs": [
    {
     "name": "stderr",
     "output_type": "stream",
     "text": [
      "2024-04-13 16:48:00,665 INFO Welcome to the CDS\n",
      "2024-04-13 16:48:00,666 INFO Sending request to https://cds.climate.copernicus.eu/api/v2/resources/satellite-land-cover\n",
      "2024-04-13 16:48:01,041 INFO Downloading https://download-0018.copernicus-climate.eu/cache-compute-0018/cache/data2/dataset-satellite-land-cover-5aea0808-6085-43c4-afb6-3b5bb0d9c051.zip to 2017-satellite-land-cover.zip (2.2G)\n",
      "2024-04-13 18:12:12,076 INFO Download rate 448.4K/s     \n"
     ]
    },
    {
     "data": {
      "text/plain": [
       "Result(content_length=2319241098,content_type=application/zip,location=https://download-0018.copernicus-climate.eu/cache-compute-0018/cache/data2/dataset-satellite-land-cover-5aea0808-6085-43c4-afb6-3b5bb0d9c051.zip)"
      ]
     },
     "execution_count": 7,
     "metadata": {},
     "output_type": "execute_result"
    }
   ],
   "source": [
    "c.retrieve(\n",
    "    'satellite-land-cover',\n",
    "    {\n",
    "        'variable': 'all',\n",
    "        'format': 'zip',\n",
    "        'year': '2017',\n",
    "        'version': 'v2.1.1',\n",
    "    },\n",
    "    '2017-satellite-land-cover.zip')"
   ]
  },
  {
   "cell_type": "code",
   "execution_count": 8,
   "metadata": {},
   "outputs": [
    {
     "name": "stderr",
     "output_type": "stream",
     "text": [
      "2024-04-13 18:12:12,875 INFO Welcome to the CDS\n",
      "2024-04-13 18:12:12,876 INFO Sending request to https://cds.climate.copernicus.eu/api/v2/resources/satellite-land-cover\n",
      "2024-04-13 18:12:13,240 INFO Downloading https://download-0000-clone.copernicus-climate.eu/cache-compute-0000/cache/data7/dataset-satellite-land-cover-2109782a-1bbf-4e23-a712-3fd84c675f1b.zip to 2016-satellite-land-cover.zip (2.2G)\n",
      "2024-04-13 18:52:19,239 INFO Download rate 940.1K/s    \n"
     ]
    },
    {
     "data": {
      "text/plain": [
       "Result(content_length=2316205117,content_type=application/zip,location=https://download-0000-clone.copernicus-climate.eu/cache-compute-0000/cache/data7/dataset-satellite-land-cover-2109782a-1bbf-4e23-a712-3fd84c675f1b.zip)"
      ]
     },
     "execution_count": 8,
     "metadata": {},
     "output_type": "execute_result"
    }
   ],
   "source": [
    "c.retrieve(\n",
    "    'satellite-land-cover',\n",
    "    {\n",
    "        'variable': 'all',\n",
    "        'format': 'zip',\n",
    "        'year': '2016',\n",
    "        'version': 'v2.1.1',\n",
    "    },\n",
    "    '2016-satellite-land-cover.zip')"
   ]
  },
  {
   "cell_type": "code",
   "execution_count": 9,
   "metadata": {},
   "outputs": [
    {
     "name": "stderr",
     "output_type": "stream",
     "text": [
      "2024-04-13 18:52:20,012 INFO Welcome to the CDS\n",
      "2024-04-13 18:52:20,012 INFO Sending request to https://cds.climate.copernicus.eu/api/v2/resources/satellite-land-cover\n",
      "2024-04-13 18:52:20,257 INFO Request is queued\n",
      "2024-04-13 18:52:21,444 INFO Request is failed\n",
      "2024-04-13 18:52:21,445 ERROR Message: the request you have submitted is not valid\n",
      "2024-04-13 18:52:21,445 ERROR Reason:  There is no data matching your request. Check that you have specified the correct fields and values.\n",
      "2024-04-13 18:52:21,446 ERROR   Traceback (most recent call last):\n",
      "2024-04-13 18:52:21,447 ERROR     File \"/opt/cds/cdsinf/python/lib/cdsinf/runner/dispatcher.py\", line 163, in _consume\n",
      "2024-04-13 18:52:21,448 ERROR       result = handle_locally()\n",
      "2024-04-13 18:52:21,449 ERROR     File \"/opt/cds/cdsinf/python/lib/cdsinf/runner/dispatcher.py\", line 252, in <lambda>\n",
      "2024-04-13 18:52:21,450 ERROR       lambda: self.handle_exception(context, e),\n",
      "2024-04-13 18:52:21,451 ERROR     File \"/opt/cds/cdsinf/python/lib/cdsinf/runner/dispatcher.py\", line 383, in handle_exception\n",
      "2024-04-13 18:52:21,452 ERROR       raise exception\n",
      "2024-04-13 18:52:21,453 ERROR     File \"/opt/cds/cdsinf/python/lib/cdsinf/runner/dispatcher.py\", line 163, in _consume\n",
      "2024-04-13 18:52:21,454 ERROR       result = handle_locally()\n",
      "2024-04-13 18:52:21,454 ERROR     File \"/opt/cds/cdsinf/python/lib/cdsinf/runner/dispatcher.py\", line 252, in <lambda>\n",
      "2024-04-13 18:52:21,455 ERROR       lambda: self.handle_exception(context, e),\n",
      "2024-04-13 18:52:21,456 ERROR     File \"/opt/cds/cdsinf/python/lib/cdsinf/runner/dispatcher.py\", line 365, in handle_exception\n",
      "2024-04-13 18:52:21,457 ERROR       raise exception\n",
      "2024-04-13 18:52:21,459 ERROR     File \"/opt/cds/cdsinf/python/lib/cdsinf/runner/dispatcher.py\", line 163, in _consume\n",
      "2024-04-13 18:52:21,460 ERROR       result = handle_locally()\n",
      "2024-04-13 18:52:21,461 ERROR     File \"/opt/cds/cdsinf/python/lib/cdsinf/runner/dispatcher.py\", line 252, in <lambda>\n",
      "2024-04-13 18:52:21,462 ERROR       lambda: self.handle_exception(context, e),\n",
      "2024-04-13 18:52:21,463 ERROR     File \"/opt/cds/cdsinf/python/lib/cdsinf/runner/dispatcher.py\", line 406, in handle_exception\n",
      "2024-04-13 18:52:21,464 ERROR       raise exception\n",
      "2024-04-13 18:52:21,465 ERROR     File \"/opt/cds/cdsinf/python/lib/cdsinf/runner/dispatcher.py\", line 163, in _consume\n",
      "2024-04-13 18:52:21,465 ERROR       result = handle_locally()\n",
      "2024-04-13 18:52:21,467 ERROR     File \"/opt/cds/cdsinf/python/lib/cdsinf/runner/dispatcher.py\", line 252, in <lambda>\n",
      "2024-04-13 18:52:21,468 ERROR       lambda: self.handle_exception(context, e),\n",
      "2024-04-13 18:52:21,469 ERROR     File \"/opt/cds/cdsinf/python/lib/cdsinf/runner/dispatcher.py\", line 132, in handle_exception\n",
      "2024-04-13 18:52:21,469 ERROR       raise exception\n",
      "2024-04-13 18:52:21,470 ERROR     File \"/opt/cds/cdsinf/python/lib/cdsinf/runner/dispatcher.py\", line 163, in _consume\n",
      "2024-04-13 18:52:21,471 ERROR       result = handle_locally()\n",
      "2024-04-13 18:52:21,472 ERROR     File \"/opt/cds/cdsinf/python/lib/cdsinf/runner/dispatcher.py\", line 252, in <lambda>\n",
      "2024-04-13 18:52:21,473 ERROR       lambda: self.handle_exception(context, e),\n",
      "2024-04-13 18:52:21,473 ERROR     File \"/opt/cds/cdsinf/python/lib/cdsinf/runner/dispatcher.py\", line 132, in handle_exception\n",
      "2024-04-13 18:52:21,474 ERROR       raise exception\n",
      "2024-04-13 18:52:21,475 ERROR     File \"/opt/cds/cdsinf/python/lib/cdsinf/runner/dispatcher.py\", line 163, in _consume\n",
      "2024-04-13 18:52:21,476 ERROR       result = handle_locally()\n",
      "2024-04-13 18:52:21,510 ERROR     File \"/opt/cds/cdsinf/python/lib/cdsinf/runner/dispatcher.py\", line 252, in <lambda>\n",
      "2024-04-13 18:52:21,511 ERROR       lambda: self.handle_exception(context, e),\n",
      "2024-04-13 18:52:21,512 ERROR     File \"/opt/cds/cdsinf/python/lib/cdsinf/runner/dispatcher.py\", line 132, in handle_exception\n",
      "2024-04-13 18:52:21,520 ERROR       raise exception\n",
      "2024-04-13 18:52:21,522 ERROR     File \"/opt/cds/cdsinf/python/lib/cdsinf/runner/dispatcher.py\", line 163, in _consume\n",
      "2024-04-13 18:52:21,523 ERROR       result = handle_locally()\n",
      "2024-04-13 18:52:21,524 ERROR     File \"/opt/cds/cdsinf/python/lib/cdsinf/runner/dispatcher.py\", line 252, in <lambda>\n",
      "2024-04-13 18:52:21,526 ERROR       lambda: self.handle_exception(context, e),\n",
      "2024-04-13 18:52:21,527 ERROR     File \"/opt/cds/cdsinf/python/lib/cdsinf/runner/dispatcher.py\", line 132, in handle_exception\n",
      "2024-04-13 18:52:21,528 ERROR       raise exception\n",
      "2024-04-13 18:52:21,529 ERROR     File \"/opt/cds/cdsinf/python/lib/cdsinf/runner/dispatcher.py\", line 163, in _consume\n",
      "2024-04-13 18:52:21,530 ERROR       result = handle_locally()\n",
      "2024-04-13 18:52:21,531 ERROR     File \"/opt/cds/cdsinf/python/lib/cdsinf/runner/dispatcher.py\", line 210, in <lambda>\n",
      "2024-04-13 18:52:21,531 ERROR       lambda: self.handle_request(context, request_data),\n",
      "2024-04-13 18:52:21,532 ERROR     File \"/opt/cds/cdsinf/python/lib/cdsinf/runner/constraintsprocessor.py\", line 46, in handle_request\n",
      "2024-04-13 18:52:21,533 ERROR       constraint_type_strict)\n",
      "2024-04-13 18:52:21,534 ERROR     File \"/opt/cds/cdsinf/python/lib/cdsinf/runner/constraintsengines/constraintsengine.py\", line 83, in run\n",
      "2024-04-13 18:52:21,535 ERROR       \"http://copernicus-climate.eu/exc/no-vaild-requests-from-constraints\")\n",
      "2024-04-13 18:52:21,536 ERROR   cdsinf.exceptions.BadRequestException: There is no data matching your request. Check that you have specified the correct fields and values.\n"
     ]
    },
    {
     "ename": "Exception",
     "evalue": "the request you have submitted is not valid. There is no data matching your request. Check that you have specified the correct fields and values..",
     "output_type": "error",
     "traceback": [
      "\u001b[0;31m---------------------------------------------------------------------------\u001b[0m",
      "\u001b[0;31mException\u001b[0m                                 Traceback (most recent call last)",
      "Cell \u001b[0;32mIn[9], line 1\u001b[0m\n\u001b[0;32m----> 1\u001b[0m \u001b[43mc\u001b[49m\u001b[38;5;241;43m.\u001b[39;49m\u001b[43mretrieve\u001b[49m\u001b[43m(\u001b[49m\n\u001b[1;32m      2\u001b[0m \u001b[43m    \u001b[49m\u001b[38;5;124;43m'\u001b[39;49m\u001b[38;5;124;43msatellite-land-cover\u001b[39;49m\u001b[38;5;124;43m'\u001b[39;49m\u001b[43m,\u001b[49m\n\u001b[1;32m      3\u001b[0m \u001b[43m    \u001b[49m\u001b[43m{\u001b[49m\n\u001b[1;32m      4\u001b[0m \u001b[43m        \u001b[49m\u001b[38;5;124;43m'\u001b[39;49m\u001b[38;5;124;43mvariable\u001b[39;49m\u001b[38;5;124;43m'\u001b[39;49m\u001b[43m:\u001b[49m\u001b[43m \u001b[49m\u001b[38;5;124;43m'\u001b[39;49m\u001b[38;5;124;43mall\u001b[39;49m\u001b[38;5;124;43m'\u001b[39;49m\u001b[43m,\u001b[49m\n\u001b[1;32m      5\u001b[0m \u001b[43m        \u001b[49m\u001b[38;5;124;43m'\u001b[39;49m\u001b[38;5;124;43mformat\u001b[39;49m\u001b[38;5;124;43m'\u001b[39;49m\u001b[43m:\u001b[49m\u001b[43m \u001b[49m\u001b[38;5;124;43m'\u001b[39;49m\u001b[38;5;124;43mzip\u001b[39;49m\u001b[38;5;124;43m'\u001b[39;49m\u001b[43m,\u001b[49m\n\u001b[1;32m      6\u001b[0m \u001b[43m        \u001b[49m\u001b[38;5;124;43m'\u001b[39;49m\u001b[38;5;124;43myear\u001b[39;49m\u001b[38;5;124;43m'\u001b[39;49m\u001b[43m:\u001b[49m\u001b[43m \u001b[49m\u001b[38;5;124;43m'\u001b[39;49m\u001b[38;5;124;43m2015\u001b[39;49m\u001b[38;5;124;43m'\u001b[39;49m\u001b[43m,\u001b[49m\n\u001b[1;32m      7\u001b[0m \u001b[43m        \u001b[49m\u001b[38;5;124;43m'\u001b[39;49m\u001b[38;5;124;43mversion\u001b[39;49m\u001b[38;5;124;43m'\u001b[39;49m\u001b[43m:\u001b[49m\u001b[43m \u001b[49m\u001b[38;5;124;43m'\u001b[39;49m\u001b[38;5;124;43mv2.1.1\u001b[39;49m\u001b[38;5;124;43m'\u001b[39;49m\u001b[43m,\u001b[49m\n\u001b[1;32m      8\u001b[0m \u001b[43m    \u001b[49m\u001b[43m}\u001b[49m\u001b[43m,\u001b[49m\n\u001b[1;32m      9\u001b[0m \u001b[43m    \u001b[49m\u001b[38;5;124;43m'\u001b[39;49m\u001b[38;5;124;43m2015-satellite-land-cover.zip\u001b[39;49m\u001b[38;5;124;43m'\u001b[39;49m\u001b[43m)\u001b[49m\n",
      "File \u001b[0;32m~/opt/anaconda3/envs/w207_final/lib/python3.10/site-packages/cdsapi/api.py:364\u001b[0m, in \u001b[0;36mClient.retrieve\u001b[0;34m(self, name, request, target)\u001b[0m\n\u001b[1;32m    363\u001b[0m \u001b[38;5;28;01mdef\u001b[39;00m \u001b[38;5;21mretrieve\u001b[39m(\u001b[38;5;28mself\u001b[39m, name, request, target\u001b[38;5;241m=\u001b[39m\u001b[38;5;28;01mNone\u001b[39;00m):\n\u001b[0;32m--> 364\u001b[0m     result \u001b[38;5;241m=\u001b[39m \u001b[38;5;28;43mself\u001b[39;49m\u001b[38;5;241;43m.\u001b[39;49m\u001b[43m_api\u001b[49m\u001b[43m(\u001b[49m\u001b[38;5;124;43m\"\u001b[39;49m\u001b[38;5;132;43;01m%s\u001b[39;49;00m\u001b[38;5;124;43m/resources/\u001b[39;49m\u001b[38;5;132;43;01m%s\u001b[39;49;00m\u001b[38;5;124;43m\"\u001b[39;49m\u001b[43m \u001b[49m\u001b[38;5;241;43m%\u001b[39;49m\u001b[43m \u001b[49m\u001b[43m(\u001b[49m\u001b[38;5;28;43mself\u001b[39;49m\u001b[38;5;241;43m.\u001b[39;49m\u001b[43murl\u001b[49m\u001b[43m,\u001b[49m\u001b[43m \u001b[49m\u001b[43mname\u001b[49m\u001b[43m)\u001b[49m\u001b[43m,\u001b[49m\u001b[43m \u001b[49m\u001b[43mrequest\u001b[49m\u001b[43m,\u001b[49m\u001b[43m \u001b[49m\u001b[38;5;124;43m\"\u001b[39;49m\u001b[38;5;124;43mPOST\u001b[39;49m\u001b[38;5;124;43m\"\u001b[39;49m\u001b[43m)\u001b[49m\n\u001b[1;32m    365\u001b[0m     \u001b[38;5;28;01mif\u001b[39;00m target \u001b[38;5;129;01mis\u001b[39;00m \u001b[38;5;129;01mnot\u001b[39;00m \u001b[38;5;28;01mNone\u001b[39;00m:\n\u001b[1;32m    366\u001b[0m         result\u001b[38;5;241m.\u001b[39mdownload(target)\n",
      "File \u001b[0;32m~/opt/anaconda3/envs/w207_final/lib/python3.10/site-packages/cdsapi/api.py:519\u001b[0m, in \u001b[0;36mClient._api\u001b[0;34m(self, url, request, method)\u001b[0m\n\u001b[1;32m    517\u001b[0m             \u001b[38;5;28;01mbreak\u001b[39;00m\n\u001b[1;32m    518\u001b[0m         \u001b[38;5;28mself\u001b[39m\u001b[38;5;241m.\u001b[39merror(\u001b[38;5;124m\"\u001b[39m\u001b[38;5;124m  \u001b[39m\u001b[38;5;132;01m%s\u001b[39;00m\u001b[38;5;124m\"\u001b[39m, n)\n\u001b[0;32m--> 519\u001b[0m     \u001b[38;5;28;01mraise\u001b[39;00m \u001b[38;5;167;01mException\u001b[39;00m(\n\u001b[1;32m    520\u001b[0m         \u001b[38;5;124m\"\u001b[39m\u001b[38;5;132;01m%s\u001b[39;00m\u001b[38;5;124m. \u001b[39m\u001b[38;5;132;01m%s\u001b[39;00m\u001b[38;5;124m.\u001b[39m\u001b[38;5;124m\"\u001b[39m\n\u001b[1;32m    521\u001b[0m         \u001b[38;5;241m%\u001b[39m (reply[\u001b[38;5;124m\"\u001b[39m\u001b[38;5;124merror\u001b[39m\u001b[38;5;124m\"\u001b[39m]\u001b[38;5;241m.\u001b[39mget(\u001b[38;5;124m\"\u001b[39m\u001b[38;5;124mmessage\u001b[39m\u001b[38;5;124m\"\u001b[39m), reply[\u001b[38;5;124m\"\u001b[39m\u001b[38;5;124merror\u001b[39m\u001b[38;5;124m\"\u001b[39m]\u001b[38;5;241m.\u001b[39mget(\u001b[38;5;124m\"\u001b[39m\u001b[38;5;124mreason\u001b[39m\u001b[38;5;124m\"\u001b[39m))\n\u001b[1;32m    522\u001b[0m     )\n\u001b[1;32m    524\u001b[0m \u001b[38;5;28;01mraise\u001b[39;00m \u001b[38;5;167;01mException\u001b[39;00m(\u001b[38;5;124m\"\u001b[39m\u001b[38;5;124mUnknown API state [\u001b[39m\u001b[38;5;132;01m%s\u001b[39;00m\u001b[38;5;124m]\u001b[39m\u001b[38;5;124m\"\u001b[39m \u001b[38;5;241m%\u001b[39m (reply[\u001b[38;5;124m\"\u001b[39m\u001b[38;5;124mstate\u001b[39m\u001b[38;5;124m\"\u001b[39m],))\n",
      "\u001b[0;31mException\u001b[0m: the request you have submitted is not valid. There is no data matching your request. Check that you have specified the correct fields and values.."
     ]
    }
   ],
   "source": [
    "c.retrieve(\n",
    "    'satellite-land-cover',\n",
    "    {\n",
    "        'variable': 'all',\n",
    "        'format': 'zip',\n",
    "        'year': '2015',\n",
    "        'version': 'v2.1.1',\n",
    "    },\n",
    "    '2015-satellite-land-cover.zip')"
   ]
  },
  {
   "cell_type": "code",
   "execution_count": null,
   "metadata": {},
   "outputs": [],
   "source": [
    "c.retrieve(\n",
    "    'satellite-land-cover',\n",
    "    {\n",
    "        'variable': 'all',\n",
    "        'format': 'zip',\n",
    "        'year': '2014',\n",
    "        'version': 'v2.1.1',\n",
    "    },\n",
    "    '2014-satellite-land-cover.zip')"
   ]
  },
  {
   "cell_type": "code",
   "execution_count": null,
   "metadata": {},
   "outputs": [],
   "source": [
    "c.retrieve(\n",
    "    'satellite-land-cover',\n",
    "    {\n",
    "        'variable': 'all',\n",
    "        'format': 'zip',\n",
    "        'year': '2013',\n",
    "        'version': 'v2.1.1',\n",
    "    },\n",
    "    '2013-satellite-land-cover.zip')"
   ]
  },
  {
   "cell_type": "code",
   "execution_count": null,
   "metadata": {},
   "outputs": [],
   "source": [
    "c.retrieve(\n",
    "    'satellite-land-cover',\n",
    "    {\n",
    "        'variable': 'all',\n",
    "        'format': 'zip',\n",
    "        'year': '2012',\n",
    "        'version': 'v2.1.1',\n",
    "    },\n",
    "    '2012-satellite-land-cover.zip')"
   ]
  }
 ],
 "metadata": {
  "kernelspec": {
   "display_name": "w207",
   "language": "python",
   "name": "w207"
  },
  "language_info": {
   "codemirror_mode": {
    "name": "ipython",
    "version": 3
   },
   "file_extension": ".py",
   "mimetype": "text/x-python",
   "name": "python",
   "nbconvert_exporter": "python",
   "pygments_lexer": "ipython3",
   "version": "3.10.11"
  }
 },
 "nbformat": 4,
 "nbformat_minor": 2
}
