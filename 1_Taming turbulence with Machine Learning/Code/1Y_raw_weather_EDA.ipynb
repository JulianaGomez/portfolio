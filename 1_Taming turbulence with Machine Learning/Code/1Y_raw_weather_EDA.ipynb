{
 "cells": [
  {
   "cell_type": "markdown",
   "metadata": {
    "application/vnd.databricks.v1+cell": {
     "cellMetadata": {
      "byteLimit": 2048000,
      "rowLimit": 10000
     },
     "inputWidgets": {},
     "nuid": "63719620-b500-4ae6-be24-a186e3626676",
     "showTitle": false,
     "title": ""
    }
   },
   "source": [
    "# EDA on 1 Year weather training data from OTPW \n",
    "\n",
    "**TO DO:**\n",
    "- Check that all rows are within the US bounding box mentioned in data dictionary. \n",
    "- Check which of the variables are mandatory, and which optional\n"
   ]
  },
  {
   "cell_type": "markdown",
   "metadata": {
    "application/vnd.databricks.v1+cell": {
     "cellMetadata": {
      "byteLimit": 2048000,
      "rowLimit": 10000
     },
     "inputWidgets": {},
     "nuid": "1f94dc1c-9bf9-47dd-954f-9ea2db65b6a7",
     "showTitle": false,
     "title": ""
    }
   },
   "source": [
    "## Import libraries"
   ]
  },
  {
   "cell_type": "code",
   "execution_count": 0,
   "metadata": {
    "application/vnd.databricks.v1+cell": {
     "cellMetadata": {
      "byteLimit": 2048000,
      "rowLimit": 10000
     },
     "inputWidgets": {},
     "nuid": "a52f24a5-3f63-4a41-95d0-369dcaa8713f",
     "showTitle": false,
     "title": ""
    }
   },
   "outputs": [],
   "source": [
    "import pandas as pd\n",
    "import matplotlib.pyplot as plt\n",
    "import pyspark.sql.functions as F\n",
    "import seaborn as sns\n",
    "from pyspark.ml.feature import Imputer\n",
    "\n",
    "import folium\n",
    "\n"
   ]
  },
  {
   "cell_type": "markdown",
   "metadata": {
    "application/vnd.databricks.v1+cell": {
     "cellMetadata": {
      "byteLimit": 2048000,
      "rowLimit": 10000
     },
     "inputWidgets": {},
     "nuid": "18d2e63b-e750-4411-8be4-c4baedb72e11",
     "showTitle": false,
     "title": ""
    }
   },
   "source": [
    "## Setup cluster"
   ]
  },
  {
   "cell_type": "code",
   "execution_count": 0,
   "metadata": {
    "application/vnd.databricks.v1+cell": {
     "cellMetadata": {
      "byteLimit": 2048000,
      "rowLimit": 10000
     },
     "inputWidgets": {},
     "nuid": "543677ba-0b47-4868-b2c9-694de6a787a1",
     "showTitle": false,
     "title": ""
    }
   },
   "outputs": [],
   "source": [
    "\n",
    "blob_container = \"261storagecontainer\"  \n",
    "storage_account = \"261storage\" \n",
    "secret_scope = \"261_team_6_1_spring24_scope\"  \n",
    "secret_key = \"team_6_1_key\"  \n",
    "team_blob_url = f\"wasbs://{blob_container}@{storage_account}.blob.core.windows.net\" \n",
    "\n",
    "\n",
    "# blob storage is mounted here.\n",
    "mids261_mount_path = \"/mnt/mids-w261\"\n",
    "\n",
    "# SAS Token: Grant the team limited access to Azure Storage resources\n",
    "spark.conf.set(\n",
    "    f\"fs.azure.sas.{blob_container}.{storage_account}.blob.core.windows.net\",\n",
    "    dbutils.secrets.get(scope=secret_scope, key=secret_key),\n",
    ")"
   ]
  },
  {
   "cell_type": "code",
   "execution_count": 0,
   "metadata": {
    "application/vnd.databricks.v1+cell": {
     "cellMetadata": {
      "byteLimit": 2048000,
      "rowLimit": 10000
     },
     "inputWidgets": {},
     "nuid": "c7bc1b72-8d29-4107-be79-883c137cfc60",
     "showTitle": false,
     "title": ""
    }
   },
   "outputs": [],
   "source": [
    "# # see what's in the blob storage root folder\n",
    "display(dbutils.fs.ls(f\"{team_blob_url}\"))"
   ]
  },
  {
   "cell_type": "code",
   "execution_count": 0,
   "metadata": {
    "application/vnd.databricks.v1+cell": {
     "cellMetadata": {
      "byteLimit": 2048000,
      "rowLimit": 10000
     },
     "inputWidgets": {},
     "nuid": "24d867f9-dac4-454f-a2cc-fe2e55baeb74",
     "showTitle": false,
     "title": ""
    }
   },
   "outputs": [],
   "source": [
    "# mount\n",
    "data_BASE_DIR = \"dbfs:/mnt/mids-w261/\"\n",
    "display(dbutils.fs.ls(f\"{data_BASE_DIR}\"))"
   ]
  },
  {
   "cell_type": "markdown",
   "metadata": {
    "application/vnd.databricks.v1+cell": {
     "cellMetadata": {
      "byteLimit": 2048000,
      "rowLimit": 10000
     },
     "inputWidgets": {},
     "nuid": "9207e862-a86d-4b6b-b1d7-0ef5a4f5fed3",
     "showTitle": false,
     "title": ""
    }
   },
   "source": [
    "## 1. Load data and view schema"
   ]
  },
  {
   "cell_type": "code",
   "execution_count": 0,
   "metadata": {
    "application/vnd.databricks.v1+cell": {
     "cellMetadata": {
      "byteLimit": 2048000,
      "rowLimit": 10000
     },
     "inputWidgets": {},
     "nuid": "b06bd5d5-b444-4f2d-a5b2-017b40b7cf02",
     "showTitle": false,
     "title": ""
    }
   },
   "outputs": [],
   "source": [
    "# Weather data\n",
    "df_weather = spark.read.parquet(f\"dbfs:/mnt/mids-w261/datasets_final_project_2022/parquet_weather_data_1y/\")"
   ]
  },
  {
   "cell_type": "markdown",
   "metadata": {
    "application/vnd.databricks.v1+cell": {
     "cellMetadata": {
      "byteLimit": 2048000,
      "rowLimit": 10000
     },
     "inputWidgets": {},
     "nuid": "bb921d68-36de-4e04-a17f-7e1fcd7eef0c",
     "showTitle": false,
     "title": ""
    }
   },
   "source": [
    "## 2. Dimensions\n",
    "\n",
    "- All variables are typecast as string (except for `YEAR`, which is integer)\n",
    "- We should typecast them to their original types"
   ]
  },
  {
   "cell_type": "code",
   "execution_count": 0,
   "metadata": {
    "application/vnd.databricks.v1+cell": {
     "cellMetadata": {
      "byteLimit": 2048000,
      "rowLimit": 10000
     },
     "inputWidgets": {},
     "nuid": "5d836807-9af8-4462-a2b1-96cc3b194b1e",
     "showTitle": false,
     "title": ""
    }
   },
   "outputs": [],
   "source": [
    "print(f'There are {df_weather.count()} rows and {len(df_weather.columns)} columns in the df_weather dataframe')\n"
   ]
  },
  {
   "cell_type": "markdown",
   "metadata": {
    "application/vnd.databricks.v1+cell": {
     "cellMetadata": {
      "byteLimit": 2048000,
      "rowLimit": 10000
     },
     "inputWidgets": {},
     "nuid": "0990e6b6-e795-423a-aba2-1a1ac96ff2c8",
     "showTitle": false,
     "title": ""
    }
   },
   "source": [
    "## 2.1 Change datatype for string columns which are actually numeric"
   ]
  },
  {
   "cell_type": "code",
   "execution_count": 0,
   "metadata": {
    "application/vnd.databricks.v1+cell": {
     "cellMetadata": {
      "byteLimit": 2048000,
      "rowLimit": 10000
     },
     "inputWidgets": {},
     "nuid": "0a55a5e4-30cf-4457-9c84-5cb00e4f3c56",
     "showTitle": false,
     "title": ""
    }
   },
   "outputs": [],
   "source": [
    "# type cast as integers\n",
    "this_is_int = ['SOURCE', 'HourlyDewPointTemperature', 'HourlyDryBulbTemperature', 'HourlyPressureTendency', 'HourlyRelativeHumidity', 'HourlyWetBulbTemperature', 'HourlyWindGustSpeed', 'HourlyWindSpeed', 'Sunrise', 'Sunset', 'DailyAverageDewPointTemperature','DailyAverageDryBulbTemperature', 'DailyAverageRelativeHumidity', 'DailyCoolingDegreeDays', 'DailyHeatingDegreeDays', 'DailyMaximumDryBulbTemperature', 'DailyMinimumDryBulbTemperature', 'DailyPeakWindDirection', 'DailyPeakWindSpeed', 'DailySnowDepth', 'DailySustainedWindDirection', 'DailySustainedWindSpeed', 'BackupElevation', 'YEAR', 'DailyAverageWetBulbTemperature']\n",
    "\n",
    "this_is_float = ['LATITUDE', 'LONGITUDE', 'ELEVATION', 'HourlyAltimeterSetting', 'HourlySeaLevelPressure', 'HourlyStationPressure', 'HourlyVisibility', 'DailyAverageSeaLevelPressure', 'DailyAverageStationPressure', 'DailyAverageWindSpeed', 'DailyDepartureFromNormalAverageTemperature', 'DailyPrecipitation', 'DailySnowfall', 'BackupDistance', 'BackupLatitude', 'BackupLongitude']"
   ]
  },
  {
   "cell_type": "code",
   "execution_count": 0,
   "metadata": {
    "application/vnd.databricks.v1+cell": {
     "cellMetadata": {
      "byteLimit": 2048000,
      "rowLimit": 10000
     },
     "inputWidgets": {},
     "nuid": "b20cb6cb-b5e2-4e99-92e1-28dccda86e9b",
     "showTitle": false,
     "title": ""
    }
   },
   "outputs": [],
   "source": [
    "#typecast as int or float\n",
    "df_weather = df_weather.select(*[\n",
    "    F.col(c).cast('int').alias(c) if c in this_is_int else\n",
    "    F.col(c).cast('float').alias(c) if c in this_is_float else\n",
    "    F.col(c)\n",
    "    for c in df_weather.columns\n",
    "])\n",
    "\n",
    "# change date to date\n",
    "df_weather = df_weather.withColumn('DATE', F.to_date('DATE'))"
   ]
  },
  {
   "cell_type": "markdown",
   "metadata": {
    "application/vnd.databricks.v1+cell": {
     "cellMetadata": {},
     "inputWidgets": {},
     "nuid": "4c98b05d-82e4-4f2e-82e0-0658a89f4069",
     "showTitle": false,
     "title": ""
    }
   },
   "source": [
    "## 2.2 Check that all stations mentioned are within the US\n",
    "\n",
    "- Continental US bounding box: "
   ]
  },
  {
   "cell_type": "code",
   "execution_count": 0,
   "metadata": {
    "application/vnd.databricks.v1+cell": {
     "cellMetadata": {
      "byteLimit": 2048000,
      "rowLimit": 10000
     },
     "inputWidgets": {},
     "nuid": "5da4c998-1f7d-43c7-bbc7-1830c07bccbb",
     "showTitle": false,
     "title": ""
    }
   },
   "outputs": [],
   "source": [
    "# continental_north = 49.3457868 # north lat\n",
    "# continental_west = -124.7844079 # west long\n",
    "# continental_east = -66.9513812 # east long\n",
    "# continental_south =  24.7433195 # south lat \n",
    "\n",
    "df_weather.cache()\n",
    "\n",
    "territories_west = -180 #includes westernmost point of Alaska\n",
    "territories_east = -65 # includes Puerto Rico and the US Virgin Islands\n",
    "territories_south = 14 #includes Wake Island and the southernmost point of Hawaii\n",
    "territories_north = 72 #includes northernmost point of Alaska\n",
    "\n",
    "# Check latitude values\n",
    "not_lat = df_weather.filter((F.col('LATITUDE') > territories_north) | (F.col('LATITUDE') < territories_south)).count()\n",
    "print(f'There are {not_lat} stations in the dataset not within the US latitudes')\n",
    "\n",
    "# Check longitude values\n",
    "not_long = df_weather.filter((F.col('LONGITUDE') > -65) | (F.col('LONGITUDE') < territories_west)).count()\n",
    "print(f'There are {not_long} stations in the dataset not within the US longitudes')\n",
    "\n",
    "\n",
    "df_weather.unpersist()\n",
    "\n"
   ]
  },
  {
   "cell_type": "markdown",
   "metadata": {
    "application/vnd.databricks.v1+cell": {
     "cellMetadata": {},
     "inputWidgets": {},
     "nuid": "5f6609ad-b337-48f1-af08-b212f610938c",
     "showTitle": false,
     "title": ""
    }
   },
   "source": [
    "## Double check the station info by using Jenna's code:"
   ]
  },
  {
   "cell_type": "code",
   "execution_count": 0,
   "metadata": {
    "application/vnd.databricks.v1+cell": {
     "cellMetadata": {
      "byteLimit": 2048000,
      "rowLimit": 10000
     },
     "inputWidgets": {},
     "nuid": "1e97999f-9658-4ada-bcc6-19fe55927ae2",
     "showTitle": false,
     "title": ""
    }
   },
   "outputs": [],
   "source": [
    "locations_df = df_weather.select(\"STATION\", 'LATITUDE', 'LONGITUDE')\n",
    "locations_df = locations_df.dropDuplicates(subset=['STATION'])\n",
    "locations_df = locations_df.na.drop()"
   ]
  },
  {
   "cell_type": "code",
   "execution_count": 0,
   "metadata": {
    "application/vnd.databricks.v1+cell": {
     "cellMetadata": {
      "byteLimit": 2048000,
      "rowLimit": 10000
     },
     "inputWidgets": {},
     "nuid": "b631d1c3-cffb-4863-a48b-0ab9d168b783",
     "showTitle": false,
     "title": ""
    }
   },
   "outputs": [],
   "source": [
    "\n",
    "# Convert Spark DataFrame to Pandas DataFrame\n",
    "locations_df_pd = locations_df.toPandas()\n",
    "\n",
    "# Create a map centered around the world\n",
    "world_map = folium.Map(location=[0, 0], zoom_start=2)\n",
    "\n",
    "# Define a function to add markers\n",
    "def add_marker(row):\n",
    "    station = row.STATION\n",
    "    latitude = row.LATITUDE\n",
    "    longitude = row.LONGITUDE\n",
    "    folium.Marker(\n",
    "        [float(latitude), float(longitude)],\n",
    "        popup=station,\n",
    "    ).add_to(world_map)\n",
    "\n",
    "# Apply the function to each row of the DataFrame\n",
    "locations_df_pd.apply(add_marker, axis=1)\n",
    "\n",
    "# Display the map\n",
    "world_map"
   ]
  },
  {
   "cell_type": "code",
   "execution_count": 0,
   "metadata": {
    "application/vnd.databricks.v1+cell": {
     "cellMetadata": {
      "byteLimit": 2048000,
      "rowLimit": 10000
     },
     "inputWidgets": {},
     "nuid": "cd6d1a40-74ea-4487-8327-3baece4cfe39",
     "showTitle": false,
     "title": ""
    }
   },
   "outputs": [],
   "source": [
    "display(df_weather)"
   ]
  },
  {
   "cell_type": "markdown",
   "metadata": {
    "application/vnd.databricks.v1+cell": {
     "cellMetadata": {},
     "inputWidgets": {},
     "nuid": "27699c0a-cb2d-42fc-8bb2-271615f050be",
     "showTitle": false,
     "title": ""
    }
   },
   "source": [
    "### Drop all non-US stations from the data\n"
   ]
  },
  {
   "cell_type": "code",
   "execution_count": 0,
   "metadata": {
    "application/vnd.databricks.v1+cell": {
     "cellMetadata": {
      "byteLimit": 2048000,
      "rowLimit": 10000
     },
     "inputWidgets": {},
     "nuid": "c8575a5c-4b31-4fe2-85f4-26fb62e2dd16",
     "showTitle": false,
     "title": ""
    }
   },
   "outputs": [],
   "source": [
    "df_weather.cache()\n",
    "\n",
    "# Remove rows with missing stations\n",
    "filtered_df = df_weather.where(F.col(\"STATION\").isNotNull()) \n",
    "\n",
    "# Filter to only include stations within the bounding box \n",
    "filtered_df = filtered_df.where(~( \n",
    "    (F.col(\"LATITUDE\") < territories_south) |\n",
    "    (F.col(\"LATITUDE\") > territories_north) | \n",
    "    (F.col(\"LONGITUDE\") < territories_west) |\n",
    "    (F.col(\"LONGITUDE\") > territories_east)   \n",
    ") & F.col(\"STATION\").isNotNull())\n",
    "\n",
    "df_weather.unpersist()\n",
    "display(filtered_df)\n",
    "\n",
    "\n"
   ]
  },
  {
   "cell_type": "code",
   "execution_count": 0,
   "metadata": {
    "application/vnd.databricks.v1+cell": {
     "cellMetadata": {
      "byteLimit": 2048000,
      "rowLimit": 10000
     },
     "inputWidgets": {},
     "nuid": "31d9caae-85c2-447a-8565-e5e536c0dac9",
     "showTitle": false,
     "title": ""
    }
   },
   "outputs": [],
   "source": [
    "\n",
    "locations_df = filtered_df.select(\"STATION\", 'LATITUDE', 'LONGITUDE')\n",
    "locations_df = locations_df.dropDuplicates(subset=['STATION'])\n",
    "locations_df = locations_df.na.drop()\n",
    "\n",
    "# Convert Spark DataFrame to Pandas DataFrame\n",
    "locations_df_pd = locations_df.toPandas()\n",
    "\n",
    "# Create a map centered around the world\n",
    "world_map = folium.Map(location=[0, 0], zoom_start=2)\n",
    "\n",
    "# Define a function to add markers\n",
    "def add_marker(row):\n",
    "    station = row.STATION\n",
    "    latitude = row.LATITUDE\n",
    "    longitude = row.LONGITUDE\n",
    "    folium.Marker(\n",
    "        [float(latitude), float(longitude)],\n",
    "        popup=station,\n",
    "    ).add_to(world_map)\n",
    "\n",
    "# Apply the function to each row of the DataFrame\n",
    "locations_df_pd.apply(add_marker, axis=1)\n",
    "\n",
    "# Display the map\n",
    "world_map"
   ]
  },
  {
   "cell_type": "markdown",
   "metadata": {
    "application/vnd.databricks.v1+cell": {
     "cellMetadata": {},
     "inputWidgets": {},
     "nuid": "d5c6b67a-aa0a-4b5e-a113-b035ce3c57a6",
     "showTitle": false,
     "title": ""
    }
   },
   "source": [
    "Still some stations that shouldn't be there....exclude those from Mexico and Russia"
   ]
  },
  {
   "cell_type": "code",
   "execution_count": 0,
   "metadata": {
    "application/vnd.databricks.v1+cell": {
     "cellMetadata": {
      "byteLimit": 2048000,
      "rowLimit": 10000
     },
     "inputWidgets": {},
     "nuid": "edeb605e-330a-4d0a-8126-2cc9f57b5442",
     "showTitle": false,
     "title": ""
    }
   },
   "outputs": [],
   "source": [
    "# # Find unique values in the NAME column of filtered_df\n",
    "# filtered_df.select(\"NAME\").distinct().collect()\n"
   ]
  },
  {
   "cell_type": "markdown",
   "metadata": {
    "application/vnd.databricks.v1+cell": {
     "cellMetadata": {},
     "inputWidgets": {},
     "nuid": "c772547c-da8f-40db-b6ed-3114258cd920",
     "showTitle": false,
     "title": ""
    }
   },
   "source": [
    "- PR: Puerto Rico\n",
    "- VI: US Virgin Islands\n",
    "- GU: Guam\n",
    "- MP: Northern Mariana Islands\n",
    "- AS: American Samoa\n",
    "- UM: US Minor Outlying Islands (This is a group of various islands, each with its own code)\n",
    "- PW: Palau (Freely Associated State)\n",
    "- FM: Federated States of Micronesia (Freely Associated State)\n",
    "- MH: Marshall Islands (Freely Associated State)"
   ]
  },
  {
   "cell_type": "code",
   "execution_count": 0,
   "metadata": {
    "application/vnd.databricks.v1+cell": {
     "cellMetadata": {
      "byteLimit": 2048000,
      "rowLimit": 10000
     },
     "inputWidgets": {},
     "nuid": "3ddc3f8e-c5ef-49e4-941c-8d60b75b562d",
     "showTitle": false,
     "title": ""
    }
   },
   "outputs": [],
   "source": [
    "# us_weather = df_weather.filter(df_weather.NAME.like(\"%, US\"))\n",
    "\n",
    "\n",
    "# Split the NAME column at the comma\n",
    "filtered_df = filtered_df.withColumn(\"name_parts\", F.split(F.col(\"NAME\"), \",\"))\n",
    "\n",
    "# Filter based on the part after the comma (assuming US or territory comes last)\n",
    "# filtered_df = filtered_df.filter(col(\"name_parts\").getItem(2).like(\"US\"))\n",
    "\n",
    "# Alternatively, filter for specific territories \n",
    "territories = [\"US\",\"PR\", \"VI\", \"GU\", \"MP\", \"AS\", \"UM\", \"PW\", \"FM\", \"MH\"]  \n",
    "us_and_territories = filtered_df.filter(F.col(\"name_parts\").getItem(2).isin(territories))\n"
   ]
  },
  {
   "cell_type": "code",
   "execution_count": 0,
   "metadata": {
    "application/vnd.databricks.v1+cell": {
     "cellMetadata": {
      "byteLimit": 2048000,
      "rowLimit": 10000
     },
     "inputWidgets": {},
     "nuid": "7fbc4076-9e39-45fd-9f85-49c3b601676c",
     "showTitle": false,
     "title": ""
    }
   },
   "outputs": [],
   "source": [
    "display(us_and_territories)"
   ]
  },
  {
   "cell_type": "code",
   "execution_count": 0,
   "metadata": {
    "application/vnd.databricks.v1+cell": {
     "cellMetadata": {
      "byteLimit": 2048000,
      "rowLimit": 10000
     },
     "inputWidgets": {},
     "nuid": "a99a05bc-0d05-4946-bd0d-a21e9f1b9403",
     "showTitle": false,
     "title": ""
    }
   },
   "outputs": [],
   "source": [
    "us_and_territories.select(\"NAME\").distinct().collect()"
   ]
  },
  {
   "cell_type": "markdown",
   "metadata": {
    "application/vnd.databricks.v1+cell": {
     "cellMetadata": {
      "byteLimit": 2048000,
      "rowLimit": 10000
     },
     "inputWidgets": {},
     "nuid": "6652d460-a5a1-4eaa-9852-5b6e3a5c7b37",
     "showTitle": false,
     "title": ""
    }
   },
   "source": [
    "## 3. Null values\n"
   ]
  },
  {
   "cell_type": "code",
   "execution_count": 0,
   "metadata": {
    "application/vnd.databricks.v1+cell": {
     "cellMetadata": {
      "byteLimit": 2048000,
      "rowLimit": 10000
     },
     "inputWidgets": {},
     "nuid": "8691c760-7426-4803-be9e-a7de9811cd7b",
     "showTitle": false,
     "title": ""
    }
   },
   "outputs": [],
   "source": [
    "# find out which columns are all nulls \n",
    "numrows = df_weather.count()\n",
    "\n",
    "# Get the number of null values for each column\n",
    "otpw_null_counts_dict = df_weather.select(\n",
    "        [F.sum(F.col(c).isNull().cast(\"integer\")).alias(c) for c in df_weather.columns]\n",
    "    ).collect()[0].asDict()\n",
    "\n",
    "    \n",
    "otpw_null_counts_dict"
   ]
  },
  {
   "cell_type": "markdown",
   "metadata": {
    "application/vnd.databricks.v1+cell": {
     "cellMetadata": {},
     "inputWidgets": {},
     "nuid": "1f879e11-70e5-4d4c-b6a3-2cdf7b073dab",
     "showTitle": false,
     "title": ""
    }
   },
   "source": [
    "- In the full dataset, only three columns are all nulls: `MonthlyAverageRH`, `MonthlyDewpointTemperature`, `MonthlyWetBulb`\n"
   ]
  },
  {
   "cell_type": "code",
   "execution_count": 0,
   "metadata": {
    "application/vnd.databricks.v1+cell": {
     "cellMetadata": {
      "byteLimit": 2048000,
      "rowLimit": 10000
     },
     "inputWidgets": {},
     "nuid": "3d6b3314-a0df-43e7-9569-598d6e999712",
     "showTitle": false,
     "title": ""
    }
   },
   "outputs": [
    {
     "output_type": "execute_result",
     "data": {
      "text/plain": [
       "['MonthlyAverageRH', 'MonthlyDewpointTemperature', 'MonthlyWetBulb']"
      ]
     },
     "execution_count": 9,
     "metadata": {},
     "output_type": "execute_result"
    }
   ],
   "source": [
    "# drop columns which are all nulls\n",
    "columns_to_drop = [col for col, null_count in otpw_null_counts_dict.items() if null_count == numrows]\n",
    "columns_to_drop"
   ]
  },
  {
   "cell_type": "code",
   "execution_count": 0,
   "metadata": {
    "application/vnd.databricks.v1+cell": {
     "cellMetadata": {
      "byteLimit": 2048000,
      "rowLimit": 10000
     },
     "inputWidgets": {},
     "nuid": "46463595-f243-496a-8ad2-68309f15b200",
     "showTitle": false,
     "title": ""
    }
   },
   "outputs": [
    {
     "output_type": "stream",
     "name": "stdout",
     "output_type": "stream",
     "text": [
      "66 of the weather variables in the one year data are all nulls\n"
     ]
    }
   ],
   "source": [
    "# No increase from number of columns that are all nulls for the 1 year data\n",
    "print(f'{len(columns_to_drop)} of the weather variables in the one year data are all nulls')\n"
   ]
  },
  {
   "cell_type": "code",
   "execution_count": 0,
   "metadata": {
    "application/vnd.databricks.v1+cell": {
     "cellMetadata": {
      "byteLimit": 2048000,
      "rowLimit": 10000
     },
     "inputWidgets": {},
     "nuid": "a95adcfd-3a61-4fdf-95ce-5677b419357a",
     "showTitle": false,
     "title": ""
    }
   },
   "outputs": [],
   "source": [
    "#drop columns that are all nulls \n",
    "raw_1y_weather_subset = df_weather.select(*[F.col(c) for c in df_weather.columns if c not in columns_to_drop])"
   ]
  },
  {
   "cell_type": "markdown",
   "metadata": {
    "application/vnd.databricks.v1+cell": {
     "cellMetadata": {
      "byteLimit": 2048000,
      "rowLimit": 10000
     },
     "inputWidgets": {},
     "nuid": "4dabbc26-9476-4215-ad55-fd5bef131405",
     "showTitle": false,
     "title": ""
    }
   },
   "source": [
    "Optional code if we want to select variables which have less than x% nulls and checkpoint"
   ]
  },
  {
   "cell_type": "code",
   "execution_count": 0,
   "metadata": {
    "application/vnd.databricks.v1+cell": {
     "cellMetadata": {
      "byteLimit": 2048000,
      "rowLimit": 10000
     },
     "inputWidgets": {},
     "nuid": "a77509bf-2100-4019-a7b9-28703d6f4a6e",
     "showTitle": false,
     "title": ""
    }
   },
   "outputs": [],
   "source": [
    "numrows = raw_1y_weather_subset.count()\n",
    "\n",
    "# nulls in subset weather data\n",
    "nulls_otpw_raw_1y_weather_subset_dict = raw_1y_weather_subset.select(\n",
    "        [F.sum(F.col(c).isNull().cast(\"integer\")).alias(c) for c in raw_1y_weather_subset.columns]\n",
    "    ).collect()[0].asDict()\n",
    "\n",
    "# calculate percentage of rows with null values\n",
    "updated_dict = {k: round((v / numrows),2) * 100 for k, v in nulls_raw_1y_weather_subset_dict.items()}\n",
    "\n",
    "# select variables with fewer than x% nulls\n",
    "selected_keys = [k for k, v in updated_dict.items() if v < 100] #change 100 to the percentage we want\n",
    "# selected_keys\n",
    "\n",
    "\n",
    "raw_1y_weather_subset = raw_1y_weather_subset.select(selected_keys)\n",
    "\n"
   ]
  },
  {
   "cell_type": "code",
   "execution_count": 0,
   "metadata": {
    "application/vnd.databricks.v1+cell": {
     "cellMetadata": {
      "byteLimit": 2048000,
      "rowLimit": 10000
     },
     "inputWidgets": {},
     "nuid": "e7d0ccbd-68da-481d-b17c-abb644dbd47f",
     "showTitle": false,
     "title": ""
    }
   },
   "outputs": [],
   "source": [
    "# HourlyPrecipitation: **Change T to 0** (signifies trace amount)\n",
    "raw_1y_weather_subset = raw_1y_weather_subset.withColumn('HourlyPrecipitation', F.when(raw_1y_weather_subset.HourlyPrecipitation=='T', 0).otherwise(raw_1y_weather_subset.HourlyPrecipitation))\n",
    "\n",
    "#typecast as numeric\n",
    "mycol = ['HourlyPrecipitation']\n",
    "\n",
    "for column in mycol:\n",
    "    raw_1y_weather_subset = raw_1y_weather_subset.withColumn(f\"{column}\", F.col(column).cast(\"float\"))\n"
   ]
  },
  {
   "cell_type": "code",
   "execution_count": 0,
   "metadata": {
    "application/vnd.databricks.v1+cell": {
     "cellMetadata": {
      "byteLimit": 2048000,
      "rowLimit": 10000
     },
     "inputWidgets": {},
     "nuid": "3f12a049-d650-4a2b-86d3-99e037222227",
     "showTitle": false,
     "title": ""
    }
   },
   "outputs": [],
   "source": [
    "# change VRB (variable wind direction) in wind direction to 999\n",
    "raw_1y_weather_subset = raw_1y_weather_subset.withColumn('HourlyWindDirection', F.when(raw_1y_weather_subset.HourlyWindDirection=='VRB', 999).otherwise(raw_1y_weather_subset.HourlyWindDirection))\n",
    "\n",
    "#typecast as numeric\n",
    "mycol = ['HourlyWindDirection']\n",
    "\n",
    "for column in mycol:\n",
    "    raw_1y_weather_subset = raw_1y_weather_subset.withColumn(f\"{column}\", F.col(column).cast(\"float\"))\n"
   ]
  },
  {
   "cell_type": "code",
   "execution_count": 0,
   "metadata": {
    "application/vnd.databricks.v1+cell": {
     "cellMetadata": {
      "byteLimit": 2048000,
      "rowLimit": 10000
     },
     "inputWidgets": {},
     "nuid": "0170d7ab-1f96-47d5-be43-6c66f80a3569",
     "showTitle": false,
     "title": ""
    }
   },
   "outputs": [],
   "source": [
    "# Hourly Pressure Change - typecast to float \n",
    "\n",
    "#typecast as numeric\n",
    "mycol = ['HourlyPressureChange']\n",
    "\n",
    "for column in mycol:\n",
    "    raw_1y_weather_subset = raw_1y_weather_subset.withColumn(f\"{column}\", F.col(column).cast(\"float\"))\n"
   ]
  },
  {
   "cell_type": "code",
   "execution_count": 0,
   "metadata": {
    "application/vnd.databricks.v1+cell": {
     "cellMetadata": {
      "byteLimit": 2048000,
      "rowLimit": 10000
     },
     "inputWidgets": {},
     "nuid": "2d72119b-92db-430b-b2c2-2bcd4b9e1799",
     "showTitle": false,
     "title": ""
    }
   },
   "outputs": [],
   "source": [
    "# DailyAverageWetBulbTemperature - typecast to int \n",
    "\n",
    "#typecast as numeric\n",
    "mycol = ['DailyAverageWetBulbTemperature']\n",
    "\n",
    "for column in mycol:\n",
    "    raw_1y_weather_subset = raw_1y_weather_subset.withColumn(f\"{column}\", F.col(column).cast(\"integer\"))"
   ]
  },
  {
   "cell_type": "code",
   "execution_count": 0,
   "metadata": {
    "application/vnd.databricks.v1+cell": {
     "cellMetadata": {
      "byteLimit": 2048000,
      "rowLimit": 10000
     },
     "inputWidgets": {},
     "nuid": "6a0e82a0-60ca-42fa-95a4-1ff483d279a9",
     "showTitle": false,
     "title": ""
    }
   },
   "outputs": [],
   "source": [
    "# check to see if in this new dataset there are other things which need to be cleaned\n",
    "display(raw_1y_weather_subset)"
   ]
  },
  {
   "cell_type": "markdown",
   "metadata": {
    "application/vnd.databricks.v1+cell": {
     "cellMetadata": {
      "byteLimit": 2048000,
      "rowLimit": 10000
     },
     "inputWidgets": {},
     "nuid": "4533b6dc-204c-4021-8195-3e9df53cb691",
     "showTitle": false,
     "title": ""
    }
   },
   "source": [
    "### Checkpoint raw_1y_weather_subset\n",
    "- variables which have less than 100% nulls\n",
    "- variables typecast to their proper type (int, float, str or date)\n",
    "- some data cleaning for numeric variables with some string information. \n"
   ]
  },
  {
   "cell_type": "code",
   "execution_count": 0,
   "metadata": {
    "application/vnd.databricks.v1+cell": {
     "cellMetadata": {
      "byteLimit": 2048000,
      "rowLimit": 10000
     },
     "inputWidgets": {},
     "nuid": "888ce1d4-b453-4c51-bb0d-39dcc170c531",
     "showTitle": false,
     "title": ""
    }
   },
   "outputs": [],
   "source": [
    "# Checkpoint the DataFrame\n",
    "raw_1y_weather_subset.write.mode(\"overwrite\").parquet(f\"{team_blob_url}/juliana_raw_1y_weather_subset\")"
   ]
  },
  {
   "cell_type": "code",
   "execution_count": 0,
   "metadata": {
    "application/vnd.databricks.v1+cell": {
     "cellMetadata": {
      "byteLimit": 2048000,
      "rowLimit": 10000
     },
     "inputWidgets": {},
     "nuid": "aa524ea3-dbc6-4250-98cb-5820bd73d8c0",
     "showTitle": false,
     "title": ""
    }
   },
   "outputs": [],
   "source": [
    "# Load checkpointed dataframe\n",
    "raw_1y_weather_subset = spark.read.parquet( f\"wasbs://{blob_container}@{storage_account}.blob.core.windows.net/juliana_1y_weather_subset\" )\n"
   ]
  },
  {
   "cell_type": "code",
   "execution_count": 0,
   "metadata": {
    "application/vnd.databricks.v1+cell": {
     "cellMetadata": {
      "byteLimit": 2048000,
      "rowLimit": 10000
     },
     "inputWidgets": {},
     "nuid": "0feda190-ea7c-4698-99d3-218848bce370",
     "showTitle": false,
     "title": ""
    }
   },
   "outputs": [
    {
     "output_type": "stream",
     "name": "stdout",
     "output_type": "stream",
     "text": [
      "There are 131937550 rows and 121 columns in the otpw_weather_test_subset dataframe\n"
     ]
    }
   ],
   "source": [
    "print(f'There are {raw_1y_weather_subset.count()} rows and {len(raw_1y_weather_subset.columns)} columns in the otpw_weather_test_subset dataframe')\n"
   ]
  },
  {
   "cell_type": "markdown",
   "metadata": {
    "application/vnd.databricks.v1+cell": {
     "cellMetadata": {
      "byteLimit": 2048000,
      "rowLimit": 10000
     },
     "inputWidgets": {},
     "nuid": "5810c1d2-7cb5-4d8a-a622-65ebfdaf7658",
     "showTitle": false,
     "title": ""
    }
   },
   "source": [
    "## 4. Histograms"
   ]
  },
  {
   "cell_type": "markdown",
   "metadata": {
    "application/vnd.databricks.v1+cell": {
     "cellMetadata": {
      "byteLimit": 2048000,
      "rowLimit": 10000
     },
     "inputWidgets": {},
     "nuid": "30e7653a-025a-488e-9125-7290b8dd76a9",
     "showTitle": false,
     "title": ""
    }
   },
   "source": [
    "### Numeric Variables:\n"
   ]
  },
  {
   "cell_type": "code",
   "execution_count": 0,
   "metadata": {
    "application/vnd.databricks.v1+cell": {
     "cellMetadata": {
      "byteLimit": 2048000,
      "rowLimit": 10000
     },
     "inputWidgets": {},
     "nuid": "5344cba8-6a37-4674-b72c-fed8d64f21f6",
     "showTitle": false,
     "title": ""
    }
   },
   "outputs": [
    {
     "output_type": "display_data",
     "data": {
      "text/html": [
       "<style scoped>\n",
       "  .table-result-container {\n",
       "    max-height: 300px;\n",
       "    overflow: auto;\n",
       "  }\n",
       "  table, th, td {\n",
       "    border: 1px solid black;\n",
       "    border-collapse: collapse;\n",
       "  }\n",
       "  th, td {\n",
       "    padding: 5px;\n",
       "  }\n",
       "  th {\n",
       "    text-align: left;\n",
       "  }\n",
       "</style><div class='table-result-container'><table class='table-result'><thead style='background-color: white'><tr><th>summary</th><th>LATITUDE</th><th>LONGITUDE</th><th>ELEVATION</th><th>SOURCE</th><th>HourlyAltimeterSetting</th><th>HourlyDewPointTemperature</th><th>HourlyDryBulbTemperature</th><th>HourlyPrecipitation</th><th>HourlyPressureChange</th><th>HourlyPressureTendency</th><th>HourlyRelativeHumidity</th><th>HourlySeaLevelPressure</th><th>HourlyStationPressure</th><th>HourlyVisibility</th><th>HourlyWetBulbTemperature</th><th>HourlyWindDirection</th><th>HourlyWindGustSpeed</th><th>HourlyWindSpeed</th><th>Sunrise</th><th>Sunset</th><th>DailyAverageDewPointTemperature</th><th>DailyAverageDryBulbTemperature</th><th>DailyAverageRelativeHumidity</th><th>DailyAverageSeaLevelPressure</th><th>DailyAverageStationPressure</th><th>DailyAverageWetBulbTemperature</th><th>DailyAverageWindSpeed</th><th>DailyCoolingDegreeDays</th><th>DailyDepartureFromNormalAverageTemperature</th><th>DailyHeatingDegreeDays</th><th>DailyMaximumDryBulbTemperature</th><th>DailyMinimumDryBulbTemperature</th><th>DailyPeakWindDirection</th><th>DailyPeakWindSpeed</th><th>DailyPrecipitation</th><th>DailySnowDepth</th><th>DailySnowfall</th><th>DailySustainedWindDirection</th><th>DailySustainedWindSpeed</th><th>BackupDistance</th><th>BackupElevation</th><th>BackupLatitude</th><th>BackupLongitude</th></tr></thead><tbody><tr><td>count</td><td>131108385</td><td>131108385</td><td>131108385</td><td>115326664</td><td>67403418</td><td>109430062</td><td>128993518</td><td>16898467</td><td>36998483</td><td>39610679</td><td>109486431</td><td>52390405</td><td>70039015</td><td>87064917</td><td>68751796</td><td>113851177</td><td>10740900</td><td>115134557</td><td>666414</td><td>666415</td><td>169272</td><td>420276</td><td>169660</td><td>169153</td><td>386307</td><td>169272</td><td>392127</td><td>420276</td><td>363904</td><td>420276</td><td>427307</td><td>421906</td><td>349395</td><td>351644</td><td>387206</td><td>148688</td><td>139681</td><td>377093</td><td>379160</td><td>2016843</td><td>1638295</td><td>1609685</td><td>1609685</td></tr><tr><td>mean</td><td>36.221891509062736</td><td>-36.5446756728331</td><td>363.8973841739637</td><td>4.870616859254682</td><td>29.98213244213861</td><td>43.91867144331875</td><td>53.96102849912195</td><td>0.010422377894627733</td><td>0.0011062072412960171</td><td>4.809592584868338</td><td>72.46290905217286</td><td>29.961602478260847</td><td>28.755372118498045</td><td>8.925734923712936</td><td>48.442012351211886</td><td>228.48960871085242</td><td>23.256213352698563</td><td>7.426773136409428</td><td>601.0924830510763</td><td>1817.1691543557693</td><td>43.84631244387731</td><td>54.95567436636877</td><td>67.62907579865613</td><td>30.001512476408642</td><td>28.659757985397906</td><td>49.812881043527575</td><td>7.619635733228817</td><td>4.023091968135225</td><td>0.9254902392868262</td><td>14.067417601766458</td><td>65.26241788690567</td><td>44.36977193972117</td><td>200.43576467894502</td><td>38.426078647723266</td><td>0.11175973500330455</td><td>0.5407632088668891</td><td>0.06625095762009388</td><td>200.185932913101</td><td>29.41304462496044</td><td>138.4618384582065</td><td>1499.6761999517792</td><td>41.448926869707236</td><td>-105.61980071263041</td></tr><tr><td>stddev</td><td>23.47341374531185</td><td>78.32311225340577</td><td>530.4414512948521</td><td>1.3428142658311337</td><td>0.23829284497590894</td><td>20.553578723031624</td><td>22.608553398289732</td><td>0.05347552423847139</td><td>0.0400917986901842</td><td>2.7517289905769293</td><td>21.290220130527736</td><td>0.2707876846151896</td><td>1.6613398456240924</td><td>5.736375716401169</td><td>19.664980189863574</td><td>247.24546482453155</td><td>8.199340912028182</td><td>7.892955892441237</td><td>119.87444645784815</td><td>137.9069880715422</td><td>19.703854977259848</td><td>20.64187522219737</td><td>16.03240511327762</td><td>0.20350627233691926</td><td>1.7018622302404034</td><td>18.181639444549333</td><td>4.28426351234799</td><td>6.726285872639643</td><td>7.940319225011601</td><td>16.360158684890703</td><td>21.809025773291648</td><td>20.404547518276303</td><td>100.65926299215872</td><td>175.57488021298425</td><td>0.32881499495182337</td><td>2.9452339183978884</td><td>0.5306509659889456</td><td>100.6946150851346</td><td>158.9178728797804</td><td>757.5309975367718</td><td>1778.246679288533</td><td>10.008315947893477</td><td>24.769985938541485</td></tr><tr><td>min</td><td>-89.0</td><td>-179.98334</td><td>-999.9</td><td>1</td><td>26.99</td><td>-135</td><td>-132</td><td>0.0</td><td>-1.48</td><td>0</td><td>0</td><td>25.44</td><td>14.48</td><td>0.0</td><td>-128</td><td>0.0</td><td>11</td><td>0</td><td>6</td><td>0</td><td>-32</td><td>-58</td><td>6</td><td>28.52</td><td>18.59</td><td>-26</td><td>0.0</td><td>0</td><td>-55.3</td><td>0</td><td>-55</td><td>-60</td><td>3</td><td>3</td><td>0.0</td><td>0</td><td>0.0</td><td>2</td><td>2</td><td>0.02</td><td>0</td><td>13.4678</td><td>-165.4397</td></tr><tr><td>max</td><td>83.65</td><td>179.75</td><td>4701.0</td><td>8</td><td>31.6</td><td>98</td><td>143</td><td>5.72</td><td>1.48</td><td>9</td><td>100</td><td>32.19</td><td>32.19</td><td>99.42</td><td>100</td><td>999.0</td><td>145</td><td>2237</td><td>2354</td><td>2359</td><td>82</td><td>107</td><td>100</td><td>30.89</td><td>30.71</td><td>93</td><td>110.1</td><td>42</td><td>52.1</td><td>123</td><td>121</td><td>99</td><td>360</td><td>2237</td><td>11.63</td><td>53</td><td>35.9</td><td>360</td><td>2237</td><td>7500.0</td><td>7540</td><td>71.2869</td><td>-70.9606</td></tr></tbody></table></div>"
      ]
     },
     "metadata": {
      "application/vnd.databricks.v1+output": {
       "addedWidgets": {},
       "aggData": [],
       "aggError": "",
       "aggOverflow": false,
       "aggSchema": [],
       "aggSeriesLimitReached": false,
       "aggType": "",
       "arguments": {},
       "columnCustomDisplayInfos": {},
       "data": [
        [
         "count",
         "131108385",
         "131108385",
         "131108385",
         "115326664",
         "67403418",
         "109430062",
         "128993518",
         "16898467",
         "36998483",
         "39610679",
         "109486431",
         "52390405",
         "70039015",
         "87064917",
         "68751796",
         "113851177",
         "10740900",
         "115134557",
         "666414",
         "666415",
         "169272",
         "420276",
         "169660",
         "169153",
         "386307",
         "169272",
         "392127",
         "420276",
         "363904",
         "420276",
         "427307",
         "421906",
         "349395",
         "351644",
         "387206",
         "148688",
         "139681",
         "377093",
         "379160",
         "2016843",
         "1638295",
         "1609685",
         "1609685"
        ],
        [
         "mean",
         "36.221891509062736",
         "-36.5446756728331",
         "363.8973841739637",
         "4.870616859254682",
         "29.98213244213861",
         "43.91867144331875",
         "53.96102849912195",
         "0.010422377894627733",
         "0.0011062072412960171",
         "4.809592584868338",
         "72.46290905217286",
         "29.961602478260847",
         "28.755372118498045",
         "8.925734923712936",
         "48.442012351211886",
         "228.48960871085242",
         "23.256213352698563",
         "7.426773136409428",
         "601.0924830510763",
         "1817.1691543557693",
         "43.84631244387731",
         "54.95567436636877",
         "67.62907579865613",
         "30.001512476408642",
         "28.659757985397906",
         "49.812881043527575",
         "7.619635733228817",
         "4.023091968135225",
         "0.9254902392868262",
         "14.067417601766458",
         "65.26241788690567",
         "44.36977193972117",
         "200.43576467894502",
         "38.426078647723266",
         "0.11175973500330455",
         "0.5407632088668891",
         "0.06625095762009388",
         "200.185932913101",
         "29.41304462496044",
         "138.4618384582065",
         "1499.6761999517792",
         "41.448926869707236",
         "-105.61980071263041"
        ],
        [
         "stddev",
         "23.47341374531185",
         "78.32311225340577",
         "530.4414512948521",
         "1.3428142658311337",
         "0.23829284497590894",
         "20.553578723031624",
         "22.608553398289732",
         "0.05347552423847139",
         "0.0400917986901842",
         "2.7517289905769293",
         "21.290220130527736",
         "0.2707876846151896",
         "1.6613398456240924",
         "5.736375716401169",
         "19.664980189863574",
         "247.24546482453155",
         "8.199340912028182",
         "7.892955892441237",
         "119.87444645784815",
         "137.9069880715422",
         "19.703854977259848",
         "20.64187522219737",
         "16.03240511327762",
         "0.20350627233691926",
         "1.7018622302404034",
         "18.181639444549333",
         "4.28426351234799",
         "6.726285872639643",
         "7.940319225011601",
         "16.360158684890703",
         "21.809025773291648",
         "20.404547518276303",
         "100.65926299215872",
         "175.57488021298425",
         "0.32881499495182337",
         "2.9452339183978884",
         "0.5306509659889456",
         "100.6946150851346",
         "158.9178728797804",
         "757.5309975367718",
         "1778.246679288533",
         "10.008315947893477",
         "24.769985938541485"
        ],
        [
         "min",
         "-89.0",
         "-179.98334",
         "-999.9",
         "1",
         "26.99",
         "-135",
         "-132",
         "0.0",
         "-1.48",
         "0",
         "0",
         "25.44",
         "14.48",
         "0.0",
         "-128",
         "0.0",
         "11",
         "0",
         "6",
         "0",
         "-32",
         "-58",
         "6",
         "28.52",
         "18.59",
         "-26",
         "0.0",
         "0",
         "-55.3",
         "0",
         "-55",
         "-60",
         "3",
         "3",
         "0.0",
         "0",
         "0.0",
         "2",
         "2",
         "0.02",
         "0",
         "13.4678",
         "-165.4397"
        ],
        [
         "max",
         "83.65",
         "179.75",
         "4701.0",
         "8",
         "31.6",
         "98",
         "143",
         "5.72",
         "1.48",
         "9",
         "100",
         "32.19",
         "32.19",
         "99.42",
         "100",
         "999.0",
         "145",
         "2237",
         "2354",
         "2359",
         "82",
         "107",
         "100",
         "30.89",
         "30.71",
         "93",
         "110.1",
         "42",
         "52.1",
         "123",
         "121",
         "99",
         "360",
         "2237",
         "11.63",
         "53",
         "35.9",
         "360",
         "2237",
         "7500.0",
         "7540",
         "71.2869",
         "-70.9606"
        ]
       ],
       "datasetInfos": [],
       "dbfsResultPath": null,
       "isJsonSchema": true,
       "metadata": {},
       "overflow": false,
       "plotOptions": {
        "customPlotOptions": {},
        "displayType": "table",
        "pivotAggregation": null,
        "pivotColumns": null,
        "xColumns": null,
        "yColumns": null
       },
       "removedWidgets": [],
       "schema": [
        {
         "metadata": "{}",
         "name": "summary",
         "type": "\"string\""
        },
        {
         "metadata": "{}",
         "name": "LATITUDE",
         "type": "\"string\""
        },
        {
         "metadata": "{}",
         "name": "LONGITUDE",
         "type": "\"string\""
        },
        {
         "metadata": "{}",
         "name": "ELEVATION",
         "type": "\"string\""
        },
        {
         "metadata": "{}",
         "name": "SOURCE",
         "type": "\"string\""
        },
        {
         "metadata": "{}",
         "name": "HourlyAltimeterSetting",
         "type": "\"string\""
        },
        {
         "metadata": "{}",
         "name": "HourlyDewPointTemperature",
         "type": "\"string\""
        },
        {
         "metadata": "{}",
         "name": "HourlyDryBulbTemperature",
         "type": "\"string\""
        },
        {
         "metadata": "{}",
         "name": "HourlyPrecipitation",
         "type": "\"string\""
        },
        {
         "metadata": "{}",
         "name": "HourlyPressureChange",
         "type": "\"string\""
        },
        {
         "metadata": "{}",
         "name": "HourlyPressureTendency",
         "type": "\"string\""
        },
        {
         "metadata": "{}",
         "name": "HourlyRelativeHumidity",
         "type": "\"string\""
        },
        {
         "metadata": "{}",
         "name": "HourlySeaLevelPressure",
         "type": "\"string\""
        },
        {
         "metadata": "{}",
         "name": "HourlyStationPressure",
         "type": "\"string\""
        },
        {
         "metadata": "{}",
         "name": "HourlyVisibility",
         "type": "\"string\""
        },
        {
         "metadata": "{}",
         "name": "HourlyWetBulbTemperature",
         "type": "\"string\""
        },
        {
         "metadata": "{}",
         "name": "HourlyWindDirection",
         "type": "\"string\""
        },
        {
         "metadata": "{}",
         "name": "HourlyWindGustSpeed",
         "type": "\"string\""
        },
        {
         "metadata": "{}",
         "name": "HourlyWindSpeed",
         "type": "\"string\""
        },
        {
         "metadata": "{}",
         "name": "Sunrise",
         "type": "\"string\""
        },
        {
         "metadata": "{}",
         "name": "Sunset",
         "type": "\"string\""
        },
        {
         "metadata": "{}",
         "name": "DailyAverageDewPointTemperature",
         "type": "\"string\""
        },
        {
         "metadata": "{}",
         "name": "DailyAverageDryBulbTemperature",
         "type": "\"string\""
        },
        {
         "metadata": "{}",
         "name": "DailyAverageRelativeHumidity",
         "type": "\"string\""
        },
        {
         "metadata": "{}",
         "name": "DailyAverageSeaLevelPressure",
         "type": "\"string\""
        },
        {
         "metadata": "{}",
         "name": "DailyAverageStationPressure",
         "type": "\"string\""
        },
        {
         "metadata": "{}",
         "name": "DailyAverageWetBulbTemperature",
         "type": "\"string\""
        },
        {
         "metadata": "{}",
         "name": "DailyAverageWindSpeed",
         "type": "\"string\""
        },
        {
         "metadata": "{}",
         "name": "DailyCoolingDegreeDays",
         "type": "\"string\""
        },
        {
         "metadata": "{}",
         "name": "DailyDepartureFromNormalAverageTemperature",
         "type": "\"string\""
        },
        {
         "metadata": "{}",
         "name": "DailyHeatingDegreeDays",
         "type": "\"string\""
        },
        {
         "metadata": "{}",
         "name": "DailyMaximumDryBulbTemperature",
         "type": "\"string\""
        },
        {
         "metadata": "{}",
         "name": "DailyMinimumDryBulbTemperature",
         "type": "\"string\""
        },
        {
         "metadata": "{}",
         "name": "DailyPeakWindDirection",
         "type": "\"string\""
        },
        {
         "metadata": "{}",
         "name": "DailyPeakWindSpeed",
         "type": "\"string\""
        },
        {
         "metadata": "{}",
         "name": "DailyPrecipitation",
         "type": "\"string\""
        },
        {
         "metadata": "{}",
         "name": "DailySnowDepth",
         "type": "\"string\""
        },
        {
         "metadata": "{}",
         "name": "DailySnowfall",
         "type": "\"string\""
        },
        {
         "metadata": "{}",
         "name": "DailySustainedWindDirection",
         "type": "\"string\""
        },
        {
         "metadata": "{}",
         "name": "DailySustainedWindSpeed",
         "type": "\"string\""
        },
        {
         "metadata": "{}",
         "name": "BackupDistance",
         "type": "\"string\""
        },
        {
         "metadata": "{}",
         "name": "BackupElevation",
         "type": "\"string\""
        },
        {
         "metadata": "{}",
         "name": "BackupLatitude",
         "type": "\"string\""
        },
        {
         "metadata": "{}",
         "name": "BackupLongitude",
         "type": "\"string\""
        }
       ],
       "type": "table"
      }
     },
     "output_type": "display_data"
    }
   ],
   "source": [
    "# describe only numeric columns (minus year)\n",
    "numeric_cols = [col for col, dtype in raw_1y_weather_subset.dtypes if dtype in ('int', 'float')]\n",
    "numeric_subset = raw_1y_weather_subset.select(*[F.col(c) for c in numeric_cols if c != 'YEAR'])\n",
    "\n",
    "display(numeric_subset.describe())"
   ]
  },
  {
   "cell_type": "code",
   "execution_count": 0,
   "metadata": {
    "application/vnd.databricks.v1+cell": {
     "cellMetadata": {
      "byteLimit": 2048000,
      "rowLimit": 10000
     },
     "inputWidgets": {},
     "nuid": "7fcc00b5-b45f-4459-8a5f-729be12261df",
     "showTitle": false,
     "title": ""
    }
   },
   "outputs": [
    {
     "output_type": "display_data",
     "data": {
      "text/plain": [
       "com.databricks.backend.common.rpc.CommandCancelledException\n",
       "\tat com.databricks.spark.chauffeur.SequenceExecutionState.$anonfun$cancel$3(SequenceExecutionState.scala:103)\n",
       "\tat scala.Option.getOrElse(Option.scala:189)\n",
       "\tat com.databricks.spark.chauffeur.SequenceExecutionState.$anonfun$cancel$2(SequenceExecutionState.scala:103)\n",
       "\tat com.databricks.spark.chauffeur.SequenceExecutionState.$anonfun$cancel$2$adapted(SequenceExecutionState.scala:100)\n",
       "\tat scala.collection.immutable.Range.foreach(Range.scala:158)\n",
       "\tat com.databricks.spark.chauffeur.SequenceExecutionState.cancel(SequenceExecutionState.scala:100)\n",
       "\tat com.databricks.spark.chauffeur.ExecContextState.cancelRunningSequence(ExecContextState.scala:714)\n",
       "\tat com.databricks.spark.chauffeur.ExecContextState.$anonfun$cancel$1(ExecContextState.scala:430)\n",
       "\tat scala.Option.getOrElse(Option.scala:189)\n",
       "\tat com.databricks.spark.chauffeur.ExecContextState.cancel(ExecContextState.scala:430)\n",
       "\tat com.databricks.spark.chauffeur.ChauffeurState.cancelExecution(ChauffeurState.scala:1225)\n",
       "\tat com.databricks.spark.chauffeur.ChauffeurState.$anonfun$process$1(ChauffeurState.scala:958)\n",
       "\tat com.databricks.logging.UsageLogging.$anonfun$recordOperation$1(UsageLogging.scala:573)\n",
       "\tat com.databricks.logging.UsageLogging.executeThunkAndCaptureResultTags$1(UsageLogging.scala:669)\n",
       "\tat com.databricks.logging.UsageLogging.$anonfun$recordOperationWithResultTags$4(UsageLogging.scala:687)\n",
       "\tat com.databricks.logging.UsageLogging.$anonfun$withAttributionContext$1(UsageLogging.scala:426)\n",
       "\tat scala.util.DynamicVariable.withValue(DynamicVariable.scala:62)\n",
       "\tat com.databricks.logging.AttributionContext$.withValue(AttributionContext.scala:216)\n",
       "\tat com.databricks.logging.UsageLogging.withAttributionContext(UsageLogging.scala:424)\n",
       "\tat com.databricks.logging.UsageLogging.withAttributionContext$(UsageLogging.scala:418)\n",
       "\tat com.databricks.spark.chauffeur.ChauffeurState.withAttributionContext(ChauffeurState.scala:67)\n",
       "\tat com.databricks.logging.UsageLogging.withAttributionTags(UsageLogging.scala:472)\n",
       "\tat com.databricks.logging.UsageLogging.withAttributionTags$(UsageLogging.scala:455)\n",
       "\tat com.databricks.spark.chauffeur.ChauffeurState.withAttributionTags(ChauffeurState.scala:67)\n",
       "\tat com.databricks.logging.UsageLogging.recordOperationWithResultTags(UsageLogging.scala:664)\n",
       "\tat com.databricks.logging.UsageLogging.recordOperationWithResultTags$(UsageLogging.scala:582)\n",
       "\tat com.databricks.spark.chauffeur.ChauffeurState.recordOperationWithResultTags(ChauffeurState.scala:67)\n",
       "\tat com.databricks.logging.UsageLogging.recordOperation(UsageLogging.scala:573)\n",
       "\tat com.databricks.logging.UsageLogging.recordOperation$(UsageLogging.scala:542)\n",
       "\tat com.databricks.spark.chauffeur.ChauffeurState.recordOperation(ChauffeurState.scala:67)\n",
       "\tat com.databricks.spark.chauffeur.ChauffeurState.process(ChauffeurState.scala:915)\n",
       "\tat com.databricks.spark.chauffeur.Chauffeur$$anon$1$$anonfun$receive$1.handleDriverRequest$1(Chauffeur.scala:672)\n",
       "\tat com.databricks.spark.chauffeur.Chauffeur$$anon$1$$anonfun$receive$1.$anonfun$applyOrElse$4(Chauffeur.scala:696)\n",
       "\tat com.databricks.logging.UsageLogging.executeThunkAndCaptureResultTags$1(UsageLogging.scala:669)\n",
       "\tat com.databricks.logging.UsageLogging.$anonfun$recordOperationWithResultTags$4(UsageLogging.scala:687)\n",
       "\tat com.databricks.logging.UsageLogging.$anonfun$withAttributionContext$1(UsageLogging.scala:426)\n",
       "\tat scala.util.DynamicVariable.withValue(DynamicVariable.scala:62)\n",
       "\tat com.databricks.logging.AttributionContext$.withValue(AttributionContext.scala:216)\n",
       "\tat com.databricks.logging.UsageLogging.withAttributionContext(UsageLogging.scala:424)\n",
       "\tat com.databricks.logging.UsageLogging.withAttributionContext$(UsageLogging.scala:418)\n",
       "\tat com.databricks.rpc.ServerBackend.withAttributionContext(ServerBackend.scala:22)\n",
       "\tat com.databricks.logging.UsageLogging.withAttributionTags(UsageLogging.scala:472)\n",
       "\tat com.databricks.logging.UsageLogging.withAttributionTags$(UsageLogging.scala:455)\n",
       "\tat com.databricks.rpc.ServerBackend.withAttributionTags(ServerBackend.scala:22)\n",
       "\tat com.databricks.logging.UsageLogging.recordOperationWithResultTags(UsageLogging.scala:664)\n",
       "\tat com.databricks.logging.UsageLogging.recordOperationWithResultTags$(UsageLogging.scala:582)\n",
       "\tat com.databricks.rpc.ServerBackend.recordOperationWithResultTags(ServerBackend.scala:22)\n",
       "\tat com.databricks.spark.chauffeur.Chauffeur$$anon$1$$anonfun$receive$1.handleDriverRequestWithUsageLogging$1(Chauffeur.scala:696)\n",
       "\tat com.databricks.spark.chauffeur.Chauffeur$$anon$1$$anonfun$receive$1.applyOrElse(Chauffeur.scala:749)\n",
       "\tat com.databricks.spark.chauffeur.Chauffeur$$anon$1$$anonfun$receive$1.applyOrElse(Chauffeur.scala:554)\n",
       "\tat com.databricks.rpc.ServerBackend.$anonfun$internalReceive0$2(ServerBackend.scala:174)\n",
       "\tat com.databricks.rpc.ServerBackend$$anonfun$commonReceive$1.applyOrElse(ServerBackend.scala:200)\n",
       "\tat com.databricks.rpc.ServerBackend$$anonfun$commonReceive$1.applyOrElse(ServerBackend.scala:200)\n",
       "\tat com.databricks.rpc.ServerBackend.internalReceive0(ServerBackend.scala:171)\n",
       "\tat com.databricks.rpc.ServerBackend.$anonfun$internalReceive$1(ServerBackend.scala:147)\n",
       "\tat com.databricks.logging.UsageLogging.$anonfun$recordOperation$1(UsageLogging.scala:573)\n",
       "\tat com.databricks.logging.UsageLogging.executeThunkAndCaptureResultTags$1(UsageLogging.scala:669)\n",
       "\tat com.databricks.logging.UsageLogging.$anonfun$recordOperationWithResultTags$4(UsageLogging.scala:687)\n",
       "\tat com.databricks.logging.UsageLogging.$anonfun$withAttributionContext$1(UsageLogging.scala:426)\n",
       "\tat scala.util.DynamicVariable.withValue(DynamicVariable.scala:62)\n",
       "\tat com.databricks.logging.AttributionContext$.withValue(AttributionContext.scala:216)\n",
       "\tat com.databricks.logging.UsageLogging.withAttributionContext(UsageLogging.scala:424)\n",
       "\tat com.databricks.logging.UsageLogging.withAttributionContext$(UsageLogging.scala:418)\n",
       "\tat com.databricks.rpc.ServerBackend.withAttributionContext(ServerBackend.scala:22)\n",
       "\tat com.databricks.logging.UsageLogging.withAttributionTags(UsageLogging.scala:472)\n",
       "\tat com.databricks.logging.UsageLogging.withAttributionTags$(UsageLogging.scala:455)\n",
       "\tat com.databricks.rpc.ServerBackend.withAttributionTags(ServerBackend.scala:22)\n",
       "\tat com.databricks.logging.UsageLogging.recordOperationWithResultTags(UsageLogging.scala:664)\n",
       "\tat com.databricks.logging.UsageLogging.recordOperationWithResultTags$(UsageLogging.scala:582)\n",
       "\tat com.databricks.rpc.ServerBackend.recordOperationWithResultTags(ServerBackend.scala:22)\n",
       "\tat com.databricks.logging.UsageLogging.recordOperation(UsageLogging.scala:573)\n",
       "\tat com.databricks.logging.UsageLogging.recordOperation$(UsageLogging.scala:542)\n",
       "\tat com.databricks.rpc.ServerBackend.recordOperation(ServerBackend.scala:22)\n",
       "\tat com.databricks.rpc.ServerBackend.internalReceive(ServerBackend.scala:147)\n",
       "\tat com.databricks.rpc.JettyServer$RequestManager.handleRPC(JettyServer.scala:1020)\n",
       "\tat com.databricks.rpc.JettyServer$RequestManager.handleRequestAndRespond(JettyServer.scala:941)\n",
       "\tat com.databricks.rpc.JettyServer$RequestManager.$anonfun$handleHttp$6(JettyServer.scala:545)\n",
       "\tat com.databricks.rpc.JettyServer$RequestManager.$anonfun$handleHttp$6$adapted(JettyServer.scala:514)\n",
       "\tat com.databricks.logging.activity.ActivityContextFactory$.$anonfun$withActivityInternal$4(ActivityContextFactory.scala:405)\n",
       "\tat com.databricks.logging.UsageLogging.$anonfun$withAttributionContext$1(UsageLogging.scala:426)\n",
       "\tat scala.util.DynamicVariable.withValue(DynamicVariable.scala:62)\n",
       "\tat com.databricks.logging.AttributionContext$.withValue(AttributionContext.scala:216)\n",
       "\tat com.databricks.logging.UsageLogging.withAttributionContext(UsageLogging.scala:424)\n",
       "\tat com.databricks.logging.UsageLogging.withAttributionContext$(UsageLogging.scala:418)\n",
       "\tat com.databricks.logging.activity.ActivityContextFactory$.withAttributionContext(ActivityContextFactory.scala:58)\n",
       "\tat com.databricks.logging.activity.ActivityContextFactory$.$anonfun$withActivityInternal$1(ActivityContextFactory.scala:405)\n",
       "\tat com.databricks.context.integrity.IntegrityCheckContext$ThreadLocalStorage$.withValue(IntegrityCheckContext.scala:44)\n",
       "\tat com.databricks.logging.activity.ActivityContextFactory$.withActivityInternal(ActivityContextFactory.scala:380)\n",
       "\tat com.databricks.logging.activity.ActivityContextFactory$.withServiceRequestActivity(ActivityContextFactory.scala:159)\n",
       "\tat com.databricks.rpc.JettyServer$RequestManager.handleHttp(JettyServer.scala:514)\n",
       "\tat com.databricks.rpc.JettyServer$RequestManager.doPost(JettyServer.scala:404)\n",
       "\tat javax.servlet.http.HttpServlet.service(HttpServlet.java:665)\n",
       "\tat com.databricks.rpc.HttpServletWithPatch.service(HttpServletWithPatch.scala:33)\n",
       "\tat javax.servlet.http.HttpServlet.service(HttpServlet.java:750)\n",
       "\tat org.eclipse.jetty.servlet.ServletHolder.handle(ServletHolder.java:799)\n",
       "\tat org.eclipse.jetty.servlet.ServletHandler.doHandle(ServletHandler.java:554)\n",
       "\tat org.eclipse.jetty.server.handler.ScopedHandler.nextScope(ScopedHandler.java:190)\n",
       "\tat org.eclipse.jetty.servlet.ServletHandler.doScope(ServletHandler.java:505)\n",
       "\tat org.eclipse.jetty.server.handler.ScopedHandler.handle(ScopedHandler.java:141)\n",
       "\tat org.eclipse.jetty.server.handler.HandlerWrapper.handle(HandlerWrapper.java:127)\n",
       "\tat org.eclipse.jetty.server.Server.handle(Server.java:516)\n",
       "\tat org.eclipse.jetty.server.HttpChannel.lambda$handle$1(HttpChannel.java:487)\n",
       "\tat org.eclipse.jetty.server.HttpChannel.dispatch(HttpChannel.java:732)\n",
       "\tat org.eclipse.jetty.server.HttpChannel.handle(HttpChannel.java:479)\n",
       "\tat org.eclipse.jetty.server.HttpConnection.onFillable(HttpConnection.java:277)\n",
       "\tat org.eclipse.jetty.io.AbstractConnection$ReadCallback.succeeded(AbstractConnection.java:311)\n",
       "\tat org.eclipse.jetty.io.FillInterest.fillable(FillInterest.java:105)\n",
       "\tat org.eclipse.jetty.io.ssl.SslConnection$DecryptedEndPoint.onFillable(SslConnection.java:555)\n",
       "\tat org.eclipse.jetty.io.ssl.SslConnection.onFillable(SslConnection.java:410)\n",
       "\tat org.eclipse.jetty.io.ssl.SslConnection$2.succeeded(SslConnection.java:164)\n",
       "\tat org.eclipse.jetty.io.FillInterest.fillable(FillInterest.java:105)\n",
       "\tat org.eclipse.jetty.io.ChannelEndPoint$1.run(ChannelEndPoint.java:104)\n",
       "\tat org.eclipse.jetty.util.thread.strategy.EatWhatYouKill.runTask(EatWhatYouKill.java:338)\n",
       "\tat org.eclipse.jetty.util.thread.strategy.EatWhatYouKill.doProduce(EatWhatYouKill.java:315)\n",
       "\tat org.eclipse.jetty.util.thread.strategy.EatWhatYouKill.tryProduce(EatWhatYouKill.java:173)\n",
       "\tat org.eclipse.jetty.util.thread.strategy.EatWhatYouKill.run(EatWhatYouKill.java:131)\n",
       "\tat org.eclipse.jetty.util.thread.ReservedThreadExecutor$ReservedThread.run(ReservedThreadExecutor.java:409)\n",
       "\tat com.databricks.rpc.InstrumentedQueuedThreadPool$$anon$1.$anonfun$run$4(InstrumentedQueuedThreadPool.scala:104)\n",
       "\tat scala.runtime.java8.JFunction0$mcV$sp.apply(JFunction0$mcV$sp.java:23)\n",
       "\tat com.databricks.logging.UsageLogging.withAttributionContext(UsageLogging.scala:420)\n",
       "\tat com.databricks.logging.UsageLogging.withAttributionContext$(UsageLogging.scala:418)\n",
       "\tat com.databricks.rpc.InstrumentedQueuedThreadPool.withAttributionContext(InstrumentedQueuedThreadPool.scala:47)\n",
       "\tat com.databricks.rpc.InstrumentedQueuedThreadPool$$anon$1.$anonfun$run$1(InstrumentedQueuedThreadPool.scala:104)\n",
       "\tat scala.runtime.java8.JFunction0$mcV$sp.apply(JFunction0$mcV$sp.java:23)\n",
       "\tat com.databricks.instrumentation.QueuedThreadPoolInstrumenter.trackActiveThreads(QueuedThreadPoolInstrumenter.scala:66)\n",
       "\tat com.databricks.instrumentation.QueuedThreadPoolInstrumenter.trackActiveThreads$(QueuedThreadPoolInstrumenter.scala:63)\n",
       "\tat com.databricks.rpc.InstrumentedQueuedThreadPool.trackActiveThreads(InstrumentedQueuedThreadPool.scala:47)\n",
       "\tat com.databricks.rpc.InstrumentedQueuedThreadPool$$anon$1.run(InstrumentedQueuedThreadPool.scala:86)\n",
       "\tat org.eclipse.jetty.util.thread.QueuedThreadPool.runJob(QueuedThreadPool.java:883)\n",
       "\tat org.eclipse.jetty.util.thread.QueuedThreadPool$Runner.run(QueuedThreadPool.java:1034)\n",
       "\tat java.lang.Thread.run(Thread.java:750)"
      ]
     },
     "metadata": {
      "application/vnd.databricks.v1+output": {
       "addedWidgets": {},
       "arguments": {},
       "datasetInfos": [],
       "jupyterProps": null,
       "metadata": {
        "errorSummary": "Cancelled"
       },
       "removedWidgets": [],
       "sqlProps": null,
       "stackFrames": [
        "com.databricks.backend.common.rpc.CommandCancelledException",
        "\tat com.databricks.spark.chauffeur.SequenceExecutionState.$anonfun$cancel$3(SequenceExecutionState.scala:103)",
        "\tat scala.Option.getOrElse(Option.scala:189)",
        "\tat com.databricks.spark.chauffeur.SequenceExecutionState.$anonfun$cancel$2(SequenceExecutionState.scala:103)",
        "\tat com.databricks.spark.chauffeur.SequenceExecutionState.$anonfun$cancel$2$adapted(SequenceExecutionState.scala:100)",
        "\tat scala.collection.immutable.Range.foreach(Range.scala:158)",
        "\tat com.databricks.spark.chauffeur.SequenceExecutionState.cancel(SequenceExecutionState.scala:100)",
        "\tat com.databricks.spark.chauffeur.ExecContextState.cancelRunningSequence(ExecContextState.scala:714)",
        "\tat com.databricks.spark.chauffeur.ExecContextState.$anonfun$cancel$1(ExecContextState.scala:430)",
        "\tat scala.Option.getOrElse(Option.scala:189)",
        "\tat com.databricks.spark.chauffeur.ExecContextState.cancel(ExecContextState.scala:430)",
        "\tat com.databricks.spark.chauffeur.ChauffeurState.cancelExecution(ChauffeurState.scala:1225)",
        "\tat com.databricks.spark.chauffeur.ChauffeurState.$anonfun$process$1(ChauffeurState.scala:958)",
        "\tat com.databricks.logging.UsageLogging.$anonfun$recordOperation$1(UsageLogging.scala:573)",
        "\tat com.databricks.logging.UsageLogging.executeThunkAndCaptureResultTags$1(UsageLogging.scala:669)",
        "\tat com.databricks.logging.UsageLogging.$anonfun$recordOperationWithResultTags$4(UsageLogging.scala:687)",
        "\tat com.databricks.logging.UsageLogging.$anonfun$withAttributionContext$1(UsageLogging.scala:426)",
        "\tat scala.util.DynamicVariable.withValue(DynamicVariable.scala:62)",
        "\tat com.databricks.logging.AttributionContext$.withValue(AttributionContext.scala:216)",
        "\tat com.databricks.logging.UsageLogging.withAttributionContext(UsageLogging.scala:424)",
        "\tat com.databricks.logging.UsageLogging.withAttributionContext$(UsageLogging.scala:418)",
        "\tat com.databricks.spark.chauffeur.ChauffeurState.withAttributionContext(ChauffeurState.scala:67)",
        "\tat com.databricks.logging.UsageLogging.withAttributionTags(UsageLogging.scala:472)",
        "\tat com.databricks.logging.UsageLogging.withAttributionTags$(UsageLogging.scala:455)",
        "\tat com.databricks.spark.chauffeur.ChauffeurState.withAttributionTags(ChauffeurState.scala:67)",
        "\tat com.databricks.logging.UsageLogging.recordOperationWithResultTags(UsageLogging.scala:664)",
        "\tat com.databricks.logging.UsageLogging.recordOperationWithResultTags$(UsageLogging.scala:582)",
        "\tat com.databricks.spark.chauffeur.ChauffeurState.recordOperationWithResultTags(ChauffeurState.scala:67)",
        "\tat com.databricks.logging.UsageLogging.recordOperation(UsageLogging.scala:573)",
        "\tat com.databricks.logging.UsageLogging.recordOperation$(UsageLogging.scala:542)",
        "\tat com.databricks.spark.chauffeur.ChauffeurState.recordOperation(ChauffeurState.scala:67)",
        "\tat com.databricks.spark.chauffeur.ChauffeurState.process(ChauffeurState.scala:915)",
        "\tat com.databricks.spark.chauffeur.Chauffeur$$anon$1$$anonfun$receive$1.handleDriverRequest$1(Chauffeur.scala:672)",
        "\tat com.databricks.spark.chauffeur.Chauffeur$$anon$1$$anonfun$receive$1.$anonfun$applyOrElse$4(Chauffeur.scala:696)",
        "\tat com.databricks.logging.UsageLogging.executeThunkAndCaptureResultTags$1(UsageLogging.scala:669)",
        "\tat com.databricks.logging.UsageLogging.$anonfun$recordOperationWithResultTags$4(UsageLogging.scala:687)",
        "\tat com.databricks.logging.UsageLogging.$anonfun$withAttributionContext$1(UsageLogging.scala:426)",
        "\tat scala.util.DynamicVariable.withValue(DynamicVariable.scala:62)",
        "\tat com.databricks.logging.AttributionContext$.withValue(AttributionContext.scala:216)",
        "\tat com.databricks.logging.UsageLogging.withAttributionContext(UsageLogging.scala:424)",
        "\tat com.databricks.logging.UsageLogging.withAttributionContext$(UsageLogging.scala:418)",
        "\tat com.databricks.rpc.ServerBackend.withAttributionContext(ServerBackend.scala:22)",
        "\tat com.databricks.logging.UsageLogging.withAttributionTags(UsageLogging.scala:472)",
        "\tat com.databricks.logging.UsageLogging.withAttributionTags$(UsageLogging.scala:455)",
        "\tat com.databricks.rpc.ServerBackend.withAttributionTags(ServerBackend.scala:22)",
        "\tat com.databricks.logging.UsageLogging.recordOperationWithResultTags(UsageLogging.scala:664)",
        "\tat com.databricks.logging.UsageLogging.recordOperationWithResultTags$(UsageLogging.scala:582)",
        "\tat com.databricks.rpc.ServerBackend.recordOperationWithResultTags(ServerBackend.scala:22)",
        "\tat com.databricks.spark.chauffeur.Chauffeur$$anon$1$$anonfun$receive$1.handleDriverRequestWithUsageLogging$1(Chauffeur.scala:696)",
        "\tat com.databricks.spark.chauffeur.Chauffeur$$anon$1$$anonfun$receive$1.applyOrElse(Chauffeur.scala:749)",
        "\tat com.databricks.spark.chauffeur.Chauffeur$$anon$1$$anonfun$receive$1.applyOrElse(Chauffeur.scala:554)",
        "\tat com.databricks.rpc.ServerBackend.$anonfun$internalReceive0$2(ServerBackend.scala:174)",
        "\tat com.databricks.rpc.ServerBackend$$anonfun$commonReceive$1.applyOrElse(ServerBackend.scala:200)",
        "\tat com.databricks.rpc.ServerBackend$$anonfun$commonReceive$1.applyOrElse(ServerBackend.scala:200)",
        "\tat com.databricks.rpc.ServerBackend.internalReceive0(ServerBackend.scala:171)",
        "\tat com.databricks.rpc.ServerBackend.$anonfun$internalReceive$1(ServerBackend.scala:147)",
        "\tat com.databricks.logging.UsageLogging.$anonfun$recordOperation$1(UsageLogging.scala:573)",
        "\tat com.databricks.logging.UsageLogging.executeThunkAndCaptureResultTags$1(UsageLogging.scala:669)",
        "\tat com.databricks.logging.UsageLogging.$anonfun$recordOperationWithResultTags$4(UsageLogging.scala:687)",
        "\tat com.databricks.logging.UsageLogging.$anonfun$withAttributionContext$1(UsageLogging.scala:426)",
        "\tat scala.util.DynamicVariable.withValue(DynamicVariable.scala:62)",
        "\tat com.databricks.logging.AttributionContext$.withValue(AttributionContext.scala:216)",
        "\tat com.databricks.logging.UsageLogging.withAttributionContext(UsageLogging.scala:424)",
        "\tat com.databricks.logging.UsageLogging.withAttributionContext$(UsageLogging.scala:418)",
        "\tat com.databricks.rpc.ServerBackend.withAttributionContext(ServerBackend.scala:22)",
        "\tat com.databricks.logging.UsageLogging.withAttributionTags(UsageLogging.scala:472)",
        "\tat com.databricks.logging.UsageLogging.withAttributionTags$(UsageLogging.scala:455)",
        "\tat com.databricks.rpc.ServerBackend.withAttributionTags(ServerBackend.scala:22)",
        "\tat com.databricks.logging.UsageLogging.recordOperationWithResultTags(UsageLogging.scala:664)",
        "\tat com.databricks.logging.UsageLogging.recordOperationWithResultTags$(UsageLogging.scala:582)",
        "\tat com.databricks.rpc.ServerBackend.recordOperationWithResultTags(ServerBackend.scala:22)",
        "\tat com.databricks.logging.UsageLogging.recordOperation(UsageLogging.scala:573)",
        "\tat com.databricks.logging.UsageLogging.recordOperation$(UsageLogging.scala:542)",
        "\tat com.databricks.rpc.ServerBackend.recordOperation(ServerBackend.scala:22)",
        "\tat com.databricks.rpc.ServerBackend.internalReceive(ServerBackend.scala:147)",
        "\tat com.databricks.rpc.JettyServer$RequestManager.handleRPC(JettyServer.scala:1020)",
        "\tat com.databricks.rpc.JettyServer$RequestManager.handleRequestAndRespond(JettyServer.scala:941)",
        "\tat com.databricks.rpc.JettyServer$RequestManager.$anonfun$handleHttp$6(JettyServer.scala:545)",
        "\tat com.databricks.rpc.JettyServer$RequestManager.$anonfun$handleHttp$6$adapted(JettyServer.scala:514)",
        "\tat com.databricks.logging.activity.ActivityContextFactory$.$anonfun$withActivityInternal$4(ActivityContextFactory.scala:405)",
        "\tat com.databricks.logging.UsageLogging.$anonfun$withAttributionContext$1(UsageLogging.scala:426)",
        "\tat scala.util.DynamicVariable.withValue(DynamicVariable.scala:62)",
        "\tat com.databricks.logging.AttributionContext$.withValue(AttributionContext.scala:216)",
        "\tat com.databricks.logging.UsageLogging.withAttributionContext(UsageLogging.scala:424)",
        "\tat com.databricks.logging.UsageLogging.withAttributionContext$(UsageLogging.scala:418)",
        "\tat com.databricks.logging.activity.ActivityContextFactory$.withAttributionContext(ActivityContextFactory.scala:58)",
        "\tat com.databricks.logging.activity.ActivityContextFactory$.$anonfun$withActivityInternal$1(ActivityContextFactory.scala:405)",
        "\tat com.databricks.context.integrity.IntegrityCheckContext$ThreadLocalStorage$.withValue(IntegrityCheckContext.scala:44)",
        "\tat com.databricks.logging.activity.ActivityContextFactory$.withActivityInternal(ActivityContextFactory.scala:380)",
        "\tat com.databricks.logging.activity.ActivityContextFactory$.withServiceRequestActivity(ActivityContextFactory.scala:159)",
        "\tat com.databricks.rpc.JettyServer$RequestManager.handleHttp(JettyServer.scala:514)",
        "\tat com.databricks.rpc.JettyServer$RequestManager.doPost(JettyServer.scala:404)",
        "\tat javax.servlet.http.HttpServlet.service(HttpServlet.java:665)",
        "\tat com.databricks.rpc.HttpServletWithPatch.service(HttpServletWithPatch.scala:33)",
        "\tat javax.servlet.http.HttpServlet.service(HttpServlet.java:750)",
        "\tat org.eclipse.jetty.servlet.ServletHolder.handle(ServletHolder.java:799)",
        "\tat org.eclipse.jetty.servlet.ServletHandler.doHandle(ServletHandler.java:554)",
        "\tat org.eclipse.jetty.server.handler.ScopedHandler.nextScope(ScopedHandler.java:190)",
        "\tat org.eclipse.jetty.servlet.ServletHandler.doScope(ServletHandler.java:505)",
        "\tat org.eclipse.jetty.server.handler.ScopedHandler.handle(ScopedHandler.java:141)",
        "\tat org.eclipse.jetty.server.handler.HandlerWrapper.handle(HandlerWrapper.java:127)",
        "\tat org.eclipse.jetty.server.Server.handle(Server.java:516)",
        "\tat org.eclipse.jetty.server.HttpChannel.lambda$handle$1(HttpChannel.java:487)",
        "\tat org.eclipse.jetty.server.HttpChannel.dispatch(HttpChannel.java:732)",
        "\tat org.eclipse.jetty.server.HttpChannel.handle(HttpChannel.java:479)",
        "\tat org.eclipse.jetty.server.HttpConnection.onFillable(HttpConnection.java:277)",
        "\tat org.eclipse.jetty.io.AbstractConnection$ReadCallback.succeeded(AbstractConnection.java:311)",
        "\tat org.eclipse.jetty.io.FillInterest.fillable(FillInterest.java:105)",
        "\tat org.eclipse.jetty.io.ssl.SslConnection$DecryptedEndPoint.onFillable(SslConnection.java:555)",
        "\tat org.eclipse.jetty.io.ssl.SslConnection.onFillable(SslConnection.java:410)",
        "\tat org.eclipse.jetty.io.ssl.SslConnection$2.succeeded(SslConnection.java:164)",
        "\tat org.eclipse.jetty.io.FillInterest.fillable(FillInterest.java:105)",
        "\tat org.eclipse.jetty.io.ChannelEndPoint$1.run(ChannelEndPoint.java:104)",
        "\tat org.eclipse.jetty.util.thread.strategy.EatWhatYouKill.runTask(EatWhatYouKill.java:338)",
        "\tat org.eclipse.jetty.util.thread.strategy.EatWhatYouKill.doProduce(EatWhatYouKill.java:315)",
        "\tat org.eclipse.jetty.util.thread.strategy.EatWhatYouKill.tryProduce(EatWhatYouKill.java:173)",
        "\tat org.eclipse.jetty.util.thread.strategy.EatWhatYouKill.run(EatWhatYouKill.java:131)",
        "\tat org.eclipse.jetty.util.thread.ReservedThreadExecutor$ReservedThread.run(ReservedThreadExecutor.java:409)",
        "\tat com.databricks.rpc.InstrumentedQueuedThreadPool$$anon$1.$anonfun$run$4(InstrumentedQueuedThreadPool.scala:104)",
        "\tat scala.runtime.java8.JFunction0$mcV$sp.apply(JFunction0$mcV$sp.java:23)",
        "\tat com.databricks.logging.UsageLogging.withAttributionContext(UsageLogging.scala:420)",
        "\tat com.databricks.logging.UsageLogging.withAttributionContext$(UsageLogging.scala:418)",
        "\tat com.databricks.rpc.InstrumentedQueuedThreadPool.withAttributionContext(InstrumentedQueuedThreadPool.scala:47)",
        "\tat com.databricks.rpc.InstrumentedQueuedThreadPool$$anon$1.$anonfun$run$1(InstrumentedQueuedThreadPool.scala:104)",
        "\tat scala.runtime.java8.JFunction0$mcV$sp.apply(JFunction0$mcV$sp.java:23)",
        "\tat com.databricks.instrumentation.QueuedThreadPoolInstrumenter.trackActiveThreads(QueuedThreadPoolInstrumenter.scala:66)",
        "\tat com.databricks.instrumentation.QueuedThreadPoolInstrumenter.trackActiveThreads$(QueuedThreadPoolInstrumenter.scala:63)",
        "\tat com.databricks.rpc.InstrumentedQueuedThreadPool.trackActiveThreads(InstrumentedQueuedThreadPool.scala:47)",
        "\tat com.databricks.rpc.InstrumentedQueuedThreadPool$$anon$1.run(InstrumentedQueuedThreadPool.scala:86)",
        "\tat org.eclipse.jetty.util.thread.QueuedThreadPool.runJob(QueuedThreadPool.java:883)",
        "\tat org.eclipse.jetty.util.thread.QueuedThreadPool$Runner.run(QueuedThreadPool.java:1034)",
        "\tat java.lang.Thread.run(Thread.java:750)"
       ],
       "type": "baseError"
      }
     },
     "output_type": "display_data"
    }
   ],
   "source": [
    "# Get the non-string column names\n",
    "non_string_cols = [col for col, dtype in raw_1y_weather_subset.dtypes if dtype not in ('string')]\n",
    "\n",
    "# Cache the DataFrame\n",
    "raw_1y_weather_subset.cache()\n",
    "\n",
    "# Create a figure and axis subplots\n",
    "num_cols = len(non_string_cols)\n",
    "ncols = 3  \n",
    "nrows = (num_cols + ncols - 1) // ncols  \n",
    "fig, axes = plt.subplots(nrows=nrows, ncols=ncols, figsize=(18, 36))\n",
    "\n",
    "# Flatten the axes\n",
    "axes = axes.flatten()\n",
    "\n",
    "# Loop through each non-string column and create a histogram\n",
    "for idx, col in enumerate(non_string_cols):\n",
    "    # Convert the column to a Pandas Series\n",
    "    col_values = raw_1y_weather_subset.select(col).toPandas()[col]\n",
    "    \n",
    "    # Plot the histogram\n",
    "    axes[idx].hist(col_values.dropna(), bins=30)\n",
    "    axes[idx].set_xlabel(col)\n",
    "    # axes[idx].set_title(f\"{col}\")\n",
    "\n",
    "# Adjust spacing between subplots\n",
    "plt.subplots_adjust(hspace=0.8)\n",
    "\n",
    "fig.suptitle(\"Histograms for Numeric Variables\", fontsize=16)\n",
    "\n",
    "# Show the plot\n",
    "plt.show()\n",
    "\n",
    "# Unpersist \n",
    "otpw_weather_test_subset.unpersist()"
   ]
  },
  {
   "cell_type": "markdown",
   "metadata": {
    "application/vnd.databricks.v1+cell": {
     "cellMetadata": {
      "byteLimit": 2048000,
      "rowLimit": 10000
     },
     "inputWidgets": {},
     "nuid": "c1f39692-8ce0-468a-b26d-d79e7ec22388",
     "showTitle": false,
     "title": ""
    }
   },
   "source": [
    "## 5. Summary statistics"
   ]
  },
  {
   "cell_type": "markdown",
   "metadata": {
    "application/vnd.databricks.v1+cell": {
     "cellMetadata": {
      "byteLimit": 2048000,
      "rowLimit": 10000
     },
     "inputWidgets": {},
     "nuid": "34853db7-6d8f-478a-a657-03b14a160341",
     "showTitle": false,
     "title": ""
    }
   },
   "source": [
    "### String variables: \n",
    "\n",
    "- STATION: Code for weather station (will have only one code, regardless of weather it has a backup station)\n",
    "- DATE: Dates between xxxxx AND xxxx\n",
    "- NAME: Station Name, for stations found at airports\n",
    "- REPORT_TYPE: Code for report type, indicating type of weather observation\n",
    "- HourlyPressureChange: Change in pressure. + or - amounts versus last hour. \n",
    "- HourlySkyConditions: A report of each cloud layer (up to 3) giving several conditions. \n",
    "- REM: Remarks. Includes a date, a time, and other things. **REVIEW DATA DICTIONARY TO UNDERSTAND MORE**\n",
    "- BackupDirection: Additional direction information on wind direction from additional station **DROP - IF 2ND STATION FAR**\n",
    "- BackupDistanceUnit: Additional direction information on wind distance unit from additional station  **DROP - IF 2ND STATION FAR**\n",
    "- BackupElements: Weather elements in backup station (i.e. precipitation, snowfall, snowdepth)  **DROP - IF 2ND STATION FAR**\n",
    "- BackupEquipment: Equipment at additonal station  **DROP - IF 2ND STATION FAR**\n",
    "- BackupName: Station Name, for stations not found at airports  **DROP - IF 2ND STATION FAR**\n",
    "- WindEquipmentChangeDate: additional wind equipment change date information relevant to observation stations  **DROP - IF 2ND STATION FAR**\n",
    "\n",
    "\n"
   ]
  },
  {
   "cell_type": "code",
   "execution_count": 0,
   "metadata": {
    "application/vnd.databricks.v1+cell": {
     "cellMetadata": {
      "byteLimit": 2048000,
      "rowLimit": 10000
     },
     "inputWidgets": {},
     "nuid": "c3b9fa6e-8676-485f-928d-5c5891d71a03",
     "showTitle": false,
     "title": ""
    }
   },
   "outputs": [],
   "source": [
    "string_cols = [col for col, dtype in otpw_weather_1y_train_subset.dtypes if dtype in ('string')]\n",
    "string_subset = otpw_weather_1y_train_subset.select(*[F.col(c) for c in string_cols])\n",
    "\n",
    "# display(string_subset)"
   ]
  },
  {
   "cell_type": "markdown",
   "metadata": {
    "application/vnd.databricks.v1+cell": {
     "cellMetadata": {
      "byteLimit": 2048000,
      "rowLimit": 10000
     },
     "inputWidgets": {},
     "nuid": "f9ee3e73-1bee-48fd-a18e-26a97b3eaead",
     "showTitle": false,
     "title": ""
    }
   },
   "source": [
    "## 6. Correlations of variables we want to keep\n",
    "\n",
    "- Columns with < 100% nulls.\n",
    "- With mean imputing\n"
   ]
  },
  {
   "cell_type": "code",
   "execution_count": 0,
   "metadata": {
    "application/vnd.databricks.v1+cell": {
     "cellMetadata": {
      "byteLimit": 2048000,
      "rowLimit": 10000
     },
     "inputWidgets": {},
     "nuid": "a3775cdc-1e23-46d3-8b95-208e348bc990",
     "showTitle": false,
     "title": ""
    }
   },
   "outputs": [],
   "source": [
    "#drop backup columns BackupDistance:float and variables with > 80% nulls\n",
    "columns_to_drop = ['BackupDistance', 'BackupElevation', 'BackupLatitude', 'BackupLongitude','HourlyWindGustSpeed',\n",
    " 'Sunrise',\n",
    " 'Sunset',\n",
    " 'DailyAverageDewPointTemperature',\n",
    " 'DailyAverageDryBulbTemperature',\n",
    " 'DailyAverageRelativeHumidity',\n",
    " 'DailyAverageSeaLevelPressure',\n",
    " 'DailyAverageStationPressure',\n",
    " 'DailyAverageWetBulbTemperature',\n",
    " 'DailyAverageWindSpeed',\n",
    " 'DailyCoolingDegreeDays',\n",
    " 'DailyDepartureFromNormalAverageTemperature',\n",
    " 'DailyHeatingDegreeDays',\n",
    " 'DailyMaximumDryBulbTemperature',\n",
    " 'DailyMinimumDryBulbTemperature',\n",
    " 'DailyPeakWindDirection',\n",
    " 'DailyPeakWindSpeed',\n",
    " 'DailyPrecipitation',\n",
    " 'DailySnowDepth',\n",
    " 'DailySnowfall',\n",
    " 'DailySustainedWindDirection',\n",
    " 'DailySustainedWindSpeed']\n",
    "numeric_subset = numeric_subset.drop(*columns_to_drop)"
   ]
  },
  {
   "cell_type": "code",
   "execution_count": 0,
   "metadata": {
    "application/vnd.databricks.v1+cell": {
     "cellMetadata": {
      "byteLimit": 2048000,
      "rowLimit": 10000
     },
     "inputWidgets": {},
     "nuid": "34dca44a-19fb-4d18-8a8f-bc6bc13fd755",
     "showTitle": false,
     "title": ""
    }
   },
   "outputs": [],
   "source": [
    "# Impute missing values\n",
    "\n",
    "# Get the list of numeric column names\n",
    "numeric_cols = numeric_subset.columns\n",
    "\n",
    "# Create input and output column names\n",
    "input_cols = numeric_cols\n",
    "output_cols = [f\"{col}\" for col in numeric_cols]\n",
    "\n",
    "# Create the Imputer instance\n",
    "imputer = Imputer(inputCols=input_cols, outputCols=output_cols)\n",
    "\n",
    "# Fit and transform the data\n",
    "imputed_data = imputer.fit(numeric_subset).transform(numeric_subset)"
   ]
  },
  {
   "cell_type": "code",
   "execution_count": 0,
   "metadata": {
    "application/vnd.databricks.v1+cell": {
     "cellMetadata": {
      "byteLimit": 2048000,
      "rowLimit": 10000
     },
     "inputWidgets": {},
     "nuid": "7f8123a3-702f-4421-b9f6-93098e7f869d",
     "showTitle": false,
     "title": ""
    }
   },
   "outputs": [
    {
     "output_type": "stream",
     "name": "stdout",
     "output_type": "stream",
     "text": [
      "There are 4380612 rows and 39 columns in the imputed_df dataframe\n"
     ]
    }
   ],
   "source": [
    "#check dimensions to make sure nothing got lost\n",
    "print(f'There are {imputed_data.count()} rows and {len(imputed_data.columns)} columns in the imputed_df dataframe')\n"
   ]
  },
  {
   "cell_type": "code",
   "execution_count": 0,
   "metadata": {
    "application/vnd.databricks.v1+cell": {
     "cellMetadata": {
      "byteLimit": 2048000,
      "rowLimit": 10000
     },
     "inputWidgets": {},
     "nuid": "dc907681-6482-42cd-8afb-83bcb57e92b4",
     "showTitle": false,
     "title": ""
    }
   },
   "outputs": [
    {
     "output_type": "execute_result",
     "data": {
      "text/plain": [
       "['LATITUDE',\n",
       " 'LONGITUDE',\n",
       " 'ELEVATION',\n",
       " 'SOURCE',\n",
       " 'HourlyAltimeterSetting',\n",
       " 'HourlyDewPointTemperature',\n",
       " 'HourlyDryBulbTemperature',\n",
       " 'HourlyPrecipitation',\n",
       " 'HourlyPressureChange',\n",
       " 'HourlyPressureTendency',\n",
       " 'HourlyRelativeHumidity',\n",
       " 'HourlySeaLevelPressure',\n",
       " 'HourlyStationPressure',\n",
       " 'HourlyVisibility',\n",
       " 'HourlyWetBulbTemperature',\n",
       " 'HourlyWindDirection',\n",
       " 'HourlyWindSpeed']"
      ]
     },
     "execution_count": 15,
     "metadata": {},
     "output_type": "execute_result"
    }
   ],
   "source": [
    "imputed_data.columns"
   ]
  },
  {
   "cell_type": "code",
   "execution_count": 0,
   "metadata": {
    "application/vnd.databricks.v1+cell": {
     "cellMetadata": {
      "byteLimit": 2048000,
      "rowLimit": 10000
     },
     "inputWidgets": {},
     "nuid": "7a9063c1-62c8-497d-9213-30ed416f9eea",
     "showTitle": false,
     "title": ""
    }
   },
   "outputs": [],
   "source": [
    "# pretty print variable names \n",
    "new_col = ['Latitude','Longitude','Elevation','Source','Altimeter Setting','Hourly Dew Point Temperature','Hourly Dry Bulb Temperature','Hourly Precipitation','Hourly Pressure Change','Hourly Pressure Tendency','Hourly Relative Humidity','Hourly Sea Level Pressure','Hourly Station Pressure','Hourly Visibility','Hourly Wet Bulb Temperature','Hourly Wind Direction','Hourly Wind Speed']\n",
    "\n",
    "for_corr_df = imputed_data.select([imputed_data[old].alias(new) for old, new in zip(imputed_data.columns, new_col)])\n",
    "\n",
    "# Calculate the correlation matrix\n",
    "correlation_matrix = for_corr_df.toPandas().corr()"
   ]
  },
  {
   "cell_type": "code",
   "execution_count": 0,
   "metadata": {
    "application/vnd.databricks.v1+cell": {
     "cellMetadata": {
      "byteLimit": 2048000,
      "rowLimit": 10000
     },
     "inputWidgets": {},
     "nuid": "12ccc4c2-2c43-4fc0-a6fe-d3824853fa65",
     "showTitle": false,
     "title": ""
    }
   },
   "outputs": [
    {
     "output_type": "display_data",
     "data": {
      "image/png": "[encoded data removed]",
      "text/plain": [
       "<Figure size 1500x1200 with 2 Axes>"
      ]
     },
     "metadata": {},
     "output_type": "display_data"
    }
   ],
   "source": [
    "# Generate the heatmap\n",
    "plt.figure(figsize=(15, 12))\n",
    "plt.title('Correlations between numerical weather variables with < 80% nulls. Imputing = mean imputing')\n",
    "sns.heatmap(correlation_matrix, annot=True, cmap=\"coolwarm\", annot_kws={\"fontsize\": 12}, fmt=\".1f\")\n",
    "plt.tight_layout()\n",
    "plt.savefig('weatherheatmap.png', dpi=300)\n"
   ]
  }
 ],
 "metadata": {
  "application/vnd.databricks.v1+notebook": {
   "dashboards": [],
   "language": "python",
   "notebookMetadata": {
    "pythonIndentUnit": 4
   },
   "notebookName": "1Y_raw_weather_EDA",
   "widgets": {}
  }
 },
 "nbformat": 4,
 "nbformat_minor": 0
}
